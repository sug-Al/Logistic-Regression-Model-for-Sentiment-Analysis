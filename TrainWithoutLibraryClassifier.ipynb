{
 "cells": [
  {
   "cell_type": "code",
   "execution_count": 1,
   "metadata": {},
   "outputs": [],
   "source": [
    "import numpy as np\n",
    "import pandas as pd\n",
    "\n",
    "import nltk\n",
    "import string\n",
    "pd.options.mode.chained_assignment = None\n",
    "\n",
    "from bs4 import BeautifulSoup\n",
    "from nltk.corpus import wordnet\n",
    "from nltk.stem import WordNetLemmatizer\n",
    "\n",
    "from sklearn.feature_extraction.text import TfidfVectorizer\n",
    "from sklearn.externals import joblib"
   ]
  },
  {
   "cell_type": "code",
   "execution_count": 2,
   "metadata": {},
   "outputs": [
    {
     "data": {
      "text/plain": [
       "(40000, 2)"
      ]
     },
     "execution_count": 2,
     "metadata": {},
     "output_type": "execute_result"
    }
   ],
   "source": [
    "train_df = pd. read_csv('train.csv', header=None, delimiter=',', skiprows=1, names=['text','label'])\n",
    "train_df.shape"
   ]
  },
  {
   "cell_type": "code",
   "execution_count": 3,
   "metadata": {},
   "outputs": [
    {
     "data": {
      "text/html": [
       "<div>\n",
       "<style scoped>\n",
       "    .dataframe tbody tr th:only-of-type {\n",
       "        vertical-align: middle;\n",
       "    }\n",
       "\n",
       "    .dataframe tbody tr th {\n",
       "        vertical-align: top;\n",
       "    }\n",
       "\n",
       "    .dataframe thead th {\n",
       "        text-align: right;\n",
       "    }\n",
       "</style>\n",
       "<table border=\"1\" class=\"dataframe\">\n",
       "  <thead>\n",
       "    <tr style=\"text-align: right;\">\n",
       "      <th></th>\n",
       "      <th>text</th>\n",
       "      <th>label</th>\n",
       "    </tr>\n",
       "  </thead>\n",
       "  <tbody>\n",
       "    <tr>\n",
       "      <th>0</th>\n",
       "      <td>I grew up (b. 1965) watching and loving the Th...</td>\n",
       "      <td>0</td>\n",
       "    </tr>\n",
       "    <tr>\n",
       "      <th>1</th>\n",
       "      <td>When I put this movie in my DVD player, and sa...</td>\n",
       "      <td>0</td>\n",
       "    </tr>\n",
       "    <tr>\n",
       "      <th>2</th>\n",
       "      <td>Why do people who do not know what a particula...</td>\n",
       "      <td>0</td>\n",
       "    </tr>\n",
       "    <tr>\n",
       "      <th>3</th>\n",
       "      <td>Even though I have great interest in Biblical ...</td>\n",
       "      <td>0</td>\n",
       "    </tr>\n",
       "    <tr>\n",
       "      <th>4</th>\n",
       "      <td>Im a die hard Dads Army fan and nothing will e...</td>\n",
       "      <td>1</td>\n",
       "    </tr>\n",
       "  </tbody>\n",
       "</table>\n",
       "</div>"
      ],
      "text/plain": [
       "                                                text  label\n",
       "0  I grew up (b. 1965) watching and loving the Th...      0\n",
       "1  When I put this movie in my DVD player, and sa...      0\n",
       "2  Why do people who do not know what a particula...      0\n",
       "3  Even though I have great interest in Biblical ...      0\n",
       "4  Im a die hard Dads Army fan and nothing will e...      1"
      ]
     },
     "execution_count": 3,
     "metadata": {},
     "output_type": "execute_result"
    }
   ],
   "source": [
    "df1 = train_df[[\"text\"]]\n",
    "df1[\"text\"] = df1[\"text\"].astype(str)\n",
    "train_df.head()"
   ]
  },
  {
   "cell_type": "code",
   "execution_count": 4,
   "metadata": {},
   "outputs": [
    {
     "name": "stdout",
     "output_type": "stream",
     "text": [
      "0        i grew up (b. 1965) watching and loving the th...\n",
      "1        when i put this movie in my dvd player, and sa...\n",
      "2        why do people who do not know what a particula...\n",
      "3        even though i have great interest in biblical ...\n",
      "4        im a die hard dads army fan and nothing will e...\n",
      "5        a terrible movie as everyone has said. what ma...\n",
      "6        finally watched this shocking movie last night...\n",
      "7        i caught this film on azn on cable. it sounded...\n",
      "8        it may be the remake of 1987 autumn's tale aft...\n",
      "9        my super ex girlfriend turned out to be a plea...\n",
      "10       i can't believe people are looking for a plot ...\n",
      "11       if you haven't seen the gong show tv series th...\n",
      "12       i have always been a huge fan of \"homicide: li...\n",
      "13       greg davis and bryan daly take some crazed sta...\n",
      "14       a half-hearted attempt to bring elvis presley ...\n",
      "15       if you want a fun romp with loads of subtle hu...\n",
      "16       i really wanted to be able to give this film a...\n",
      "17       the main problem with \"power\" is that it featu...\n",
      "18       the folks at disney have a lot to explain. fir...\n",
      "19       a friend told me of john fante last summer aft...\n",
      "20       ever since i heard of the ralph bakshi version...\n",
      "21       i sat through this film and i have to say it o...\n",
      "22       i don't care if some people voted this movie t...\n",
      "23       i never really understood the controversy and ...\n",
      "24       sweet, entertaining tale of a young 17 1/2 yea...\n",
      "25       first, i should mention that i really enjoyed ...\n",
      "26       the argentinian music poet, atahualpa yupanqui...\n",
      "27       i saw this film by chance on the small box. it...\n",
      "28       the small california town of diablo is plagued...\n",
      "29       it's good to see that vintage film buff have c...\n",
      "                               ...                        \n",
      "39970    thre isn't a single scorsese movie i'd place o...\n",
      "39971    don't mind what this socially retarded person ...\n",
      "39972    i am very open to foreign films and like to th...\n",
      "39973    this movie was amusing at times, hell sometime...\n",
      "39974    jean claude van damme tries to rescue his care...\n",
      "39975    i could not believe how awful this film was; i...\n",
      "39976    de grot is a very good film. the great plot co...\n",
      "39977    let's see. in the \"st. elsewhere\" finale we fo...\n",
      "39978    star rating: ***** saturday night **** friday ...\n",
      "39979    the wicker man, starring nicolas cage, is by n...\n",
      "39980    i remember rather enjoying this a few years ba...\n",
      "39981    the british production company amicus is gener...\n",
      "39982    as an ex merchant seaman i was really interest...\n",
      "39983    given the low budget and production limitation...\n",
      "39984    i couldn't relate to this film. it failed to e...\n",
      "39985    comedy? what's so funny about watching an ugly...\n",
      "39986    best club scenes that i have seen in a long ti...\n",
      "39987    i have great memories of this movie...<br /><b...\n",
      "39988    an underrated addition to the graham greene ci...\n",
      "39989    walter matthau and george burns just work so w...\n",
      "39990    i really love anything done by savage steve ho...\n",
      "39991    revenge is the theme of this denzel washington...\n",
      "39992    although i agree that it's a good but not grea...\n",
      "39993    \"the best movie of the 90's\" \"the welsh trains...\n",
      "39994    my girlfriend has the habit of going to blockb...\n",
      "39995    \"western union\" is something of a forgotten cl...\n",
      "39996    this movie is an incredible piece of work. it ...\n",
      "39997    my wife and i watched this movie because we pl...\n",
      "39998    when i first watched flatliners, i was amazed....\n",
      "39999    why would this film be so good, but only gross...\n",
      "Name: text, Length: 40000, dtype: object\n"
     ]
    }
   ],
   "source": [
    "df1[\"text\"] = df1[\"text\"].str.lower()\n",
    "print(df1[\"text\"])"
   ]
  },
  {
   "cell_type": "code",
   "execution_count": 5,
   "metadata": {},
   "outputs": [
    {
     "name": "stdout",
     "output_type": "stream",
     "text": [
      "0        i grew up (b. 1965) watching and loving the th...\n",
      "1        when i put this movie in my dvd player, and sa...\n",
      "2        why do people who do not know what a particula...\n",
      "3        even though i have great interest in biblical ...\n",
      "4        im a die hard dads army fan and nothing will e...\n",
      "5        a terrible movie as everyone has said. what ma...\n",
      "6        finally watched this shocking movie last night...\n",
      "7        i caught this film on azn on cable. it sounded...\n",
      "8        it may be the remake of 1987 autumn's tale aft...\n",
      "9        my super ex girlfriend turned out to be a plea...\n",
      "10       i can't believe people are looking for a plot ...\n",
      "11       if you haven't seen the gong show tv series th...\n",
      "12       i have always been a huge fan of \"homicide: li...\n",
      "13       greg davis and bryan daly take some crazed sta...\n",
      "14       a half-hearted attempt to bring elvis presley ...\n",
      "15       if you want a fun romp with loads of subtle hu...\n",
      "16       i really wanted to be able to give this film a...\n",
      "17       the main problem with \"power\" is that it featu...\n",
      "18       the folks at disney have a lot to explain. fir...\n",
      "19       a friend told me of john fante last summer aft...\n",
      "20       ever since i heard of the ralph bakshi version...\n",
      "21       i sat through this film and i have to say it o...\n",
      "22       i don't care if some people voted this movie t...\n",
      "23       i never really understood the controversy and ...\n",
      "24       sweet, entertaining tale of a young 17 1/2 yea...\n",
      "25       first, i should mention that i really enjoyed ...\n",
      "26       the argentinian music poet, atahualpa yupanqui...\n",
      "27       i saw this film by chance on the small box. it...\n",
      "28       the small california town of diablo is plagued...\n",
      "29       it's good to see that vintage film buff have c...\n",
      "                               ...                        \n",
      "39970    thre isn't a single scorsese movie i'd place o...\n",
      "39971    don't mind what this socially retarded person ...\n",
      "39972    i am very open to foreign films and like to th...\n",
      "39973    this movie was amusing at times, hell sometime...\n",
      "39974    jean claude van damme tries to rescue his care...\n",
      "39975    i could not believe how awful this film was; i...\n",
      "39976    de grot is a very good film. the great plot co...\n",
      "39977    let's see. in the \"st. elsewhere\" finale we fo...\n",
      "39978    star rating: ***** saturday night **** friday ...\n",
      "39979    the wicker man, starring nicolas cage, is by n...\n",
      "39980    i remember rather enjoying this a few years ba...\n",
      "39981    the british production company amicus is gener...\n",
      "39982    as an ex merchant seaman i was really interest...\n",
      "39983    given the low budget and production limitation...\n",
      "39984    i couldn't relate to this film. it failed to e...\n",
      "39985    comedy? what's so funny about watching an ugly...\n",
      "39986    best club scenes that i have seen in a long ti...\n",
      "39987    i have great memories of this movie...i was on...\n",
      "39988    an underrated addition to the graham greene ci...\n",
      "39989    walter matthau and george burns just work so w...\n",
      "39990    i really love anything done by savage steve ho...\n",
      "39991    revenge is the theme of this denzel washington...\n",
      "39992    although i agree that it's a good but not grea...\n",
      "39993    \"the best movie of the 90's\" \"the welsh trains...\n",
      "39994    my girlfriend has the habit of going to blockb...\n",
      "39995    \"western union\" is something of a forgotten cl...\n",
      "39996    this movie is an incredible piece of work. it ...\n",
      "39997    my wife and i watched this movie because we pl...\n",
      "39998    when i first watched flatliners, i was amazed....\n",
      "39999    why would this film be so good, but only gross...\n",
      "Name: text, Length: 40000, dtype: object\n"
     ]
    }
   ],
   "source": [
    "def remove_html_tags(text):\n",
    "    return BeautifulSoup(text, \"lxml\").text\n",
    "\n",
    "df1[\"text\"] = df1[\"text\"].apply(lambda text: remove_html_tags(text))\n",
    "print(df1[\"text\"])"
   ]
  },
  {
   "cell_type": "code",
   "execution_count": 6,
   "metadata": {},
   "outputs": [
    {
     "data": {
      "text/plain": [
       "\"i, me, my, myself, we, our, ours, ourselves, you, you're, you've, you'll, you'd, your, yours, yourself, yourselves, he, him, his, himself, she, she's, her, hers, herself, it, it's, its, itself, they, them, their, theirs, themselves, what, which, who, whom, this, that, that'll, these, those, am, is, are, was, were, be, been, being, have, has, had, having, do, does, did, doing, a, an, the, and, but, if, or, because, as, until, while, of, at, by, for, with, about, against, between, into, through, during, before, after, above, below, to, from, up, down, in, out, on, off, over, under, again, further, then, once, here, there, when, where, why, how, all, any, both, each, few, more, most, other, some, such, no, nor, not, only, own, same, so, than, too, very, s, t, can, will, just, don, don't, should, should've, now, d, ll, m, o, re, ve, y, ain, aren, aren't, couldn, couldn't, didn, didn't, doesn, doesn't, hadn, hadn't, hasn, hasn't, haven, haven't, isn, isn't, ma, mightn, mightn't, mustn, mustn't, needn, needn't, shan, shan't, shouldn, shouldn't, wasn, wasn't, weren, weren't, won, won't, wouldn, wouldn't\""
      ]
     },
     "execution_count": 6,
     "metadata": {},
     "output_type": "execute_result"
    }
   ],
   "source": [
    "from nltk.corpus import stopwords\n",
    "\", \".join(stopwords.words('english'))"
   ]
  },
  {
   "cell_type": "code",
   "execution_count": 7,
   "metadata": {},
   "outputs": [
    {
     "data": {
      "text/plain": [
       "0        grew (b. 1965) watching loving thunderbirds. m...\n",
       "1        put movie dvd player, sat coke chips, expectat...\n",
       "2        people know particular time past like feel nee...\n",
       "3        even though great interest biblical movies, bo...\n",
       "4        im die hard dads army fan nothing ever change ...\n",
       "5        terrible movie everyone said. made laugh cameo...\n",
       "6        finally watched shocking movie last night, dis...\n",
       "7        caught film azn cable. sounded like would good...\n",
       "8        may remake 1987 autumn's tale eleven years, di...\n",
       "9        super ex girlfriend turned pleasant surprise m...\n",
       "10       can't believe people looking plot film. laural...\n",
       "11       seen gong show tv series like movie much all, ...\n",
       "12       always huge fan \"homicide: life street\" heard ...\n",
       "13       greg davis bryan daly take crazed statements t...\n",
       "14       half-hearted attempt bring elvis presley moder...\n",
       "15       want fun romp loads subtle humor, enjoy flick....\n",
       "16       really wanted able give film 10. i've long tho...\n",
       "17       main problem \"power\" features way may pointles...\n",
       "18       folks disney lot explain. first foremost, anyo...\n",
       "19       friend told john fante last summer got convers...\n",
       "20       ever since heard ralph bakshi version \"the lor...\n",
       "21       sat film say managed keep attention. film woul...\n",
       "22       care people voted movie bad. want truth good m...\n",
       "23       never really understood controversy hype movie...\n",
       "24       sweet, entertaining tale young 17 1/2 year old...\n",
       "25       first, mention really enjoyed ishii katsuhito'...\n",
       "26       argentinian music poet, atahualpa yupanqui, sa...\n",
       "27       saw film chance small box. fantastic chilling ...\n",
       "28       small california town diablo plagued mysteriou...\n",
       "29       good see vintage film buff correctly categoriz...\n",
       "                               ...                        \n",
       "39970    thre single scorsese movie i'd place list favo...\n",
       "39971    mind socially retarded person says, show hilar...\n",
       "39972    open foreign films like think grasp trying acc...\n",
       "39973    movie amusing times, hell sometimes even downr...\n",
       "39974    jean claude van damme tries rescue career maki...\n",
       "39975    could believe awful film was; rarely watch com...\n",
       "39976    de grot good film. great plot comes novel tim ...\n",
       "39977    let's see. \"st. elsewhere\" finale found hospit...\n",
       "39978    star rating: ***** saturday night **** friday ...\n",
       "39979    wicker man, starring nicolas cage, means good ...\n",
       "39980    remember rather enjoying years back coming aga...\n",
       "39981    british production company amicus generally kn...\n",
       "39982    ex merchant seaman really interested movie : p...\n",
       "39983    given low budget production limitations, movie...\n",
       "39984    relate film. failed engage either intellectual...\n",
       "39985    comedy? what's funny watching ugly deadbeat al...\n",
       "39986    best club scenes seen long time - atmosphere m...\n",
       "39987    great memories movie...i 12 released scared be...\n",
       "39988    underrated addition graham greene cinematic ca...\n",
       "39989    walter matthau george burns work well together...\n",
       "39990    really love anything done savage steve holland...\n",
       "39991    revenge theme denzel washington thriller offer...\n",
       "39992    although agree good great movie, many reasons ...\n",
       "39993    \"the best movie 90's\" \"the welsh trainspotting...\n",
       "39994    girlfriend habit going blockbuster choosing mo...\n",
       "39995    \"western union\" something forgotten classic we...\n",
       "39996    movie incredible piece work. explores every no...\n",
       "39997    wife watched movie plan visit sicily stromboli...\n",
       "39998    first watched flatliners, amazed. necessary fe...\n",
       "39999    would film good, gross estimated $95,000,000 a...\n",
       "Name: text, Length: 40000, dtype: object"
      ]
     },
     "execution_count": 7,
     "metadata": {},
     "output_type": "execute_result"
    }
   ],
   "source": [
    "STOPWORDS = set(stopwords.words('english'))\n",
    "def remove_stopwords(text):\n",
    "    \n",
    "    return \" \".join([word for word in str(text).split() if word not in STOPWORDS])\n",
    "\n",
    "df1[\"text\"] = df1[\"text\"].apply(lambda text: remove_stopwords(text))\n",
    "df1[\"text\"]"
   ]
  },
  {
   "cell_type": "code",
   "execution_count": 8,
   "metadata": {},
   "outputs": [
    {
     "data": {
      "text/plain": [
       "0        grew b 1965 watching loving thunderbirds mates...\n",
       "1        put movie dvd player sat coke chips expectatio...\n",
       "2        people know particular time past like feel nee...\n",
       "3        even though great interest biblical movies bor...\n",
       "4        im die hard dads army fan nothing ever change ...\n",
       "5        terrible movie everyone said made laugh cameo ...\n",
       "6        finally watched shocking movie last night dist...\n",
       "7        caught film azn cable sounded like would good ...\n",
       "8        may remake 1987 autumns tale eleven years dire...\n",
       "9        super ex girlfriend turned pleasant surprise m...\n",
       "10       cant believe people looking plot film laural h...\n",
       "11       seen gong show tv series like movie much all k...\n",
       "12       always huge fan homicide life street heard reu...\n",
       "13       greg davis bryan daly take crazed statements t...\n",
       "14       halfhearted attempt bring elvis presley modern...\n",
       "15       want fun romp loads subtle humor enjoy flicki ...\n",
       "16       really wanted able give film 10 ive long thoug...\n",
       "17       main problem power features way may pointless ...\n",
       "18       folks disney lot explain first foremost anyone...\n",
       "19       friend told john fante last summer got convers...\n",
       "20       ever since heard ralph bakshi version the lord...\n",
       "21       sat film say managed keep attention film would...\n",
       "22       care people voted movie bad want truth good mo...\n",
       "23       never really understood controversy hype movie...\n",
       "24       sweet entertaining tale young 17 12 year old b...\n",
       "25       first mention really enjoyed ishii katsuhitos ...\n",
       "26       argentinian music poet atahualpa yupanqui said...\n",
       "27       saw film chance small box fantastic chilling s...\n",
       "28       small california town diablo plagued mysteriou...\n",
       "29       good see vintage film buff correctly categoriz...\n",
       "                               ...                        \n",
       "39970    thre single scorsese movie id place list favor...\n",
       "39971    mind socially retarded person says show hilari...\n",
       "39972    open foreign films like think grasp trying acc...\n",
       "39973    movie amusing times hell sometimes even downri...\n",
       "39974    jean claude van damme tries rescue career maki...\n",
       "39975    could believe awful film was rarely watch comm...\n",
       "39976    de grot good film great plot comes novel tim k...\n",
       "39977    lets see st elsewhere finale found hospital ev...\n",
       "39978    star rating  saturday night  friday night  fri...\n",
       "39979    wicker man starring nicolas cage means good mo...\n",
       "39980    remember rather enjoying years back coming aga...\n",
       "39981    british production company amicus generally kn...\n",
       "39982    ex merchant seaman really interested movie  pe...\n",
       "39983    given low budget production limitations movie ...\n",
       "39984    relate film failed engage either intellectuall...\n",
       "39985    comedy whats funny watching ugly deadbeat alco...\n",
       "39986    best club scenes seen long time  atmosphere me...\n",
       "39987    great memories moviei 12 released scared bejes...\n",
       "39988    underrated addition graham greene cinematic ca...\n",
       "39989    walter matthau george burns work well together...\n",
       "39990    really love anything done savage steve holland...\n",
       "39991    revenge theme denzel washington thriller offer...\n",
       "39992    although agree good great movie many reasons p...\n",
       "39993    the best movie 90s the welsh trainspottingaye ...\n",
       "39994    girlfriend habit going blockbuster choosing mo...\n",
       "39995    western union something forgotten classic west...\n",
       "39996    movie incredible piece work explores every noo...\n",
       "39997    wife watched movie plan visit sicily stromboli...\n",
       "39998    first watched flatliners amazed necessary feat...\n",
       "39999    would film good gross estimated 95000000 award...\n",
       "Name: text, Length: 40000, dtype: object"
      ]
     },
     "execution_count": 8,
     "metadata": {},
     "output_type": "execute_result"
    }
   ],
   "source": [
    "PUNCT_TO_REMOVE = string.punctuation\n",
    "\n",
    "def remove_punctuation(text):\n",
    "    return text.translate(str.maketrans(' ', ' ', PUNCT_TO_REMOVE))\n",
    "\n",
    "df1[\"text\"] = df1[\"text\"].apply(lambda text: remove_punctuation(text))\n",
    "df1[\"text\"]"
   ]
  },
  {
   "cell_type": "code",
   "execution_count": 9,
   "metadata": {},
   "outputs": [
    {
     "data": {
      "text/plain": [
       "0        grew b watching loving thunderbirds mates scho...\n",
       "1        put movie dvd player sat coke chips expectatio...\n",
       "2        people know particular time past like feel nee...\n",
       "3        even though great interest biblical movies bor...\n",
       "4        im die hard dads army fan nothing ever change ...\n",
       "5        terrible movie everyone said made laugh cameo ...\n",
       "6        finally watched shocking movie last night dist...\n",
       "7        caught film azn cable sounded like would good ...\n",
       "8        may remake autumns tale eleven years director ...\n",
       "9        super ex girlfriend turned pleasant surprise m...\n",
       "10       cant believe people looking plot film laural h...\n",
       "11       seen gong show tv series like movie much all k...\n",
       "12       always huge fan homicide life street heard reu...\n",
       "13       greg davis bryan daly take crazed statements t...\n",
       "14       halfhearted attempt bring elvis presley modern...\n",
       "15       want fun romp loads subtle humor enjoy flicki ...\n",
       "16       really wanted able give film ive long thought ...\n",
       "17       main problem power features way may pointless ...\n",
       "18       folks disney lot explain first foremost anyone...\n",
       "19       friend told john fante last summer got convers...\n",
       "20       ever since heard ralph bakshi version the lord...\n",
       "21       sat film say managed keep attention film would...\n",
       "22       care people voted movie bad want truth good mo...\n",
       "23       never really understood controversy hype movie...\n",
       "24       sweet entertaining tale young year old boy con...\n",
       "25       first mention really enjoyed ishii katsuhitos ...\n",
       "26       argentinian music poet atahualpa yupanqui said...\n",
       "27       saw film chance small box fantastic chilling s...\n",
       "28       small california town diablo plagued mysteriou...\n",
       "29       good see vintage film buff correctly categoriz...\n",
       "                               ...                        \n",
       "39970    thre single scorsese movie id place list favor...\n",
       "39971    mind socially retarded person says show hilari...\n",
       "39972    open foreign films like think grasp trying acc...\n",
       "39973    movie amusing times hell sometimes even downri...\n",
       "39974    jean claude van damme tries rescue career maki...\n",
       "39975    could believe awful film was rarely watch comm...\n",
       "39976    de grot good film great plot comes novel tim k...\n",
       "39977    lets see st elsewhere finale found hospital ev...\n",
       "39978    star rating saturday night friday night friday...\n",
       "39979    wicker man starring nicolas cage means good mo...\n",
       "39980    remember rather enjoying years back coming aga...\n",
       "39981    british production company amicus generally kn...\n",
       "39982    ex merchant seaman really interested movie per...\n",
       "39983    given low budget production limitations movie ...\n",
       "39984    relate film failed engage either intellectuall...\n",
       "39985    comedy whats funny watching ugly deadbeat alco...\n",
       "39986    best club scenes seen long time atmosphere mes...\n",
       "39987    great memories moviei released scared bejesus ...\n",
       "39988    underrated addition graham greene cinematic ca...\n",
       "39989    walter matthau george burns work well together...\n",
       "39990    really love anything done savage steve holland...\n",
       "39991    revenge theme denzel washington thriller offer...\n",
       "39992    although agree good great movie many reasons p...\n",
       "39993    the best movie 90s the welsh trainspottingaye ...\n",
       "39994    girlfriend habit going blockbuster choosing mo...\n",
       "39995    western union something forgotten classic west...\n",
       "39996    movie incredible piece work explores every noo...\n",
       "39997    wife watched movie plan visit sicily stromboli...\n",
       "39998    first watched flatliners amazed necessary feat...\n",
       "39999    would film good gross estimated award nominati...\n",
       "Name: text, Length: 40000, dtype: object"
      ]
     },
     "execution_count": 9,
     "metadata": {},
     "output_type": "execute_result"
    }
   ],
   "source": [
    "def remove_numbers(text):\n",
    "    \n",
    "    return \" \".join([line for line in str(text).split() if not line.isdigit()])\n",
    "\n",
    "df1[\"text\"] = df1[\"text\"].apply(lambda text: remove_numbers(text))\n",
    "df1[\"text\"]"
   ]
  },
  {
   "cell_type": "code",
   "execution_count": 10,
   "metadata": {},
   "outputs": [
    {
     "data": {
      "text/plain": [
       "0        grow b watch loving thunderbird mat school wat...\n",
       "1        put movie dvd player sit coke chip expectation...\n",
       "2        people know particular time past like feel nee...\n",
       "3        even though great interest biblical movie bore...\n",
       "4        im die hard dad army fan nothing ever change t...\n",
       "5        terrible movie everyone say make laugh cameo a...\n",
       "6        finally watch shock movie last night disturb m...\n",
       "7        caught film azn cable sound like would good fi...\n",
       "8        may remake autumns tale eleven year director m...\n",
       "9        super ex girlfriend turn pleasant surprise me ...\n",
       "10       cant believe people look plot film laural hard...\n",
       "11       see gong show tv series like movie much all kn...\n",
       "12       always huge fan homicide life street heard reu...\n",
       "13       greg davis bryan daly take crazed statement te...\n",
       "14       halfhearted attempt bring elvis presley modern...\n",
       "15       want fun romp load subtle humor enjoy flicki u...\n",
       "16       really want able give film ive long think favo...\n",
       "17       main problem power feature way may pointless c...\n",
       "18       folk disney lot explain first foremost anyone ...\n",
       "19       friend tell john fante last summer get convers...\n",
       "20       ever since heard ralph bakshi version the lord...\n",
       "21       sat film say manage keep attention film would ...\n",
       "22       care people vote movie bad want truth good mov...\n",
       "23       never really understood controversy hype movie...\n",
       "24       sweet entertain tale young year old boy contro...\n",
       "25       first mention really enjoy ishii katsuhitos pr...\n",
       "26       argentinian music poet atahualpa yupanqui say ...\n",
       "27       saw film chance small box fantastic chill scen...\n",
       "28       small california town diablo plague mysterious...\n",
       "29       good see vintage film buff correctly categoriz...\n",
       "                               ...                        \n",
       "39970    thre single scorsese movie id place list favor...\n",
       "39971    mind socially retard person say show hilarious...\n",
       "39972    open foreign film like think grasp try accompl...\n",
       "39973    movie amuse time hell sometimes even downright...\n",
       "39974    jean claude van damme try rescue career make s...\n",
       "39975    could believe awful film be rarely watch comme...\n",
       "39976    de grot good film great plot come novel tim kr...\n",
       "39977    let see st elsewhere finale find hospital ever...\n",
       "39978    star rating saturday night friday night friday...\n",
       "39979    wicker man star nicolas cage mean good movie c...\n",
       "39980    remember rather enjoy year back come again won...\n",
       "39981    british production company amicus generally kn...\n",
       "39982    ex merchant seaman really interested movie per...\n",
       "39983    give low budget production limitation movie go...\n",
       "39984    relate film fail engage either intellectually ...\n",
       "39985    comedy whats funny watch ugly deadbeat alcohol...\n",
       "39986    best club scene see long time atmosphere mesme...\n",
       "39987    great memory moviei release scared bejesus me ...\n",
       "39988    underrated addition graham greene cinematic ca...\n",
       "39989    walter matthau george burn work well together ...\n",
       "39990    really love anything do savage steve holland w...\n",
       "39991    revenge theme denzel washington thriller offer...\n",
       "39992    although agree good great movie many reason po...\n",
       "39993    the best movie 90 the welsh trainspottingaye r...\n",
       "39994    girlfriend habit go blockbuster choose movie n...\n",
       "39995    western union something forgotten classic west...\n",
       "39996    movie incredible piece work explore every nook...\n",
       "39997    wife watch movie plan visit sicily stromboli s...\n",
       "39998    first watched flatliners amaze necessary featu...\n",
       "39999    would film good gross estimate award nominatio...\n",
       "Name: text, Length: 40000, dtype: object"
      ]
     },
     "execution_count": 10,
     "metadata": {},
     "output_type": "execute_result"
    }
   ],
   "source": [
    "lemmatizer = WordNetLemmatizer()\n",
    "wordnet_map = {\"N\":wordnet.NOUN, \"V\":wordnet.VERB, \"J\":wordnet.ADJ, \"R\":wordnet.ADV}\n",
    "\n",
    "def lemmatize_words(text):\n",
    "    pos_tagged_text = nltk.pos_tag(text.split())\n",
    "    return \" \".join([lemmatizer.lemmatize(word, wordnet_map.get(pos[0], wordnet.NOUN)) for word, pos in pos_tagged_text])\n",
    "\n",
    "df1[\"text\"] = df1[\"text\"].apply(lambda text: lemmatize_words(text))\n",
    "df1[\"text\"]"
   ]
  },
  {
   "cell_type": "code",
   "execution_count": 11,
   "metadata": {},
   "outputs": [],
   "source": [
    "vectorizer1 = TfidfVectorizer(ngram_range=(1,3), min_df=0.0015)"
   ]
  },
  {
   "cell_type": "code",
   "execution_count": 12,
   "metadata": {},
   "outputs": [],
   "source": [
    "fitted_vectorizer1 = vectorizer1.fit(df1[\"text\"])"
   ]
  },
  {
   "cell_type": "code",
   "execution_count": 2,
   "metadata": {},
   "outputs": [],
   "source": [
    "tf = joblib.load('tfidf.joblib')"
   ]
  },
  {
   "cell_type": "code",
   "execution_count": 14,
   "metadata": {},
   "outputs": [
    {
     "name": "stdout",
     "output_type": "stream",
     "text": [
      "  (0, 10136)\t0.14492936911205515\n",
      "  (0, 10116)\t0.050681302832840294\n",
      "  (0, 10008)\t0.09090907384025766\n",
      "  (0, 9791)\t0.09727953853658737\n",
      "  (0, 9782)\t0.1723366696007372\n",
      "  (0, 9781)\t0.0860486949807661\n",
      "  (0, 9738)\t0.12405859640011765\n",
      "  (0, 9639)\t0.09092944602752799\n",
      "  (0, 9601)\t0.13216692585732512\n",
      "  (0, 9404)\t0.12875022046074963\n",
      "  (0, 9007)\t0.10005711102126379\n",
      "  (0, 8979)\t0.1405541320523677\n",
      "  (0, 8932)\t0.10829820140620439\n",
      "  (0, 8862)\t0.0564046874204292\n",
      "  (0, 8568)\t0.06545813888284828\n",
      "  (0, 8324)\t0.17468501364470862\n",
      "  (0, 8056)\t0.0854916646741642\n",
      "  (0, 7958)\t0.09571357427633882\n",
      "  (0, 7921)\t0.040716571124056904\n",
      "  (0, 7872)\t0.12616965164675467\n",
      "  (0, 7870)\t0.09897276181919287\n",
      "  (0, 7855)\t0.28324460150297526\n",
      "  (0, 7766)\t0.13886830219332008\n",
      "  (0, 7687)\t0.133734911896795\n",
      "  (0, 7500)\t0.1341754630052528\n",
      "  :\t:\n",
      "  (39999, 3877)\t0.11611977202466821\n",
      "  (39999, 3773)\t0.04726456861693279\n",
      "  (39999, 3381)\t0.13497436327782442\n",
      "  (39999, 3105)\t0.13808091528038888\n",
      "  (39999, 3022)\t0.038378941897958305\n",
      "  (39999, 2815)\t0.1273504239463761\n",
      "  (39999, 2757)\t0.14731612680913303\n",
      "  (39999, 2677)\t0.15846437505450023\n",
      "  (39999, 2644)\t0.052365806687107545\n",
      "  (39999, 2273)\t0.11696855401081835\n",
      "  (39999, 2256)\t0.06973925636183459\n",
      "  (39999, 2154)\t0.09644992251364584\n",
      "  (39999, 2006)\t0.16590799067175263\n",
      "  (39999, 2005)\t0.09426110244069351\n",
      "  (39999, 1613)\t0.0991646267578856\n",
      "  (39999, 1574)\t0.05993124640537644\n",
      "  (39999, 1421)\t0.16109379966427367\n",
      "  (39999, 1325)\t0.15305362336231834\n",
      "  (39999, 1234)\t0.10516432290321415\n",
      "  (39999, 859)\t0.0663899019732268\n",
      "  (39999, 850)\t0.17974161971984653\n",
      "  (39999, 631)\t0.12268105091471822\n",
      "  (39999, 519)\t0.07846587234224982\n",
      "  (39999, 403)\t0.14156307427987713\n",
      "  (39999, 28)\t0.14379530559958556\n"
     ]
    },
    {
     "data": {
      "text/plain": [
       "0        0\n",
       "1        0\n",
       "2        0\n",
       "3        0\n",
       "4        1\n",
       "5        0\n",
       "6        1\n",
       "7        0\n",
       "8        1\n",
       "9        1\n",
       "10       1\n",
       "11       0\n",
       "12       1\n",
       "13       0\n",
       "14       0\n",
       "15       1\n",
       "16       1\n",
       "17       0\n",
       "18       0\n",
       "19       0\n",
       "20       1\n",
       "21       0\n",
       "22       1\n",
       "23       0\n",
       "24       1\n",
       "25       0\n",
       "26       1\n",
       "27       1\n",
       "28       0\n",
       "29       1\n",
       "        ..\n",
       "39970    1\n",
       "39971    1\n",
       "39972    0\n",
       "39973    0\n",
       "39974    0\n",
       "39975    0\n",
       "39976    1\n",
       "39977    0\n",
       "39978    0\n",
       "39979    0\n",
       "39980    0\n",
       "39981    1\n",
       "39982    1\n",
       "39983    1\n",
       "39984    0\n",
       "39985    0\n",
       "39986    1\n",
       "39987    1\n",
       "39988    1\n",
       "39989    1\n",
       "39990    1\n",
       "39991    1\n",
       "39992    1\n",
       "39993    0\n",
       "39994    0\n",
       "39995    1\n",
       "39996    1\n",
       "39997    0\n",
       "39998    1\n",
       "39999    1\n",
       "Name: label, Length: 40000, dtype: int64"
      ]
     },
     "execution_count": 14,
     "metadata": {},
     "output_type": "execute_result"
    }
   ],
   "source": [
    "train_transform = tf.transform(df1['text'])\n",
    "y1 = train_df['label']\n",
    "print(train_transform)\n",
    "y1"
   ]
  },
  {
   "cell_type": "code",
   "execution_count": 15,
   "metadata": {},
   "outputs": [
    {
     "data": {
      "text/plain": [
       "array([[0., 0., 0., ..., 0., 0., 0.],\n",
       "       [0., 0., 0., ..., 0., 0., 0.],\n",
       "       [0., 0., 0., ..., 0., 0., 0.],\n",
       "       ...,\n",
       "       [0., 0., 0., ..., 0., 0., 0.],\n",
       "       [0., 0., 0., ..., 0., 0., 0.],\n",
       "       [0., 0., 0., ..., 0., 0., 0.]])"
      ]
     },
     "execution_count": 15,
     "metadata": {},
     "output_type": "execute_result"
    }
   ],
   "source": [
    "train_array = train_transform.toarray()\n",
    "train_array"
   ]
  },
  {
   "cell_type": "code",
   "execution_count": 10,
   "metadata": {},
   "outputs": [],
   "source": [
    "class Logistic_Regression:\n",
    "    \n",
    "    # Defining hyper parameters\n",
    "    def __init__(self, learning_rate, no_of_iterations):\n",
    "        \n",
    "        self.learning_rate = learning_rate\n",
    "        self.no_of_iterations = no_of_iterations\n",
    "    \n",
    "    # Sigmoid activation function\n",
    "    def sigmoid(self, z):\n",
    "        \n",
    "          return 1/ (1 + np.exp(-z))\n",
    "      \n",
    "    # Fit function for model\n",
    "    def fit(self, X, Y):\n",
    "        \n",
    "        # m -> number of rows in dataset\n",
    "        # n -> number of columns in dataset\n",
    "        self.m, self.n = X.shape\n",
    "        \n",
    "        # initializing weights and bias model parameters\n",
    "        self.weights = np.zeros(self.n)\n",
    "        self.bias = 0\n",
    "        \n",
    "        self.X = X\n",
    "        self.Y = Y\n",
    "\n",
    "        for i in range(self.no_of_iterations):\n",
    "              self.update_model_parameters()\n",
    "    \n",
    "    # Gradient descent for optimizing model parameters\n",
    "    def update_model_parameters(self):\n",
    "\n",
    "        Y_hat = self.sigmoid( self.X.dot(self.weights) + self.bias )  \n",
    "        \n",
    "        # using gradient descent optimization algorithm\n",
    "        dw = (1/self.m)*np.dot(self.X.T, (Y_hat - self.Y))\n",
    "        db = (1/self.m)*np.sum(Y_hat - self.Y)\n",
    "        \n",
    "        # updating weights and bias using learning rate and gradient descent\n",
    "        self.weights = self.weights - dw * self.learning_rate\n",
    "        self.bias = self.bias - self.learning_rate * db           \n",
    "\n",
    "    # Predict function for model\n",
    "    def predict(self, X):\n",
    "\n",
    "        Y_pred = 1 / (1 + np.exp( - (X.dot(self.weights) + self.bias ) ))      \n",
    "        \n",
    "        # if >0.5 --> positive else negative\n",
    "        Y_pred1 = np.where( Y_pred > 0.5, 1, 0)\n",
    "        return Y_pred, Y_pred1"
   ]
  },
  {
   "cell_type": "code",
   "execution_count": 4,
   "metadata": {},
   "outputs": [],
   "source": [
    "saved_model = joblib.load('final-log-model-09.joblib')"
   ]
  },
  {
   "cell_type": "code",
   "execution_count": 5,
   "metadata": {},
   "outputs": [
    {
     "name": "stdout",
     "output_type": "stream",
     "text": [
      "Review: This film starts out with all the moody promise of a great contemporary noir Western - after the ill-conceived opening flashback sequence anyway. The scenery is beautifully desolate, the characters achingly isolated. While some of the acting is less than believable, the plot ultimately delivers enough tension and twists to make this movie worth a look.\n"
     ]
    }
   ],
   "source": [
    "text = input(\"Review: \")\n",
    "text = [text]"
   ]
  },
  {
   "cell_type": "code",
   "execution_count": 6,
   "metadata": {},
   "outputs": [],
   "source": [
    "vec = TfidfVectorizer(min_df=0.0015, ngram_range=(1,3), vocabulary = tf.vocabulary_)\n",
    "text_transform = vec .fit_transform(text)"
   ]
  },
  {
   "cell_type": "code",
   "execution_count": 7,
   "metadata": {},
   "outputs": [
    {
     "data": {
      "text/plain": [
       "array([[0., 0., 0., ..., 0., 0., 0.]])"
      ]
     },
     "execution_count": 7,
     "metadata": {},
     "output_type": "execute_result"
    }
   ],
   "source": [
    "text_array = text_transform .toarray()\n",
    "text_array"
   ]
  },
  {
   "cell_type": "code",
   "execution_count": 8,
   "metadata": {},
   "outputs": [
    {
     "name": "stdout",
     "output_type": "stream",
     "text": [
      "[0.24610154 0.32586837 0.21221989 ... 0.17531206 0.93136337 0.76484966]\n"
     ]
    }
   ],
   "source": [
    "pre, sentiment = saved_model .predict(text_array)\n",
    "print(pre)"
   ]
  },
  {
   "cell_type": "code",
   "execution_count": 9,
   "metadata": {},
   "outputs": [
    {
     "ename": "ValueError",
     "evalue": "The truth value of an array with more than one element is ambiguous. Use a.any() or a.all()",
     "output_type": "error",
     "traceback": [
      "\u001b[1;31m---------------------------------------------------------------------------\u001b[0m",
      "\u001b[1;31mValueError\u001b[0m                                Traceback (most recent call last)",
      "\u001b[1;32m<ipython-input-9-b4f6d259d6af>\u001b[0m in \u001b[0;36m<module>\u001b[1;34m\u001b[0m\n\u001b[1;32m----> 1\u001b[1;33m \u001b[1;32mif\u001b[0m \u001b[0msentiment\u001b[0m \u001b[1;33m==\u001b[0m \u001b[1;36m0\u001b[0m \u001b[1;32mand\u001b[0m \u001b[0mpre\u001b[0m \u001b[1;33m<=\u001b[0m \u001b[1;36m0.1\u001b[0m \u001b[1;33m:\u001b[0m\u001b[1;33m\u001b[0m\u001b[1;33m\u001b[0m\u001b[0m\n\u001b[0m\u001b[0;32m      2\u001b[0m     \u001b[0mprint\u001b[0m\u001b[1;33m(\u001b[0m\u001b[1;34m\"Negative sentiment\"\u001b[0m\u001b[1;33m,\u001b[0m \u001b[1;34m\"Score: 1\"\u001b[0m\u001b[1;33m,\u001b[0m \u001b[0memoji\u001b[0m\u001b[1;33m.\u001b[0m\u001b[0memojize\u001b[0m\u001b[1;33m(\u001b[0m\u001b[1;34m\":angry_face:\"\u001b[0m\u001b[1;33m)\u001b[0m \u001b[1;33m)\u001b[0m\u001b[1;33m\u001b[0m\u001b[1;33m\u001b[0m\u001b[0m\n\u001b[0;32m      3\u001b[0m \u001b[1;32melif\u001b[0m \u001b[0msentiment\u001b[0m \u001b[1;33m==\u001b[0m \u001b[1;36m0\u001b[0m \u001b[1;32mand\u001b[0m \u001b[1;33m(\u001b[0m\u001b[0mpre\u001b[0m \u001b[1;33m>\u001b[0m \u001b[1;36m0.2\u001b[0m \u001b[1;32mor\u001b[0m \u001b[0mpre\u001b[0m \u001b[1;33m<=\u001b[0m \u001b[1;36m0.4\u001b[0m\u001b[1;33m)\u001b[0m\u001b[1;33m:\u001b[0m\u001b[1;33m\u001b[0m\u001b[1;33m\u001b[0m\u001b[0m\n\u001b[0;32m      4\u001b[0m     \u001b[0mprint\u001b[0m\u001b[1;33m(\u001b[0m\u001b[1;34m\"Negative sentiment\"\u001b[0m\u001b[1;33m,\u001b[0m \u001b[1;34m\"Score: 2\"\u001b[0m\u001b[1;33m,\u001b[0m \u001b[0memoji\u001b[0m\u001b[1;33m.\u001b[0m\u001b[0memojize\u001b[0m\u001b[1;33m(\u001b[0m\u001b[1;34m\":disappointed_face:\"\u001b[0m\u001b[1;33m)\u001b[0m \u001b[1;33m)\u001b[0m\u001b[1;33m\u001b[0m\u001b[1;33m\u001b[0m\u001b[0m\n\u001b[0;32m      5\u001b[0m \u001b[1;32melif\u001b[0m \u001b[0msentiment\u001b[0m \u001b[1;33m==\u001b[0m \u001b[1;36m0\u001b[0m \u001b[1;32mand\u001b[0m \u001b[1;33m(\u001b[0m\u001b[0mpre\u001b[0m \u001b[1;33m<=\u001b[0m \u001b[1;36m0.5\u001b[0m\u001b[1;33m)\u001b[0m\u001b[1;33m:\u001b[0m\u001b[1;33m\u001b[0m\u001b[1;33m\u001b[0m\u001b[0m\n",
      "\u001b[1;31mValueError\u001b[0m: The truth value of an array with more than one element is ambiguous. Use a.any() or a.all()"
     ]
    }
   ],
   "source": [
    "if sentiment == 0 and pre <= 0.1 :\n",
    "    print(\"Negative sentiment\", \"Score: 1\", emoji.emojize(\":angry_face:\") )\n",
    "elif sentiment == 0 and (pre > 0.2 or pre <= 0.4):\n",
    "    print(\"Negative sentiment\", \"Score: 2\", emoji.emojize(\":disappointed_face:\") )\n",
    "elif sentiment == 0 and (pre <= 0.5):\n",
    "    print(\"Negative sentiment\", \"Score: 3\", emoji.emojize(\":neutral_face:\") )\n",
    "elif sentiment == 1 and (pre > 0.5 or pre <= 0.7):\n",
    "    print(\"Positive sentiment\", \"Score: 4\", emoji.emojize(\":slightly_smiling_face:\") )\n",
    "elif sentiment == 1 and (pre > 0.7 or pre <= 0.9):\n",
    "    print(\"Positive sentiment\", \"Score: 5\", emoji.emojize(\":grinning_face_with_smiling_eyes:\") )\n",
    "else:\n",
    "    print(\"Positive sentiment\", \"Score: 6\", emoji.emojize(\":smiling_face_with_heart_eyes:\"))"
   ]
  },
  {
   "cell_type": "code",
   "execution_count": 25,
   "metadata": {},
   "outputs": [
    {
     "name": "stdout",
     "output_type": "stream",
     "text": [
      "Collecting emoji\n",
      "  Downloading https://files.pythonhosted.org/packages/17/f0/7db2f4d8651951ff4a51ee77f0ffe0b3d015cd963c941c7390b3ba9fb302/emoji-1.6.1.tar.gz (170kB)\n",
      "Building wheels for collected packages: emoji\n",
      "  Building wheel for emoji (setup.py): started\n",
      "  Building wheel for emoji (setup.py): finished with status 'done'\n",
      "  Stored in directory: C:\\Users\\Dell\\AppData\\Local\\pip\\Cache\\wheels\\84\\b8\\d1\\9f6225ae43fac1910166a0f53f5679a0f01295513637fe2331\n",
      "Successfully built emoji\n",
      "Installing collected packages: emoji\n",
      "Successfully installed emoji-1.6.1\n"
     ]
    }
   ],
   "source": [
    "# !pip install emoji"
   ]
  },
  {
   "cell_type": "code",
   "execution_count": 28,
   "metadata": {},
   "outputs": [],
   "source": [
    "import emoji"
   ]
  },
  {
   "cell_type": "code",
   "execution_count": null,
   "metadata": {},
   "outputs": [],
   "source": []
  }
 ],
 "metadata": {
  "kernelspec": {
   "display_name": "Python 3",
   "language": "python",
   "name": "python3"
  },
  "language_info": {
   "codemirror_mode": {
    "name": "ipython",
    "version": 3
   },
   "file_extension": ".py",
   "mimetype": "text/x-python",
   "name": "python",
   "nbconvert_exporter": "python",
   "pygments_lexer": "ipython3",
   "version": "3.7.3"
  }
 },
 "nbformat": 4,
 "nbformat_minor": 2
}
