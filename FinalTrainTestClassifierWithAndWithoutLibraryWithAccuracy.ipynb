{
 "cells": [
  {
   "cell_type": "markdown",
   "metadata": {},
   "source": [
    "# Importing Libraries"
   ]
  },
  {
   "cell_type": "code",
   "execution_count": 1,
   "metadata": {},
   "outputs": [],
   "source": [
    "import numpy as np\n",
    "import pandas as pd\n",
    "\n",
    "import nltk\n",
    "import string\n",
    "pd.options.mode.chained_assignment = None\n",
    "\n",
    "from bs4 import BeautifulSoup\n",
    "from nltk.corpus import wordnet\n",
    "from nltk.stem import WordNetLemmatizer\n",
    "\n",
    "from sklearn.feature_extraction.text import TfidfVectorizer\n",
    "from sklearn.linear_model import LogisticRegression\n",
    "from sklearn.model_selection import train_test_split\n",
    "\n",
    "from sklearn.metrics import accuracy_score\n",
    "from sklearn.metrics import confusion_matrix\n",
    "from sklearn.metrics import f1_score\n",
    "from sklearn.metrics import classification_report\n",
    "\n",
    "from sklearn.externals import joblib"
   ]
  },
  {
   "cell_type": "markdown",
   "metadata": {},
   "source": [
    "# Load Train dataset"
   ]
  },
  {
   "cell_type": "code",
   "execution_count": 2,
   "metadata": {},
   "outputs": [
    {
     "data": {
      "text/plain": [
       "(40000, 2)"
      ]
     },
     "execution_count": 2,
     "metadata": {},
     "output_type": "execute_result"
    }
   ],
   "source": [
    "train_df = pd. read_csv('train.csv', header=None, delimiter=',', skiprows=1, names=['text','label'])\n",
    "train_df.shape"
   ]
  },
  {
   "cell_type": "code",
   "execution_count": 3,
   "metadata": {},
   "outputs": [
    {
     "name": "stdout",
     "output_type": "stream",
     "text": [
      "<class 'pandas.core.frame.DataFrame'>\n",
      "RangeIndex: 40000 entries, 0 to 39999\n",
      "Data columns (total 2 columns):\n",
      "text     40000 non-null object\n",
      "label    40000 non-null int64\n",
      "dtypes: int64(1), object(1)\n",
      "memory usage: 625.1+ KB\n"
     ]
    }
   ],
   "source": [
    "train_df.info()"
   ]
  },
  {
   "cell_type": "code",
   "execution_count": 4,
   "metadata": {
    "scrolled": true
   },
   "outputs": [
    {
     "data": {
      "text/html": [
       "<div>\n",
       "<style scoped>\n",
       "    .dataframe tbody tr th:only-of-type {\n",
       "        vertical-align: middle;\n",
       "    }\n",
       "\n",
       "    .dataframe tbody tr th {\n",
       "        vertical-align: top;\n",
       "    }\n",
       "\n",
       "    .dataframe thead th {\n",
       "        text-align: right;\n",
       "    }\n",
       "</style>\n",
       "<table border=\"1\" class=\"dataframe\">\n",
       "  <thead>\n",
       "    <tr style=\"text-align: right;\">\n",
       "      <th></th>\n",
       "      <th>text</th>\n",
       "      <th>label</th>\n",
       "    </tr>\n",
       "  </thead>\n",
       "  <tbody>\n",
       "    <tr>\n",
       "      <th>0</th>\n",
       "      <td>I grew up (b. 1965) watching and loving the Th...</td>\n",
       "      <td>0</td>\n",
       "    </tr>\n",
       "    <tr>\n",
       "      <th>1</th>\n",
       "      <td>When I put this movie in my DVD player, and sa...</td>\n",
       "      <td>0</td>\n",
       "    </tr>\n",
       "    <tr>\n",
       "      <th>2</th>\n",
       "      <td>Why do people who do not know what a particula...</td>\n",
       "      <td>0</td>\n",
       "    </tr>\n",
       "    <tr>\n",
       "      <th>3</th>\n",
       "      <td>Even though I have great interest in Biblical ...</td>\n",
       "      <td>0</td>\n",
       "    </tr>\n",
       "    <tr>\n",
       "      <th>4</th>\n",
       "      <td>Im a die hard Dads Army fan and nothing will e...</td>\n",
       "      <td>1</td>\n",
       "    </tr>\n",
       "  </tbody>\n",
       "</table>\n",
       "</div>"
      ],
      "text/plain": [
       "                                                text  label\n",
       "0  I grew up (b. 1965) watching and loving the Th...      0\n",
       "1  When I put this movie in my DVD player, and sa...      0\n",
       "2  Why do people who do not know what a particula...      0\n",
       "3  Even though I have great interest in Biblical ...      0\n",
       "4  Im a die hard Dads Army fan and nothing will e...      1"
      ]
     },
     "execution_count": 4,
     "metadata": {},
     "output_type": "execute_result"
    }
   ],
   "source": [
    "df1 = train_df[[\"text\"]]\n",
    "df1[\"text\"] = df1[\"text\"].astype(str)\n",
    "train_df.head()"
   ]
  },
  {
   "cell_type": "markdown",
   "metadata": {},
   "source": [
    "# Raw review text train data"
   ]
  },
  {
   "cell_type": "code",
   "execution_count": 5,
   "metadata": {},
   "outputs": [
    {
     "name": "stdout",
     "output_type": "stream",
     "text": [
      "<class 'pandas.core.frame.DataFrame'>\n",
      "RangeIndex: 40000 entries, 0 to 39999\n",
      "Data columns (total 1 columns):\n",
      "text    40000 non-null object\n",
      "dtypes: object(1)\n",
      "memory usage: 312.6+ KB\n"
     ]
    }
   ],
   "source": [
    "df1.info()"
   ]
  },
  {
   "cell_type": "code",
   "execution_count": 6,
   "metadata": {
    "scrolled": true
   },
   "outputs": [
    {
     "data": {
      "text/plain": [
       "0        I grew up (b. 1965) watching and loving the Th...\n",
       "1        When I put this movie in my DVD player, and sa...\n",
       "2        Why do people who do not know what a particula...\n",
       "3        Even though I have great interest in Biblical ...\n",
       "4        Im a die hard Dads Army fan and nothing will e...\n",
       "5        A terrible movie as everyone has said. What ma...\n",
       "6        Finally watched this shocking movie last night...\n",
       "7        I caught this film on AZN on cable. It sounded...\n",
       "8        It may be the remake of 1987 Autumn's Tale aft...\n",
       "9        My Super Ex Girlfriend turned out to be a plea...\n",
       "10       I can't believe people are looking for a plot ...\n",
       "11       If you haven't seen the gong show TV series th...\n",
       "12       I have always been a huge fan of \"Homicide: Li...\n",
       "13       Greg Davis and Bryan Daly take some crazed sta...\n",
       "14       A half-hearted attempt to bring Elvis Presley ...\n",
       "15       If you want a fun romp with loads of subtle hu...\n",
       "16       I really wanted to be able to give this film a...\n",
       "17       The main problem with \"Power\" is that it featu...\n",
       "18       The folks at Disney have a lot to explain. Fir...\n",
       "19       A friend told me of John Fante last summer aft...\n",
       "20       Ever since I heard of the Ralph Bakshi version...\n",
       "21       I sat through this film and i have to say it o...\n",
       "22       I don't care if some people voted this movie t...\n",
       "23       I never really understood the controversy and ...\n",
       "24       Sweet, entertaining tale of a young 17 1/2 yea...\n",
       "25       First, I should mention that I really enjoyed ...\n",
       "26       The Argentinian music poet, Atahualpa Yupanqui...\n",
       "27       I saw this film by chance on the small box. It...\n",
       "28       The small California town of Diablo is plagued...\n",
       "29       It's good to see that Vintage Film Buff have c...\n",
       "                               ...                        \n",
       "39970    Thre isn't a single Scorsese movie I'd place o...\n",
       "39971    Don't mind what this socially retarded person ...\n",
       "39972    I am very open to foreign films and like to th...\n",
       "39973    This movie was amusing at times, hell sometime...\n",
       "39974    Jean Claude Van Damme tries to rescue his care...\n",
       "39975    I could not believe how awful this film was; I...\n",
       "39976    De Grot is a very good film. The great plot co...\n",
       "39977    Let's see. In the \"St. Elsewhere\" finale we fo...\n",
       "39978    STAR RATING: ***** Saturday Night **** Friday ...\n",
       "39979    The Wicker Man, starring Nicolas Cage, is by n...\n",
       "39980    I remember rather enjoying this a few years ba...\n",
       "39981    The British production company Amicus is gener...\n",
       "39982    As an ex Merchant Seaman I was really interest...\n",
       "39983    Given the low budget and production limitation...\n",
       "39984    I couldn't relate to this film. It failed to e...\n",
       "39985    Comedy? What's so funny about watching an ugly...\n",
       "39986    Best club scenes that i have seen in a long ti...\n",
       "39987    I have great memories of this movie...<br /><b...\n",
       "39988    An underrated addition to the Graham Greene ci...\n",
       "39989    Walter Matthau and George Burns just work so w...\n",
       "39990    I really love anything done by Savage Steve Ho...\n",
       "39991    Revenge is the theme of this Denzel Washington...\n",
       "39992    Although I agree that it's a good but not grea...\n",
       "39993    \"The Best Movie of the 90's\" \"The Welsh Trains...\n",
       "39994    My girlfriend has the habit of going to Blockb...\n",
       "39995    \"Western Union\" is something of a forgotten cl...\n",
       "39996    This movie is an incredible piece of work. It ...\n",
       "39997    My wife and I watched this movie because we pl...\n",
       "39998    When I first watched Flatliners, I was amazed....\n",
       "39999    Why would this film be so good, but only gross...\n",
       "Name: text, Length: 40000, dtype: object"
      ]
     },
     "execution_count": 6,
     "metadata": {},
     "output_type": "execute_result"
    }
   ],
   "source": [
    "df1[\"text\"]"
   ]
  },
  {
   "cell_type": "markdown",
   "metadata": {},
   "source": [
    "# Preprocessing text review from train dataset"
   ]
  },
  {
   "cell_type": "markdown",
   "metadata": {},
   "source": [
    "### 1. Lowercasing text"
   ]
  },
  {
   "cell_type": "code",
   "execution_count": 7,
   "metadata": {},
   "outputs": [
    {
     "name": "stdout",
     "output_type": "stream",
     "text": [
      "0        i grew up (b. 1965) watching and loving the th...\n",
      "1        when i put this movie in my dvd player, and sa...\n",
      "2        why do people who do not know what a particula...\n",
      "3        even though i have great interest in biblical ...\n",
      "4        im a die hard dads army fan and nothing will e...\n",
      "5        a terrible movie as everyone has said. what ma...\n",
      "6        finally watched this shocking movie last night...\n",
      "7        i caught this film on azn on cable. it sounded...\n",
      "8        it may be the remake of 1987 autumn's tale aft...\n",
      "9        my super ex girlfriend turned out to be a plea...\n",
      "10       i can't believe people are looking for a plot ...\n",
      "11       if you haven't seen the gong show tv series th...\n",
      "12       i have always been a huge fan of \"homicide: li...\n",
      "13       greg davis and bryan daly take some crazed sta...\n",
      "14       a half-hearted attempt to bring elvis presley ...\n",
      "15       if you want a fun romp with loads of subtle hu...\n",
      "16       i really wanted to be able to give this film a...\n",
      "17       the main problem with \"power\" is that it featu...\n",
      "18       the folks at disney have a lot to explain. fir...\n",
      "19       a friend told me of john fante last summer aft...\n",
      "20       ever since i heard of the ralph bakshi version...\n",
      "21       i sat through this film and i have to say it o...\n",
      "22       i don't care if some people voted this movie t...\n",
      "23       i never really understood the controversy and ...\n",
      "24       sweet, entertaining tale of a young 17 1/2 yea...\n",
      "25       first, i should mention that i really enjoyed ...\n",
      "26       the argentinian music poet, atahualpa yupanqui...\n",
      "27       i saw this film by chance on the small box. it...\n",
      "28       the small california town of diablo is plagued...\n",
      "29       it's good to see that vintage film buff have c...\n",
      "                               ...                        \n",
      "39970    thre isn't a single scorsese movie i'd place o...\n",
      "39971    don't mind what this socially retarded person ...\n",
      "39972    i am very open to foreign films and like to th...\n",
      "39973    this movie was amusing at times, hell sometime...\n",
      "39974    jean claude van damme tries to rescue his care...\n",
      "39975    i could not believe how awful this film was; i...\n",
      "39976    de grot is a very good film. the great plot co...\n",
      "39977    let's see. in the \"st. elsewhere\" finale we fo...\n",
      "39978    star rating: ***** saturday night **** friday ...\n",
      "39979    the wicker man, starring nicolas cage, is by n...\n",
      "39980    i remember rather enjoying this a few years ba...\n",
      "39981    the british production company amicus is gener...\n",
      "39982    as an ex merchant seaman i was really interest...\n",
      "39983    given the low budget and production limitation...\n",
      "39984    i couldn't relate to this film. it failed to e...\n",
      "39985    comedy? what's so funny about watching an ugly...\n",
      "39986    best club scenes that i have seen in a long ti...\n",
      "39987    i have great memories of this movie...<br /><b...\n",
      "39988    an underrated addition to the graham greene ci...\n",
      "39989    walter matthau and george burns just work so w...\n",
      "39990    i really love anything done by savage steve ho...\n",
      "39991    revenge is the theme of this denzel washington...\n",
      "39992    although i agree that it's a good but not grea...\n",
      "39993    \"the best movie of the 90's\" \"the welsh trains...\n",
      "39994    my girlfriend has the habit of going to blockb...\n",
      "39995    \"western union\" is something of a forgotten cl...\n",
      "39996    this movie is an incredible piece of work. it ...\n",
      "39997    my wife and i watched this movie because we pl...\n",
      "39998    when i first watched flatliners, i was amazed....\n",
      "39999    why would this film be so good, but only gross...\n",
      "Name: text, Length: 40000, dtype: object\n"
     ]
    }
   ],
   "source": [
    "df1[\"text\"] = df1[\"text\"].str.lower()\n",
    "print(df1[\"text\"])"
   ]
  },
  {
   "cell_type": "markdown",
   "metadata": {},
   "source": [
    "### 2. Remove HTML tags"
   ]
  },
  {
   "cell_type": "code",
   "execution_count": 8,
   "metadata": {},
   "outputs": [
    {
     "name": "stdout",
     "output_type": "stream",
     "text": [
      "0        i grew up (b. 1965) watching and loving the th...\n",
      "1        when i put this movie in my dvd player, and sa...\n",
      "2        why do people who do not know what a particula...\n",
      "3        even though i have great interest in biblical ...\n",
      "4        im a die hard dads army fan and nothing will e...\n",
      "5        a terrible movie as everyone has said. what ma...\n",
      "6        finally watched this shocking movie last night...\n",
      "7        i caught this film on azn on cable. it sounded...\n",
      "8        it may be the remake of 1987 autumn's tale aft...\n",
      "9        my super ex girlfriend turned out to be a plea...\n",
      "10       i can't believe people are looking for a plot ...\n",
      "11       if you haven't seen the gong show tv series th...\n",
      "12       i have always been a huge fan of \"homicide: li...\n",
      "13       greg davis and bryan daly take some crazed sta...\n",
      "14       a half-hearted attempt to bring elvis presley ...\n",
      "15       if you want a fun romp with loads of subtle hu...\n",
      "16       i really wanted to be able to give this film a...\n",
      "17       the main problem with \"power\" is that it featu...\n",
      "18       the folks at disney have a lot to explain. fir...\n",
      "19       a friend told me of john fante last summer aft...\n",
      "20       ever since i heard of the ralph bakshi version...\n",
      "21       i sat through this film and i have to say it o...\n",
      "22       i don't care if some people voted this movie t...\n",
      "23       i never really understood the controversy and ...\n",
      "24       sweet, entertaining tale of a young 17 1/2 yea...\n",
      "25       first, i should mention that i really enjoyed ...\n",
      "26       the argentinian music poet, atahualpa yupanqui...\n",
      "27       i saw this film by chance on the small box. it...\n",
      "28       the small california town of diablo is plagued...\n",
      "29       it's good to see that vintage film buff have c...\n",
      "                               ...                        \n",
      "39970    thre isn't a single scorsese movie i'd place o...\n",
      "39971    don't mind what this socially retarded person ...\n",
      "39972    i am very open to foreign films and like to th...\n",
      "39973    this movie was amusing at times, hell sometime...\n",
      "39974    jean claude van damme tries to rescue his care...\n",
      "39975    i could not believe how awful this film was; i...\n",
      "39976    de grot is a very good film. the great plot co...\n",
      "39977    let's see. in the \"st. elsewhere\" finale we fo...\n",
      "39978    star rating: ***** saturday night **** friday ...\n",
      "39979    the wicker man, starring nicolas cage, is by n...\n",
      "39980    i remember rather enjoying this a few years ba...\n",
      "39981    the british production company amicus is gener...\n",
      "39982    as an ex merchant seaman i was really interest...\n",
      "39983    given the low budget and production limitation...\n",
      "39984    i couldn't relate to this film. it failed to e...\n",
      "39985    comedy? what's so funny about watching an ugly...\n",
      "39986    best club scenes that i have seen in a long ti...\n",
      "39987    i have great memories of this movie...i was on...\n",
      "39988    an underrated addition to the graham greene ci...\n",
      "39989    walter matthau and george burns just work so w...\n",
      "39990    i really love anything done by savage steve ho...\n",
      "39991    revenge is the theme of this denzel washington...\n",
      "39992    although i agree that it's a good but not grea...\n",
      "39993    \"the best movie of the 90's\" \"the welsh trains...\n",
      "39994    my girlfriend has the habit of going to blockb...\n",
      "39995    \"western union\" is something of a forgotten cl...\n",
      "39996    this movie is an incredible piece of work. it ...\n",
      "39997    my wife and i watched this movie because we pl...\n",
      "39998    when i first watched flatliners, i was amazed....\n",
      "39999    why would this film be so good, but only gross...\n",
      "Name: text, Length: 40000, dtype: object\n"
     ]
    }
   ],
   "source": [
    "def remove_html_tags(text):\n",
    "    return BeautifulSoup(text, \"lxml\").text\n",
    "\n",
    "df1[\"text\"] = df1[\"text\"].apply(lambda text: remove_html_tags(text))\n",
    "print(df1[\"text\"])"
   ]
  },
  {
   "cell_type": "markdown",
   "metadata": {},
   "source": [
    "### 3. Remove stopwords"
   ]
  },
  {
   "cell_type": "code",
   "execution_count": 9,
   "metadata": {
    "scrolled": false
   },
   "outputs": [
    {
     "data": {
      "text/plain": [
       "\"i, me, my, myself, we, our, ours, ourselves, you, you're, you've, you'll, you'd, your, yours, yourself, yourselves, he, him, his, himself, she, she's, her, hers, herself, it, it's, its, itself, they, them, their, theirs, themselves, what, which, who, whom, this, that, that'll, these, those, am, is, are, was, were, be, been, being, have, has, had, having, do, does, did, doing, a, an, the, and, but, if, or, because, as, until, while, of, at, by, for, with, about, against, between, into, through, during, before, after, above, below, to, from, up, down, in, out, on, off, over, under, again, further, then, once, here, there, when, where, why, how, all, any, both, each, few, more, most, other, some, such, no, nor, not, only, own, same, so, than, too, very, s, t, can, will, just, don, don't, should, should've, now, d, ll, m, o, re, ve, y, ain, aren, aren't, couldn, couldn't, didn, didn't, doesn, doesn't, hadn, hadn't, hasn, hasn't, haven, haven't, isn, isn't, ma, mightn, mightn't, mustn, mustn't, needn, needn't, shan, shan't, shouldn, shouldn't, wasn, wasn't, weren, weren't, won, won't, wouldn, wouldn't\""
      ]
     },
     "execution_count": 9,
     "metadata": {},
     "output_type": "execute_result"
    }
   ],
   "source": [
    "from nltk.corpus import stopwords\n",
    "\", \".join(stopwords.words('english'))"
   ]
  },
  {
   "cell_type": "code",
   "execution_count": 10,
   "metadata": {},
   "outputs": [
    {
     "data": {
      "text/plain": [
       "0        grew (b. 1965) watching loving thunderbirds. m...\n",
       "1        put movie dvd player, sat coke chips, expectat...\n",
       "2        people know particular time past like feel nee...\n",
       "3        even though great interest biblical movies, bo...\n",
       "4        im die hard dads army fan nothing ever change ...\n",
       "5        terrible movie everyone said. made laugh cameo...\n",
       "6        finally watched shocking movie last night, dis...\n",
       "7        caught film azn cable. sounded like would good...\n",
       "8        may remake 1987 autumn's tale eleven years, di...\n",
       "9        super ex girlfriend turned pleasant surprise m...\n",
       "10       can't believe people looking plot film. laural...\n",
       "11       seen gong show tv series like movie much all, ...\n",
       "12       always huge fan \"homicide: life street\" heard ...\n",
       "13       greg davis bryan daly take crazed statements t...\n",
       "14       half-hearted attempt bring elvis presley moder...\n",
       "15       want fun romp loads subtle humor, enjoy flick....\n",
       "16       really wanted able give film 10. i've long tho...\n",
       "17       main problem \"power\" features way may pointles...\n",
       "18       folks disney lot explain. first foremost, anyo...\n",
       "19       friend told john fante last summer got convers...\n",
       "20       ever since heard ralph bakshi version \"the lor...\n",
       "21       sat film say managed keep attention. film woul...\n",
       "22       care people voted movie bad. want truth good m...\n",
       "23       never really understood controversy hype movie...\n",
       "24       sweet, entertaining tale young 17 1/2 year old...\n",
       "25       first, mention really enjoyed ishii katsuhito'...\n",
       "26       argentinian music poet, atahualpa yupanqui, sa...\n",
       "27       saw film chance small box. fantastic chilling ...\n",
       "28       small california town diablo plagued mysteriou...\n",
       "29       good see vintage film buff correctly categoriz...\n",
       "                               ...                        \n",
       "39970    thre single scorsese movie i'd place list favo...\n",
       "39971    mind socially retarded person says, show hilar...\n",
       "39972    open foreign films like think grasp trying acc...\n",
       "39973    movie amusing times, hell sometimes even downr...\n",
       "39974    jean claude van damme tries rescue career maki...\n",
       "39975    could believe awful film was; rarely watch com...\n",
       "39976    de grot good film. great plot comes novel tim ...\n",
       "39977    let's see. \"st. elsewhere\" finale found hospit...\n",
       "39978    star rating: ***** saturday night **** friday ...\n",
       "39979    wicker man, starring nicolas cage, means good ...\n",
       "39980    remember rather enjoying years back coming aga...\n",
       "39981    british production company amicus generally kn...\n",
       "39982    ex merchant seaman really interested movie : p...\n",
       "39983    given low budget production limitations, movie...\n",
       "39984    relate film. failed engage either intellectual...\n",
       "39985    comedy? what's funny watching ugly deadbeat al...\n",
       "39986    best club scenes seen long time - atmosphere m...\n",
       "39987    great memories movie...i 12 released scared be...\n",
       "39988    underrated addition graham greene cinematic ca...\n",
       "39989    walter matthau george burns work well together...\n",
       "39990    really love anything done savage steve holland...\n",
       "39991    revenge theme denzel washington thriller offer...\n",
       "39992    although agree good great movie, many reasons ...\n",
       "39993    \"the best movie 90's\" \"the welsh trainspotting...\n",
       "39994    girlfriend habit going blockbuster choosing mo...\n",
       "39995    \"western union\" something forgotten classic we...\n",
       "39996    movie incredible piece work. explores every no...\n",
       "39997    wife watched movie plan visit sicily stromboli...\n",
       "39998    first watched flatliners, amazed. necessary fe...\n",
       "39999    would film good, gross estimated $95,000,000 a...\n",
       "Name: text, Length: 40000, dtype: object"
      ]
     },
     "execution_count": 10,
     "metadata": {},
     "output_type": "execute_result"
    }
   ],
   "source": [
    "STOPWORDS = set(stopwords.words('english'))\n",
    "def remove_stopwords(text):\n",
    "    \n",
    "    return \" \".join([word for word in str(text).split() if word not in STOPWORDS])\n",
    "\n",
    "df1[\"text\"] = df1[\"text\"].apply(lambda text: remove_stopwords(text))\n",
    "df1[\"text\"]"
   ]
  },
  {
   "cell_type": "markdown",
   "metadata": {},
   "source": [
    "### 4. Remove punctuations"
   ]
  },
  {
   "cell_type": "code",
   "execution_count": 11,
   "metadata": {},
   "outputs": [
    {
     "data": {
      "text/plain": [
       "0        grew b 1965 watching loving thunderbirds mates...\n",
       "1        put movie dvd player sat coke chips expectatio...\n",
       "2        people know particular time past like feel nee...\n",
       "3        even though great interest biblical movies bor...\n",
       "4        im die hard dads army fan nothing ever change ...\n",
       "5        terrible movie everyone said made laugh cameo ...\n",
       "6        finally watched shocking movie last night dist...\n",
       "7        caught film azn cable sounded like would good ...\n",
       "8        may remake 1987 autumns tale eleven years dire...\n",
       "9        super ex girlfriend turned pleasant surprise m...\n",
       "10       cant believe people looking plot film laural h...\n",
       "11       seen gong show tv series like movie much all k...\n",
       "12       always huge fan homicide life street heard reu...\n",
       "13       greg davis bryan daly take crazed statements t...\n",
       "14       halfhearted attempt bring elvis presley modern...\n",
       "15       want fun romp loads subtle humor enjoy flicki ...\n",
       "16       really wanted able give film 10 ive long thoug...\n",
       "17       main problem power features way may pointless ...\n",
       "18       folks disney lot explain first foremost anyone...\n",
       "19       friend told john fante last summer got convers...\n",
       "20       ever since heard ralph bakshi version the lord...\n",
       "21       sat film say managed keep attention film would...\n",
       "22       care people voted movie bad want truth good mo...\n",
       "23       never really understood controversy hype movie...\n",
       "24       sweet entertaining tale young 17 12 year old b...\n",
       "25       first mention really enjoyed ishii katsuhitos ...\n",
       "26       argentinian music poet atahualpa yupanqui said...\n",
       "27       saw film chance small box fantastic chilling s...\n",
       "28       small california town diablo plagued mysteriou...\n",
       "29       good see vintage film buff correctly categoriz...\n",
       "                               ...                        \n",
       "39970    thre single scorsese movie id place list favor...\n",
       "39971    mind socially retarded person says show hilari...\n",
       "39972    open foreign films like think grasp trying acc...\n",
       "39973    movie amusing times hell sometimes even downri...\n",
       "39974    jean claude van damme tries rescue career maki...\n",
       "39975    could believe awful film was rarely watch comm...\n",
       "39976    de grot good film great plot comes novel tim k...\n",
       "39977    lets see st elsewhere finale found hospital ev...\n",
       "39978    star rating  saturday night  friday night  fri...\n",
       "39979    wicker man starring nicolas cage means good mo...\n",
       "39980    remember rather enjoying years back coming aga...\n",
       "39981    british production company amicus generally kn...\n",
       "39982    ex merchant seaman really interested movie  pe...\n",
       "39983    given low budget production limitations movie ...\n",
       "39984    relate film failed engage either intellectuall...\n",
       "39985    comedy whats funny watching ugly deadbeat alco...\n",
       "39986    best club scenes seen long time  atmosphere me...\n",
       "39987    great memories moviei 12 released scared bejes...\n",
       "39988    underrated addition graham greene cinematic ca...\n",
       "39989    walter matthau george burns work well together...\n",
       "39990    really love anything done savage steve holland...\n",
       "39991    revenge theme denzel washington thriller offer...\n",
       "39992    although agree good great movie many reasons p...\n",
       "39993    the best movie 90s the welsh trainspottingaye ...\n",
       "39994    girlfriend habit going blockbuster choosing mo...\n",
       "39995    western union something forgotten classic west...\n",
       "39996    movie incredible piece work explores every noo...\n",
       "39997    wife watched movie plan visit sicily stromboli...\n",
       "39998    first watched flatliners amazed necessary feat...\n",
       "39999    would film good gross estimated 95000000 award...\n",
       "Name: text, Length: 40000, dtype: object"
      ]
     },
     "execution_count": 11,
     "metadata": {},
     "output_type": "execute_result"
    }
   ],
   "source": [
    "PUNCT_TO_REMOVE = string.punctuation\n",
    "\n",
    "def remove_punctuation(text):\n",
    "    return text.translate(str.maketrans(' ', ' ', PUNCT_TO_REMOVE))\n",
    "\n",
    "df1[\"text\"] = df1[\"text\"].apply(lambda text: remove_punctuation(text))\n",
    "df1[\"text\"]"
   ]
  },
  {
   "cell_type": "markdown",
   "metadata": {},
   "source": [
    "### 4. Remove numbers"
   ]
  },
  {
   "cell_type": "code",
   "execution_count": 12,
   "metadata": {},
   "outputs": [
    {
     "data": {
      "text/plain": [
       "0        grew b watching loving thunderbirds mates scho...\n",
       "1        put movie dvd player sat coke chips expectatio...\n",
       "2        people know particular time past like feel nee...\n",
       "3        even though great interest biblical movies bor...\n",
       "4        im die hard dads army fan nothing ever change ...\n",
       "5        terrible movie everyone said made laugh cameo ...\n",
       "6        finally watched shocking movie last night dist...\n",
       "7        caught film azn cable sounded like would good ...\n",
       "8        may remake autumns tale eleven years director ...\n",
       "9        super ex girlfriend turned pleasant surprise m...\n",
       "10       cant believe people looking plot film laural h...\n",
       "11       seen gong show tv series like movie much all k...\n",
       "12       always huge fan homicide life street heard reu...\n",
       "13       greg davis bryan daly take crazed statements t...\n",
       "14       halfhearted attempt bring elvis presley modern...\n",
       "15       want fun romp loads subtle humor enjoy flicki ...\n",
       "16       really wanted able give film ive long thought ...\n",
       "17       main problem power features way may pointless ...\n",
       "18       folks disney lot explain first foremost anyone...\n",
       "19       friend told john fante last summer got convers...\n",
       "20       ever since heard ralph bakshi version the lord...\n",
       "21       sat film say managed keep attention film would...\n",
       "22       care people voted movie bad want truth good mo...\n",
       "23       never really understood controversy hype movie...\n",
       "24       sweet entertaining tale young year old boy con...\n",
       "25       first mention really enjoyed ishii katsuhitos ...\n",
       "26       argentinian music poet atahualpa yupanqui said...\n",
       "27       saw film chance small box fantastic chilling s...\n",
       "28       small california town diablo plagued mysteriou...\n",
       "29       good see vintage film buff correctly categoriz...\n",
       "                               ...                        \n",
       "39970    thre single scorsese movie id place list favor...\n",
       "39971    mind socially retarded person says show hilari...\n",
       "39972    open foreign films like think grasp trying acc...\n",
       "39973    movie amusing times hell sometimes even downri...\n",
       "39974    jean claude van damme tries rescue career maki...\n",
       "39975    could believe awful film was rarely watch comm...\n",
       "39976    de grot good film great plot comes novel tim k...\n",
       "39977    lets see st elsewhere finale found hospital ev...\n",
       "39978    star rating saturday night friday night friday...\n",
       "39979    wicker man starring nicolas cage means good mo...\n",
       "39980    remember rather enjoying years back coming aga...\n",
       "39981    british production company amicus generally kn...\n",
       "39982    ex merchant seaman really interested movie per...\n",
       "39983    given low budget production limitations movie ...\n",
       "39984    relate film failed engage either intellectuall...\n",
       "39985    comedy whats funny watching ugly deadbeat alco...\n",
       "39986    best club scenes seen long time atmosphere mes...\n",
       "39987    great memories moviei released scared bejesus ...\n",
       "39988    underrated addition graham greene cinematic ca...\n",
       "39989    walter matthau george burns work well together...\n",
       "39990    really love anything done savage steve holland...\n",
       "39991    revenge theme denzel washington thriller offer...\n",
       "39992    although agree good great movie many reasons p...\n",
       "39993    the best movie 90s the welsh trainspottingaye ...\n",
       "39994    girlfriend habit going blockbuster choosing mo...\n",
       "39995    western union something forgotten classic west...\n",
       "39996    movie incredible piece work explores every noo...\n",
       "39997    wife watched movie plan visit sicily stromboli...\n",
       "39998    first watched flatliners amazed necessary feat...\n",
       "39999    would film good gross estimated award nominati...\n",
       "Name: text, Length: 40000, dtype: object"
      ]
     },
     "execution_count": 12,
     "metadata": {},
     "output_type": "execute_result"
    }
   ],
   "source": [
    "def remove_numbers(text):\n",
    "    \n",
    "    return \" \".join([line for line in str(text).split() if not line.isdigit()])\n",
    "\n",
    "df1[\"text\"] = df1[\"text\"].apply(lambda text: remove_numbers(text))\n",
    "df1[\"text\"]"
   ]
  },
  {
   "cell_type": "markdown",
   "metadata": {},
   "source": [
    "### 5. Lemmatization"
   ]
  },
  {
   "cell_type": "code",
   "execution_count": 13,
   "metadata": {},
   "outputs": [
    {
     "data": {
      "text/plain": [
       "0        grow b watch loving thunderbird mat school wat...\n",
       "1        put movie dvd player sit coke chip expectation...\n",
       "2        people know particular time past like feel nee...\n",
       "3        even though great interest biblical movie bore...\n",
       "4        im die hard dad army fan nothing ever change t...\n",
       "5        terrible movie everyone say make laugh cameo a...\n",
       "6        finally watch shock movie last night disturb m...\n",
       "7        caught film azn cable sound like would good fi...\n",
       "8        may remake autumns tale eleven year director m...\n",
       "9        super ex girlfriend turn pleasant surprise me ...\n",
       "10       cant believe people look plot film laural hard...\n",
       "11       see gong show tv series like movie much all kn...\n",
       "12       always huge fan homicide life street heard reu...\n",
       "13       greg davis bryan daly take crazed statement te...\n",
       "14       halfhearted attempt bring elvis presley modern...\n",
       "15       want fun romp load subtle humor enjoy flicki u...\n",
       "16       really want able give film ive long think favo...\n",
       "17       main problem power feature way may pointless c...\n",
       "18       folk disney lot explain first foremost anyone ...\n",
       "19       friend tell john fante last summer get convers...\n",
       "20       ever since heard ralph bakshi version the lord...\n",
       "21       sat film say manage keep attention film would ...\n",
       "22       care people vote movie bad want truth good mov...\n",
       "23       never really understood controversy hype movie...\n",
       "24       sweet entertain tale young year old boy contro...\n",
       "25       first mention really enjoy ishii katsuhitos pr...\n",
       "26       argentinian music poet atahualpa yupanqui say ...\n",
       "27       saw film chance small box fantastic chill scen...\n",
       "28       small california town diablo plague mysterious...\n",
       "29       good see vintage film buff correctly categoriz...\n",
       "                               ...                        \n",
       "39970    thre single scorsese movie id place list favor...\n",
       "39971    mind socially retard person say show hilarious...\n",
       "39972    open foreign film like think grasp try accompl...\n",
       "39973    movie amuse time hell sometimes even downright...\n",
       "39974    jean claude van damme try rescue career make s...\n",
       "39975    could believe awful film be rarely watch comme...\n",
       "39976    de grot good film great plot come novel tim kr...\n",
       "39977    let see st elsewhere finale find hospital ever...\n",
       "39978    star rating saturday night friday night friday...\n",
       "39979    wicker man star nicolas cage mean good movie c...\n",
       "39980    remember rather enjoy year back come again won...\n",
       "39981    british production company amicus generally kn...\n",
       "39982    ex merchant seaman really interested movie per...\n",
       "39983    give low budget production limitation movie go...\n",
       "39984    relate film fail engage either intellectually ...\n",
       "39985    comedy whats funny watch ugly deadbeat alcohol...\n",
       "39986    best club scene see long time atmosphere mesme...\n",
       "39987    great memory moviei release scared bejesus me ...\n",
       "39988    underrated addition graham greene cinematic ca...\n",
       "39989    walter matthau george burn work well together ...\n",
       "39990    really love anything do savage steve holland w...\n",
       "39991    revenge theme denzel washington thriller offer...\n",
       "39992    although agree good great movie many reason po...\n",
       "39993    the best movie 90 the welsh trainspottingaye r...\n",
       "39994    girlfriend habit go blockbuster choose movie n...\n",
       "39995    western union something forgotten classic west...\n",
       "39996    movie incredible piece work explore every nook...\n",
       "39997    wife watch movie plan visit sicily stromboli s...\n",
       "39998    first watched flatliners amaze necessary featu...\n",
       "39999    would film good gross estimate award nominatio...\n",
       "Name: text, Length: 40000, dtype: object"
      ]
     },
     "execution_count": 13,
     "metadata": {},
     "output_type": "execute_result"
    }
   ],
   "source": [
    "lemmatizer = WordNetLemmatizer()\n",
    "wordnet_map = {\"N\":wordnet.NOUN, \"V\":wordnet.VERB, \"J\":wordnet.ADJ, \"R\":wordnet.ADV}\n",
    "\n",
    "def lemmatize_words(text):\n",
    "    pos_tagged_text = nltk.pos_tag(text.split())\n",
    "    return \" \".join([lemmatizer.lemmatize(word, wordnet_map.get(pos[0], wordnet.NOUN)) for word, pos in pos_tagged_text])\n",
    "\n",
    "df1[\"text\"] = df1[\"text\"].apply(lambda text: lemmatize_words(text))\n",
    "df1[\"text\"]"
   ]
  },
  {
   "cell_type": "markdown",
   "metadata": {},
   "source": [
    "# Preprocessed text review train data"
   ]
  },
  {
   "cell_type": "code",
   "execution_count": 14,
   "metadata": {
    "scrolled": true
   },
   "outputs": [
    {
     "data": {
      "text/html": [
       "<div>\n",
       "<style scoped>\n",
       "    .dataframe tbody tr th:only-of-type {\n",
       "        vertical-align: middle;\n",
       "    }\n",
       "\n",
       "    .dataframe tbody tr th {\n",
       "        vertical-align: top;\n",
       "    }\n",
       "\n",
       "    .dataframe thead th {\n",
       "        text-align: right;\n",
       "    }\n",
       "</style>\n",
       "<table border=\"1\" class=\"dataframe\">\n",
       "  <thead>\n",
       "    <tr style=\"text-align: right;\">\n",
       "      <th></th>\n",
       "      <th>text</th>\n",
       "    </tr>\n",
       "  </thead>\n",
       "  <tbody>\n",
       "    <tr>\n",
       "      <th>0</th>\n",
       "      <td>grow b watch loving thunderbird mat school wat...</td>\n",
       "    </tr>\n",
       "    <tr>\n",
       "      <th>1</th>\n",
       "      <td>put movie dvd player sit coke chip expectation...</td>\n",
       "    </tr>\n",
       "    <tr>\n",
       "      <th>2</th>\n",
       "      <td>people know particular time past like feel nee...</td>\n",
       "    </tr>\n",
       "    <tr>\n",
       "      <th>3</th>\n",
       "      <td>even though great interest biblical movie bore...</td>\n",
       "    </tr>\n",
       "    <tr>\n",
       "      <th>4</th>\n",
       "      <td>im die hard dad army fan nothing ever change t...</td>\n",
       "    </tr>\n",
       "  </tbody>\n",
       "</table>\n",
       "</div>"
      ],
      "text/plain": [
       "                                                text\n",
       "0  grow b watch loving thunderbird mat school wat...\n",
       "1  put movie dvd player sit coke chip expectation...\n",
       "2  people know particular time past like feel nee...\n",
       "3  even though great interest biblical movie bore...\n",
       "4  im die hard dad army fan nothing ever change t..."
      ]
     },
     "execution_count": 14,
     "metadata": {},
     "output_type": "execute_result"
    }
   ],
   "source": [
    "df1.head()"
   ]
  },
  {
   "cell_type": "code",
   "execution_count": 15,
   "metadata": {},
   "outputs": [
    {
     "data": {
      "text/plain": [
       "0        grow b watch loving thunderbird mat school wat...\n",
       "1        put movie dvd player sit coke chip expectation...\n",
       "2        people know particular time past like feel nee...\n",
       "3        even though great interest biblical movie bore...\n",
       "4        im die hard dad army fan nothing ever change t...\n",
       "5        terrible movie everyone say make laugh cameo a...\n",
       "6        finally watch shock movie last night disturb m...\n",
       "7        caught film azn cable sound like would good fi...\n",
       "8        may remake autumns tale eleven year director m...\n",
       "9        super ex girlfriend turn pleasant surprise me ...\n",
       "10       cant believe people look plot film laural hard...\n",
       "11       see gong show tv series like movie much all kn...\n",
       "12       always huge fan homicide life street heard reu...\n",
       "13       greg davis bryan daly take crazed statement te...\n",
       "14       halfhearted attempt bring elvis presley modern...\n",
       "15       want fun romp load subtle humor enjoy flicki u...\n",
       "16       really want able give film ive long think favo...\n",
       "17       main problem power feature way may pointless c...\n",
       "18       folk disney lot explain first foremost anyone ...\n",
       "19       friend tell john fante last summer get convers...\n",
       "20       ever since heard ralph bakshi version the lord...\n",
       "21       sat film say manage keep attention film would ...\n",
       "22       care people vote movie bad want truth good mov...\n",
       "23       never really understood controversy hype movie...\n",
       "24       sweet entertain tale young year old boy contro...\n",
       "25       first mention really enjoy ishii katsuhitos pr...\n",
       "26       argentinian music poet atahualpa yupanqui say ...\n",
       "27       saw film chance small box fantastic chill scen...\n",
       "28       small california town diablo plague mysterious...\n",
       "29       good see vintage film buff correctly categoriz...\n",
       "                               ...                        \n",
       "39970    thre single scorsese movie id place list favor...\n",
       "39971    mind socially retard person say show hilarious...\n",
       "39972    open foreign film like think grasp try accompl...\n",
       "39973    movie amuse time hell sometimes even downright...\n",
       "39974    jean claude van damme try rescue career make s...\n",
       "39975    could believe awful film be rarely watch comme...\n",
       "39976    de grot good film great plot come novel tim kr...\n",
       "39977    let see st elsewhere finale find hospital ever...\n",
       "39978    star rating saturday night friday night friday...\n",
       "39979    wicker man star nicolas cage mean good movie c...\n",
       "39980    remember rather enjoy year back come again won...\n",
       "39981    british production company amicus generally kn...\n",
       "39982    ex merchant seaman really interested movie per...\n",
       "39983    give low budget production limitation movie go...\n",
       "39984    relate film fail engage either intellectually ...\n",
       "39985    comedy whats funny watch ugly deadbeat alcohol...\n",
       "39986    best club scene see long time atmosphere mesme...\n",
       "39987    great memory moviei release scared bejesus me ...\n",
       "39988    underrated addition graham greene cinematic ca...\n",
       "39989    walter matthau george burn work well together ...\n",
       "39990    really love anything do savage steve holland w...\n",
       "39991    revenge theme denzel washington thriller offer...\n",
       "39992    although agree good great movie many reason po...\n",
       "39993    the best movie 90 the welsh trainspottingaye r...\n",
       "39994    girlfriend habit go blockbuster choose movie n...\n",
       "39995    western union something forgotten classic west...\n",
       "39996    movie incredible piece work explore every nook...\n",
       "39997    wife watch movie plan visit sicily stromboli s...\n",
       "39998    first watched flatliners amaze necessary featu...\n",
       "39999    would film good gross estimate award nominatio...\n",
       "Name: text, Length: 40000, dtype: object"
      ]
     },
     "execution_count": 15,
     "metadata": {},
     "output_type": "execute_result"
    }
   ],
   "source": [
    "df1['text']"
   ]
  },
  {
   "cell_type": "markdown",
   "metadata": {},
   "source": [
    "# Feature Extraction"
   ]
  },
  {
   "cell_type": "markdown",
   "metadata": {},
   "source": [
    "### Tfidf = Term freqeuncy - Inverse document freqeuncy"
   ]
  },
  {
   "cell_type": "markdown",
   "metadata": {},
   "source": [
    "### min-df removes terms that are less frequent in 0.15% of whole dataset"
   ]
  },
  {
   "cell_type": "markdown",
   "metadata": {},
   "source": [
    "### ngram_range takes 1 to 3 word terms as features"
   ]
  },
  {
   "cell_type": "code",
   "execution_count": 16,
   "metadata": {},
   "outputs": [],
   "source": [
    "vectorizer1 = TfidfVectorizer(ngram_range=(1,3), min_df=0.0015)"
   ]
  },
  {
   "cell_type": "code",
   "execution_count": 18,
   "metadata": {},
   "outputs": [],
   "source": [
    "fitted_vectorizer1 = vectorizer1.fit(df1[\"text\"])"
   ]
  },
  {
   "cell_type": "markdown",
   "metadata": {},
   "source": [
    "### Save extracted features for mapping"
   ]
  },
  {
   "cell_type": "code",
   "execution_count": 19,
   "metadata": {
    "scrolled": true
   },
   "outputs": [
    {
     "data": {
      "text/plain": [
       "['tfidf.joblib']"
      ]
     },
     "execution_count": 19,
     "metadata": {},
     "output_type": "execute_result"
    }
   ],
   "source": [
    "joblib.dump(fitted_vectorizer1, 'tfidf.joblib') "
   ]
  },
  {
   "cell_type": "code",
   "execution_count": 20,
   "metadata": {},
   "outputs": [],
   "source": [
    "tf = joblib.load('tfidf.joblib')"
   ]
  },
  {
   "cell_type": "code",
   "execution_count": 21,
   "metadata": {},
   "outputs": [
    {
     "name": "stdout",
     "output_type": "stream",
     "text": [
      "10267 {'grow': 3929, 'watch': 9791, 'mat': 5514, 'school': 7855, 'play': 6878, 'lunch': 5301, 'want': 9738, 'scott': 7872, 'one': 6409, 'alan': 252, 'count': 1829, 'become': 805, 'art': 534, 'form': 3405, 'take': 8862, 'child': 1426, 'see': 7921, 'movie': 5780, 'hop': 4199, 'would': 10116, 'get': 3571, 'glimpse': 3696, 'love': 5253, 'disappointing': 2205, 'high': 4117, 'point': 6933, 'snappy': 8324, 'theme': 9007, 'tune': 9404, 'could': 1788, 'compare': 1633, 'original': 6565, 'score': 7870, 'thankfully': 8979, 'early': 2386, 'saturday': 7766, 'morning': 5756, 'television': 8932, 'channel': 1339, 'still': 8568, 'series': 8056, 'anderson': 398, 'wife': 10008, 'create': 1872, 'hand': 3988, 'director': 2187, 'chair': 1328, 'version': 9639, 'completely': 1650, 'hopeless': 4206, 'waste': 9781, 'film': 3022, 'utter': 9601, 'rubbish': 7687, 'cgi': 1324, 'remake': 7471, 'may': 5529, 'acceptable': 64, 'replace': 7500, 'huge': 4255, 'error': 2616, 'judgment': 4731, 'one want': 6511, 'see movie': 7958, 'hop would': 4200, 'would get': 10136, 'high point': 4121, 'waste film': 9782, 'put': 7189, 'dvd': 2367, 'player': 6892, 'sit': 8246, 'coke': 1549, 'chip': 1434, 'expectation': 2815, 'contain': 1718, 'first': 3293, 'animation': 415, 'good': 3773, 'flow': 3364, 'story': 8609, 'excellent': 2768, 'voice': 9699, 'cast': 1273, 'funny': 3501, 'comedy': 1600, 'soundtrack': 8408, 'but': 1146, 'disappointment': 2206, 'find': 3264, 'return': 7557, 'read': 7284, 'review': 7566, 'might': 5627, 'let': 5000, 'down': 2294, 'follow': 3375, 'direct': 2181, 'enjoy': 2548, 'primarily': 7072, 'scene': 7826, 'appear': 488, 'shock': 8127, 'pick': 6837, 'local': 5164, 'or': 6552, 'whatever': 9955, 'have': 4047, 'music': 6071, 'feel': 2971, 'bad': 667, 'imitation': 4360, 'fit': 3334, 'with': 10040, 'exception': 2780, 'character': 1344, 'like': 5053, 'sweet': 8836, 'actual': 153, 'drawing': 2314, 'isnt': 4575, 'particular': 6681, 'sad': 7714, 'sight': 8200, 'storyline': 8654, 'also': 304, 'pretty': 7051, 'weak': 9865, 'three': 9143, 'episode': 2603, 'single': 8240, 'last': 4891, 'time': 9177, 'dont': 2282, 'misunderstand': 5703, 'didnt': 2153, 'laugh': 4917, 'although': 341, 'audience': 603, 'especially': 2618, 'care': 1240, 'similar': 8214, 'sequel': 8049, 'fast': 2936, 'product': 7107, 'nothing': 6289, 'else': 2471, 'do': 2256, 'suspect': 8818, 'kid': 4783, 'know': 4816, 'better': 888, 'cartoon': 1265, 'breakfast': 1058, 'tv': 9418, 'put movie': 7192, 'movie dvd': 5829, 'dvd player': 2369, 'movie would': 6011, 'first movie': 3305, 'read review': 7289, 'let down': 5002, 'see first': 7940, 'movie enjoy': 5832, 'first scene': 3315, 'feel bad': 2972, 'character like': 1365, 'also pretty': 327, 'story get': 8622, 'last time': 4901, 'movie especially': 5834, 'review movie': 7568, 'might like': 5635, 'like movie': 5083, 'still enjoy': 8571, 'enjoy movie': 2551, 'movie nothing': 5923, 'nothing else': 6291, 'might good': 5634, 'kid movie': 4785, 'movie know': 5890, 'people': 6729, 'past': 6695, 'need': 6143, 'try': 9381, 'define': 2043, 'others': 6581, 'civil': 1477, 'war': 9758, 'titanic': 9241, 'realistic': 7307, 'flick': 3353, 'formulaic': 3409, 'soap': 8334, 'opera': 6539, 'populate': 6972, 'entirely': 2596, 'trash': 9334, 'young': 10242, 'allow': 278, 'go': 3708, 'fail': 2874, 'grade': 3856, 'composition': 1659, 'ill': 4320, 'show': 8153, 'old': 6387, 'prove': 7150, 'topic': 9280, 'make': 5342, 'money': 5726, 'yeah': 10214, 'already': 300, 'that': 8981, 'thing': 9040, 'watching': 9829, 'give': 3664, 'little': 5140, 'insight': 4476, 'think': 9072, 'next': 6224, 'bar': 732, 'look': 5192, 'diane': 2146, 'lane': 4883, 'im': 4330, 'run': 7693, 'way': 9835, 'abuse': 57, 'parent': 6665, 'worthless': 10113, 'raise': 7245, 'simply': 8223, 'stick': 8566, 'mean': 5549, 'portrays': 6983, 'people know': 6743, 'feel need': 2978, 'civil war': 1478, 'soap opera': 8335, 'still make': 8582, 'make money': 5384, 'already know': 301, 'one thing': 6505, 'watching film': 9830, 'film give': 3103, 'give little': 3680, 'next time': 6228, 'time see': 9210, 'look like': 5205, 'even': 2644, 'though': 9126, 'great': 3877, 'interest': 4514, 'biblical': 898, 'bore': 1008, 'death': 2005, 'every': 2712, 'minute': 5673, 'everything': 2741, 'long': 5180, 'acting': 116, 'joke': 4714, 'script': 7886, 'horrible': 4214, 'mix': 5706, 'abraham': 43, 'together': 9254, 'value': 9613, 'sanity': 7750, 'stay': 8547, 'away': 635, 'horror': 4221, 'even though': 2678, 'movie bore': 5807, 'every minute': 2721, 'minute movie': 5678, 'movie everything': 5841, 'bad movie': 690, 'movie long': 5902, 'get point': 3626, 'stay away': 8548, 'die': 2154, 'hard': 4012, 'dad': 1942, 'army': 517, 'fan': 2908, 'ever': 2692, 'change': 1337, 'tape': 8896, 'dvds': 2372, 'brand': 1049, 'new': 6208, 'certain': 1320, 'man': 5435, 'hour': 4236, 'enemy': 2536, 'within': 10041, 'gate': 3541, 'battle': 766, 'numerous': 6327, 'different': 2159, 'edge': 2420, 'introduction': 4547, 'general': 3552, 'instead': 4490, 'captain': 1230, 'square': 8494, 'brilliant': 1073, 'move': 5775, 'cash': 1270, 'something': 8366, 'rarely': 7266, 'year': 10215, 'equipment': 2607, 'uniform': 9528, 'start': 8529, 'train': 9319, 'all': 272, 'sunday': 8765, 'afternoon': 224, 'two': 9434, 'draw': 2312, 'back': 653, 'german': 3568, 'dodgy': 2271, 'accent': 62, 'come': 1574, 'cant': 1203, 'letter': 5016, 'familiar': 2899, 'janet': 4666, 'davis': 1981, 'carry': 1261, 'correctly': 1778, 'choice': 1436, 'die hard': 2155, 'every time': 2727, 'new film': 6210, 'film film': 3094, 'film run': 3182, 'great film': 3887, 'film bore': 3048, 'come one': 1591, 'like two': 5104, 'film like': 3130, 'would better': 10124, 'terrible': 8957, 'everyone': 2735, 'say': 7782, 'cameo': 1176, 'appearance': 490, 'award': 631, 'murder': 6062, 'front': 3469, 'wall': 9728, 'sun': 8763, 'company': 1631, 'practically': 7010, 'hatred': 4045, 'complaint': 1644, 'so': 8331, 'silly': 8211, 'enough': 2564, 'add': 178, 'fuel': 3482, 'public': 7165, 'record': 7402, 'involvement': 4562, 'clearly': 1498, 'maker': 5424, 'interesting': 4522, 'mystery': 6096, 'terrible movie': 8960, 'movie everyone': 5840, 'say make': 7798, 'make laugh': 5371, 'think bad': 9075, 'finally': 3258, 'night': 6244, 'disturb': 2248, 'be': 771, 'unbelievably': 9479, 'bloody': 971, 'unforgettable': 9523, 'total': 9289, 'assault': 567, 'sens': 8028, 'mind': 5657, 'lynch': 5306, 'specifically': 8443, 'guy': 3951, 'pregnant': 7028, 'sister': 8245, 'beyond': 893, 'belief': 830, 'again': 227, 'really': 7315, 'happen': 3998, 'brain': 1045, 'leave': 4968, 'right': 7600, 'side': 8195, 'thats': 8984, 'main': 5329, 'piece': 6842, 'fine': 3281, 'line': 5122, 'fantasy': 2915, 'reality': 7309, 'dream': 2318, 'reason': 7367, 'logical': 5174, 'left': 4978, 'unbelievable': 9478, 'kind': 4796, 'absolutely': 49, 'perfect': 6769, 'totally': 9292, 'disgust': 2221, 'extreme': 2850, 'include': 4406, 'core': 1767, 'sex': 8081, 'view': 9664, 'work': 10076, 'it': 4581, 'amaze': 360, 'me': 5545, 'available': 620, 'cruelty': 1909, 'real': 7295, 'event': 2686, 'viewer': 9667, 'easily': 2399, 'forget': 3399, 'note': 6287, 'careful': 1247, 'buying': 1156, 'print': 7080, 'fog': 3372, 'graphic': 3867, 'gore': 3844, 'copy': 1764, 'japanese': 4668, 'release': 7452, 'movie last': 5892, 'last night': 4898, 'even little': 2664, 'beyond belief': 894, 'really happen': 7335, 'piece art': 6843, 'would happen': 10141, 'though movie': 9129, 'movie totally': 5990, 'ever see': 2703, 'work art': 10077, 'love it': 5262, 'try find': 9388, 'sex scene': 8082, 'ever see movie': 2706, 'caught': 1295, 'cable': 1161, 'sound': 8403, 'green': 3909, 'card': 1238, 'ive': 4632, 'dislike': 2224, 'asian': 553, 'quite': 7216, 'contrary': 1733, 'incredible': 4418, 'korean': 4856, 'john': 4705, 'woo': 10068, 'hong': 4191, 'kong': 4855, 'light': 5046, 'hearted': 4073, 'king': 4804, 'express': 2839, 'favourite': 2958, 'this': 9117, 'well': 9886, 'rather': 7270, 'drink': 2326, 'blood': 968, 'badly': 711, 'act': 89, 'steven': 8563, 'must': 6079, 'spike': 8463, 'water': 9831, 'personality': 6799, 'oppose': 6547, 'performance': 6777, 'across': 88, 'force': 3389, 'incredibly': 4419, 'fake': 2889, 'honestly': 4188, 'anyone': 453, 'person': 6795, 'genuine': 3563, 'brenda': 1064, 'amazing': 362, 'once': 6408, 'surprising': 8807, 'cbs': 1299, 'news': 6222, 'call': 1168, 'breath': 1060, 'neither': 6162, 'refresh': 7428, 'end': 2507, 'predictable': 7025, 'previous': 7064, 'reviewer': 7569, 'idiot': 4310, 'unless': 9547, 'plot': 6905, 'wooden': 10070, 'actually': 154, 'walk': 9723, 'half': 3969, 'sound like': 8405, 'like would': 5109, 'would good': 10139, 'good film': 3792, 'cant say': 1216, 'ive ever': 4634, 'film quite': 3176, 'horror film': 4223, 'film time': 3216, 'huge fan': 4256, 'hong kong': 4192, 'think would': 9112, 'would like': 10146, 'like this': 5102, 'well would': 9934, 'would rather': 10160, 'badly act': 712, 'act film': 95, 'film ever': 3076, 'one film': 6442, 'try act': 9382, 'come across': 1575, 'think anyone': 9073, 'anyone ever': 457, 'want see': 9751, 'plot line': 6916, 'actually think': 170, 'well act': 9887, 'half way': 3975, 'way film': 9842, 'tale': 8883, 'eleven': 2464, 'claim': 1481, 'employ': 2499, 'rock': 7636, 'medium': 5569, 'personal': 6797, 'attitude': 597, 'life': 5028, 'desire': 2111, 'frustration': 3479, 'significantly': 8206, 'crucial': 1906, 'role': 7646, 'best': 859, 'vehicle': 9630, 'convey': 1747, 'profound': 7119, 'sentiment': 8044, 'yet': 10233, 'inappropriate': 4398, 'utilize': 9600, 'underground': 9493, 'musician': 6077, 'intense': 4505, 'ordinary': 6559, 'focus': 3370, 'depiction': 2089, 'subtle': 8730, 'affection': 214, 'ultimate': 9468, 'vanity': 9619, 'mere': 5595, 'father': 2945, 'son': 8384, 'lover': 5276, 'friends': 3462, 'deliver': 2066, 'attempt': 591, 'true': 9370, 'screen': 7878, 'effort': 2436, 'project': 7125, 'gather': 3542, 'information': 4451, 'probably': 7088, 'far': 2916, 'blue': 977, 'mood': 5744, 'perfectly': 6774, 'father son': 2946, 'fine performance': 3285, 'true life': 9371, 'probably best': 7090, 'best performance': 874, 'performance movie': 6782, 'movie make': 5907, 'super': 8770, 'ex': 2756, 'girlfriend': 3662, 'turn': 9410, 'pleasant': 6895, 'surprise': 8802, 'expect': 2806, 'stupid': 8703, 'what': 9954, 'many': 5459, 'wonderful': 10060, 'fun': 3489, 'kick': 4782, 'of': 6363, 'cheesy': 1414, 'anna': 419, 'cool': 1759, 'steve': 8562, 'addition': 184, 'along': 295, 'much': 6028, 'friend': 3457, 'name': 6105, 'typical': 9462, 'average': 623, 'woman': 10054, 'matt': 5519, 'male': 5431, 'ask': 555, 'out': 6586, 'he': 4052, 'date': 1974, 'hero': 4103, 'world': 10091, 'jealous': 4674, 'crazy': 1870, 'girl': 3658, 'decide': 2019, 'idea': 4301, 'spend': 8451, 'apart': 477, 'jenny': 4680, 'since': 8228, 'fall': 2891, 'another': 427, 'living': 5158, 'hell': 4089, 'face': 2859, 'choose': 1438, 'break': 1056, 'effect': 2431, 'corny': 1772, 'seriously': 8059, 'quickly': 7209, 'loved': 5274, 'step': 8556, 'prime': 7074, 'cute': 1938, 'romantic': 7659, 'surprise me': 8804, 'really expect': 7327, 'horrible movie': 4216, 'would probably': 10157, 'be movie': 781, 'movie many': 5909, 'anyone could': 454, 'could get': 1801, 'get kick': 3609, 'great cast': 3881, 'like much': 5084, 'much fun': 6034, 'thats make': 8989, 'make movie': 5385, 'movie really': 5941, 'best friend': 867, 'good idea': 3800, 'spend time': 8455, 'make life': 5372, 'let face': 5003, 'face it': 2860, 'make story': 5405, 'story really': 8639, 'really work': 7363, 'fun movie': 3491, 'really take': 7357, 'take seriously': 8881, 'romantic comedy': 7660, 'think could': 9079, 'get laugh': 3612, 'laugh it': 4921, 'let face it': 5004, 'believe': 833, 'hardy': 4027, 'lighten': 5047, 'riot': 7610, 'comic': 1606, 'genius': 3558, 'today': 9249, 'ago': 233, 'filthy': 3254, 'word': 10073, 'either': 2447, 'mouth': 5774, 'able': 33, 'keep': 4760, 'stitch': 8596, 'sophisticated': 8390, 'stretch': 8673, 'grin': 3917, 'there': 9016, 'stuff': 8695, 'simple': 8219, 'without': 10044, 'guess': 3940, 'qualify': 7197, 'team': 8913, 'fortunate': 3411, 'cant believe': 1205, 'believe people': 838, 'people look': 6746, 'plot film': 6911, 'year ago': 10216, 'cant make': 1212, 'reason watch': 7372, 'amusing': 387, 'help': 4092, 'obvious': 6349, 'era': 2610, 'in': 4392, 'late': 4906, '1970s': 7, '1980s': 8, 'lot': 5233, 'chuck': 1458, 'the': 8994, 'host': 4229, 'air': 242, 'bizarre': 936, 'sort': 8396, 'list': 5133, 'them': 9006, 'heres': 4102, 'clip': 1515, 'tired': 9239, 'length': 4990, 'outside': 6599, 'segment': 8014, 'basically': 757, 'halfway': 3977, 'decent': 2015, 'actor': 126, 'rest': 7538, 'top': 9277, 'show tv': 8175, 'tv series': 9420, 'movie much': 5918, 'make great': 5367, 'great movie': 3892, 'movie give': 5868, 'thing make': 9059, 'help make': 4094, 'get lot': 3615, 'people see': 6755, 'see show': 7972, 'get see': 3631, 'see lot': 7954, 'like see': 5093, 'see tv': 7983, 'bad thing': 704, 'there lot': 9019, 'show movie': 8167, 'movie lot': 5905, 'tv show': 9421, 'get tired': 3637, 'movie story': 5968, 'story line': 8628, 'make one': 5390, 'plot point': 6919, 'way top': 9860, 'good movie': 3808, 'movie watch': 6002, 'hour half': 4238, 'want watch': 9756, 'watch minute': 9809, 'time bad': 9181, 'bad even': 678, 'even good': 2659, 'always': 346, 'homicide': 4184, 'street': 8670, 'heard': 4068, 'reunion': 7559, 'up': 9573, 'disappoint': 2202, 'powerful': 7008, 'big': 899, 'pleasure': 6900, 'andre': 400, 'relationship': 7448, 'strong': 8682, 'part': 6670, 'movie come': 5815, 'all one': 275, 'see great': 7944, 'great see': 3897, 'great show': 3898, 'ive ever see': 4635, 'greg': 3911, 'statement': 8542, 'terrorist': 8966, 'commentary': 1617, 'bunch': 1128, 'position': 6985, 'planet': 6873, 'present': 7039, 'maybe': 5538, 'involve': 4560, 'interview': 4538, 'fred': 3442, 'church': 1461, 'christianity': 1449, 'ultimately': 9469, 'suffers': 8746, 'poor': 6958, 'production': 7108, 'lack': 4870, 'attention': 595, 'basic': 754, 'standard': 8515, 'radio': 7237, 'listen': 5134, 'rush': 7703, 'couple': 1836, 'day': 1985, 'free': 3444, 'message': 5602, 'level': 5017, 'intellectual': 4501, 'analysis': 390, 'call film': 1169, 'need know': 6147, 'production value': 7111, 'waste time': 9787, 'time money': 9202, 'waste time money': 9788, 'bring': 1076, 'elvis': 2478, 'modern': 5716, 'despite': 2118, 'sexy': 8087, 'shower': 8182, 'magazine': 5321, 'subplot': 8721, 'surround': 8812, 'clichés': 1506, 'beach': 789, 'proceeds': 7102, 'seem': 7996, 'dick': 2149, 'porter': 6977, 'boss': 1018, 'song': 8385, 'almost': 284, 'loose': 5219, 'update': 9576, 'elsewhere': 2477, 'fatal': 2942, 'attraction': 600, 'bed': 808, 'board': 983, 'modern day': 5717, 'shower scene': 8183, 'try hard': 9391, 'quite good': 7220, 'get real': 3627, 'romp': 7664, 'load': 5161, 'humor': 4271, 'understand': 9498, 'dennis': 2077, 'hopper': 4209, 'mess': 5601, 'head': 4058, 'aint': 241, 'shakespeare': 8094, 'beautiful': 798, 'hold': 4162, 'opportunity': 6546, 'expand': 2805, 'navy': 6127, 'william': 10015, 'solid': 8350, 'job': 4697, 'middle': 5620, 'chase': 1402, 'kept': 4777, 'buy': 1152, 'soon': 8387, 'anyone enjoy': 456, 'one take': 6502, 'dennis hopper': 2078, 'well do': 9896, 'one good': 6451, 'get movie': 3620, 'favorite': 2949, 'four': 3422, 'batman': 765, 'and': 394, 'concerned': 1671, 'whether': 9970, 'somehow': 8357, 'remember': 7475, 'conventional': 1744, 'wisdom': 10031, 'tim': 9175, 'burton': 1136, 'superior': 8776, 'serious': 8057, 'problem': 7096, 'apologize': 481, 'small': 8305, 'direction': 2185, 'scatter': 7824, 'throughout': 9152, 'justify': 4747, 'sheer': 8111, 'style': 8707, 'flaw': 3347, 'common': 1624, 'nightmare': 6247, 'christmas': 1453, 'edward': 2429, 'anything': 467, 'begin': 814, 'strongly': 8684, 'baby': 651, 'birth': 925, 'room': 7668, 'ready': 7294, 'vomit': 9706, 'later': 4911, 'cage': 1162, 'dump': 2357, 'city': 1476, 'river': 7620, 'villain': 9674, 'danny': 1964, 'max': 5527, 'christopher': 1454, 'walken': 9726, 'evil': 2751, 'comparable': 1632, 'jack': 4647, 'plan': 6870, 'various': 9623, 'emotionally': 2493, 'secretary': 7913, 'kyle': 4864, 'michelle': 5617, 'pfeiffer': 6810, 'discover': 2212, 'rid': 7591, 'her': 4100, 'cat': 1288, 'on': 6407, 'rumor': 7692, 'exist': 2800, 'dangerous': 1961, 'scheme': 7853, 'less': 4997, 'michael': 5614, 'keaton': 4758, 'often': 6377, 'surprisingly': 8808, 'necessarily': 6138, 'id': 4293, 'more': 5752, 'too': 9275, 'origin': 6564, 'major': 5339, 'complex': 1652, 'term': 8955, 'circus': 1473, 'performer': 6784, 'theyre': 9034, 'frequently': 3451, 'never': 6175, 'learn': 4958, 'intrigue': 4542, 'freak': 3440, 'vincent': 9677, 'space': 8418, 'use': 9589, 'matter': 5520, 'hardly': 4025, 'explore': 2833, 'develop': 2133, 'feature': 2964, 'cut': 1937, 'bulk': 1120, 'course': 1842, 'barely': 736, 'dark': 1967, 'eye': 2854, 'unusually': 9571, 'bother': 1022, 'resolve': 7527, 'lunatic': 5300, 'development': 2136, 'unfortunately': 9525, 'drop': 2335, 'minor': 5669, 'decision': 2026, 'logic': 5173, 'clear': 1497, 'writer': 10201, 'sam': 7734, 'daniel': 1962, 'exactly': 2758, 'tell': 8935, 'traditional': 9313, 'dialogue': 2143, 'fairly': 2881, 'andor': 399, 'sometimes': 8381, 'blatant': 954, 'poetic': 6930, 'intention': 4509, 'directorial': 2196, 'odd': 6358, 'action': 117, 'service': 8063, 'easy': 2404, 'sum': 8758, 'positive': 6986, 'negative': 6155, 'depend': 2087, 'largely': 4888, 'transcend': 9324, 'flaws': 3349, 'insane': 4472, 'campy': 1189, 'beautifully': 802, 'eerie': 2430, 'design': 2109, 'reference': 7423, 'star': 8521, 'slight': 8291, 'aforementioned': 216, 'chocolate': 1435, 'factory': 2871, 'which': 9971, 'surreal': 8810, 'zombie': 10263, 'explicit': 2827, 'final': 3255, 'visuals': 9694, 'really want': 7361, 'give film': 3675, 'film ive': 3119, 'film again': 3027, 'always like': 350, 'film far': 3088, 'tim burton': 9176, 'direct film': 2182, 'far superior': 2923, 'help feel': 4093, 'still great': 8576, 'film especially': 3074, 'anything else': 468, 'film begin': 3044, 'christopher walken': 1456, 'way see': 9854, 'try get': 9389, 'get rid': 3629, 'go on': 3740, 'good guy': 3798, 'little film': 5143, 'character interest': 1364, 'begin film': 816, 'be watch': 787, 'say do': 7787, 'do even': 2257, 'id like': 4295, 'like know': 5077, 'story two': 8649, 'never get': 6185, 'film play': 3167, 'many scene': 5470, 'film would': 3237, 'hour long': 4240, 'far know': 2921, 'still think': 8587, 'make character': 5351, 'try tell': 9401, 'of course': 6364, 'minor character': 5670, 'anyone know': 459, 'know love': 4834, 'many way': 5473, 'production design': 7110, 'make many': 5380, 'film instead': 3115, 'star war': 8525, 'actor play': 143, 'story character': 8616, 'power': 7007, 'pointless': 6939, 'subplots': 8722, 'whatsoever': 9960, 'awhile': 647, 'around': 519, 'wait': 9718, 'connect': 1691, 'drive': 2329, 'forward': 3415, 'pass': 6689, 'recycle': 7407, 'flat': 3345, 'uninteresting': 9535, 'support': 8781, 'blossom': 973, 'concentrate': 1667, 'billing': 916, 'political': 6950, 'thriller': 9149, 'loses': 5230, 'sea': 7893, 'write': 10190, 'fact': 2864, 'consider': 1702, 'gene': 3550, 'par': 6657, 'denzel': 2082, 'washington': 9779, 'here': 4101, 'gere': 3567, 'sidney': 8198, 'seventy': 8074, 'ie': 4313, 'stop': 8604, 'success': 8736, 'angry': 408, 'men': 5585, 'safe': 7720, 'likely': 5113, 'will': 10014, 'ensemble': 2571, 'drama': 2309, 'altman': 344, 'main problem': 5333, 'absolutely nothing': 51, 'nothing movie': 6299, 'get bore': 3580, 'sit around': 8247, 'find something': 3279, 'could probably': 1813, 'character development': 1353, 'early scene': 2394, 'scene movie': 7839, 'movie simply': 5961, 'never give': 6187, 'give enough': 3674, 'enough time': 2570, 'support cast': 8783, 'could great': 1805, 'bad write': 709, 'write act': 10191, 'denzel washington': 2083, 'do much': 2262, 'much well': 6053, 'need go': 6145, 'go back': 3714, 'one man': 6470, 'folk': 3374, 'disney': 2227, 'explain': 2825, 'foremost': 3396, 'material': 5517, 'motion': 5765, 'picture': 6840, '60': 25, 'unique': 9537, 'martian': 5498, 'among': 378, 'xfiles': 10209, 'treatment': 9343, 'vision': 9688, 'et': 2631, 'close': 1520, 'encounter': 2505, 'alien': 268, 'charm': 1400, 'property': 7139, 'mainly': 5336, 'due': 2349, 'endear': 2530, 'bill': 915, 'ray': 7278, 'visitor': 9690, 'then': 9013, 'positively': 6988, 'idiotic': 4311, 'uncle': 9481, 'martin': 5499, 'sport': 8483, 'shot': 8145, 'sign': 8202, 'station': 8544, 'suppose': 8787, 'saw': 7777, 'rabbit': 7229, 'trust': 9378, 'cram': 1859, 'special': 8437, 'talk': 8887, 'suit': 8754, 'yes': 10231, 'silver': 8212, 'speak': 8431, 'hilarious': 4134, 'figure': 3017, 'sock': 8344, 'funnier': 3499, 'whenever': 9964, 'constantly': 1713, 'computer': 1663, 'jeff': 4677, 'wont': 10067, 'save': 7769, 'christine': 1452, 'brings': 1079, 'neighbor': 6158, 'lady': 4874, 'drag': 2305, 'painfully': 6643, 'dead': 1993, 'sitcom': 8251, 'hope': 4201, 'outfit': 6592, 'pray': 7014, 'live': 5153, 'fear': 2961, 'lucy': 5295, 'cg': 1323, 'drum': 2339, 'mickey': 5618, 'mouse': 5773, 'leader': 4952, 'anyone think': 462, 'would ever': 10133, 'ever make': 2700, 'make even': 5356, 'motion picture': 5766, 'back then': 659, 'make think': 5408, 'time saw': 9209, 'special effect': 8438, 'movie feature': 5852, 'summer': 8762, 'conversation': 1745, 'charles': 1397, 'author': 617, 'except': 2777, 'generation': 3555, 'earlier': 2384, 'dust': 2361, 'book': 1000, 'remain': 7469, 'novel': 6312, 'frighten': 3465, 'pose': 6984, 'masterfully': 5512, 'talented': 8885, 'experience': 2819, 'none': 6264, 'protagonist': 7145, 'virgin': 9681, 'win': 10022, 'grace': 3855, 'desperately': 2114, 'settle': 8070, 'sexual': 8084, 'wound': 10180, 'admirer': 193, 'eventually': 2690, 'bite': 933, 'touch': 9294, 'hollywood': 4171, 'adaptation': 176, 'while': 9972, 'meander': 5553, 'cinematic': 1467, 'trap': 9333, 'racism': 7233, 'heart': 4071, 'lie': 5026, 'jerk': 4682, 'other': 6580, 'schlock': 7854, 'wrong': 10205, 'except one': 2779, 'remain one': 7470, 'one favorite': 6437, 'real world': 7304, 'end film': 2514, 'matter much': 5523, 'read book': 7285, 'movie get': 5867, 'get wrong': 3644, 'ralph': 7246, 'lord': 5223, 'ring': 7608, 'wonder': 10058, 'bored': 1009, 'contemporary': 1722, 'nice': 6230, 'ever since': 2707, 'lord ring': 5224, 'finally find': 3259, 'find out': 3277, 'saw movie': 7781, 'movie three': 5986, 'three year': 9147, 'be like': 780, 'like it': 5074, 'lot good': 5238, 'good story': 3826, 'see get': 7941, 'im say': 4345, 'pretty good': 7057, 'sat': 7758, 'manage': 5445, 'awful': 642, 'future': 3516, 'industry': 4436, 'bear': 791, 'resemblance': 7519, 'impressed': 4385, 'thought': 9133, 'info': 4449, 'confusing': 1689, 'occasion': 6351, 'wish': 10035, 'miss': 5692, 'film say': 3184, 'story bad': 8612, 'cast good': 1279, 'would nice': 10154, 'get little': 3613, 'like say': 5092, 'give one': 3683, 'one miss': 6476, 'vote': 9709, 'truth': 9380, 'movie bad': 5797, 'movie every': 5839, 'thing movie': 9060, 'really get': 7330, 'get one': 3623, 'understood': 9508, 'controversy': 1740, 'hype': 4285, 'cause': 1296, 'french': 3448, 'country': 1833, 'locate': 5168, 'example': 2764, 'announce': 422, 'thoughtprovoking': 9137, 'social': 8340, 'how': 4246, 'someone': 8359, 'surely': 8796, 'blame': 950, 'generally': 3553, 'convincing': 1754, 'function': 3494, 'society': 8343, 'exact': 2757, 'vile': 9671, 'derange': 2097, 'miserable': 5685, 'introduce': 4545, 'kill': 4787, 'roommate': 7669, 'brother': 1093, 'meet': 5570, 'abandon': 30, 'travel': 9337, 'france': 3429, 'trail': 9317, 'behind': 823, 'wherever': 9969, 'expose': 2836, 'pornography': 6976, 'violence': 9679, 'through': 9151, 'indicate': 4427, 'lame': 4877, 'porno': 6975, 'please': 6898, 'pretend': 7048, 'arthouse': 538, 'filmmaking': 3248, 'swear': 8831, 'hip': 4143, 'camerawork': 1183, 'not': 6283, 'arouse': 524, 'never really': 6198, 'could ever': 1799, 'see someone': 7974, 'someone get': 8362, 'get shot': 3633, 'think much': 9098, 'another one': 434, 'everything go': 2744, 'go wrong': 3759, 'two main': 9445, 'main character': 5331, 'late night': 4909, 'sit through': 8249, 'people want': 6762, 'want make': 9748, 'movie thats': 5978, 'two main character': 9446, 'entertain': 2579, 'boy': 1038, 'control': 1738, 'overbear': 6608, 'religious': 7464, 'mother': 5763, 'retire': 7553, 'eccentric': 2411, 'tragic': 9316, 'actress': 150, 'julie': 4735, 'walter': 9732, 'rupert': 7701, 'teenage': 8926, 'talent': 8884, 'harry': 4034, 'potter': 7002, 'laura': 4931, 'strict': 8674, 'hint': 4142, 'redemption': 7413, 'theres': 9027, 'british': 1082, 'mum': 6058, 'year old': 10223, 'old boy': 6388, 'play role': 6888, 'last long': 4895, 'all film': 273, 'film entertain': 3073, 'film make': 3139, 'make well': 5418, 'mention': 5591, 'shark': 8102, 'skin': 8265, 'owe': 6625, 'debt': 2009, 'pulp': 7170, 'fiction': 3006, 'task': 8901, 'entire': 2590, 'energy': 2538, 'particularly': 6682, 'engage': 2539, 'characterization': 1392, 'utterly': 9602, 'unpredictable': 9557, 'amount': 382, 'anticipation': 444, 'party': 6687, 'enthusiasm': 2586, 'certainly': 1321, 'open': 6531, 'credit': 1881, 'stun': 8699, 'dynamic': 2377, 'exciting': 2789, 'anime': 417, 'door': 2284, 'stand': 8513, 'pocket': 6927, 'place': 6867, 'futuristic': 3517, 'paradise': 6659, 'borrow': 1016, 'bit': 927, 'agent': 231, 'office': 6372, 'third': 9114, 'used': 9593, 'seedy': 7993, 'hotel': 4233, 'seven': 8072, 'stranger': 8664, 'alltime': 281, 'favorites': 2956, 'my': 6091, 'dinner': 2178, 'excite': 2786, 'middleaged': 5623, 'discuss': 2216, 'key': 4780, 'gregory': 3912, 'wallace': 9729, 'literally': 5137, 'whine': 9974, 'no': 6253, 'flimsy': 3355, 'steal': 8550, 'accompany': 72, 'dialog': 2142, 'moment': 5722, 'build': 1117, 'internal': 4529, 'wit': 10038, 'they': 9031, 'cheese': 1413, 'imagine': 4357, 'brief': 1069, 'who': 9980, 'marvelous': 5501, 'lowkey': 5286, 'awesome': 641, 'wouldve': 10179, 'chore': 1441, 'really enjoy': 7325, 'previous film': 7065, 'pulp fiction': 7171, 'entire film': 2593, 'open credit': 6532, 'movie start': 5966, 'film take': 3205, 'take place': 8878, 'hotel room': 4234, 'nothing really': 6302, 'film one': 3160, 'one alltime': 6411, 'interest story': 4519, 'really do': 7324, 'really really': 7351, 'get idea': 3604, 'make way': 5417, 'way through': 9859, 'film take place': 3206, 'poet': 6929, 'repeat': 7497, 'similarly': 8216, 'everybody': 2732, 'history': 4153, 'hear': 4065, 'some': 8354, 'nobody': 6255, 'recognize': 7389, 'suddenly': 8743, 'poetry': 6931, 'legacy': 4980, 'spanish': 8425, 'translation': 9330, 'title': 9242, 'refuse': 7430, 'rule': 7691, 'james': 4659, 'joyce': 4726, 'irish': 4567, 'film feel': 3090, 'feel it': 2975, 'try make': 9395, 'hear it': 4066, 'say anything': 7784, 'it think': 4615, 'would call': 10125, 'chance': 1334, 'box': 1035, 'fantastic': 2914, 'chill': 1431, 'gas': 3539, 'saw film': 7778, 'california': 1167, 'town': 9305, 'plague': 6868, 'mysterious': 6094, 'sheriff': 8118, 'robert': 7630, 'ancient': 393, 'mexican': 5610, 'demon': 2074, 'vega': 9629, 'sent': 8042, 'investigate': 4554, 'join': 4712, 'mary': 5503, 'fight': 3014, 'bloodthirsty': 970, 'legend': 4982, 'absolute': 48, 'scar': 7817, 'amateurish': 359, 'aspect': 560, 'indie': 4429, 'neighborhood': 6159, 'avoid': 625, 'film lack': 3125, 'aspect film': 561, 'big fan': 904, 'vintage': 9678, 'buff': 1114, 'musical': 6074, 'pure': 7182, 'excuse': 2793, 'elaborate': 2450, 'kitty': 4809, 'lead': 4944, 'ann': 418, 'ball': 721, 'barbara': 733, 'perry': 6794, 'dorothy': 2286, 'white': 9979, 'carl': 1251, 'lend': 4989, 'undoubtedly': 9513, 'popular': 6970, 'however': 4248, 'rendition': 7489, 'reject': 7443, 'victor': 9652, 'altogether': 345, 'gag': 3523, 'cult': 1918, 'icon': 4291, 'wing': 10026, 'inspector': 4481, 'cannot': 1201, 'killer': 4793, 'instance': 4487, 'pain': 6640, 'dumb': 2354, 'member': 5581, 'cinema': 1466, 'concern': 1670, 'closeup': 1524, 'good see': 3823, 'film buff': 3050, 'dvd release': 2370, 'film be': 3042, 'steal show': 8551, 'strong performance': 8683, 'rest cast': 7539, 'could do': 1795, 'good thing': 3828, 'though would': 9132, 'would believe': 10123, 'actually go': 160, 'go great': 3729, 'via': 9646, 'deal': 2000, 'australia': 612, 'overall': 6605, 'tone': 9270, 'rightly': 7607, 'mostly': 5762, 'ham': 3982, 'embarrass': 2482, 'case': 1269, 'plain': 6869, 'weird': 9884, 'location': 5169, 'whole': 9982, 'car': 1234, 'eat': 2406, 'paris': 6666, 'hammer': 3985, 'question': 7205, 'god': 3762, 'curious': 1926, 'one actor': 6410, 'great deal': 3884, 'little boy': 5142, 'film excellent': 3082, 'really good': 7333, 'well think': 9927, 'think film': 9081, 'whole time': 9992, 'time good': 9194, 'think movie': 9097, 'movie like': 5898, 'it like': 4599, 'think like': 9093, 'divide': 2252, 'loyalty': 5288, 'obviously': 6350, 'occur': 6355, 'border': 1007, 'state': 8541, 'north': 6278, 'south': 8413, 'owen': 6626, 'moore': 5747, 'union': 9536, 'shortly': 8144, 'soldier': 8347, 'henry': 4099, 'separate': 8047, 'wanders': 9735, 'onto': 6529, 'desperate': 2113, 'supply': 8780, 'daughter': 1977, 'track': 9308, 'hide': 4115, 'girls': 3663, 'griffith': 3915, 'footage': 3384, 'humanity': 4268, 'display': 2231, 'animate': 412, 'gem': 3548, 'dog': 2273, 'heaven': 4077, 'uninspired': 9531, 'haunt': 4046, 'delightful': 2064, 'tacky': 8857, 'unimaginative': 9530, 'pro': 7087, 'charlie': 1398, 'sheen': 8109, 'tough': 9296, 'burt': 1134, 'reynolds': 7582, 'you': 10240, 'con': 1664, 'connection': 1692, 'beginning': 819, 'responsible': 7537, 'kidnap': 4786, 'orphan': 6575, 'feminine': 2992, 'whiny': 9975, 'bitchy': 932, 'generic': 3556, 'constant': 1712, 'unfunny': 9526, 'cry': 1912, 'could take': 1818, 'character go': 1360, 'tough guy': 9297, 'bring life': 1078, 'burt reynolds': 1135, 'even mention': 2667, 'new character': 6209, 'character great': 1362, 'make cry': 5353, 'favorite film': 2952, 'opinion': 6542, 'underrated': 9497, 'urban': 9585, 'gritty': 3921, 'abound': 40, 'joe': 4702, 'definitely': 2045, 'jersey': 4684, 'kinda': 4802, 'budget': 1110, 'jerry': 4683, 'bos': 1017, 'hey': 4112, 'argue': 510, 'engross': 2545, 'making': 5428, 'serve': 8062, 'highly': 4128, 'recommend': 7390, 'let say': 5010, 'opinion one': 6544, 'movie since': 5962, 'absolutely love': 50, 'love movie': 5264, 'seem like': 8002, 'lead character': 4948, 'know anything': 4817, 'believe movie': 837, 'movie probably': 5935, 'time think': 9218, 'movie big': 5805, 'big budget': 900, 'perfect movie': 6771, 'would go': 10138, 'movie great': 5871, 'great actor': 3879, 'highly recommend': 4129, 'recommend anyone': 7391, 'disaster': 2207, 'towards': 9302, 'absurd': 54, 'masterpiece': 5513, 'association': 575, 'category': 1291, 'feeling': 2981, 'cold': 1550, 'admiration': 191, 'set': 8065, 'tongue': 9271, 'gut': 3950, 'spit': 8470, 'grave': 3873, 'usually': 9599, 'fool': 3381, 'human': 4263, 'race': 7230, 'breed': 1063, 'clever': 1500, 'hollow': 4169, 'inside': 4475, 'bunny': 1130, 'foster': 3417, 'upon': 9579, 'regard': 7432, 'subject': 8715, 'grant': 3866, 'empathy': 2494, 'environment': 2601, 'decay': 2012, 'incestuous': 4401, 'behavior': 821, 'dealt': 2002, 'characteristic': 1391, 'soft': 8345, 'porn': 6974, 'donald': 2279, 'sutherland': 8828, 'ugly': 9465, 'slimy': 8294, 'portray': 6980, 'challenge': 1329, 'anybody': 450, 'couldnt': 1827, 'dirty': 2199, 'sure': 8792, 'whose': 9999, 'satisfy': 7764, 'worth': 10104, 'old guy': 6394, 'could make': 1808, 'donald sutherland': 2280, 'old man': 6396, 'sure one': 8794, 'find hard': 3270, 'hard imagine': 4017, 'enjoy film': 2549, 'film story': 3201, 'adapt': 175, 'jane': 4664, 'hitchcock': 4156, 'tube': 9403, 'inject': 4462, 'melodrama': 5577, 'quit': 7215, 'struggle': 8688, 'artist': 542, 'meg': 5572, 'wealthy': 9868, 'enigmatic': 2547, 'ellen': 2469, 'paint': 6644, 'artistic': 543, 'mysteriously': 6095, 'decease': 2013, 'superb': 8771, 'yarn': 10212, 'match': 5515, 'emotional': 2492, 'intensity': 4507, 'camp': 1185, 'stuck': 8690, 'routine': 7681, 'sequence': 8050, 'finish': 3288, 'charge': 1393, 'honest': 4187, 'anger': 406, 'betrayal': 885, 'even begin': 2646, 'one another': 6413, 'late film': 4908, 'film the': 3211, 'tail': 8861, 'hbo': 4051, 'contains': 1720, 'laughable': 4924, 'distance': 2234, 'runner': 7698, 'dedicate': 2030, 'painful': 6641, 'before': 811, 'prepare': 7034, 'defy': 2051, 'ironic': 4569, 'african': 219, 'dominate': 2277, 'elegant': 2457, 'female': 2989, 'overweight': 6622, 'class': 1486, 'competition': 1642, 'near': 6131, 'stagger': 8504, 'broken': 1087, 'leg': 4979, 'stellar': 8555, 'cripple': 1891, 'faster': 2939, 'mile': 5646, 'astonish': 579, 'inaccurate': 4395, 'portrayal': 6981, 'watchable': 9825, 'unintentional': 9532, 'hire': 4146, 'least': 4961, 'observe': 6342, 'minute so': 5679, 'must say': 6083, 'ever put': 2701, 'put film': 7190, 'film im': 3112, 'nothing could': 6290, 'well well': 9931, 'find interesting': 3271, 'near end': 6132, 'like theyre': 5100, 'director think': 2192, 'never hear': 6190, 'decide make': 2022, 'least one': 4965, 'one person': 6486, 'feminist': 2993, 'wild': 10011, 'animal': 411, 'seldom': 8016, 'tame': 8893, 'sing': 8236, 'attack': 590, 'provoke': 7153, 'hoot': 4198, 'flesh': 3352, 'ii': 4318, 'homosexuality': 4186, 'per': 6766, 'se': 7892, 'acceptance': 65, 'associate': 574, 'iii': 4319, 'virtually': 9684, 'iv': 4631, 'divorce': 2254, 'land': 4880, 'being': 827, 'adult': 202, 'alone': 293, 'unfortunate': 9524, 'tragedy': 9315, 'worthwhile': 10114, 'ideal': 4305, 'healthy': 4063, 'continue': 1729, 'responsibility': 7536, 'age': 228, 'duty': 2365, 'intimate': 4539, 'openly': 6538, 'marriage': 5490, 'essentially': 2626, 'howard': 4247, 'stern': 8561, 'fellow': 2986, 'fonda': 3379, 'electric': 2455, 'screenplay': 7882, 'share': 8101, 'lose': 5227, 'reveal': 7561, 'funeral': 3497, 'unable': 9473, 'disappointed': 2203, 'huh': 4260, 'enormous': 2563, 'inconsistency': 4412, 'screenwriter': 7883, 'lesbian': 4995, 'legal': 4981, 'assumption': 577, 'nonsense': 6268, 'merely': 5596, 'shall': 8096, 'determine': 2130, 'sole': 8348, 'occupy': 6354, 'equally': 2606, 'thus': 9165, 'penelope': 6726, 'miller': 5651, 'five': 3335, 'fulfil': 3484, 'devote': 2140, 'husband': 4281, 'upset': 9582, 'therefore': 9026, 'eager': 2380, 'kay': 4757, 'naturally': 6123, 'looked': 5216, 'college': 1561, 'flip': 3356, 'agree': 235, 'maximum': 5528, 'volume': 9704, 'repeatedly': 7498, 'despise': 2117, 'heroic': 4104, 'hat': 4039, 'notion': 6310, 'loathe': 5163, 'necessary': 6139, 'preach': 7016, 'propaganda': 7136, 'false': 2897, 'almost always': 285, 'men woman': 5586, 'far bad': 2918, 'human being': 4265, 'believe me': 836, 'go like': 3734, 'like film': 5065, 'say it': 7793, 'tell one': 8937, 'one great': 6453, 'love life': 5263, 'throughout film': 9154, 'five year': 3337, 'like try': 5103, 'look back': 5195, 'suck': 8740, 'sorry': 8394, 'felt': 2987, 'make another': 5344, 'another film': 429, 'film act': 3024, 'act bad': 92, 'movie suck': 5970, 'superman': 8777, 'richard': 7587, 'photo': 6827, 'page': 6639, 'complete': 1646, 'restore': 7543, 'situation': 8254, 'realize': 7312, 'possible': 6993, 'compete': 1640, 'thrill': 9148, 'shaky': 8095, 'text': 8975, 'home': 4178, 'alternate': 339, 'trial': 9349, 'fade': 2873, 'neat': 6136, 'alright': 303, 'fleet': 3351, 'convince': 1751, 'judge': 4729, 'visual': 9691, 'supposedly': 8790, 'tag': 8860, 'fly': 3368, 'difficult': 2166, 'issue': 4580, 'sense': 8031, 'weve': 9949, 'theatrical': 9004, 'fill': 3020, 'hole': 4166, 'shoot': 8133, 'intent': 4508, 'faithful': 2888, 'comfortable': 1605, 'extremely': 2851, 'lift': 5045, 'relatively': 7450, 'intact': 4499, 'moon': 5746, 'diner': 2177, 'ironically': 4570, 'fashion': 2935, 'honor': 4193, 'throw': 9157, 'marlon': 5489, 'brando': 1050, 'highlight': 4126, 'jump': 4739, 'delete': 2057, 'section': 7915, 'shoe': 8132, 'horn': 4211, 'nonsensical': 6269, 'narrative': 6112, 'inferior': 4444, 'sloppy': 8296, 'daily': 1944, 'jackie': 4652, 'cooper': 1760, 'clark': 1484, 'apartment': 478, 'bathroom': 764, 'initially': 4461, 'confuse': 1687, 'questionable': 7206, 'random': 7253, 'bridge': 1068, 'pride': 7070, 'admit': 195, 'extend': 2842, 'military': 5648, 'missile': 5698, 'blind': 961, 'producer': 7105, 'mistake': 5700, 'quality': 7198, 'affair': 212, 'warner': 9769, 'pay': 6711, 'bonus': 998, 'disc': 2210, 'option': 6551, 'viewing': 9668, 'legendary': 4983, 'initial': 4460, 'respect': 7530, 'bold': 991, 'relief': 7460, 'come true': 1596, 'come life': 1587, 'start watch': 8536, 'movie could': 5820, 'finally see': 3261, 'see new': 7960, 'never ever': 6181, 'visual effect': 9692, 'make sense': 5399, 'weve see': 9951, 'this one': 9120, 'one get': 6447, 'get sense': 3632, 'best scene': 877, 'else movie': 2473, 'movie film': 5856, 'know nothing': 4840, 'anything good': 469, 'it thats': 4614, 'since film': 8229, 'scene really': 7841, 'open scene': 6535, 'expect see': 2813, 'action scene': 121, 'original film': 6566, 'five minute': 3336, 'really worth': 7364, 'watch this': 9820, 'manage make': 5447, 'movie entertain': 5833, 'many year': 5474, 'film history': 3110, 'doll': 2274, 'master': 5510, 'lousy': 5251, 'somewhere': 8383, 'establish': 2627, 'genre': 3559, 'scary': 7822, 'fails': 2876, 'noise': 6258, 'crawl': 1868, 'camera': 1178, 'brilliance': 1072, 'film fall': 3086, 'film seem': 3189, 'like take': 5097, 'play film': 6880, 'story seem': 8641, 'camera shot': 1180, 'take away': 8864, 'somewhat': 8382, 'oh': 6378, 'whats': 9956, 'yourself': 10257, 'benefit': 852, 'american': 370, 'programme': 7122, 'scriptwriter': 7891, 'inspiration': 4482, 'suffer': 8745, 'sudden': 8742, 'theyd': 9032, 'cover': 1850, 'ground': 3925, 'boring': 1011, 'goodness': 3840, 'sake': 7727, 'leonard': 4994, 'fever': 3001, 'itthe': 4629, 'lookalike': 5215, 'personally': 6800, 'mark': 5486, 'him': 4139, 'hilarity': 4136, 'itself': 4628, 'thats right': 8992, 'either way': 2448, 'first three': 3323, 'saturday night': 7767, 'guy get': 3952, 'making film': 5429, 'film all': 3028, 'money make': 5728, 'wrap': 10182, 'suspense': 8821, 'type': 9459, 'mainstream': 5337, 'atmosphere': 585, 'paul': 6708, 'instinct': 4492, 'difference': 2158, 'stone': 8601, 'tiny': 9236, 'element': 2458, 'greatly': 3904, 'contribute': 1735, 'enjoyable': 2555, 'bmovie': 980, 'buildup': 1119, 'tense': 8953, 'seat': 7901, 'unexpected': 9515, 'female character': 2990, 'three main': 9145, 'main actor': 5330, 'quality movie': 7200, 'show good': 8161, 'start finish': 8531, 'movie keep': 5887, 'edge seat': 2421, 'enter': 2576, 'nowhere': 6317, 'heap': 4064, 'wong': 10066, 'glad': 3689, 'wet': 9948, 'paper': 6656, 'bag': 715, 'english': 2543, 'lee': 4977, 'fighter': 3016, 'skill': 8263, 'subpar': 8720, 'cop': 1761, 'switch': 8840, 'audio': 605, 'spare': 8427, 'misery': 5687, 'delivery': 2069, 'cinematography': 1469, 'spoil': 8477, 'price': 7068, 'admission': 194, 'jet': 4688, 'spectacular': 8445, 'notice': 6307, 'notably': 6285, 'shootout': 8135, 'market': 5487, 'matrix': 5518, 'dive': 2250, 'helicopter': 4088, 'wear': 9870, 'black': 937, 'rip': 7611, 'off': 6365, 'im sure': 4348, 'nowhere near': 6318, 'act way': 112, 'look good': 5202, 'even well': 2683, 'act skill': 108, 'already see': 302, 'see before': 7930, 'worth price': 10109, 'go it': 3732, 'worth watch': 10112, 'rest movie': 7541, 'scene seem': 7844, 'rip off': 7612, 'gray': 3876, 'march': 5479, 'beat': 794, 'loss': 5231, 'interested': 4520, 'trivial': 9363, 'group': 3927, 'unusual': 9570, 'reflection': 7426, 'perhaps': 6786, 'relevant': 7458, 'undeniably': 9489, 'strange': 8662, 'maintain': 5338, 'describe': 2103, 'york': 10238, 'unnecessarily': 9553, 'thing say': 9065, 'every aspect': 2713, 'let alone': 5001, 'see one': 7962, 'new york': 6217, 'brad': 1042, 'pitt': 6863, 'louise': 5250, 'remind': 7481, 'etc': 2632, 'nonetheless': 6266, 'effective': 2434, 'monkey': 5733, 'club': 1531, 'snatch': 8325, 'self': 8019, 'accessible': 67, 'fortunately': 3412, 'naked': 6104, 'legion': 4984, 'boot': 1005, 'second': 7902, '20th': 14, 'century': 1317, 'brad pitt': 1043, 'since saw': 8232, 'come mind': 1588, 'second part': 7907, '20th century': 15, 'documentary': 2269, 'deep': 2035, 'base': 744, 'entry': 2600, 'individual': 4432, 'important': 4378, 'nearly': 6134, 'suicidal': 8752, 'community': 1629, 'england': 2542, 'where': 9965, 'launch': 4930, 'from': 3468, 'unknown': 9545, 'horse': 4227, 'enlist': 2562, 'large': 4887, 'portion': 6978, 'ship': 8124, 'significant': 8205, 'several': 8075, 'hed': 4082, 'family': 2901, 'acquaintance': 86, 'gradually': 3857, 'limited': 5118, 'month': 5741, 'psyche': 7154, 'successful': 8737, 'psychological': 7159, 'respective': 7532, 'emotion': 2491, 'astound': 580, 'unlike': 9549, 'frustrate': 3476, 'frustrated': 3477, 'mr': 6023, 'sail': 7724, 'desert': 2106, 'rot': 7673, 'toward': 9300, 'poorly': 6962, 'hold back': 4164, 'thing like': 9057, 'story base': 8613, 'attempt make': 593, 'friend family': 3458, 'put together': 7193, 'get head': 3599, 'may make': 5533, 'toward end': 9301, 'for': 3386, 'suggest': 8750, 'million': 5652, 'movie see': 5954, 'look for': 5199, 'spectacle': 8444, 'fox': 3425, 'produce': 7104, 'roman': 7656, 'pas': 6688, 'egyptian': 2442, 'photography': 6830, 'stir': 8595, 'alfred': 264, 'newman': 6221, 'bernard': 856, 'composer': 1658, 'specific': 8442, 'principal': 7078, 'range': 7256, 'peter': 6807, 'slave': 8281, 'polish': 6949, 'rare': 7265, 'set film': 8067, 'film produce': 3172, 'find movie': 3274, 'film interest': 3116, 'social commentary': 8341, 'newspaper': 6223, 'article': 540, 'rick': 7590, 'appropriately': 500, 'clueless': 1533, 'defend': 2040, 'court': 1846, 'circumstance': 1472, 'accept': 63, 'criminal': 1889, 'fault': 2947, 'movie certainly': 5812, 'real life': 7296, 'life story': 5039, 'hard find': 4014, 'could see': 1817, 'excellent performance': 2774, 'may be': 5530, 'be one': 782, 'one find': 6443, 'sell': 8022, 'landmark': 4881, 'imagery': 4352, 'odyssey': 6362, 'journey': 4723, 'dawn': 1983, 'creation': 1874, 'rise': 7614, 'technology': 8922, 'breathtaking': 1062, 'imagination': 4355, 'collaboration': 1554, 'voyage': 9711, 'first come': 3295, 'come out': 1592, 'fall apart': 2892, 'still work': 8589, 'still good': 8575, 'order': 6557, 'witness': 10050, 'crime': 1887, 'commit': 1620, 'victim': 9651, 'thug': 9162, 'amongst': 381, 'foot': 3383, 'heel': 4083, 'brutally': 1103, 'abusive': 58, 'bad guy': 686, 'yet another': 10234, 'get away': 3574, 'run away': 7695, 'sit watch': 8250, 'watch make': 9807, 'right away': 7601, 'work way': 10087, 'way would': 9862, 'would also': 10120, 'charisma': 1394, 'chemistry': 1416, 'reallife': 7314, 'tire': 9238, 'rent': 7490, 'know movie': 4838, 'two lead': 9444, 'chance see': 1335, 'ive see': 4641, 'see time': 7982, 'time never': 9204, 'watch again': 9792, 'favor': 2948, 'dollar': 2275, 'dentist': 2080, 'root': 7670, 'childhood': 1428, 'demand': 2071, 'former': 3407, 'bully': 1124, 'over': 6603, 'squeeze': 8495, 'fry': 3480, 'linger': 5127, 'creator': 1877, 'center': 1312, 'madness': 5318, 'alex': 262, 'creepy': 1885, 'sick': 8192, 'bone': 996, 'boyfriend': 1039, 'crash': 1864, 'gay': 3543, 'ridiculous': 7596, 'business': 1141, 'explanation': 2826, 'gender': 3549, 'nut': 6330, 'well go': 9903, 'enough get': 2565, 'id say': 4299, 'say all': 7783, 'write story': 10199, 'one make': 6469, 'man get': 5436, 'order get': 6558, 'get close': 3584, 'dead man': 1996, 'three time': 9146, 'take chance': 8867, 'much else': 6031, 'slam': 8272, 'cleverly': 1501, 'perform': 6776, 'deserves': 2108, 'aware': 633, 'sally': 7730, 'phillips': 6821, 'simon': 8218, 'julian': 4734, 'hugely': 4257, 'graham': 3860, 'arthur': 539, 'ted': 8923, 'capable': 1226, 'worthy': 10115, 'time come': 9184, 'come see': 1593, 'great thing': 3900, 'fact make': 2866, 'make people': 5391, 'buy it': 1154, 'universal': 9542, 'retell': 7552, 'theory': 9014, 'structure': 8687, 'object': 6334, 'capture': 1233, 'cell': 1306, 'send': 8025, 'target': 8898, 'area': 508, 'professor': 7116, 'devil': 2138, 'his': 4147, 'assistant': 573, 'pat': 6697, 'hill': 4137, 'chris': 1446, 'mitchell': 5704, 'ronald': 7666, 'allen': 276, 'to': 9248, 'experiment': 2821, 'dutch': 2364, 'scientist': 7864, 'gordon': 3843, 'machine': 5309, 'sabotage': 7711, 'crisp': 1893, 'seek': 7995, 'revenge': 7564, 'screw': 7884, 'manages': 5449, 'security': 7917, 'de': 1991, 'lab': 4866, 'dr': 2301, 'norman': 6276, 'pair': 6648, 'rubber': 7686, 'coat': 1541, 'clown': 1530, 'himself': 4140, 'depress': 2091, 'color': 1565, 'think something': 9108, 'well end': 9897, 'also one': 325, 'film ever see': 3078, 'ability': 32, 'mediocrity': 5568, 'lower': 5285, 'turner': 9417, 'career': 1246, 'tall': 8892, 'blonde': 967, 'wide': 10004, 'convinced': 1752, 'damn': 1951, 'huston': 4282, 'rag': 7238, 'elite': 2467, 'become one': 806, 'one bit': 6423, 'act ability': 90, 'bus': 1138, 'ticket': 9167, 'preview': 7063, 'moviei': 6018, 'poster': 6997, 'subway': 8734, 'justice': 4746, 'allthe': 280, 'craft': 1857, 'heavy': 4079, 'metal': 5606, 'amazingly': 363, 'comedian': 1598, 'assume': 576, 'go home': 3731, 'give chance': 3671, 'old enough': 6389, 'film also': 3030, 'definitely worth': 2048, 'worth look': 10107, 'push': 7188, 'window': 10024, 'description': 2105, 'roll': 7653, 'refer': 7422, 'greek': 3908, 'discovers': 2213, 'poison': 6940, 'smack': 8304, 'delight': 2063, 'dan': 1953, 'seymour': 8088, 'foreign': 3393, 'police': 6945, 'chief': 1425, 'film scene': 3185, 'scene come': 7828, 'come back': 1579, 'one last': 6460, 'one love': 6467, 'many great': 5464, 'dinosaur': 2179, 'originally': 6573, 'pull': 7168, 'friday': 3454, 'abc': 31, 'week': 9879, 'gun': 3949, 'joan': 4696, 'van': 9616, 'ark': 513, 'frozen': 3474, 'circle': 1471, 'pace': 6631, 'knee': 4811, 'godzilla': 3766, 'nancy': 6109, 'wilson': 10021, 'filmthe': 3251, 'hot': 4232, 'spring': 8490, 'northern': 6279, 'japan': 4667, 'lush': 5304, 'yard': 10211, 'jungle': 4741, 'giant': 3650, 'fish': 3331, 'stream': 8668, 'fx': 3519, 'aside': 554, 'decade': 2011, 'provide': 7151, 'creature': 1878, 'miniature': 5664, 'measure': 5560, 'epic': 2602, 'theatrical release': 9005, 'friday night': 3456, 'cast include': 1281, 'lot like': 5239, 'film way': 3231, 'music score': 6072, 'fine job': 3284, 'film lot': 3136, 'the last': 8999, 'job well': 4700, 'well film': 9900, 'look film': 5198, 'ok': 6384, 'tension': 8954, 'directing': 2184, 'splendid': 8474, 'movie think': 5983, 'think ive': 9092, 'house': 4243, 'subgenre': 8714, 'talkie': 8891, 'suspicious': 8826, 'tie': 9168, 'reel': 7420, 'timethe': 9233, 'gang': 3530, 'rank': 7258, 'prison': 7082, 'meanwhile': 5559, 'colonel': 1564, 'protect': 7146, 'cost': 1782, 'irene': 4566, 'fiancée': 3005, 'ben': 849, 'angel': 403, 'promise': 7128, 'newly': 6220, 'purchase': 7181, 'mansion': 5458, 'island': 4574, 'await': 628, 'owner': 6628, 'melody': 5579, 'neighbour': 6160, 'raymond': 7279, 'ghost': 3647, 'spirit': 8468, 'corner': 1771, 'pack': 6636, 'ms': 6025, 'somebody': 8355, 'stereotype': 8559, 'pal': 6649, 'spooky': 8482, 'phantom': 6813, 'secret': 7912, 'passage': 6691, 'empty': 2501, 'danger': 1960, 'detail': 2126, 'carefully': 1248, 'frank': 3434, 'pop': 6967, 'loose end': 5220, 'take revenge': 8879, 'maybe even': 5539, 'script writer': 7890, 'movie time': 5987, 'way many': 9850, 'many time': 5472, 'say something': 7806, 'two character': 9436, 'fact think': 2869, 'get feeling': 3591, 'maybe one': 5541, 'one movie': 6478, 'movie mean': 5913, 'fun film': 3490, 'enjoy it': 2550, 'okay': 6385, 'animated': 414, 'excited': 2787, 'severely': 8080, 'toy': 9306, 'commercial': 1619, 'depth': 2094, 'heck': 4081, 'humble': 4269, 'remotely': 7486, 'creative': 1875, 'short': 8138, 'because': 804, 'ive always': 4633, 'original series': 6569, 'like one': 5087, 'kill him': 4789, 'wish could': 10036, 'could say': 1816, 'bad part': 695, 'say much': 7800, 'time show': 9212, 'season': 7900, 'variety': 9622, 'skeleton': 8260, 'closet': 1523, 'ad': 172, 'full': 3486, 'file': 3019, 'dose': 2287, 'freaky': 3441, 'twist': 9430, 'twist turn': 9432, 'good bad': 3780, 'thanks': 8980, 'smart': 8310, 'steady': 8549, 'writerdirector': 10203, 'kevin': 4778, 'likable': 5051, 'steam': 8552, 'clue': 1532, 'terrific': 8962, 'unravel': 9558, 'nick': 6238, 'thin': 9039, 'torment': 9284, 'veteran': 9644, 'smith': 8315, 'bruce': 1097, 'anne': 420, 'harris': 4031, 'plenty': 6902, 'rex': 7581, 'fire': 3290, 'role play': 7650, 'there even': 9018, 'felt like': 2988, 'vhs': 9645, 'worry': 10096, 'prefer': 7027, 'disagree': 2200, 'comment': 1613, 'enjoyment': 2560, 'austen': 610, 'bbc': 770, '80': 27, 'film could': 3058, 'people think': 6760, 'make mind': 5382, 'jane austen': 4665, 'iti': 4625, 'ruth': 7708, 'unlikely': 9551, 'forgotten': 3404, 'anytime': 472, 'promising': 7129, 'hit': 4154, 'mild': 5644, 'twisted': 9433, 'triangle': 9350, 'label': 4867, 'distraction': 2242, 'content': 1724, 'low': 5277, 'rating': 7272, 'fell': 2983, 'first all': 3294, 'appear film': 489, 'rent it': 7493, 'it want': 4616, 'want like': 9747, 'main reason': 5334, 'like something': 5096, 'leave viewer': 4974, 'be film': 776, 'film might': 3145, 'story begin': 8615, 'film felt': 3091, 'whole lot': 9986, 'lot well': 5245, 'low rating': 5283, 'airport': 246, 'plane': 6871, 'valuable': 9612, 'painting': 6647, 'belong': 843, 'rich': 7586, 'businessman': 1142, 'philip': 6819, 'stevens': 8564, 'stewart': 8565, 'estate': 2629, 'preparation': 7033, 'museum': 6070, 'chamber': 1330, 'knock': 4815, 'passenger': 6692, 'crew': 1886, 'sleep': 8284, 'strip': 8678, 'isolate': 4576, 'descent': 2102, 'oil': 6383, 'ocean': 6357, 'sink': 8243, 'bottom': 1025, 'bang': 729, 'mount': 5771, 'survivor': 8816, 'running': 7699, 'slightly': 8292, 'predecessor': 7023, 'classic': 1487, 'liked': 5111, 'just': 4745, 'cross': 1902, 'period': 6791, 'adventure': 205, 'stark': 8528, 'dilemma': 2171, 'drown': 2336, 'flood': 3360, 'unsympathetic': 9569, 'dull': 2353, 'involved': 4561, 'george': 3565, 'kennedy': 4775, 'worker': 10090, 'video': 9656, 'extra': 2846, 'flashback': 3343, 'longer': 5190, 'rescue': 7517, 'discovery': 2214, 'body': 988, 'interior': 4528, 'model': 5715, 'hall': 3978, 'shame': 8098, 'harsh': 4035, 'slow': 8297, 'excitement': 2788, 'generate': 3554, 'oscar': 6577, 'winner': 10027, 'lemmon': 4988, 'drunk': 2340, 'sir': 8244, 'bland': 951, 'james stewart': 4661, 'film see': 3188, 'see far': 7938, 'one best': 6419, 'think be': 9076, 'be even': 774, 'there something': 9024, 'even say': 2672, 'home video': 4180, 'dead body': 1994, 'three hour': 9144, 'expect film': 2808, 'lot bad': 5235, 'bad film': 680, 'act great': 97, 'jack lemmon': 4648, 'one time': 6508, 'look old': 5209, 'christopher lee': 1455, 'familiar face': 2900, 'though film': 9127, 'would like see': 10147, 'government': 3853, 'demonstrate': 2076, 'politics': 6954, 'whoever': 9981, 'cia': 1463, 'jew': 4689, 'arab': 504, 'thank': 8976, 'bin': 920, 'muddle': 6055, 'arm': 514, 'soviet': 8416, 'atrocity': 588, 'link': 5128, 'sensible': 8038, 'usual': 9598, 'flag': 3339, 'background': 662, 'praise': 7012, 'wake': 9722, 'edit': 2423, 'american movie': 373, 'movie industry': 5880, 'good even': 3789, 'thing right': 9064, 'thing do': 9045, 'film come': 3055, 'last minute': 4896, 'minute film': 5674, 'worst': 10099, 'seagal': 7894, 'killing': 4794, 'jim': 4692, 'campbell': 1187, 'partner': 6686, 'crack': 1856, 'cole': 1552, 'ritual': 7618, 'smoke': 8316, 'normal': 6274, 'dress': 2322, 'western': 9946, 'prayer': 7015, 'one one': 6482, 'one worst': 6518, 'make much': 5387, 'much sense': 6049, 'surprise see': 8805, 'kill one': 4790, 'end make': 2519, 'dress like': 2323, 'make thing': 5407, 'make much sense': 5388, 'fanatic': 2912, 'actresses': 152, 'floor': 3361, 'hank': 3996, 'forgive': 3402, 'blast': 953, 'macy': 5312, 'found': 3420, 'disco': 2211, 'appropriate': 499, 'comic book': 1607, 'go long': 3735, 'long way': 5189, 'film much': 3150, 'actor seem': 146, 'william macy': 10016, 'also like': 320, 'apparently': 486, 'partly': 6685, 'debate': 2007, 'store': 8607, '3rd': 21, 'rate': 7268, 'america': 369, 'movie release': 5944, 'couple year': 1839, 'see long': 7952, 'long time': 5187, 'performance make': 6781, 'make worth': 5422, 'one big': 6422, 'big disappointment': 903, 'high rating': 4123, 'see long time': 7953, 'league': 4955, 'football': 3385, 'thick': 9037, 'roles': 7652, '70': 26, 'manager': 5448, 'bumble': 1126, 'hang': 3994, 'united': 9540, 'unite': 9539, 'report': 7504, 'cup': 1922, 'mike': 5643, 'ho': 4159, 'escape': 2617, 'victory': 9655, 'cheer': 1411, 'eternal': 2634, 'grind': 3918, 'golden': 3770, 'terry': 8968, 'biography': 922, 'feature length': 2966, 'really bad': 7317, 'fifteen': 3010, 'potential': 7000, 'rewrite': 7580, 'ruin': 7690, 'draft': 2304, 'unanswered': 9474, 'sexually': 8086, 'attract': 599, 'cousin': 1849, 'drug': 2337, 'watch movie': 9810, 'since first': 8230, 'could good': 1804, 'script make': 7888, 'movie right': 5948, 'could write': 1826, 'write well': 10200, 'would interest': 10143, 'plot twist': 6922, 'marx': 5502, 'stinker': 8594, 'tackle': 8856, 'strangle': 8665, 'outsider': 6600, 'havoc': 4048, 'worst ive': 10101, 'much much': 6045, 'well good': 9904, 'recently': 7382, 'buck': 1106, 'garage': 3533, 'sale': 7728, 'pleasantly': 6896, 'teenager': 8928, 'whos': 9998, 'lonely': 5179, 'road': 7622, 'hook': 4195, 'luckily': 5292, 'intend': 4504, 'overlook': 6614, 'eh': 2443, 'la': 4865, 'warn': 9768, 'risk': 7615, 'setup': 8071, 'till': 9173, 'monster': 5737, 'lick': 5025, 'internet': 4533, 'buddy': 1109, 'trouble': 9367, 'conclusion': 1674, 'rainy': 7244, 'glenn': 3695, 'quinn': 7213, 'motorcycle': 5770, 'stumble': 8697, 'conveniently': 1742, 'bike': 912, 'mute': 6089, 'teen': 8925, 'retrospect': 7556, 'can': 1190, 'vaguely': 9607, 'vein': 9631, 'grab': 3854, 'popcorn': 6969, 'treat': 9341, 'nifty': 6243, 'buy movie': 1155, 'im glad': 4337, 'pleasantly surprise': 6897, 'story involve': 8626, 'character take': 1387, 'tell story': 8939, 'story story': 8645, 'nice little': 6232, 'one main': 6468, 'main story': 5335, 'two people': 9450, 'show up': 8176, 'personal favorite': 6798, 'young girl': 10247, 'still pretty': 8585, 'definitely one': 2046, 'young man': 10250, 'fall love': 2895, 'love first': 5257, 'hang around': 3995, 'really see': 7353, 'see come': 7934, 'movie rent': 5947, 'really think': 7358, 'fifth': 3012, 'potentially': 7001, 'intriguing': 4543, 'reporter': 7505, 'san': 7740, 'francisco': 3432, 'rome': 7661, 'hometown': 4183, 'inexplicably': 4441, 'namely': 6107, 'nation': 6118, 'rival': 7619, 'powell': 7006, 'heavily': 4078, 'harrow': 4033, 'sleazy': 8283, 'politician': 6953, 'trick': 9353, 'midnight': 5625, 'bum': 1125, 'enters': 2578, 'india': 4424, 'considerably': 1705, 'ive watch': 4646, 'san francisco': 7741, 'film people': 3164, 'completely different': 1651, 'type film': 9460, 'film despite': 3065, 'way get': 9843, 'get it': 3607, 'seem pretty': 8007, 'pretty much': 7059, 'make look': 5376, 'call it': 1170, 'boris': 1014, 'successfully': 8738, 'africa': 218, 'lugosi': 5297, 'expedition': 2816, 'unexpectedly': 9516, 'becomes': 807, 'spark': 8428, 'flash': 3342, 'insert': 4474, 'frankenstein': 3436, 'unaware': 9476, 'war ii': 9760, 'time also': 9179, 'classic film': 1488, 'work together': 10086, 'avid': 624, 'violent': 9680, 'exploitation': 2830, 'cannibal': 1199, 'holocaust': 4175, 'controversial': 1739, 'user': 9596, 'crap': 1861, 'notorious': 6311, 'pig': 6850, 'widely': 10005, 'hate': 4041, 'about': 41, 'status': 8546, 'pile': 6851, 'torture': 9287, 'excruciate': 2791, 'disbelief': 2209, 'garbage': 3534, 'why': 10002, 'calm': 1174, 'sicken': 8193, 'existence': 2801, 'purpose': 7185, 'hurt': 4280, 'legitimate': 4985, 'morbid': 5751, 'flower': 3365, 'gain': 3524, 'snuff': 8330, 'inform': 4450, 'fbi': 2959, 'misfortune': 5689, 'zero': 10262, 'scale': 7816, 'would never': 10153, 'user comment': 9597, 'come film': 1583, 'film however': 3111, 'piece crap': 6844, 'first film': 3297, 'say that': 7807, 'one know': 6459, 'see it': 7947, 'waste money': 9785, 'story even': 8619, 'even want': 2681, 'one three': 6507, 'thats it': 8988, 'film show': 3194, 'many people': 5469, 'people actually': 6730, 'girl play': 3661, 'good actor': 3777, 'make film': 5359, 'film look': 3134, 'thing film': 9048, 'anyone would': 465, 'film turn': 3223, 'one bad': 6414, 'one bad film': 6415, 'bad film ever': 681, 'possibly': 6994, 'food': 3380, 'anyway': 473, 'redundant': 7416, 'only': 6527, 'university': 9544, 'campus': 1188, 'cheap': 1405, 'illustrate': 4329, 'awfully': 646, 'subtly': 8732, 'neil': 6161, 'hamilton': 3983, 'performs': 6785, 'rat': 7267, 'tradition': 9312, 'spielberg': 8462, 'jaw': 4671, 'obnoxious': 6338, 'dean': 2003, 'corps': 1775, 'everywhere': 2747, 'hysterically': 4288, 'grotesque': 3924, 'climax': 1511, 'invade': 4548, 'ceremony': 1319, 'terribly': 8961, 'descend': 2101, 'atrocious': 587, 'genuinely': 3564, 'influence': 4447, 'sleaze': 8282, 'atmospheric': 586, 'junk': 4743, 'revolve': 7575, 'italian': 4620, 'terror': 8965, 'modest': 5718, 'glover': 3705, 'recent': 7380, 'could possibly': 1812, 'think good': 9086, 'good old': 3810, 'lot fun': 5237, 'fun watch': 3493, 'character say': 1379, 'stuff like': 8696, 'cant get': 1208, 'get enough': 3588, 'quite lot': 7222, 'surprisingly good': 8809, 'spends': 8457, 'visible': 9687, 'williams': 10017, 'sympathetic': 8846, 'identify': 4308, 'sympathize': 8847, 'warmth': 9767, 'dignity': 2170, 'invisible': 4558, 'shadow': 8091, 'consequence': 1699, 'watch film': 9800, 'interest see': 4518, 'see much': 7959, 'black man': 940, 'much film': 6033, 'support character': 8784, 'film nothing': 3156, 'critic': 1894, 'expert': 2823, 'she': 8107, 'till end': 9174, 'hope see': 4203, 'see something': 7975, 'interesting movie': 4525, 'bad performance': 697, 'common sense': 1625, 'first thing': 3321, 'thing come': 9043, 'next day': 6225, 'film find': 3095, 'dragon': 2306, 'dread': 2316, 'pirate': 6858, 'assign': 570, 'clean': 1496, 'corruption': 1781, 'catch': 1289, 'fate': 2944, 'chinese': 1433, 'secure': 7916, 'sympathy': 8848, 'revolutionary': 7574, 'sadly': 7718, 'gangster': 3531, 'punch': 7175, 'chan': 1333, 'stunt': 8702, 'entertaining': 2581, 'forgettable': 3401, 'along way': 297, 'movie saw': 5949, 'fight scene': 3015, 'lot people': 5242, 'jackie chan': 4653, 'funny moment': 3505, 'good act': 3774, 'straight': 8657, 'nature': 6124, 'trade': 9310, 'holly': 4170, 'international': 4530, 'law': 4937, 'suicide': 8753, 'tear': 8914, 'useful': 9594, 'adopt': 198, 'condition': 1676, 'endure': 2535, 'image': 4351, 'represent': 7506, 'horrendous': 4213, 'offensive': 6369, 'traffic': 9314, 'film move': 3148, 'actually see': 169, 'scene involve': 7835, 'like watch': 5105, 'film actually': 3026, 'something would': 8379, 'would suggest': 10169, 'save money': 7774, 'kiss': 4807, 'barrymore': 743, 'happy': 4008, 'act well': 113, 'well really': 9921, 'really like': 7338, 'movie go': 5869, 'go see': 3746, 'debbie': 2008, 'sue': 8744, 'knight': 4814, 'imitate': 4359, 'cheat': 1407, 'practice': 7011, 'tony': 9274, 'hughes': 4259, 'answer': 438, 'bust': 1143, 'bud': 1108, 'confront': 1685, 'invite': 4559, 'weekend': 9881, 'surf': 8797, 'eventual': 2689, 'heroin': 4105, 'aussie': 609, 'high school': 4124, 'action take': 123, 'rock roll': 7638, 'early 80': 2388, 'current': 1928, 'happens': 4005, 'humiliate': 4270, 'sean': 7896, 'pie': 6841, 'bo': 982, 'advantage': 204, 'johnny': 4710, 'luke': 5299, 'duke': 2352, 'crappy': 1863, 'jackass': 4650, 'lovable': 5252, 'jessica': 4686, 'simpson': 8224, 'catherine': 1292, 'daisy': 1945, 'southern': 8415, 'own': 6627, 'as': 548, 'gorgeous': 3845, 'itll': 4627, 'rerun': 7516, 'ill give': 4322, 'go good': 3728, 'good first': 3793, 'well see': 9924, 'seem take': 8010, 'show great': 8162, 'target audience': 8899, 'american pie': 374, 'character portray': 1376, 'take advantage': 8863, 'also get': 312, 'beautiful woman': 801, 'grow up': 3930, 'would play': 10156, 'would do': 10129, 'wonderful job': 10062, 'say movie': 7799, 'feel like': 2976, 'like get': 5067, 'big screen': 908, 'wash': 9778, 'pitiful': 6862, 'native': 6120, 'bird': 924, 'park': 6667, 'belongs': 844, 'useless': 9595, 'system': 8851, 'toilet': 9256, 'construction': 1715, 'client': 1508, 'tank': 8894, 'convict': 1749, 'everything film': 2743, 'act awful': 91, 'act talent': 110, 'whole film': 9984, 'commit suicide': 1621, 'official': 6374, 'after': 222, 'science': 7860, 'feat': 2963, 'homer': 4182, 'relate': 7444, 'mental': 5588, 'cliche': 1502, 'rapidly': 7263, 'stereotypical': 8560, 'improvement': 4390, 'selfish': 8021, 'beauty': 803, 'rebellious': 7377, 'combine': 1573, 'intelligence': 4502, 'brood': 1089, 'lastly': 4905, 'believable': 832, 'glass': 3694, 'costume': 1786, 'account': 76, 'dare': 1965, 'magical': 5324, 'find film': 3267, 'science fiction': 7861, 'open door': 6533, 'film tv': 3224, 'tv movie': 9419, 'character could': 1351, 'good look': 3804, 'would make': 10151, 'set design': 8066, 'wrong movie': 10206, 'movie worth': 6009, 'worth see': 10110, 'one could': 6427, 'could never': 1810, 'cannot believe': 1202, 'say this': 7811, 'dare say': 1966, 'majority': 5341, 'tend': 8950, 'lean': 4956, 'artsy': 545, 'imaginative': 4356, 'reminiscent': 7484, 'ford': 3392, 'wherein': 9967, 'showcase': 8180, 'magnificent': 5326, 'readily': 7292, 'peak': 6719, 'ala': 251, 'natural': 6122, 'offer': 6370, 'technique': 8921, 'sensual': 8041, 'depict': 2088, 'lost': 5232, 'temple': 8943, 'mesmerize': 5600, 'appreciate': 495, 'romeo': 7662, 'juliet': 4736, 'finale': 3257, 'different movie': 2162, 'film offer': 3158, 'least bit': 4962, 'would take': 10170, 'doubt': 2290, 'greatest': 3903, 'filmmaker': 3247, 'truly': 9374, 'needle': 6152, 'vast': 9625, 'pool': 6957, 'marine': 5483, 'revive': 7571, 'study': 8694, 'countless': 1832, 'reef': 7418, 'whale': 9953, 'beneath': 851, 'wave': 9833, 'entirety': 2597, 'regret': 7437, 'without doubt': 10045, 'doubt one': 2291, 'never see': 6200, 'see anyone': 7927, 'recommend watch': 7399, 'one early': 6430, 'year see': 10224, 'quite well': 7227, 'regret it': 7438, 'directs': 2197, 'soso': 8400, 'butcher': 1147, 'district': 2247, 'marry': 5493, 'married': 5491, 'prostitute': 7143, 'importance': 4377, 'quote': 7228, 'eg': 2438, 'serial': 8054, 'one day': 6428, 'second one': 7906, 'everything else': 2742, 'original idea': 6567, 'television series': 8933, 'first time': 3324, 'ken': 4774, 'animate film': 413, 'im really': 4344, 'film there': 3212, 'wonderful performance': 10064, 'perhaps one': 6789, 'must see': 6084, 'see people': 7964, 'film ever make': 3077, 'film ive see': 3121, 'memory': 5584, 'touching': 9295, 'gamble': 3528, 'earth': 2397, 'tick': 9166, 'spy': 8492, 'ridicule': 7595, 'soul': 8401, 'anyways': 474, 'remember watch': 7479, 'movie friend': 5862, 'never watch': 6206, 'never saw': 6199, 'really love': 7341, 'still get': 8574, 'thought movie': 9134, 'bring back': 1077, 'get kill': 3610, 'get money': 3619, 'family film': 2902, 'film watch': 3230, 'movie kid': 5888, 'make believe': 5348, 'think im': 9090, 'im go': 4338, 'would recommend': 10162, 'recommend movie': 7395, 'movie anyone': 5795, 'would recommend movie': 10163, 'recommend movie anyone': 7396, 'david': 1979, 'christie': 1450, 'same': 7736, 'well movie': 9916, 'do one': 2263, 'know do': 4821, 'could use': 1823, 'especially like': 2620, 'cant remember': 1215, 'remember movie': 7476, 'think so': 9107, 'would much': 10152, 'nine': 6249, 'frame': 3428, 'sneak': 8326, 'mountain': 5772, 'prisoner': 7083, 'uncover': 9486, 'wagon': 9717, 'peck': 6721, 'fabulous': 2858, 'movie first': 5858, 'still remember': 8586, 'black white': 941, 'happy end': 4009, 'take back': 8865, 'see since': 7973, 'know would': 4852, 'earn': 2395, 'nomination': 6262, 'red': 7408, 'button': 1151, 'kelly': 4773, 'nominate': 6260, 'lloyd': 5160, 'ace': 81, 'troop': 9365, 'prejudice': 7029, 'cultural': 1920, 'oscar nomination': 6578, 'best support': 879, 'support actor': 8782, 'lead actor': 4945, 'get marry': 3618, 'soon find': 8388, 'find love': 3273, 'time film': 9188, 'movie well': 6004, 'well worth': 9932, 'well worth watch': 9933, 'corporation': 1774, 'lone': 5177, 'assassin': 565, 'cusack': 1933, 'alike': 270, 'method': 5609, 'spiritual': 8469, 'blank': 952, 'spoiler': 8478, 'grip': 3919, 'conscience': 1696, 'fair': 2879, 'credible': 1880, 'dozen': 2300, 'relative': 7449, 'ease': 2398, 'quirky': 7214, 'parody': 6669, 'consideration': 1706, 'affect': 213, 'citizen': 1474, 'satire': 7761, 'shell': 8114, 'torn': 9285, 'private': 7084, 'trait': 9322, 'slum': 8302, 'sidekick': 8197, 'journalist': 4722, 'russian': 7706, 'herself': 4108, 'scream': 7877, 'gotta': 3851, 'half dozen': 3970, 'rest film': 7540, 'even think': 2677, 'be suppose': 785, 'movie end': 5831, 'fat': 2941, 'ass': 564, 'taste': 8902, 'mom': 5721, 'basement': 752, 'trek': 9345, 'overboard': 6610, 'anymore': 452, 'nothing well': 6305, 'bad taste': 703, 'star trek': 8524, 'oh god': 6379, 'good show': 3825, 'try put': 9396, 'carrey': 1259, 'wind': 10023, 'duo': 2359, 'prof': 7112, 'forty': 3414, 'alec': 260, 'baldwin': 720, 'aaron': 29, 'latter': 4916, 'billy': 918, 'annoy': 423, 'bias': 896, 'memorable': 5582, 'jim carrey': 4693, 'last one': 4899, 'it even': 4586, 'film funny': 3100, 'thought would': 9135, 'would be': 10121, 'movie good': 5870, 'guy make': 3955, 'fall flat': 2894, 'time seem': 9211, 'seem try': 8012, 'it film': 4588, 'someone else': 8361, 'way spend': 9856, 'foundation': 3421, 'mar': 5477, 'weave': 9873, 'seemingly': 8013, 'straightforward': 8659, 'student': 8691, 'path': 6699, 'someday': 8356, 'film many': 3141, 'great story': 3899, 'attention detail': 596, 'view film': 9665, 'sander': 7743, 'select': 8017, 'ignorant': 4316, 'dramatic': 2310, 'predator': 7022, 'versus': 9641, 'frequent': 3450, 'reading': 7293, 'hunt': 4277, 'result': 7546, 'hybrid': 4283, 'realise': 7305, 'sooner': 8389, 'coherent': 1545, 'strictly': 8675, 'suspend': 8819, 'collect': 1557, 'wood': 10069, 'damage': 1948, 'hug': 4254, 'comical': 1609, 'movement': 5779, 'redneck': 7414, 'edgy': 2422, 'scenario': 7825, 'site': 8252, 'feeble': 2969, 'nerdy': 6167, 'beaten': 795, 'nasty': 6115, 'jock': 4701, 'scottish': 7873, 'research': 7518, 'pc': 6716, 'smile': 8313, 'demise': 2073, 'storytelling': 8655, 'bright': 1071, 'post': 6996, 'exploitative': 2831, 'gratuitous': 3872, 'hospital': 4228, 'scare': 7818, 'souls': 8402, 'scifi': 7865, 'amateur': 358, 'civilian': 1479, 'survive': 8815, 'would see': 10165, 'well make': 9913, 'something go': 8369, 'part film': 6671, 'get really': 3628, 'mile away': 5647, 'return home': 7558, 'happen next': 4001, 'film plot': 3168, 'people go': 6740, 'go get': 3725, 'teenage girl': 8927, 'kill them': 4792, 'character film': 1356, 'see well': 7985, 'depression': 2093, 'reeve': 7421, 'chuckle': 1459, 'progress': 7123, 'upper': 9580, 'dance': 1955, 'warm': 9766, 'resolution': 7526, 'character develop': 1352, 'period piece': 6792, 'matter fact': 5522, 'want get': 9740, 'really need': 7346, 'thing start': 9068, 'the big': 8995, 'time take': 9217, 'think one': 9100, 'time like': 9198, 'one also': 6412, 'accident': 68, 'rude': 7689, 'childrens': 1430, 'snow': 8328, 'comparison': 1635, 'well know': 9908, 'young kid': 10248, 'character well': 1388, 'could watch': 1824, 'classic movie': 1490, 'make want': 5415, 'want give': 9741, 'net': 6171, 'goat': 3761, 'burn': 1132, 'inmate': 4466, 'doom': 2283, 'one wonder': 6516, 'would even': 10132, 'piece trash': 6847, 'worst film': 10100, 'drake': 2308, 'examples': 2765, 'celluloid': 1308, 'exquisite': 2841, 'admire': 192, 'cheaply': 1406, 'forever': 3398, 'appal': 483, 'see film': 7939, 'come close': 1580, 'movie disappoint': 5827, 'whole movie': 9987, 'seem go': 8000, 'go forever': 3724, 'disgrace': 2219, 'shameless': 8099, 'pg13': 6812, 'approach': 498, 'now': 6315, 'frankly': 3438, 'properly': 7138, 'execute': 2794, 'chaos': 1340, 'unnecessary': 9554, 'cartoonish': 1266, 'ultra': 9470, 'deliberate': 2058, 'dismiss': 2226, 'roger': 7642, 'ebert': 2410, 'entertainment': 2583, 'argument': 511, 'arnold': 518, 'virtue': 9685, 'speech': 8447, 'twelve': 9422, 'empire': 2498, 'understandable': 9503, 'mayor': 5544, 'tom': 9263, 'addict': 182, 'agenda': 230, 'impossible': 4383, 'infamous': 4442, 'mad': 5313, 'moral': 5748, 'psycho': 7158, 'acknowledge': 85, 'zoom': 10266, 'grim': 3916, 'maniac': 5451, 'surprised': 8806, 'friendly': 3461, 'ol': 6386, 'strike': 8676, 'deny': 2081, 'underused': 9509, 'urge': 9586, 'stable': 8498, 'anchor': 392, 'film really': 3179, 'go say': 3744, 'begin end': 815, 'whats go': 9957, 'character see': 1380, 'would work': 10176, 'subject matter': 8716, 'well guess': 9905, 'might well': 5641, 'like good': 5069, 'good action': 3776, 'action film': 118, 'entertainment value': 2584, 'actor make': 140, 'like go': 5068, 'go film': 3722, 'scene scene': 7842, 'every one': 2723, 'one kind': 6458, 'character act': 1345, 'comic relief': 1608, 'thats say': 8993, 'say lot': 7796, 'old film': 6391, 'kill people': 4791, 'child actor': 1427, 'action movie': 120, 'it know': 4598, 'know much': 4839, 'see quite': 7966, 'good well': 3835, 'also great': 315, 'one scene': 6493, 'try take': 9400, 'character would': 1389, 'really make': 7342, 'pretty funny': 7056, 'reason give': 7369, 'adaption': 177, 'beloved': 845, 'smooth': 8318, 'slick': 8289, 'heist': 4086, 'bean': 790, 'aim': 240, 'unsure': 9567, 'visit': 9689, 'lawyer': 4939, 'complain': 1643, 'chicken': 1424, 'chain': 1325, 'neck': 6141, 'annoyed': 425, 'ash': 549, 'humour': 4273, 'twice': 9426, 'recognise': 7386, 'timing': 9234, 'subtlety': 8731, 'clooney': 1519, 'meryl': 5598, 'streep': 8669, 'murray': 6068, 'creep': 1884, 'distinctive': 2238, 'mixed': 5707, 'awkward': 648, 'eyeball': 2856, 'film truly': 3221, 'well enough': 9898, 'im still': 4347, 'bit much': 929, 'hope get': 4202, 'get good': 3596, 'instead get': 4491, 'voice act': 9700, 'meryl streep': 5599, 'end credit': 2509, 'like he': 5072, 'little bit': 5141, 'character look': 1367, 'one two': 6510, 'people still': 6757, 'well let': 9910, 'let see': 5011, 'never mind': 6195, 'movie pretty': 5934, 'pretty bad': 7052, 'love one': 5266, 'premier': 7030, 'texas': 8972, 'boredom': 1010, '2nd': 18, '4th': 23, 'reach': 7281, 'inner': 4467, 'old movie': 6397, 'past year': 6696, 'punk': 7178, 'spoof': 8481, 'knew': 4812, 'tap': 8895, 'band': 727, 'reform': 7427, 'wander': 9734, 'promptly': 7132, 'gruesome': 3936, 'opening': 6537, 'overuse': 6621, 'hardcore': 4023, 'prospect': 7142, 'bowl': 1034, 'soup': 8409, 'manner': 5457, 'watcher': 9828, 'warp': 9773, 'tour': 9298, 'subtitle': 8729, 'magic': 5323, 'sword': 8841, 'anywhere': 475, 'otherwise': 6582, 'bomb': 994, 'finish watch': 3289, 'im big': 4332, 'low budget': 5278, 'video camera': 9657, 'end really': 2522, 'really movie': 7344, 'movie be': 5800, 'get old': 3622, 'death scene': 2006, 'movie part': 5928, 'big problem': 907, 'problem movie': 7099, 'sound quality': 8406, 'bottom line': 1026, 'line movie': 5125, 'anywhere near': 476, 'comedy film': 1602, 'film although': 3031, 'rent movie': 7494, 'watch first': 9801, 'first minute': 3304, 'it watch': 4617, 'still like': 8578, 'music video': 6073, 'im big fan': 4333, 'imdb': 4358, 'massive': 5509, 'consequently': 1700, 'fond': 3378, 'opposite': 6548, 'by': 1159, 'objective': 6335, 'film must': 3152, 'life film': 5031, 'film simply': 3195, 'say really': 7804, 'really be': 7319, 'would find': 10135, 'kind film': 4797, 'keep watch': 4771, 'watch time': 9821, 'time time': 9219, 'time year': 9229, 'bond': 995, 'limit': 5116, 'reasonable': 7373, 'redeem': 7410, 'credibility': 1879, 'connery': 1693, 'double': 2289, 'counterpart': 1831, 'spectator': 8446, 'albeit': 255, 'flavor': 3346, 'alter': 338, 'sean connery': 7897, 'realism': 7306, 'farrell': 2930, 'ranch': 7251, 'slice': 8288, 'west': 9945, 'make interesting': 5369, 'see big': 7932, 'see life': 7949, 'life back': 5029, 'vampire': 9614, 'evident': 2749, 'everyones': 2740, 'undead': 9488, 'accord': 75, 'cake': 1165, 'meat': 5561, 'shrink': 8187, 'resemble': 7520, 'slapstick': 8274, 'caricature': 1250, 'consist': 1708, 'boys': 1041, 'collection': 1558, 'blend': 959, 'pale': 6651, 'bounty': 1031, 'hunter': 4278, 'incorporate': 4414, 'bullet': 1122, 'shoddy': 8131, 'continuity': 1730, 'plod': 6904, 'solve': 8353, 'tool': 9276, 'gotten': 3852, 'habit': 3963, 'nemesis': 6164, 'skip': 8267, 'showdown': 8181, 'obtain': 6348, 'cancer': 1194, 'game': 3529, 'ice': 4290, 'seal': 7895, 'ups': 9581, 'meant': 5557, 'pity': 6864, 'jesus': 4687, 'christ': 1447, 'spent': 8458, 'makeup': 5426, 'blade': 944, 'underworld': 9512, 'you know': 10241, 'cast crew': 1276, 'film never': 3154, 'ever watch': 2709, 'director try': 2193, 'save grace': 7772, 'evil dead': 2752, 'bad story': 702, 'want laugh': 9746, 'action flick': 119, 'online': 6526, 'premise': 7032, 'danish': 1963, 'tried': 9354, 'galaxy': 3526, 'wipe': 10029, 'proceed': 7100, 'juvenile': 4749, 'remove': 7487, 'strangely': 8663, 'crude': 1907, 'nudity': 6324, 'film think': 3213, 'thats really': 8991, 'film minute': 3146, 'minute long': 5677, 'decide give': 2020, 'give try': 3686, 'stop watch': 8606, 'ever heard': 2699, 'way movie': 9851, 'movie leave': 5895, 'thing ever': 9047, 'trilogy': 9356, 'architect': 506, 'reverse': 7565, 'opponent': 6545, 'revolution': 7573, 'betray': 884, 'knife': 4813, 'stab': 8497, 'guys': 3959, 'evidently': 2750, 'last movie': 4897, 'something like': 8372, 'like first': 5066, 'nothing new': 6301, 'work like': 10082, 'sergeant': 8052, 'shine': 8123, 'persona': 6796, 'wayne': 9863, 'johnson': 4711, 'carey': 1249, 'jr': 4727, 'guide': 3944, 'valley': 9611, 'territory': 8964, 'strand': 8661, 'medicine': 5565, 'outlaw': 6593, 'basis': 758, 'strength': 8671, 'substantial': 8726, 'cowboy': 1853, 'string': 8677, 'presence': 7038, 'elder': 2451, 'convert': 1746, 'impeccable': 4370, 'wise': 10032, 'darling': 1971, 'willing': 10019, 'recall': 7378, 'nevertheless': 6207, 'weapon': 9869, 'innocent': 4469, 'dispose': 2232, 'policy': 6948, 'john ford': 4708, 'box office': 1036, 'john wayne': 4709, 'work with': 10089, 'year earlier': 10219, 'probably would': 7095, 'four year': 3423, 'could easily': 1797, 'film do': 3068, 'whole idea': 9985, 'people like': 6744, 'world war': 10092, 'film try': 3222, 'try say': 9398, 'world war ii': 10093, 'miniseries': 5667, 'loosely': 5221, 'besides': 858, 'faint': 2878, 'gentle': 3561, 'harold': 4030, 'confrontation': 1686, 'accuse': 80, 'puppet': 7179, 'onedimensional': 6523, 'embarrassingly': 2484, 'shallow': 8097, 'intelligent': 4503, 'gift': 3652, 'extraordinary': 2848, 'loneliness': 5178, 'ignore': 4317, 'relation': 7447, 'statue': 8545, 'exaggerate': 2760, 'shin': 8122, 'setting': 8069, 'insightful': 4477, 'youth': 10258, 'friendship': 3463, 'fascinating': 2933, 'deserve': 2107, 'true story': 9373, 'almost year': 292, 'loosely base': 5222, 'could go': 1803, 'give credit': 3673, 'always think': 355, 'take time': 8882, 'time could': 9185, 'depth character': 2095, 'badly write': 713, 'actor try': 147, 'make best': 5349, 'best role': 876, 'one really': 6490, 'one cant': 6424, 'character study': 1385, 'story would': 8652, 'much good': 6036, 'much story': 6050, 'merit': 5597, 'travesty': 9338, 'inspired': 4485, 'loyal': 5287, 'turkey': 9407, 'inane': 4397, 'custom': 1935, 'canadian': 1192, 'victoria': 9653, 'phony': 6826, 'tax': 8906, 'pit': 6860, 'dismal': 2225, 'endless': 2533, 'signal': 8203, 'finance': 3262, 'filmed': 3243, 'tonight': 9273, 'ghastly': 3645, 'beast': 793, 'table': 8853, 'flee': 3350, 'frantic': 3439, 'flight': 3354, 'banal': 726, 'sweat': 8832, 'possibility': 6992, 'tomato': 9266, 'even like': 2663, 'film perhaps': 3166, 'trust me': 9379, 'far well': 2924, 'second time': 7908, 'see even': 7936, 'even bad': 2645, 'might even': 5630, 'even find': 2654, 'bride': 1067, 'crush': 1911, 'wed': 9876, 'fiancé': 3004, 'psychic': 7157, 'concept': 1669, 'studio': 8693, 'corporate': 1773, 'satirical': 7762, 'farce': 2925, 'ensure': 2575, 'fuzzy': 3518, 'absurdity': 55, 'drab': 2302, 'indeed': 4420, 'thoroughly': 9123, 'inept': 4437, 'lifeless': 5042, 'eva': 2641, 'parker': 6668, 'lake': 4875, 'bell': 840, 'jason': 4670, 'year later': 10221, 'could turn': 1821, 'film well': 3232, 'well write': 9935, 'possibly bad': 6995, 'know exactly': 4822, 'sight gag': 8201, 'hilariously': 4135, 'crawford': 1867, 'jackson': 4654, 'baker': 717, 'village': 9672, 'trigger': 9355, 'taxi': 8907, 'bump': 1127, 'reaction': 7283, 'driver': 2333, 'manhattan': 5450, 'bob': 986, 'evans': 2642, 'abortion': 39, 'could think': 1820, 'find way': 3280, 'mine': 5661, 'when': 9963, 'truck': 9369, 'explode': 2828, 'like guy': 5071, 'get hit': 3601, 'horror genre': 4225, 'well like': 9911, 'horror movie': 4226, 'movie even': 5835, 'one go': 6450, 'classical': 1491, 'concert': 1672, 'tree': 9344, 'lap': 4885, 'nearby': 6133, 'pathetic': 6700, 'another reviewer': 435, 'even call': 2648, 'call movie': 1171, 'never even': 6180, 'director would': 2194, 'could find': 1800, 'cant imagine': 1211, 'rating movie': 7273, 'make bad': 5347, 'know good': 4827, 'reason see': 7371, 'someone make': 8364, 'program': 7121, 'summary': 8761, 'attend': 594, 'comprehend': 1660, 'senseless': 8036, 'shooting': 8134, 'overwhelm': 6623, 'shed': 8108, 'end movie': 2520, 'really know': 7337, 'know expect': 4823, 'come away': 1578, 'away movie': 638, 'movie feel': 5853, 'also give': 313, 'little good': 5146, 'come term': 1594, 'beverly': 891, 'theater': 9002, 'los': 5225, 'angeles': 405, 'hopefully': 4205, 'eric': 2612, 'co': 1538, 'orson': 6576, 'welles': 9938, 'incoherent': 4409, 'ramble': 7248, 'warrior': 9776, 'nerd': 6166, 'embarrassed': 2483, 'blow': 974, 'similarity': 8215, 'ernest': 2613, 'linda': 5121, 'yell': 10228, 'giggle': 3654, 'thunder': 9164, 'one them': 6504, 'los angeles': 5226, 'would think': 10171, 'expect something': 2814, 'along line': 296, 'actor look': 139, 'best thing': 880, 'movie play': 5932, 'complete waste': 1648, 'time even': 9186, 'sit back': 8248, 'film present': 3169, 'time well': 9226, 'complete waste time': 1649, 'pretentious': 7050, 'profile': 7117, 'alcoholic': 259, 'nicholas': 6236, 'bath': 763, 'someone would': 8365, 'young woman': 10254, 'know why': 4851, 'jon': 4716, 'jealousy': 4675, 'tommy': 9267, 'martha': 5495, 'sentence': 8043, 'thumb': 9163, 'movie excellent': 5842, 'one top': 6509, 'favorite actor': 2950, 'story movie': 8633, 'disregard': 2233, 'source': 8411, 'mythology': 6101, 'predictably': 7026, 'delivers': 2068, 'illogical': 4327, 'european': 2640, 'worse': 10097, 'originality': 6572, 'blur': 979, 'mimic': 5655, 'recognizable': 7388, 'afford': 215, 'word describe': 10074, 'source material': 8412, 'see yet': 7990, 'notable': 6284, 'debut': 2010, 'sandra': 7745, 'bullock': 1123, 'ludicrous': 5296, 'incomprehensible': 4411, 'stink': 8593, 'laughably': 4925, 'panic': 6654, 'blink': 962, 'slide': 8290, 'onscreen': 6528, 'vocal': 9698, 'recipe': 7383, 'suspension': 8823, 'downright': 2299, 'decides': 2025, 'butterfly': 1150, 'search': 7899, 'hundred': 4274, 'subsequent': 8723, 'advice': 209, 'steer': 8554, 'iq': 4563, 'sandra bullock': 7746, 'one might': 6474, 'total lack': 9290, 'might seem': 5638, 'sound effect': 8404, 'know he': 4829, 'film go': 3104, 'go well': 3755, 'suspension disbelief': 8824, 'play like': 6884, 'never find': 6183, 'film may': 3142, 'bam': 724, 'dude': 2348, 'leaf': 4954, 'homeless': 4181, 'mexico': 5611, 'movie people': 5929, 'story go': 8623, 'come from': 1584, 'man kill': 5438, 'thing know': 9056, 'end story': 2526, 'tell people': 8938, 'rent buy': 7491, 'even watch': 2682, 'time life': 9197, 'comedic': 1599, 'dry': 2342, 'racial': 7232, 'lay': 4940, 'any': 449, 'staple': 8520, 'editor': 2425, 'motivation': 5768, 'rhyme': 7583, 'watch many': 9808, 'movie take': 5973, 'good one': 3811, 'one that': 6503, 'scene make': 7838, 'make feel': 5357, 'though one': 9130, 'two actor': 9435, 'never make': 6194, 'sense humor': 8033, 'predict': 7024, 'dillon': 2172, 'go happen': 3730, 'slow pace': 8300, 'story could': 8617, 'reserve': 7522, 'fresh': 3452, 'prince': 7076, 'randy': 7255, 'al': 249, 'first off': 3306, 'young brother': 10245, 'even know': 2661, 'one star': 6500, 'plausible': 6877, 'shy': 8190, 'increase': 4416, 'gory': 3847, 'slasher': 8276, 'do many': 2260, 'time before': 9182, 'throughout movie': 9155, 'slasher flick': 8278, 'invention': 4551, 'favour': 2957, 'silence': 8207, 'lamb': 4876, 'coma': 1570, 'psychologist': 7160, 'jennifer': 4679, 'tunnel': 9405, 'horrify': 4220, 'leap': 4957, 'serial killer': 8055, 'film get': 3102, 'like kind': 5076, 'kind thing': 4800, 'whole thing': 9991, 'ever do': 2694, 'story tell': 8648, 'ambition': 367, 'eddie': 2417, 'april': 502, 'trashy': 9335, 'coin': 1547, 'brian': 1065, 'stephen': 8557, 'louis': 5249, 'resident': 7523, 'advance': 203, 'busy': 1145, 'operation': 6541, 'stalk': 8508, 'breathe': 1061, 'amanda': 357, 'witch': 10039, 'automatically': 619, 'phone': 6824, 'overthetop': 6619, 'whore': 9997, 'courtesy': 1847, 'nyc': 6333, 'unconvincing': 9485, 'reasonably': 7374, 'bow': 1033, 'noteworthy': 6288, 'time get': 9191, 'get job': 3608, 'way long': 9847, 'good part': 3813, 'bad act': 668, 'walk around': 9724, 'around like': 521, 'screen time': 7880, 'one way': 6513, 'totally different': 9293, 'one side': 6498, 'make point': 5393, 'garden': 3535, 'technicolor': 8920, 'correct': 1777, 'sharp': 8103, 'us': 9587, 'one first': 6445, 'also use': 335, 'film whole': 3233, 'say film': 7788, 'film worth': 3236, 'candle': 1196, 'pin': 6854, 'voodoo': 9708, 'pierce': 6849, 'worship': 10098, 'spice': 8460, 'crowd': 1904, 'ugh': 9464, 'echo': 2412, 'minus': 5672, 'tea': 8910, 'reek': 7419, 'remark': 7472, 'theyve': 9036, 'unwatchable': 9572, 'one ive': 6457, 'make love': 5379, 'fast forward': 2937, 'something happen': 8371, 'really hard': 7336, 'moment movie': 5724, 'get bit': 3579, 'one woman': 6515, 'keep get': 4763, 'film end': 3071, 'might find': 5632, 'catholic': 1293, 'florida': 3363, 'vacation': 9605, 'scared': 7820, 'jail': 4656, 'deputy': 2096, 'detective': 2128, 'rape': 7261, 'bare': 735, 'chest': 1419, 'lip': 5131, 'reminds': 7483, 'lowbudget': 5284, 'frankie': 3437, 'motive': 5769, 'movie basically': 5799, 'end get': 2515, 'get trouble': 3639, 'later on': 4914, 'one girl': 6448, 'decide go': 2021, 'take look': 8872, 'movie cant': 5811, 'much less': 6038, 'best part': 872, 'different character': 2160, 'part movie': 6674, 'bad end': 676, 'money back': 5727, 'ten': 8946, 'halfhour': 3976, 'defies': 2042, 'guarantee': 3937, 'theatre': 9003, 'people give': 6739, 'give movie': 3681, 'would give': 10137, 'bad way': 707, 'way like': 9846, 'best movie': 869, 'low expectation': 5282, 'interest movie': 4517, 'sense all': 8032, 'brought': 1095, 'movie one': 5926, 'release year': 7454, 'good end': 3787, 'saint': 7726, 'aunt': 608, 'would love': 10149, 'also look': 321, 'make like': 5373, 'surface': 8798, 'storm': 8608, 'chop': 1439, 'pour': 7004, 'rain': 7243, 'menace': 5587, 'contrive': 1737, 'overly': 6615, 'awful movie': 645, 'want say': 9750, 'thank god': 8977, 'something make': 8375, 'itthis': 4630, 'shatter': 8104, 'liar': 5020, 'defense': 2041, 'attorney': 598, 'jury': 4744, 'guilty': 3946, 'wanna': 9736, 'differently': 2165, 'thing good': 9051, 'good acting': 3775, 'center around': 1313, 'young son': 10253, 'make movie like': 5386, 'movie like this': 5900, 'bucket': 1107, 'rouse': 7679, 'karate': 4752, 'chorus': 1444, 'stage': 8502, 'anticipate': 443, 'eagerly': 2381, 'impact': 4369, 'number': 6325, 'superbly': 8772, 'cattle': 1294, 'audition': 606, 'jazz': 4673, 'film release': 3180, 'story move': 8632, 'dance number': 1956, 'say im': 7792, 'film star': 3198, 'hard work': 4022, 'see story': 7976, 'trailer': 9318, 'betty': 889, 'samuel': 7738, 'shout': 8151, 'at': 583, 'guitar': 3948, 'justin': 4748, 'mentally': 5590, 'disturbed': 2249, 'he good': 4056, 'well play': 9920, 'anyone else': 455, 'else would': 2475, 'visually': 9693, 'pleased': 6899, 'pacing': 6634, 'angle': 407, 'organize': 6562, 'religion': 7463, 'creates': 1873, 'destroy': 2123, 'promote': 7130, 'decency': 2014, 'immediately': 4363, 'exit': 2802, 'nod': 6256, 'realizes': 7313, 'collective': 1559, 'slowly': 8301, 'device': 2137, 'robot': 7635, 'succeed': 8735, 'split': 8476, 'accomplish': 73, 'good good': 3797, 'camera angle': 1179, 'movie seem': 5955, 'one character': 6425, 'get make': 3616, 'entire movie': 2595, 'movie let': 5896, 'let get': 5006, 'cant think': 1222, 'it look': 4600, 'pick up': 6838, 'well get': 9902, 'back life': 657, 'would seem': 10166, 'retard': 7550, 'achieve': 82, 'boll': 992, 'ashamed': 550, 'uwe': 9603, 'scene could': 7829, 'give star': 3685, 'like people': 5088, 'me movie': 5547, 'time waste': 9222, 'movie definitely': 5823, 'symbolism': 8845, 'discussion': 2217, 'proper': 7137, 'headache': 4059, 'never come': 6178, 'movie there': 5981, 'plot character': 6907, 'there nothing': 9021, 'nothing good': 6293, 'good point': 3816, 'watch even': 9798, 'even worth': 2684, 'worth time': 10111, 'time really': 9208, 'go buy': 3718, 'everything movie': 2745, 'movie without': 6006, 'presentation': 7041, 'pg': 6811, 'make good': 5364, 'require': 7515, 'pilot': 6852, 'eastern': 2402, 'recover': 7403, 'doug': 2292, 'mission': 5699, 'fully': 3488, 'aircraft': 244, 'package': 6637, 'round': 7678, 'outright': 6597, 'slim': 8293, 'ryan': 7710, 'iron': 4568, 'hard believe': 4013, 'time movie': 9203, 'air force': 243, 'movie find': 5857, 'would least': 10145, 'attempt get': 592, 'see thing': 7979, 'several time': 8077, 'movie also': 5790, 'next scene': 6227, 'plot hole': 6914, 'see good': 7943, 'movie deal': 5822, 'force watch': 3390, 'scenery': 7850, 'tremendous': 9346, 'jimmy': 4694, 'plus': 6925, 'officer': 6373, 'first saw': 3312, 'opinion movie': 6543, 'movie still': 5967, 'like end': 5062, 'small role': 8308, 'decent job': 2017, 'would look': 10148, 'im surprise': 4349, 'highly recommend movie': 4130, 'first saw movie': 3314, 'crystal': 1913, 'julia': 4733, 'mislead': 5691, 'repress': 7509, 'mindless': 5659, 'above': 42, 'decide watch': 2023, 'say love': 7797, 'film sure': 3204, 'play well': 6889, 'find one': 3276, 'thing would': 9071, 'one good thing': 6452, 'go see it': 3748, 'network': 6173, 'cancel': 1193, 'span': 8424, 'insult': 4496, 'cringe': 1890, 'spew': 8459, 'mud': 6054, 'reward': 7579, 'garner': 3536, 'president': 7043, 'temper': 8942, 'laughter': 4929, 'deliberately': 2059, 'guest': 3942, 'poke': 6941, '21st': 16, 'hysterical': 4287, 'brown': 1096, 'spouse': 8486, 'chat': 1404, 'field': 3008, 'integrity': 4500, 'stoner': 8602, 'professional': 7115, 'executive': 2796, 'foolish': 3382, 'central': 1314, 'retain': 7549, 'franchise': 3430, 'talk show': 8890, 'make audience': 5346, 'united state': 9541, 'poke fun': 6942, 'first two': 3326, '21st century': 17, 'it would': 4619, 'would really': 10161, 'would become': 10122, 'curtis': 1932, 'competent': 1641, 'shave': 8105, 'degree': 2054, 'innocence': 4468, 'commentator': 1618, 'stock': 8597, 'cook': 1757, 'welcome': 9885, 'carol': 1256, 'lauren': 4934, 'noir': 6257, 'conveys': 1748, 'look little': 5206, 'come home': 1586, 'character actor': 1346, 'musical number': 6075, 'movie however': 5876, 'screen presence': 7879, 'cast also': 1274, 'film noir': 3155, 'ninety': 6250, 'substance': 8725, 'proud': 7149, 'county': 1835, 'plunge': 6924, 'flynn': 3369, 'boyle': 1040, 'walsh': 9730, 'command': 1610, 'grand': 3862, 'run time': 7696, 'would well': 10175, 'stumble upon': 8698, 'job play': 4698, 'central character': 1315, 'excellent job': 2772, 'lead role': 4951, 'and course': 395, 'second half': 7904, 'half film': 3971, 'character get': 1358, 'part it': 6672, 'sung': 8766, 'if': 4314, 'drunken': 2341, 'millionaire': 5654, 'butler': 1148, 'academy': 60, 'waitress': 9721, 'familys': 2906, 'fortune': 3413, 'seinfeld': 8015, 'wellwritten': 9941, 'theme song': 9010, 'get catch': 3581, 'york city': 10239, 'really great': 7334, 'academy award': 61, 'performance film': 6779, 'film best': 3045, 'best know': 868, 'new york city': 6218, 'warden': 9763, 'miracle': 5680, 'brave': 1052, 'importantly': 4381, 'staff': 8500, 'rivet': 7621, 'very': 9642, 'screening': 7881, 'themselves': 9011, 'courage': 1840, 'react': 7282, 'grateful': 3871, 'oz': 6629, 'everyone else': 2736, 'movie say': 5950, 'nothing short': 6303, 'able see': 36, 'let tell': 5013, 'tell you': 8941, 'people could': 6733, 'never forget': 6184, 'six': 8255, 'time ago': 9178, 'find it': 3272, 'get something': 3634, 'long time ago': 5188, 'observation': 6341, 'overnight': 6616, 'clint': 1513, 'videos': 9660, 'posse': 6989, 'actor like': 138, 'real people': 7298, 'work class': 10078, 'scientific': 7863, 'do film': 2258, 'film maker': 3140, 'great job': 3891, 'specie': 8441, 'stamp': 8510, 'briefly': 1070, 'hair': 3967, 'strain': 8660, 'lightning': 5049, 'awe': 640, 'speed': 8448, 'winter': 10028, 'could tell': 1819, 'could come': 1794, 'would great': 10140, 'those': 9125, 'blunt': 978, 'honesty': 4190, 'inflict': 4446, 'attractive': 601, 'contestant': 1726, 'le': 4943, 'horribly': 4217, 'unoriginal': 9555, 'reality show': 7310, 'may think': 5536, 'people watch': 6763, 'first episode': 3296, 'well say': 9922, 'end one': 2521, 'one may': 6472, 'show even': 8155, 'be still': 784, 'reader': 7291, 'superhero': 8775, 'trip': 9358, 'blair': 947, 'applause': 492, 'stiller': 8590, 'austin': 611, 'loser': 5229, 'movie quite': 5937, 'quite time': 7226, 'film good': 3105, 'blair witch': 948, 'final scene': 3256, 'funny line': 3504, 'definitely recommend': 2047, 'movie although': 5791, 'good cast': 3782, 'cast great': 1280, 'advertise': 206, 'goer': 3767, 'skeptical': 8261, 'asleep': 559, 'wouldnt': 10178, 'wasnt': 9780, 'check': 1408, 'funny movie': 3506, 'would actually': 10118, 'actually be': 156, 'think go': 9085, 'it go': 4593, 'saw it': 7780, 'movie always': 5792, 'go movie': 3738, 'movie open': 5927, 'open mind': 6534, 'movie funny': 5865, 'movie ive': 5884, 'see many': 7957, 'bad movie ive': 693, 'movie ive ever': 5885, 'sketch': 8262, 'hyde': 4284, 'thrown': 9159, 'few': 3002, 'exercise': 2797, 'armstrong': 516, 'way back': 9836, 'night live': 6245, 'character play': 1374, 'take one': 8876, 'write movie': 10195, 'thats bad': 8985, 'thing get': 9049, 'story good': 8624, 'idea make': 4303, 'film waste': 3229, 'could give': 1802, 'embrace': 2486, 'freeman': 3446, 'fame': 2898, 'mass': 5507, 'gold': 3768, 'purely': 7183, 'feelgood': 2980, 'confirm': 1683, 'film last': 3126, 'walk away': 9725, 'funny scene': 3509, 'scene film': 7833, 'laugh hard': 4920, 'line film': 5123, 'film true': 3220, 'entertaining film': 2582, 'feel movie': 2977, 'heartwarming': 4075, 'gear': 3545, 'population': 6973, 'mature': 5526, 'really liked': 7339, 'liked movie': 5112, 'movie something': 5964, 'know something': 4845, 'would definitely': 10128, 'recommend see': 7398, 'blockbuster': 964, 'movie sure': 5972, 'great act': 3878, 'movie become': 5801, 'movie maker': 5908, 'mediocre': 5567, 'tack': 8855, 'although movie': 343, 'bad horror': 687, 'well much': 9917, 'twist end': 9431, 'im sorry': 4346, 'film bad': 3039, 'devoid': 2139, 'hackneyed': 3965, 'toss': 9288, 'movie completely': 5818, 'bit like': 928, 'one think': 6506, 'keep think': 4768, 'get bad': 3576, 'mad scientist': 5314, 'bad one': 694, 'one would': 6520, 'hungry': 4276, 'bottle': 1024, 'nonstop': 6270, 'miraculously': 5681, 'block': 963, 'safely': 7721, 'anyone want': 463, 'nice movie': 6233, 'allure': 282, 'vary': 9624, 'judy': 4732, 'previously': 7066, 'charlotte': 1399, 'impress': 4384, 'ally': 283, 'quiet': 7211, 'presume': 7047, 'speaks': 8435, 'jones': 4718, 'understanding': 9505, 'russell': 7704, 'tender': 8952, 'mercy': 5594, 'always find': 347, 'good reason': 3818, 'it still': 4611, 'course film': 1843, 'small part': 8307, 'part one': 6675, 'film high': 3108, 'later film': 4912, 'thing it': 9053, 'film great': 3106, 'great actress': 3880, 'actor great': 137, 'see work': 7987, 'witty': 10051, 'andrew': 401, 'marshall': 5494, 'occasionally': 6353, 'cheerful': 1412, 'simplistic': 8222, 'curse': 1930, 'shop': 8136, 'character show': 1382, 'dark side': 1968, 'every character': 2715, 'human emotion': 4266, 'get hold': 3602, 'robin': 7631, 'stuart': 8689, 'increasingly': 4417, 'underdog': 9492, 'election': 2454, 'corrupt': 1780, 'fix': 3338, 'upcoming': 9575, 'behold': 826, 'declare': 2028, 'complication': 1655, 'arise': 512, 'stole': 8599, 'robin williams': 7633, 'one show': 6497, 'need get': 6144, 'young lady': 10249, 'big surprise': 910, 'know really': 4844, 'go far': 3721, 'sarcastic': 7756, 'woody': 10071, 'horizon': 4210, 'widescreen': 10006, 'reputation': 7513, 'lyric': 5307, 'repetitive': 7499, 'apparent': 484, 'criticism': 1896, 'liv': 5152, 'olivia': 6404, 'dub': 2344, 'brilliantly': 1075, 'speaking': 8434, 'lovely': 5275, 'mankind': 5455, 'apt': 503, 'choreography': 1443, 'bobby': 987, 'comment film': 1614, 'ive never': 4638, 'never able': 6176, 'special mention': 8439, 'even see': 2673, 'time try': 9221, 'try watch': 9402, 'relies': 7461, 'monotonous': 5735, 'philosophical': 6822, 'sample': 7737, 'movie character': 5813, 'never go': 6188, 'go end': 3720, 'movie about': 5781, 'care much': 1245, 'maybe im': 5540, 'surgery': 8800, 'kitchen': 4808, 'quibble': 7207, 'symbol': 8843, 'apology': 482, 'sometime': 8380, 'mistress': 5702, 'customer': 1936, 'fascinate': 2932, 'pleasure watch': 6901, 'see love': 7955, 'like me': 5082, 'watch the': 9819, 'look great': 5203, 'recommend it': 7394, 'emily': 2488, 'watson': 9832, 'amuse': 385, 'everett': 2711, 'shockingly': 8130, 'ingredient': 4454, 'infinitely': 4445, 'entitle': 2598, 'remarkably': 7474, 'voiceover': 9701, 'jar': 4669, 'arc': 505, 'perception': 6768, 'grate': 3870, 'steel': 8553, 'illness': 4326, 'nurse': 6329, 'crave': 1865, 'wifes': 10009, 'joy': 4724, 'manipulate': 5452, 'im huge': 4340, 'much more': 6043, 'love triangle': 5271, 'small budget': 8306, 'kind like': 4798, 'another man': 432, 'love story': 5270, 'way much': 9852, 'much time': 6051, 'work well': 10088, 'act like': 99, 'ring true': 7609, 'even take': 2676, 'middle age': 5621, 'alive': 271, 'fourth': 3424, 'enthral': 2585, 'regular': 7439, 'pattern': 6707, 'depart': 2084, 'meeting': 5571, 'pot': 6999, 'improve': 4389, 'nervous': 6169, 'two year': 9456, 'watch every': 9799, 'every episode': 2717, 'turn around': 9411, 'something good': 8370, 'cliché': 1504, 'cox': 1855, 'earnest': 2396, 'dane': 1959, 'casting': 1285, 'priceless': 7069, 'wow': 10181, 'cameos': 1177, 'princess': 7077, 'lead man': 4950, 'fell love': 2985, 'even more': 2668, 'anyone like': 460, 'condemn': 1675, 'priest': 7071, 'patrick': 6705, 'reprise': 7510, 'lewis': 5018, 'famous': 2907, 'nicely': 6235, 'thats exactly': 8986, 'exactly like': 2759, 'guilty pleasure': 3947, 'movie include': 5879, 'still look': 8580, 'cast member': 1282, 'also well': 336, 'obsess': 6343, 'terminator': 8956, 'watched': 9826, 'continually': 1728, 'tasteless': 8903, 'hooked': 4196, 'one night': 6481, 'movie star': 5965, 'watch it': 9804, 'find new': 3275, 'thing go': 9050, 'go bad': 3715, 'story one': 8636, 'movie ever': 5836, 'certainly one': 1322, 'one favourite': 6440, 'film start': 3199, 'action sequence': 122, 'ever film': 2695, 'film everything': 3081, 'funny part': 3508, 'may seem': 5535, 'seem little': 8003, 'still one': 8584, 'well actor': 9889, 'actor act': 127, 'maybe thats': 5542, 'thats good': 8987, 'anyone see': 461, 'applaud': 491, 'sincerity': 8235, 'liberal': 5021, 'cardboard': 1239, 'activity': 125, 'refugee': 7429, 'irrelevant': 4572, 'dreadful': 2317, 'unreal': 9559, 'ear': 2382, 'facility': 2863, 'yearn': 10226, 'sixty': 8257, 'point view': 6938, 'act even': 94, 'still cant': 8570, 'cant stand': 1219, 'people talk': 6759, 'really nothing': 7348, 'go show': 3750, 'recruit': 7405, 'colin': 1553, 'collins': 1563, 'matthew': 5525, 'wisely': 10034, 'movie show': 5960, 'war film': 9759, 'like make': 5080, 'job portray': 4699, 'never think': 6205, 'film movie': 3149, 'movie year': 6013, 'make look like': 5377, 'taut': 8905, 'alexander': 263, 'nazis': 6129, 'nominated': 6261, 'bitter': 934, 'consume': 1716, 'guilt': 3945, 'enjoyed': 2558, 'movie movie': 5917, 'story well': 8650, 'nothing make': 6297, 'tight': 9171, 'contract': 1732, 'dallas': 1946, 'lethal': 5015, 'impend': 4371, 'mail': 5328, 'dictate': 2151, 'luck': 5291, 'ride': 7593, 'subsequently': 8724, 'murderous': 6065, 'pursuit': 7187, 'robber': 7627, 'nicolas': 6240, 'typically': 9463, 'ample': 384, 'enhance': 2546, 'morris': 5759, 'rapid': 7262, 'he also': 4053, 'million dollar': 5653, 'well cast': 9892, 'great character': 3882, 'plot development': 6908, 'duration': 2360, 'wesley': 9944, 'would say': 10164, 'film cant': 3052, 'cant wait': 1224, 'mason': 5505, 'underwater': 9510, 'awaken': 630, 'submarine': 8718, 'aid': 239, 'defeat': 2039, 'emerge': 2487, 'don': 2278, 'mask': 5504, 'rant': 7259, 'aboard': 37, 'embarrassment': 2485, '1960s': 6, 'invest': 4553, 'sub': 8712, 'mel': 5574, 'reduce': 7415, 'choppy': 1440, 'know film': 4824, 'first view': 3327, 'film feature': 3089, 'title character': 9243, 'second film': 7903, 'never seem': 6202, 'seem much': 8005, 'film obviously': 3157, 'one episode': 6433, 'gibson': 3651, 'darn': 1972, 'guy play': 3956, 'review film': 7567, 'worst movie': 10102, 'make go': 5363, 'straight video': 8658, 'every time see': 2728, 'worst movie ever': 10103, 'movie ever make': 5837, 'should': 8149, 'speaker': 8433, 'elephant': 2461, 'whom': 9995, 'born': 1015, 'mildly': 5645, 'considerable': 1704, 'impressive': 4387, 'half movie': 3973, 'well first': 9901, 'tower': 9304, 'superficial': 8773, 'tolerance': 9261, 'recognition': 7387, 'reflect': 7425, 'ourselves': 6585, 'quick': 7208, 'banter': 731, 'toe': 9253, 'phrase': 6831, 'uplift': 9577, 'check out': 1409, 'film production': 3173, 'may find': 5531, 'something new': 8376, 'patricia': 6704, 'overact': 6604, 'tolerable': 9260, 'hes': 4109, 'penny': 6728, 'great work': 3902, 'overall film': 6606, 'teeth': 8930, 'equivalent': 2608, 'walker': 9727, 'wannabe': 9737, 'racist': 7234, 'theyll': 9033, 'film several': 3192, 'ill never': 4323, 'never know': 6191, 'go way': 3754, 'there one': 9022, 'like old': 5086, 'know well': 4848, 'read line': 7287, 'tolerate': 9262, 'plastic': 6875, 'muscle': 6069, 'bleed': 958, 'really stupid': 7356, 'still alive': 8569, 'funny thing': 3510, 'thing could': 9044, 'really cant': 7320, 'execution': 2795, 'cue': 1916, 'tribe': 9351, 'plant': 6874, 'teach': 8911, 'squad': 8493, 'conquer': 1694, 'outcome': 6588, 'triumph': 9361, 'injure': 4463, 'civilization': 1480, 'kingdom': 4805, 'adequate': 188, 'vague': 9606, 'freedom': 3445, 'unintentionally': 9533, 'bug': 1116, 'hippie': 4144, 'homosexual': 4185, 'conflict': 1684, 'lace': 4869, 'climactic': 1510, 'goodbye': 3838, 'horrific': 4219, 'handle': 3992, '13th': 0, 'brit': 1080, 'douglas': 2293, 'letdown': 5014, 'physical': 6833, 'profanity': 7113, 'film set': 3191, 'many level': 5465, 'machine gun': 5310, 'unintentionally funny': 9534, 'movie look': 5903, 'go beyond': 3717, 'give away': 3667, 'keep film': 4762, 'without much': 10049, 'many thing': 5471, 'technical': 8918, 'columbia': 1568, 'lightweight': 5050, 'feed': 2970, 'jesse': 4685, 'randolph': 7252, 'lavish': 4936, 'historical': 4151, 'treasure': 9340, 'economy': 2414, 'railroad': 7242, 'rob': 7626, 'bank': 730, 'rogers': 7644, 'willie': 10018, 'edgar': 2419, 'morgan': 5754, 'wizard': 10052, 'ton': 9269, 'indian': 4425, 'explosive': 2835, 'romance': 7657, 'static': 8543, 'claire': 1482, 'leather': 4967, 'pant': 6655, 'wwii': 10208, 'also star': 333, 'several year': 8078, 'plot element': 6910, 'old friend': 6392, 'want go': 9742, 'go straight': 3752, 'best ever': 865, 'big star': 909, 'go wind': 3756, 'two young': 9457, 'young actor': 10243, 'ever get': 2696, 'make it': 5370, 'take care': 8866, 'know im': 4830, 'erotic': 2614, 'stake': 8506, 'passion': 6693, 'domestic': 2276, 'slash': 8275, 'billion': 917, 'capital': 1229, 'anthony': 441, 'yawn': 10213, 'publicity': 7166, 'china': 1432, 'policeman': 6947, 'needless': 6153, 'quietly': 7212, 'ha': 3961, 'poor man': 6960, 'almost every': 287, 'every movie': 2722, 'needless say': 6154, 'ha ha': 3962, 'martial': 5496, 'lifestyle': 5043, 'forth': 3410, 'redeeming': 7412, 'gap': 3532, 'solution': 8352, 'martial art': 5497, 'trio': 9357, 'nostalgic': 6282, 'exploration': 2832, 'added': 181, 'complexity': 1653, 'angst': 409, 'adolescent': 197, 'september': 8048, 'feel good': 2974, 'available dvd': 621, 'sexuality': 8085, 'revelation': 7563, 'turn movie': 9412, 'roam': 7624, 'doctor': 2267, 'under': 9490, 'disease': 2218, 'nutshell': 6331, 'paranoid': 6663, 'mindset': 5660, 'format': 3406, 'tedious': 8924, 'spider': 8461, 'normally': 6275, 'transfer': 9325, 'spot': 8484, 'story take': 8646, 'hollywood film': 4172, 'film always': 3032, 'feature film': 2965, 'scifi film': 7867, 'let hope': 5008, 'english subtitle': 2544, 'film two': 3225, 'two hour': 9443, 'story film': 8620, 'much way': 6052, 'film enjoy': 3072, 'story take place': 8647, 'accurately': 79, 'wasted': 9790, 'cap': 1225, 'ed': 2415, 'failure': 2877, 'skilled': 8264, 'pipe': 6857, 'burst': 1133, 'christina': 1451, 'get back': 3575, 'ed wood': 2416, 'legs': 4986, 'physically': 6834, 'handicap': 3991, 'developed': 2135, 'heal': 4061, 'schedule': 7852, 'like think': 5101, 'alert': 261, 'torch': 9283, 'expression': 2840, 'spree': 8489, 'institution': 4493, 'symbolic': 8844, 'authority': 618, 'teacher': 8912, 'rampage': 7249, 'virginia': 9682, 'tech': 8917, 'rational': 7274, 'rebel': 7376, 'fund': 3495, 'rough': 7676, 'couldve': 1828, 'ive read': 4640, 'go make': 3737, 'never explain': 6182, 'quite possibly': 7223, 'character movie': 1369, 'it movie': 4603, 'like work': 5108, 'the man': 9000, 'noticed': 6309, 'moviethe': 6021, 'han': 3987, 'solo': 8351, 'emperor': 2495, 'destruction': 2124, 'celebration': 1304, 'celebrate': 1303, 'chapter': 1343, 'one even': 6434, 'first meet': 3303, 'one memorable': 6473, 'first time saw': 3325, 'moody': 5745, 'jewish': 4691, 'scotland': 7871, 'uncomfortable': 9483, 'hopelessly': 4207, 'such': 8739, 'impression': 4386, 'lesson': 4999, 'uneven': 9514, 'jonathan': 4717, 'awake': 629, 'payoff': 6715, 'solely': 8349, 'give impression': 3679, 'make happy': 5368, 'cant help': 1210, 'poor script': 6961, 'ron': 7665, 'representative': 7508, 'selfindulgent': 8020, 'hooker': 4197, 'convention': 1743, 'see anything': 7928, 'swedish': 8834, 'marion': 5485, 'clunky': 1535, 'marie': 5482, 'min': 5656, 'eight': 2444, 'emma': 2489, 'film first': 3096, 'play lead': 6883, 'still manage': 8583, 'movie history': 5874, 'sadistic': 7717, 'context': 1727, 'darkness': 1970, 'meaning': 5554, 'definite': 2044, 'piece work': 6848, 'time place': 9207, 'work make': 10083, 'st': 8496, 'karen': 4753, 'asia': 552, 'sinister': 8242, 'sack': 7712, 'anyones': 466, 'singer': 8238, 'ominous': 6406, 'gothic': 3850, 'equal': 2605, 'conspiracy': 1711, 'satan': 7759, 'moronic': 5758, 'madefortv': 5315, 'stylish': 8709, 'shape': 8100, 'actually look': 164, 'serious film': 8058, 'work good': 10080, 'towards end': 9303, 'see believe': 7931, 'give birth': 3669, 'behind camera': 824, 'poorly make': 6965, 'like be': 5056, 'make two': 5412, 'credit roll': 1882, 'end come': 2508, 'film look like': 3135, 'resembles': 7521, 'lock': 5170, 'smoking': 8317, 'barrel': 740, 'fancy': 2913, 'tongueincheek': 9272, 'american audience': 371, 'fright': 3464, 'herring': 4107, 'dave': 1978, 'australian': 613, 'dy': 2375, 'sarah': 7753, 'ahead': 237, 'molly': 5720, 'shut': 8189, 'ensues': 2574, 'freddy': 3443, 'slasher film': 8277, 'red herring': 7409, 'film director': 3067, 'film student': 3202, 'go ahead': 3709, 'film put': 3175, 'manage get': 5446, 'robbery': 7628, 'crook': 1900, 'resource': 7529, 'youre': 10256, 'film long': 3133, 'time around': 9180, 'actress play': 151, 'play character': 6879, 'even come': 2650, 'really care': 7321, 'care character': 1242, 'believe film': 834, 'purple': 7184, 'seem bit': 7998, 'get film': 3592, 'miss one': 5694, 'lot film': 5236, 'anyone watch': 464, 'miss it': 5693, 'it say': 4608, 'minimum': 5666, 'volunteer': 9705, 'naive': 6103, 'give break': 3670, 'thing think': 9069, 'wilderness': 10012, 'see again': 7924, 'much it': 6037, 'native american': 6121, 'love see': 5268, 'would love see': 10150, 'overlong': 6613, 'disappear': 2201, 'remarkable': 7473, 'favorite movie': 2953, 'movie all': 5788, 'finally get': 3260, 'every bit': 2714, 'nostalgia': 6281, 'cary': 1267, 'perspective': 6802, 'curiosity': 1925, 'provocative': 7152, '40': 22, 'helen': 4087, 'noticeable': 6308, 'active': 124, 'slip': 8295, 'perceive': 6767, 'threat': 9141, 'know little': 4833, 'cary grant': 1268, 'many film': 5462, 'always seem': 354, 'life would': 5041, 'role film': 7647, 'nail': 6102, 'admittedly': 196, 'gary': 3537, 'stanwyck': 8519, 'patriotic': 6706, 'beard': 792, 'liberty': 5022, 'otto': 6583, 'hitch': 4155, 'alfred hitchcock': 265, 'gary cooper': 3538, 'barbara stanwyck': 734, 'poorly do': 6964, 'last half': 4894, 'half hour': 3972, 'best film': 866, 'dim': 2173, 'response': 7535, 'motif': 5764, 'crown': 1905, 'historian': 4149, 'sensational': 8030, 'invent': 4550, 'thousand': 9138, 'accurate': 78, 'interesting character': 4523, 'event take': 2688, 'anything movie': 471, 'even get': 2656, 'movie im': 5878, 'im pretty': 4342, 'pretty sure': 7060, 'bad plot': 698, 'im pretty sure': 4343, 'never get back': 6186, 'knowledge': 4853, 'alley': 277, 'distribution': 2245, 'tiger': 9170, 'film love': 3137, 'this film': 9118, 'film still': 3200, 'ingenious': 4453, 'recommendation': 7400, 'fact movie': 2867, 'movie full': 5863, 'assure': 578, 'compelling': 1638, 'senator': 8024, 'candidate': 1195, 'point out': 6937, 'support role': 8785, 'good work': 3836, 'thing seem': 9067, 'simple story': 8220, 'movie might': 5914, 'employee': 2500, 'roof': 7667, 'jeffrey': 4678, 'destination': 2120, 'ending': 2532, 'movie way': 6003, 'movie fail': 5848, 'first see': 3318, 'run around': 7694, 'make really': 5396, 'good horror': 3799, 'sadness': 7719, 'peace': 6717, 'simplicity': 8221, 'motivate': 5767, 'deeply': 2037, 'netflix': 6172, 'well watch': 9929, 'write review': 10196, 'fine film': 3283, 'it im': 4597, 'like real': 5090, 'turn off': 9413, 'title film': 9244, 'element film': 2459, 'much enjoy': 6032, 'enjoy watch': 2554, 'be also': 772, 'also quite': 328, 'happen them': 4003, 'make sure': 5406, 'watch original': 9813, 'do well': 2264, 'jay': 4672, 'funniest': 3500, 'nope': 6272, 'mumble': 6059, 'pitch': 6861, 'facial': 2861, 'trademark': 9311, 'impersonation': 4373, 'norm': 6273, 'snl': 8327, 'prior': 7081, 'enlighten': 2561, 'kathy': 4756, 'bates': 762, 'watch show': 9817, 'fine actor': 3282, 'facial expression': 2862, 'one part': 6483, 'id rather': 4297, 'play part': 6887, 'behind scene': 825, 'factor': 2870, 'department': 2085, 'diamond': 2144, 'horror fan': 4222, 'forest': 3397, 'biker': 913, 'high hope': 4119, 'first one': 3307, 'movie second': 5953, 'little girl': 5145, 'base real': 747, 'italy': 4621, 'inhabit': 4456, 'milk': 5649, 'optimistic': 6550, 'size': 8258, 'wealth': 9867, 'health': 4062, 'compliment': 1656, 'unfolds': 9522, 'contrast': 1734, 'roar': 7625, 'primitive': 7075, 'possession': 6991, 'clothing': 1528, 'code': 1542, 'mold': 5719, 'morally': 5750, 'bleak': 957, 'hidden': 4114, 'intentional': 4510, 'arrive': 530, 'americas': 376, 'test': 8969, 'puzzle': 7194, 'cherish': 1417, 'prevent': 7062, 'stupidity': 8706, 'new world': 6216, 'never show': 6203, 'seem make': 8004, 'nuclear': 6321, 'exceed': 2766, 'uptight': 9584, 'boat': 985, 'must admit': 6080, 'pedestrian': 6723, 'nose': 6280, 'one point': 6488, 'ten year': 8948, 'whole new': 9988, 'film certainly': 3053, 'much like': 6039, 'website': 9875, 'it get': 4591, 'da': 1941, 'cinderella': 1465, 'archive': 507, 'electricity': 2456, 'adam': 173, 'apple': 493, 'movie direct': 5825, 'also make': 323, 'begin movie': 817, 'also funny': 311, 'give best': 3668, 'best act': 860, 'act performance': 104, 'would rate': 10159, 'rate movie': 7269, 'rental': 7495, 'unexplained': 9517, 'thomas': 9121, 'randomly': 7254, 'it see': 4609, 'know like': 4832, 'movie experience': 5845, 'ostensibly': 6579, 'dc': 1990, 'departure': 2086, 'precisely': 7021, 'tarzan': 8900, 'busey': 1139, 'savage': 7768, 'pa': 6630, 'phillip': 6820, 'afterwards': 226, 'nothing like': 6296, 'base upon': 750, 'never actually': 6177, 'sense humour': 8034, 'point film': 6934, 'film version': 3227, 'it great': 4595, 'great fun': 3888, 'timothy': 9235, 'dalton': 1947, 'handsome': 3993, 'eats': 2408, 'sparkle': 8429, 'servant': 8061, 'household': 4244, 'overcome': 6611, 'cow': 1851, 'much love': 6040, 'know whats': 4849, 'give viewer': 3688, 'corey': 1768, 'hitman': 4158, 'momentum': 5725, 'impose': 4382, 'bronson': 1088, 'course movie': 1844, 'something different': 8367, 'fastpaced': 2940, 'cliched': 1503, 'colorful': 1566, 'pepper': 6765, 'mighty': 5642, 'ranger': 7257, 'trooper': 9366, 'fare': 2926, '1990s': 9, 'confused': 1688, 'duck': 2346, 'premiere': 7031, 'emmy': 2490, 'episodes': 2604, 'rebecca': 7375, 'independent': 4422, 'engineer': 2541, 'vain': 9608, 'show first': 8158, 'plot seem': 6921, 'live action': 5154, 'call the': 1173, 'show like': 8163, 'classic like': 1489, 'like the': 5099, 'the great': 8998, 'james bond': 4660, 'save day': 7770, 'good music': 3809, 'whole family': 9983, 'handful': 3989, 'vs': 9712, 'sailor': 7725, 'suspenseful': 8822, 'around world': 523, 'story man': 8631, 'almost impossible': 289, 'supernatural': 8778, 'oldfashioned': 6402, 'mirror': 5683, 'guard': 3938, 'also find': 310, 'find good': 3269, 'filmit': 3246, 'understand people': 9502, 'main plot': 5332, 'bet': 883, 'thing be': 9042, 'joke funny': 4715, 'begin with': 818, 'story make': 8630, 'erase': 2611, 'render': 7488, 'much bad': 6029, 'postwar': 6998, 'representation': 7507, 'deer': 2038, 'resume': 7547, 'nerve': 6168, 'humorous': 4272, 'incident': 4403, 'slap': 8273, '1950s': 5, 'counter': 1830, 'saddle': 7716, 'wright': 10189, 'uplifting': 9578, 'bedroom': 809, 'lucky': 5293, 'best actor': 861, 'personally think': 6801, 'jimmy stewart': 4695, 'best picture': 875, 'major problem': 5340, 'problem film': 7098, 'scene one': 7840, 'truly great': 9376, 'courageous': 1841, 'clothe': 1526, 'bela': 828, 'movie high': 5873, 'revolve around': 7576, 'police officer': 6946, 'everyone involve': 2737, 'sorry say': 8395, 'movie absolutely': 5782, 'movie fall': 5849, 'hard follow': 4015, 'act wooden': 114, 'bela lugosi': 829, 'movie another': 5794, 'really come': 7322, 'really seem': 7354, 'philosophy': 6823, 'coincidence': 1548, 'metaphor': 5607, 'accidentally': 70, 'indie film': 4430, 'see go': 7942, 'people live': 6745, 'come end': 1582, 'way one': 9853, 'psychiatrist': 7156, 'latin': 4915, 'antonio': 446, 'wine': 10025, 'horny': 4212, 'bay': 769, 'multiple': 6057, 'disorder': 2229, 'pet': 6805, 'boil': 990, 'both': 1021, 'whack': 9952, 'branch': 1048, 'trauma': 9336, 'lecture': 4976, 'pound': 7003, 'shoulder': 8150, 'luis': 5298, 'nude': 6322, 'universe': 9543, 'compensate': 1639, 'toronto': 9286, 'preserve': 7042, 'thing happen': 9052, 'never happen': 6189, 'sure would': 8795, 'last two': 4902, 'film absolutely': 3023, 'love him': 5260, 'movie instead': 5881, 'brook': 1090, 'brutal': 1101, 'hapless': 3997, 'excels': 2776, 'blake': 949, 'effortlessly': 2437, 'receive': 7379, 'narration': 6111, 'conrad': 1695, 'topnotch': 9282, 'alternative': 340, 'last film': 4893, 'recommend film': 7392, 'elementary': 2460, 'transition': 9328, 'collapse': 1555, 'im give': 4336, 'basic premise': 756, 'monty': 5742, 'python': 7195, 'baron': 739, 'and even': 396, 'monty python': 5743, 'gross': 3923, 'time since': 9213, 'movie maybe': 5911, 'movie fun': 5864, 'funny one': 3507, 'spoiler ahead': 8479, 'good way': 3834, 'good time': 3830, 'mobile': 5711, 'these': 9030, 'impersonate': 4372, 'flair': 3340, 'vanish': 9618, 'trace': 9307, 'people get': 6738, 'people die': 6734, 'however one': 4251, 'clothes': 1527, 'harvest': 4037, 'crisis': 1892, 'participate': 6680, 'ian': 4289, 'bat': 761, 'wonderful movie': 10063, 'war movie': 9761, 'kline': 4810, 'replay': 7502, 'even look': 2665, 'petty': 6809, 'examine': 2763, 'joel': 4703, 'murky': 6066, 'injury': 4464, 'transformation': 9327, 'patient': 6703, 'curtain': 1931, 'prop': 7135, 'hesitate': 4110, 'femme': 2994, 'non': 6263, 'fast pace': 2938, 'still live': 8579, 'cast movie': 1283, 'joy watch': 4725, 'worth check': 10105, 'carpenter': 1257, 'derek': 2098, 'likeable': 5110, 'practical': 7009, 'rehash': 7441, 'vampire movie': 9615, 'john carpenter': 4706, 'recommend one': 7397, 'something else': 8368, 'btw': 1104, 'ongoing': 6525, 'irritate': 4573, 'buzz': 1157, 'give two': 3687, 'two star': 9452, 'act direct': 93, 'character include': 1363, 'watch bad': 9794, 'school play': 7856, 'play movie': 6885, 'one must': 6479, 'even one': 2670, 'awful act': 643, 'need say': 6150, 'bush': 1140, 'rice': 7585, 'good make': 3806, 'enough keep': 2566, 'imaginary': 4354, 'dysfunctional': 2379, 'commits': 1623, 'sandy': 7748, 'devastate': 2132, 'cope': 1762, 'absorb': 52, 'interaction': 4513, 'offbeat': 6366, 'click': 1507, 'goal': 3760, 'birthday': 926, 'phenomenal': 6815, 'attach': 589, 'stare': 8527, 'brother sister': 1094, 'look at': 5194, 'appeal': 487, 'golf': 3771, 'intensely': 4506, 'captivate': 1231, 'blow away': 975, 'away film': 636, 'im one': 4341, 'one people': 6485, 'people take': 6758, 'ive get': 4636, 'say one': 7803, 'young boy': 10244, 'thoroughly enjoy': 9124, 'movie bring': 5808, 'would turn': 10172, 'turn out': 9415, 'degrade': 2053, 'myers': 6092, 'would want': 10173, 'film year': 3239, 'auteur': 614, 'wretched': 10188, 'thoughtful': 9136, 'educate': 2426, 'unit': 9538, 'starve': 8540, 'despair': 2112, 'oddly': 6360, 'outstanding': 6601, 'vivid': 9696, 'great director': 3885, 'watch one': 9812, 'one fine': 6444, 'much one': 6046, 'write screenplay': 10197, 'many movie': 5467, 'theme movie': 9009, 'know it': 4831, 'point movie': 6936, 'outstanding performance': 6602, 'forget it': 3400, 'masquerade': 5506, 'africanamerican': 221, 'arrogant': 532, 'rapist': 7264, 'rap': 7260, 'coward': 1852, 'cube': 1915, 'threaten': 9142, 'loud': 5248, 'nephew': 6165, 'movie terrible': 5976, 'laugh loud': 4922, 'filler': 3021, 'library': 5023, 'myself': 6093, 'think really': 9104, 'especially since': 2622, 'watch like': 9806, 'plot go': 6912, 'say would': 7815, 'think well': 9111, 'movie suppose': 5971, 'holiday': 4167, 'heroine': 4106, 'ban': 725, 'probably one': 7094, 'slasher movie': 8279, 'feel sorry': 2979, 'cant really': 1213, 'one guy': 6454, 'look really': 5212, 'girl get': 3659, 'taylor': 8908, 'float': 3358, 'wardrobe': 9764, 'accomplishment': 74, 'hudson': 4253, 'twenty': 9423, 'gallery': 3527, 'taboo': 8854, 'rock hudson': 7637, 'male lead': 5432, 'twenty minute': 9424, 'dvd version': 2371, 'santa': 7751, 'london': 5176, 'dickens': 2150, 'time favorite': 9187, 'movie best': 5804, 'actor portray': 144, 'advise': 210, 'plot bad': 6906, 'never take': 6204, 'take part': 8877, 'inventive': 4552, 'physic': 6832, 'translate': 9329, 'festival': 2998, 'experimental': 2822, '3d': 20, 'culture': 1921, 'im talk': 4350, 'film you': 3241, 'mode': 5714, 'ripoff': 7613, 'norris': 6277, 'vietnam': 9662, 'usa': 9588, 'commander': 1611, 'implausible': 4374, 'movie try': 5992, 'american film': 372, 'plot make': 6917, 'nuance': 6319, 'language': 4884, 'psychopath': 7162, 'insanity': 4473, 'psychology': 7161, 'consistent': 1709, 'andy': 402, 'snap': 8323, 'seed': 7992, 'weight': 9883, 'believability': 831, 'thief': 9038, 'clock': 1517, 'dreck': 2321, 'time write': 9228, 'actually get': 159, 'work movie': 10084, 'car crash': 1237, 'deliver line': 2067, 'car chase': 1236, 'read comment': 7286, 'turn one': 9414, 'african american': 220, 'go nowhere': 3739, 'enough make': 2567, 'much go': 6035, 'get watch': 3641, 'watch something': 9818, 'national': 6119, 'nicole': 6241, 'chaplin': 1342, 'damme': 1950, 'it make': 4602, 'make wonder': 5420, 'worth it': 10106, 'van damme': 9617, 'detailed': 2127, 'jamie': 4662, 'goofy': 3842, 'exorcist': 2803, 'download': 2298, 'lot movie': 5241, 'think id': 9089, 'im even': 4334, 'even go': 2658, 'also film': 309, 'film even': 3075, 'quite frankly': 7218, 'pay attention': 6712, 'movie horrible': 5875, 'movie this': 5984, 'id give': 4294, 'one come': 6426, 'come on': 1590, 'movie ive see': 5886, 'ive see lot': 4643, 'ever see film': 2704, 'penn': 6727, 'eastwood': 2403, 'glorify': 3701, 'wrestling': 10187, 'hallmark': 3979, 'meaningless': 5556, 'kudos': 4858, 'sean penn': 7898, 'clint eastwood': 1514, 'make long': 5375, 'jan': 4663, 'montage': 5739, 'tribute': 9352, 'shake': 8092, 'shot film': 8146, 'old time': 6399, 'bible': 897, 'recite': 7384, 'unbearable': 9477, 'glorious': 3702, 'star movie': 8523, 'whats go on': 9958, 'wheres': 9968, 'airplane': 245, 'smug': 8320, 'laurence': 4935, 'olivier': 6405, 'profession': 7114, 'fan movie': 2911, 'hard time': 4020, 'time look': 9199, 'actor well': 148, 'movie actually': 5785, 'every scene': 2724, 'thirty': 9115, 'titular': 9247, 'followup': 3377, 'photograph': 6828, 'spite': 8471, 'exploit': 2829, 'plight': 6903, 'inherent': 4458, 'antagonist': 440, 'extract': 2847, 'rocket': 7639, 'combat': 1571, 'pump': 7172, 'fist': 3333, 'heartbreaking': 4072, 'directly': 2186, 'firmly': 3292, 'cheek': 1410, 'vietnam war': 9663, 'thirty year': 9116, 'say go': 7789, 'actor director': 132, 'would one': 10155, 'one see': 6494, 'crocodile': 1899, 'queen': 7202, 'evolve': 2755, 'churn': 1462, 'evolution': 2754, 'sydney': 8842, 'survival': 8814, 'mob': 5710, 'vicious': 9650, 'narrator': 6113, 'would expect': 10134, 'black comedy': 938, 'guy want': 3958, 'start get': 8532, 'love interest': 5261, 'really well': 7362, 'lust': 5305, 'perfection': 6773, 'preachy': 7017, 'however film': 4249, 'well one': 9919, 'id recommend': 4298, 'incapable': 4399, 'still watch': 8588, 'hard get': 4016, 'see the': 7977, 'played': 6891, 'story follow': 8621, 'one story': 6501, 'phenomenon': 6816, 'extent': 2844, 'skinny': 8266, 'tip': 9237, 'immense': 4364, 'glance': 3692, 'say be': 7786, 'might say': 5637, 'say least': 7794, 'comment movie': 1616, 'tie together': 9169, 'leave one': 4972, 'need see': 6151, 'see real': 7967, 'obscure': 6339, 'youtube': 10260, 'compel': 1637, 'shirt': 8126, 'seduce': 7919, 'playboy': 6890, 'make scene': 5397, 'theres one': 9029, 'possess': 6990, 'madonna': 5319, 'precious': 7019, 'could actually': 1789, 'think make': 9094, 'movie turn': 5993, 'time watch': 9223, 'crap like': 1862, 'make good film': 5365, 'waste time watch': 9789, 'gimmick': 3656, 'exposure': 2838, 'lou': 5247, 'bubble': 1105, 'dirt': 2198, 'cabin': 1160, 'scratch': 7876, 'shield': 8120, 'also happen': 316, 'one else': 6431, 'oblivious': 6337, 'antihero': 445, 'narrate': 6110, 'unfold': 9521, 'pearl': 6720, 'compassion': 1636, 'brutality': 1102, 'soprano': 8391, 'honestly say': 4189, '19th': 10, 'fascination': 2934, 'jean': 4676, 'historically': 4152, 'orleans': 6574, 'respectable': 7531, '19th century': 11, 'feel film': 2973, 'new orleans': 6215, 'todays': 9251, 'hour minute': 4241, 'housewife': 4245, 'breast': 1059, 'grown': 3931, '50': 24, 'reunite': 7560, 'movie base': 5798, 'base true': 748, 'last year': 4904, 'still hold': 8577, 'best actress': 862, 'base true story': 749, 'license': 5024, 'document': 2268, 'evidence': 2748, 'kane': 4750, 'im fan': 4335, 'story great': 8625, 'make something': 5403, 'movie do': 5828, 'human be': 4264, 'would still': 10168, 'film together': 3218, 'get know': 3611, 'would consider': 10127, 'cruel': 1908, 'prequel': 7037, 'movie except': 5843, 'original story': 6570, 'film call': 3051, 'writer director': 10202, 'nothing wrong': 6306, 'real story': 7303, 'could understand': 1822, 'thing really': 9063, 'inspire': 4484, 'mock': 5713, 'know character': 4820, 'every level': 2719, 'bad actor': 670, 'long long': 5184, 'fatale': 2943, 'one favorites': 6439, 'also love': 322, 'femme fatale': 2995, 'globe': 3698, 'secondary': 7910, 'pressure': 7045, 'fluff': 3366, 'dreary': 2320, 'verdict': 9637, 'diehard': 2156, 'injustice': 4465, 'make tv': 5410, 'movie begin': 5802, 'last episode': 4892, 'film bring': 3049, 'good job': 3802, 'great example': 3886, 'make tv movie': 5411, 'collector': 1560, 'contact': 1717, 'one look': 6466, 'movie use': 5997, 'big name': 906, 'movie fact': 5847, 'go bed': 3716, 'it however': 4596, 'sci': 7858, 'fi': 3003, 'substitute': 8727, 'carradine': 1258, '90': 28, 'sci fi': 7859, 'wait see': 9720, 'parade': 6658, 'emphasis': 2496, 'swallow': 8829, 'battlefield': 768, 'lure': 5302, 'rotten': 7675, 'bull': 1121, 'clone': 1518, 'lens': 4992, 'id never': 4296, 'like many': 5081, 'scifi movie': 7868, 'people seem': 6756, 'take film': 8869, 'look forward': 5200, 'real movie': 7297, 'roller': 7655, 'therapy': 9015, 'dear': 2004, 'endlessly': 2534, 'abomination': 38, 'oh yes': 6382, 'gal': 3525, 'sappy': 7752, 'performances': 6783, 'adorable': 199, 'appreciation': 497, 'grass': 3869, 'limitation': 5117, 'baseball': 751, 'chick': 1422, 'life like': 5034, 'short movie': 8140, 'love much': 5265, 'much do': 6030, 'chick flick': 1423, 'itbut': 4622, 'kapoor': 4751, 'overshadow': 6618, 'mistaken': 5701, 'identity': 4309, 'ridiculously': 7597, 'love hate': 5258, 'good evil': 3790, 'overrate': 6617, 'act movie': 101, 'movie write': 6012, 'movie theater': 5980, 'friend watch': 3460, 'improbable': 4388, 'best show': 878, 'get feel': 3590, 'grief': 3914, 'mst3k': 6026, 'couch': 1787, 'anguish': 410, 'see every': 7937, 'every single': 2726, 'passionate': 6694, 'odds': 6361, 'conservative': 1701, 'outcast': 6587, 'installment': 4486, 'sensitivity': 8040, 'troubled': 9368, 'realistically': 7308, 'roy': 7683, 'logan': 5172, 'montana': 5740, 'dana': 1954, 'finger': 3287, 'nickname': 6239, 'restaurant': 7542, 'try save': 9397, 'make difference': 5354, 'whilst': 9973, 'offend': 6367, 'warning': 9772, 'video store': 9659, 'rent film': 7492, 'think he': 9088, 'film leave': 3128, 'one word': 6517, 'du': 2343, 'happening': 4004, 'occurrence': 6356, 'accuracy': 77, 'remote': 7485, 'unrelated': 9561, 'attribute': 602, 'backwards': 665, 'forgot': 3403, 'miss something': 5696, 'could happen': 1806, 'couple hour': 1837, 'go anywhere': 3711, 'tcm': 8909, 'murphy': 6067, 'mgm': 5612, 'eve': 2643, 'make real': 5394, 'actor film': 133, 'lead lady': 4949, 'it seem': 4610, 'first half': 3299, 'say bad': 7785, 'act poor': 105, 'well story': 9925, 'scifi channel': 7866, 'movie classic': 5814, 'pursue': 7186, 'sincere': 8233, 'remember see': 7478, 'beautiful movie': 800, 'extremely well': 2852, 'another movie': 433, 'without even': 10046, 'right start': 7604, 'good friend': 3794, 'really show': 7355, 'all movie': 274, 'great one': 3894, 'movie recommend': 5943, 'relive': 7465, 'recreate': 7404, 'scene show': 7845, 'make appearance': 5345, 'many year ago': 5475, 'tomorrow': 9268, 'punish': 7176, 'would put': 10158, 'know get': 4825, 'smash': 8311, 'turd': 9406, 'go one': 3741, 'money time': 5730, 'movie awful': 5796, 'meaningful': 5555, 'movie waste': 6001, 'french film': 3449, 'another great': 431, 'film appear': 3037, 'margaret': 5480, 'exterior': 2845, 'evening': 2685, 'happily': 4006, 'film script': 3187, 'exposition': 2837, 'drift': 2324, 'holmes': 4174, 'countryside': 1834, 'cushing': 1934, 'get go': 3595, 'bikini': 914, 'ali': 266, 'khan': 4781, 'cliff': 1509, 'ambitious': 368, 'henchman': 4098, 'kumar': 4859, 'eighty': 2446, 'centre': 1316, 'construct': 1714, 'item': 4624, 'monk': 5732, 'fairness': 2884, 'sentimental': 8045, 'arrogance': 531, 'excess': 2783, 'exotic': 2804, 'tarantino': 8897, 'salvage': 7732, 'patience': 6702, 'film terrible': 3208, 'terrible film': 8959, 'get big': 3578, 'like bad': 5055, 'set piece': 8068, 'film probably': 3171, 'still feel': 8572, 'take eye': 8868, 'well thats': 9926, 'missed': 5697, 'excessive': 2784, 'devotion': 2141, 'beg': 813, 'differ': 2157, 'faith': 2887, 'tiresome': 9240, 'interpretation': 4535, 'sunshine': 8769, 'regardless': 7433, 'balance': 718, 'cannes': 1198, 'convincingly': 1755, 'that movie': 8983, 'answer question': 439, 'show one': 8169, 'life go': 5033, 'message film': 5603, 'last scene': 4900, 'seem get': 7999, 'act really': 107, 'watch see': 9816, 'ask question': 557, 'first place': 3309, 'massacre': 5508, 'full moon': 3487, 'everyone know': 2738, 'everyone see': 2739, 'like do': 5061, 'buffalo': 1115, 'em': 2479, 'fan genre': 2909, 'watch another': 9793, 'afraid': 217, 'it first': 4590, 'something little': 8374, 'able get': 34, 'many good': 5463, 'read script': 7290, 'spending': 8456, 'basketball': 759, 'family friend': 2903, 'make fun': 5361, 'one hand': 6455, 'ill say': 4324, 'want be': 9739, 'firstly': 3329, 'choreograph': 1442, 'broadway': 1086, 'gesture': 3570, 'dancer': 1957, 'hello': 4090, 'formula': 3408, 'every line': 2720, 'michael douglas': 5616, 'never quite': 6196, 'one many': 6471, 'know people': 4842, 'movie version': 5999, 'see original': 7963, 'different story': 2163, 'get start': 3635, 'mid': 5619, 'raider': 7241, 'interestingly': 4527, 'education': 2427, 'elderly': 2452, 'lisa': 5132, 'scout': 7874, 'westerns': 9947, 'hostage': 4230, 'tactic': 8858, 'disguise': 2220, 'gentleman': 3562, 'hood': 4194, 'goof': 3841, 'ross': 7672, 'brady': 1044, 'get chance': 3582, 'character one': 1373, 'think many': 9095, 'back story': 658, 'would know': 10144, 'watch old': 9811, 'show make': 8166, 'wonderfully': 10065, 'combination': 1572, 'gable': 3520, 'cast well': 1284, 'funny film': 3503, 'every film': 2718, 'tyler': 9458, 'daddy': 1943, 'absence': 46, 'lately': 4910, 'jam': 4658, 'marries': 5492, 'know many': 4836, 'one play': 6487, 'play one': 6886, 'try keep': 9393, 'way make': 9849, 'make big': 5350, 'melancholy': 5576, 'obsessed': 6344, 'incest': 4400, 'film everyone': 3080, 'like john': 5075, 'movie want': 6000, 'go watch': 3753, 'excellently': 2775, 'distant': 2235, 'distract': 2241, 'explosion': 2834, 'film kind': 3123, 'make feel like': 5358, 'gigantic': 3653, 'novelty': 6314, 'spencer': 8450, 'building': 1118, 'wrestle': 10185, 'suffice': 8747, 'make clear': 5352, 'cant even': 1206, 'enough money': 2568, 'monster movie': 5738, 'without give': 10048, 'suffice say': 8748, 'stooge': 8603, 'longtime': 5191, 'larry': 4889, 'zany': 10261, 'coffee': 1543, 'yet still': 10237, 'good example': 3791, 'pizza': 6866, 'moment film': 5723, 'know one': 4841, 'talk about': 8888, 'budget horror': 1112, 'role like': 7648, 'next door': 6226, 'low budget horror': 5280, 'miner': 5662, 'quaid': 7196, 'innovative': 4470, 'confess': 1678, 'make new': 5389, 'web': 9874, 'kim': 4795, 'startle': 8539, 'gaze': 3544, 'yesterday': 10232, 'fifty': 3013, 'film little': 3132, 'stage play': 8503, 'proof': 7134, 'movie buff': 5809, 'zombie movie': 10264, 'entire life': 2594, 'act horrible': 98, 'this movie': 9119, 'bad movie ever': 692, 'movie ever see': 5838, 'corman': 1769, 'candy': 1197, 'mama': 5434, 'early film': 2391, 'film right': 3181, 'film without': 3234, 'roger corman': 7643, 'eye candy': 2855, 'one best film': 6420, 'ape': 479, 'forward see': 3416, 'actor also': 130, 'take long': 8871, 'sin': 8226, 'immediate': 4362, 'confusion': 1690, 'scenes': 7851, 'come dvd': 1581, 'be think': 786, 'let start': 5012, 'uwe boll': 9604, 'seem think': 8011, 'people would': 6764, 'character ever': 1355, 'quite simply': 7224, 'twilight': 9427, 'zone': 10265, 'paycheck': 6714, 'press': 7044, 'outline': 6594, 'melodramatic': 5578, 'unfair': 9518, 'fulfill': 3485, 'subtext': 8728, 'twilight zone': 9428, 'let know': 5009, 'good performance': 3814, 'much say': 6048, 'landscape': 4882, 'trite': 9360, 'dimensional': 2175, 'dig': 2168, 'show would': 8179, 'character even': 1354, 'one dimensional': 6429, 'movie move': 5916, 'franco': 3433, 'lit': 5135, 'hung': 4275, 'drip': 2328, 'uk': 9467, 'get home': 3603, 'try give': 9390, 'black guy': 939, 'film bit': 3047, 'really one': 7349, 'long shot': 5186, 'poorly act': 6963, 'despite fact': 2119, 'actually watch': 171, 'fall asleep': 2893, 'bad good': 685, 'good laugh': 3803, 'get lose': 3614, 'virtual': 9683, 'related': 7446, 'americans': 375, 'british film': 1083, 'really feel': 7328, 'widow': 10007, 'mustsee': 6086, 'comedy drama': 1601, 'never look': 6193, 'susan': 8817, 'sarandon': 7754, 'socalled': 8338, 'babe': 650, 'actually make': 165, 'thing look': 9058, 'movie complete': 5817, 'save film': 7771, 'cant act': 1204, 'least get': 4963, 'showing': 8184, 'poverty': 7005, 'understand film': 9499, 'character seem': 1381, 'could also': 1790, 'chess': 1418, 'enthusiast': 2587, 'inability': 4393, 'peer': 6724, 'movie expect': 5844, 'even bother': 2647, 'older': 6401, 'fodder': 3371, 'demonic': 2075, 'downhill': 2297, 'bound': 1029, 'two film': 9438, 'see whole': 7986, 'movie slow': 5963, 'long enough': 5182, 'great scene': 3896, 'think it': 9091, 'happen one': 4002, 'look forward see': 5201, 'always want': 356, 'lampoon': 4878, 'blah': 945, 'movie may': 5910, 'blah blah': 946, 'movie and': 5793, 'bad be': 673, 'be well': 788, 'well even': 9899, 'actually like': 163, 'one bad movie': 6416, 'apply': 494, 'people make': 6748, 'lucky enough': 5294, 'overall movie': 6607, 'movie must': 5919, 'must watch': 6085, 'make sequel': 5400, 'row': 7682, 'poignant': 6932, 'actor one': 142, 'criticize': 1897, 'rod': 7641, 'cameron': 1184, 'romero': 7663, 'see year': 7989, 'fairly well': 2883, 'film shot': 3193, 'high level': 4120, 'film definitely': 3063, 'driven': 2332, 'films': 3250, 'hippy': 4145, 'cruise': 1910, 'sunset': 8768, 'extras': 2849, 'lots': 5246, 'plot involve': 6915, 'lot money': 5240, 'seeing': 7994, 'groan': 3922, 'conclude': 1673, 'assignment': 571, 'summarize': 8760, 'punishment': 7177, 'wellmade': 9940, 'stupid movie': 8704, 'kind movie': 4799, 'actor give': 135, 'bad enough': 677, 'show get': 8159, 'get involve': 3606, 'even give': 2657, 'profoundly': 7120, 'pan': 6653, 'people may': 6749, 'see character': 7933, 'see another': 7926, 'or least': 6553, 'people come': 6732, 'come go': 1585, 'movie follow': 5861, 'spar': 8426, 'nbc': 6130, 'inaccuracy': 4394, 'told': 9259, 'judgement': 4730, 'moviethis': 6022, 'inspirational': 4483, 'shade': 8090, 'clichéd': 1505, 'aka': 247, 'movie felt': 5854, 'cant tell': 1221, 'orange': 6554, 'movie today': 5989, 'like director': 5060, 'together make': 9255, 'also think': 334, 'want kill': 9744, 'take movie': 8874, 'drawn': 2315, 'delicate': 2060, 'bad all': 671, 'without ever': 10047, 'love you': 5273, 'sum up': 8759, 'christian': 1448, 'officially': 6375, 'valid': 9610, 'movie work': 6008, 'precise': 7020, 'stardom': 8526, 'get right': 3630, 'make perfect': 5392, 'ever write': 2710, 'foreigner': 3395, 'notch': 6286, 'mayhem': 5543, 'get first': 3593, 'sense word': 8035, 'frontier': 3472, 'film series': 3190, 'last week': 4903, 'watch episode': 9797, 'broadcast': 1085, 'exceptional': 2781, 'short film': 8139, 'especially one': 2621, 'alice': 267, 'influential': 4448, 'whoopi': 9996, 'goldberg': 3769, 'albert': 256, 'superstar': 8779, 'harrison': 4032, 'kurt': 4863, 'behave': 820, 'holy': 4176, 'eddie murphy': 2418, 'playing': 6894, 'mutual': 6090, 'commitment': 1622, 'resistance': 7525, 'arrange': 525, 'conviction': 1750, 'bout': 1032, 'restrain': 7544, 'hum': 4262, 'achievement': 83, 'shes': 8119, 'essence': 2624, '1st': 12, 'nowadays': 6316, 'restraint': 7545, 'wait get': 9719, 'get married': 3617, 'story plot': 8637, 'good scene': 3821, 'seem real': 8009, 'see think': 7980, 'ask me': 556, 'best way': 881, 'film perfect': 3165, 'think first': 9082, 'among best': 379, 'clive': 1516, 'barker': 738, 'nauseate': 6126, 'exclusively': 2790, 'stomach': 8600, 'digital': 2169, 'shortcoming': 8143, 'ooze': 6530, 'macabre': 5308, 'convolute': 1756, 'presumably': 7046, 'process': 7103, 'denouement': 2079, 'introduces': 4546, 'aspire': 563, 'photographer': 6829, 'relentless': 7455, 'unsettling': 9565, 'short story': 8141, 'well character': 9893, 'leave alone': 4969, 'reminder': 7482, 'bollywood': 993, 'further': 3513, 'movie reason': 5942, 'throughout whole': 9156, 'first hour': 3302, 'describes': 2104, 'little much': 5149, 'get way': 3642, 'could believe': 1792, 'warrant': 9774, 'exwife': 2853, 'foul': 3419, 'awful film': 644, 'one funny': 6446, 'like little': 5078, 'even remotely': 2671, 'film provide': 3174, 'old girl': 6393, 'thing see': 9066, 'thing well': 9070, 'sort like': 8398, 'beyond me': 895, 'insipid': 4478, 'intricate': 4541, 'reliable': 7459, 'exceptionally': 2782, 'narrow': 6114, 'holland': 4168, 'wanted': 9757, 'celebrity': 1305, 'interest film': 4516, 'film contain': 3057, 'like that': 5098, 'be go': 777, 'bloke': 965, 'joseph': 4720, 'sob': 8336, 'exchange': 2785, 'distribute': 2244, 'dvd cover': 2368, 'good enough': 3788, 'see this': 7981, 'literature': 5139, 'understatement': 9507, 'get best': 3577, 'many character': 5460, 'pioneer': 6856, 'strive': 8680, 'manipulative': 5454, 'back home': 656, 'philadelphia': 6818, 'identical': 4307, 'gravity': 3875, 'buy dvd': 1153, 'fact one': 2868, 'first think': 3322, 'also direct': 305, 'critical': 1895, 'myth': 6100, 'immigrant': 4366, 'essay': 2623, 'most': 5761, 'shred': 8186, 'nathan': 6117, 'resort': 7528, 'thread': 9140, 'carnage': 1254, 'stag': 8501, 'chaotic': 1341, 'refers': 7424, 'salt': 7731, 'implication': 4375, 'long movie': 5185, 'many others': 5468, 'time make': 9200, 'suppose be': 8788, 'two men': 9447, 'people film': 6736, 'part story': 6676, 'way look': 9848, 'look it': 5204, 'ill admit': 4321, 'first saw film': 3313, 'car accident': 1235, 'need good': 6146, 'elm': 2470, 'themthe': 9012, 'unattractive': 9475, 'hopkins': 4208, 'craven': 1866, 'it love': 4601, 'character give': 1359, 'even try': 2680, 'it story': 4612, 'bad dialogue': 674, 'care less': 1244, 'battle scene': 767, 'strongly recommend': 8685, 'leigh': 4987, 'vince': 9676, 'blackandwhite': 942, 'pink': 6855, 'one say': 6492, 'alone make': 294, 'film yet': 3240, 'like never': 5085, 'ever come': 2693, 'well direct': 9895, 'carry film': 1262, 'topless': 9281, 'wtf': 10207, 'annie': 421, 'names': 6108, 'doc': 2265, 'edition': 2424, 'come along': 1577, 'know happen': 4828, 'move along': 5776, 'get around': 3573, 'original movie': 6568, 'find copy': 3266, 'come movie': 1589, 'see see': 7970, 'silent': 8208, 'silent film': 8209, 'first half movie': 3301, 'spacey': 8420, 'dash': 1973, 'complicate': 1654, 'piano': 6835, 'rachel': 7231, 'vice': 9649, 'relax': 7451, 'kevin spacey': 4779, 'try help': 9392, 'find really': 3278, 'story see': 8640, 'also excellent': 307, 'part well': 6677, 'quite bit': 7217, 'bad really': 699, 'know mean': 4837, 'expect good': 2809, 'think get': 9084, 'get dvd': 3587, 'protection': 7147, 'incompetent': 4410, 'wonder whether': 10059, 'roll eye': 7654, 'see two': 7984, 'gonna': 3772, 'moan': 5709, 'worn': 10095, 'sky': 8271, 'wire': 10030, 'lizard': 5159, 'gadget': 3522, 'artistry': 544, 'lucas': 5290, 'im gonna': 4339, 'seem one': 8006, 'think character': 9078, 'good actress': 3778, 'halloween': 3980, 'see bad': 7929, 'assist': 572, 'rural': 7702, 'another example': 428, 'small town': 8309, 'recent year': 7381, 'liner': 5126, 'thru': 9160, 'revolt': 7572, 'tad': 8859, 'eliminate': 2466, 'dumber': 2355, 'movie fill': 5855, 'one liner': 6464, 'go downhill': 3719, 'bad bad': 672, 'reason movie': 7370, 'fest': 2997, 'we': 9864, 'charity': 1396, 'plot movie': 6918, 'come together': 1595, 'watch enjoy': 9796, 'carter': 1264, 'kenneth': 4776, 'phil': 6817, 'heston': 4111, 'harm': 4028, 'hitler': 4157, 'germany': 3569, 'noone': 6271, 'bimbo': 919, 'deadly': 1997, 'quest': 7204, 'sixth': 8256, 'er': 2609, 'relentlessly': 7456, 'mundane': 6061, 'glow': 3706, 'snake': 8322, 'dispatch': 2230, 'suspicion': 8825, 'perhaps best': 6787, 'film often': 3159, 'way even': 9841, 'every way': 2730, 'phone call': 6825, 'running time': 7700, 'one leave': 6461, 'keep mind': 4767, 'murderer': 6064, 'exhaust': 2798, 'people try': 6761, 'hold interest': 4165, 'beatles': 796, 'nicholson': 6237, 'dylan': 2376, 'an': 389, 'change mind': 1338, 'line like': 5124, 'little gem': 5144, 'release dvd': 7453, 'cult classic': 1919, 'divine': 2253, 'behaviour': 822, 'etc etc': 2633, 'director john': 2189, 'take lot': 8873, 'really much': 7345, 'smuggle': 8321, 'delay': 2056, 'arrest': 528, 'vulnerable': 9714, 'eternity': 2635, 'maid': 5327, 'cold war': 1551, 'people involve': 6741, 'fun see': 3492, 'later movie': 4913, 'make mistake': 5383, 'kungfu': 4862, 'thereby': 9025, 'arrival': 529, 'ethnic': 2637, 'quentin': 7203, 'groundbreaking': 3926, 'caliber': 1166, 'godfather': 3765, 'art movie': 537, 'school student': 7857, 'act pretty': 106, 'he go': 4055, 'anyhow': 451, 'chainsaw': 1326, 'within first': 10042, 'texas chainsaw': 8973, 'chainsaw massacre': 1327, 'texas chainsaw massacre': 8974, 'bachelor': 652, 'could imagine': 1807, 'character actually': 1347, 'ireland': 4565, 'fairly good': 2882, 'john carradine': 4707, 'budget film': 1111, 'film expect': 3083, 'blood gore': 969, 'the film': 8996, 'see horror': 7946, 'low budget film': 5279, 'turned': 9416, 'classy': 1493, 'also enjoy': 306, 'horrid': 4218, 'prize': 7086, 'group people': 3928, 'know want': 4847, 'want know': 9745, 'whole point': 9989, 'make show': 5401, 'show well': 8178, 'portrait': 6979, 'fundamental': 3496, 'encourage': 2506, 'surrender': 8811, 'fruit': 3475, 'pacific': 6633, 'reveals': 7562, 'wartime': 9777, 'examination': 2762, 'exhibit': 2799, 'salvation': 7733, 'raid': 7240, 'shelter': 8116, 'medical': 5564, 'noble': 6254, 'rear': 7366, 'corn': 1770, 'fee': 2968, 'transform': 9326, 'layer': 4941, 'make year': 5423, 'even today': 2679, 'start film': 8530, 'film tell': 3207, 'also seem': 331, 'insist': 4479, 'training': 9321, 'destiny': 2122, 'coach': 1539, 'thrust': 9161, 'resurrect': 7548, 'sacrifice': 7713, 'critique': 1898, 'problem be': 7097, 'someone like': 8363, 'mean come': 5550, 'movie tv': 5994, 'look bad': 5196, 'botch': 1020, 'blond': 966, 'nothing more': 6298, 'it plot': 4606, 'film pretty': 3170, 'cmon': 1537, 'silliness': 8210, 'retarded': 7551, 'technically': 8919, 'incorrect': 4415, 'childish': 1429, 'prank': 7013, 'even movie': 2669, 'almost everything': 288, 'early 90': 2389, 'actor could': 131, 'ive heard': 4637, 'laugh at': 4918, 'ingrid': 4455, 'bergman': 854, 'popularity': 6971, 'regain': 7431, 'guardian': 3939, 'distinguish': 2240, 'lighthearted': 5048, 'vibrant': 9648, 'colour': 1567, 'unlikable': 9548, 'principle': 7079, 'persuade': 6803, 'elses': 2476, 'clumsy': 1534, 'watch two': 9823, 'film direct': 3066, 'film work': 3235, 'painter': 6646, 'grows': 3933, 'crop': 1901, 'fiend': 3009, 'whole story': 9990, 'movie that': 5977, 'investment': 4557, 'ghetto': 3646, 'hack': 3964, 'home movie': 4179, 'guess what': 3941, 'camera work': 1181, 'carry movie': 1263, 'instant': 4488, 'happen movie': 4000, 'movie thing': 5982, 'since movie': 8231, 'movie never': 5921, 'even make': 2666, 'movie director': 5826, 'director writer': 2195, 'interesting thing': 4526, 'could play': 1811, 'almost like': 290, 'cemetery': 1309, 'mechanical': 5563, 'engine': 2540, 'experienced': 2820, 'say never': 7801, 'show real': 8171, 'movie day': 5821, 'hour life': 4239, 'youngster': 10255, 'sand': 7742, 'beware': 892, 'like every': 5064, 'saw first': 7779, 'greet': 3910, 'commendable': 1612, 'swing': 8839, 'go go': 3727, 'act part': 103, 'give good': 3676, 'give good performance': 3677, 'ought': 6584, 'height': 4084, 'lazy': 4942, 'tempt': 8944, 'yet see': 10236, 'sorely': 8392, 'endeavor': 2531, 'detract': 2131, 'primary': 7073, 'comedy movie': 1603, 'much movie': 6044, 'go see movie': 3749, 'shirley': 8125, 'one ever': 6435, 'young child': 10246, 'time one': 9205, 'one favorite movie': 6438, 'spain': 8423, 'confine': 1682, 'europe': 2639, 'distinction': 2237, 'dictator': 2152, 'protest': 7148, 'surpass': 8801, 'compose': 1657, 'cease': 1301, 'man love': 5439, 'love affair': 5254, 'must make': 6082, 'one moment': 6477, 'award win': 632, 'robbins': 7629, 'deeper': 2036, 'conduct': 1677, 'hallucination': 3981, 'ordeal': 6556, 'spell': 8449, 'joint': 4713, 'scary movie': 7823, 'tom cruise': 9264, 'end even': 2512, 'else say': 2474, 'do movie': 2261, 'splash': 8472, 'cinematographer': 1468, 'felix': 2982, 'shift': 8121, 'standout': 8516, 'neglect': 6157, 'claude': 1494, 'miscast': 5684, 'dot': 2288, 'charismatic': 1395, 'concentration': 1668, 'always look': 351, 'important part': 4379, 'seven year': 8073, 'educational': 2428, 'top that': 9279, 'let go': 5007, 'watch tv': 9822, 'laughed': 4926, 'filth': 3253, 'nearly every': 6135, 'it one': 4605, 'masterful': 5511, 'people say': 6754, 'way think': 9858, 'go find': 3723, 'film rather': 3177, 'excellent movie': 2773, 'russo': 7707, 'abysmal': 59, 'bread': 1055, 'hate it': 4042, 'good plot': 3815, 'film fill': 3093, 'say like': 7795, 'redeem quality': 7411, 'quality film': 7199, 'barry': 742, 'independent film': 4423, 'anything like': 470, 'way character': 9837, 'lesser': 4998, 'memorable scene': 5583, 'consider one': 1703, 'think show': 9106, 'kind way': 4801, 'say think': 7810, 'spend money': 8452, 'know bad': 4818, 'ever saw': 2702, 'interact': 4512, 'theres nothing': 9028, 'bad would': 708, 'matthau': 5524, 'costar': 1783, 'worm': 10094, 'culminate': 1917, 'confession': 1679, 'wreck': 10183, 'sandwich': 7747, 'kindly': 4803, 'arrangement': 526, 'furious': 3511, 'inadvertently': 4396, 'poker': 6943, 'annoyance': 424, 'gloomy': 3699, 'walter matthau': 9733, 'be course': 773, 'nothing happen': 6294, 'type movie': 9461, 'actually pretty': 167, 'spend much': 8453, 'glamorous': 3691, 'middle class': 5622, 'expect anything': 2807, 'man make': 5440, 'curiously': 1927, 'heat': 4076, 'enchant': 2504, 'may get': 5532, 'be fact': 775, 'easy see': 2405, 'year film': 10220, 'even show': 2674, 'teens': 8929, 'plus side': 6926, 'two minute': 9448, 'movie though': 5985, 'acclaim': 71, 'rave': 7276, 'sort film': 8397, 'film base': 3040, 'scene would': 7849, 'work film': 10079, 'spin': 8465, 'whip': 9976, 'pop culture': 6968, 'basic plot': 755, 'darker': 1969, 'film itself': 3118, 'get well': 3643, 'spaghetti': 8422, 'directed': 2183, 'rogue': 7645, 'transport': 9332, 'always get': 348, 'title role': 9246, 'cant find': 1207, 'film maybe': 3143, 'might make': 5636, 'werewolf': 9942, 'far away': 2917, 'dee': 2032, 'occasional': 6352, 'oneliners': 6524, 'miserably': 5686, 'disjoint': 2223, 'watched movie': 9827, 'film fail': 3085, 'fail miserably': 2875, 'film completely': 3056, 'ever want': 2708, 'blatantly': 955, 'dealer': 2001, 'yellow': 10229, 'lengthy': 4991, 'nun': 6328, 'preposterous': 7036, 'bald': 719, 'sid': 8194, 'movie obviously': 5924, 'drug dealer': 2338, 'greed': 3906, 'sleeve': 8287, 'synopsis': 8850, 'map': 5476, 'mate': 5516, 'chaney': 1336, 'movie little': 5901, 'little kid': 5147, 'it really': 4607, 'still love': 8581, 'fresh air': 3453, 'go along': 3710, 'family movie': 2905, 'filmi': 3244, 'think thats': 9109, 'brilliant film': 1074, 'sorrow': 8393, 'bmovies': 981, 'pen': 6725, 'psychotic': 7163, 'cookie': 1758, 'register': 7436, 'really look': 7340, 'great idea': 3890, 'warren': 9775, 'pete': 6806, 'reckless': 7385, 'tease': 8916, 'film low': 3138, 'movieand': 6016, 'think people': 9101, 'expect much': 2812, 'helpful': 4095, 'slaughter': 8280, 'maria': 5481, 'wedding': 9877, 'retrieve': 7555, 'lion': 5129, 'turkish': 9408, 'immensely': 4365, 'castle': 1286, 'extensive': 2843, 'acid': 84, 'pole': 6944, 'vault': 9627, 'harmless': 4029, 'ballet': 722, 'spawn': 8430, 'bad time': 706, 'whats happen': 9959, 'quite like': 7221, 'look something': 5213, 'film want': 3228, 'film fan': 3087, 'carnival': 1255, 'dazzle': 1989, 'alarm': 253, 'wax': 9834, 'generous': 3557, 'go right': 3743, 'cell phone': 1307, 'make work': 5421, 'kill her': 4788, 'hard tell': 4019, 'could be': 1791, 'watch whole': 9824, 'movie perhaps': 5931, 'one worst movie': 6519, 'movie worth watch': 6010, 'flop': 3362, 'get there': 3636, 'care happen': 1243, 'currently': 1929, 'would watch': 10174, 'back day': 654, 'local video': 5165, 'enjoyed movie': 2559, 'venice': 9634, 'brat': 1051, 'coppola': 1763, 'obsession': 6345, 'aesthetic': 211, 'between': 890, 'significance': 8204, 'mann': 5456, 'cynical': 1940, 'mug': 6056, 'neatly': 6137, 'midst': 5626, 'sunny': 8767, 'simultaneously': 8225, 'spoken': 8480, 'leave behind': 4970, 'probably never': 7093, 'great performance': 3895, 'performance actor': 6778, 'well this': 9928, 'rely': 7468, 'learns': 4960, 'repair': 7496, 'befriend': 812, 'pun': 7173, 'delightfully': 2065, 'thing bad': 9041, 'bad make': 689, 'get hand': 3598, 'flock': 3359, 'yearold': 10227, 'marc': 5478, 'oliver': 6403, 'although film': 342, 'film overall': 3162, 'crime drama': 1888, 'time go': 9193, 'character story': 1384, 'cast film': 1278, 'work one': 10085, 'best work': 882, 'todd': 9252, 'merchant': 5593, 'know story': 4846, 'thats one': 8990, 'movie id': 5877, 'happiness': 4007, 'unhappy': 9527, 'people find': 6737, 'character much': 1370, 'incidental': 4404, 'event happen': 2687, 'cast character': 1275, 'character really': 1378, 'something well': 8378, 'wellacted': 9936, 'spout': 8487, 'like character': 5058, 'character suppose': 1386, 'make matter': 5381, 'matter bad': 5521, 'make seem': 5398, 'especially consider': 2619, 'carrie': 1260, 'ram': 7247, 'junior': 4742, 'copy film': 1765, 'end well': 2528, 'admirable': 190, 'writing': 10204, 'whereas': 9966, 'communicate': 1626, 'advertising': 208, 'director make': 2190, 'train wreck': 9320, 'would able': 10117, 'able make': 35, 'madefortv movie': 5316, 'dubious': 2345, 'clutch': 1536, 'morgan freeman': 5755, 'first ten': 3319, 'ten minute': 8947, 'several scene': 8076, 'first ten minute': 3320, 'offering': 6371, 'avenge': 622, 'splatter': 8473, 'messy': 5605, 'sane': 7749, 'film open': 3161, 'woman name': 10056, 'at least': 584, 'singing': 8239, 'gypsy': 3960, 'skate': 8259, 'columbo': 1569, 'lt': 5289, 'relieve': 7462, 'falk': 2890, 'slow move': 8299, 'movie either': 5830, 'early day': 2390, 'people might': 6750, 'peter falk': 6808, 'grandmother': 3865, 'grandfather': 3863, 'agency': 229, 'eugene': 2638, 'brazil': 1054, 'britain': 1081, 'misguide': 5690, 'richardson': 7589, 'keith': 4772, 'tell truth': 8940, 'time still': 9215, 'human nature': 4267, 'giallo': 3649, 'july': 4738, 'mario': 5484, 'film become': 3043, 'boring film': 1012, 'worth mention': 10108, 'marketing': 5488, 'video game': 9658, 'know whether': 4850, 'fall short': 2896, 'two great': 9441, 'actor movie': 141, 'rather watch': 7271, 'well could': 9894, 'big time': 911, 'talented actor': 8886, 'nightclub': 6246, 'authentic': 615, 'pickup': 6839, 'complete lack': 1647, 'glue': 3707, 'deed': 2033, 'difficulty': 2167, 'pervert': 6804, 'keep go': 4764, 'hardship': 4026, 'villager': 9673, 'front camera': 3470, 'prominent': 7127, 'casino': 1271, 'captive': 1232, 'lively': 5157, 'kid get': 4784, 'get drunk': 3586, 'develop character': 2134, 'thing keep': 9055, 'tenant': 8949, 'shake head': 8093, 'decent film': 2016, 'musical score': 6076, 'snowman': 8329, 'expensive': 2818, 'frost': 3473, 'make funny': 5362, 'upbeat': 9574, 'global': 3697, 'ran': 7250, 'harvey': 4038, 'graduate': 3858, 'bind': 921, 'new generation': 6211, 'farm': 2928, 'suitable': 8755, 'fairy': 2885, 'there also': 9017, 'cannon': 1200, 'drone': 2334, 'hail': 3966, 'alienate': 269, 'fart': 2931, 'coffin': 1544, 'detach': 2125, 'best comedy': 863, 'positive review': 6987, 'want take': 9754, 'movie love': 5906, 'ive see year': 4645, 'stilted': 8591, 'really enjoyed': 7326, 'show really': 8172, 'good stuff': 3827, 'show ever': 8156, 'show lot': 8165, 'leslie': 4996, 'freeze': 3447, 'cigarette': 1464, 'reply': 7503, 'think great': 9087, 'favorite part': 2954, 'scene end': 7830, 'act good': 96, 'wonderful film': 10061, 'nightmarish': 6248, 'unsettle': 9564, 'fragment': 3427, 'film since': 3196, 'get use': 3640, 'flame': 3341, 'raw': 7277, 'doesnt': 2272, 'wrestler': 10186, 'ya': 10210, 'show show': 8173, 'one expect': 6436, 'real reason': 7302, 'actually good': 161, 'sucker': 8741, 'copy movie': 1766, 'movie real': 5940, 'into': 4540, 'actually bad': 155, 'wee': 9878, 'graf': 3859, 'depicts': 2090, 'movie contain': 5819, 'family member': 2904, 'also show': 332, 'use movie': 9591, 'dimension': 2174, 'true love': 9372, 'look movie': 5207, 'one never': 6480, 'give another': 3665, 'date movie': 1975, 'parallel': 6660, 'whove': 10001, 'raunchy': 7275, 'niece': 6242, 'biopic': 923, 'unpleasant': 9556, 'ambiguity': 365, 'howl': 4252, 'instrument': 4495, 'smoothly': 8319, 'highway': 4133, '1920s': 2, 'asks': 558, 'financial': 3263, 'meantime': 5558, 'confident': 1681, 'addiction': 183, 'every second': 2725, 'couple time': 1838, 'old fashion': 6390, 'old school': 6398, 'bonnie': 997, 'safety': 7722, 'role movie': 7649, 'nice see': 6234, 'people movie': 6751, 'movie remind': 5946, 'seem know': 8001, 'favorite scene': 2955, 'submit': 8719, 'kate': 4755, 'stroke': 8681, 'avoid cost': 626, 'movie read': 5939, 'never let': 6192, 'establishment': 2628, 'closely': 1521, 'lapse': 4886, 'time spend': 9214, 'character never': 1372, 'bw': 1158, 'helpless': 4096, 'campaign': 1186, 'paranoia': 6662, 'furthermore': 3514, 'jacket': 4651, 'illusion': 4328, 'movie the': 5979, 'might expect': 5631, 'see little': 7951, 'say well': 7814, 'cant recommend': 1214, 'illegal': 4325, 'address': 187, 'early 70': 2387, 'film least': 3127, 'title movie': 9245, 'movie far': 5851, 'believe it': 835, 'film awful': 3038, 'wouldbe': 10177, 'senior': 8027, 'superfluous': 8774, 'blackmail': 943, 'tramp': 9323, 'alcohol': 258, 'loop': 5218, 'locale': 5167, 'grey': 3913, 'testament': 8971, 'butt': 1149, 'naughty': 6125, 'sensitive': 8039, 'look much': 5208, 'scene look': 7837, 'take role': 8880, 'another good': 430, 'character come': 1350, 'say want': 7812, 'think watch': 9110, 'story much': 8634, 'much money': 6042, 'magically': 5325, 'finest': 3286, 'first rate': 3310, 'film debut': 3062, 'art film': 536, 'album': 257, 'angela': 404, 'sustain': 8827, 'expertly': 2824, '20': 13, 'well im': 9906, 'time ive': 9195, 'one give': 6449, 'ta': 8852, 'contest': 1725, 'one shot': 6496, 'time give': 9192, 'citizen kane': 1475, 'intentionally': 4511, 'highschool': 4132, 'bounce': 1028, 'handheld': 3990, 'follower': 3376, 'convinces': 1753, 'dj': 2255, 'booth': 1006, 'entrance': 2599, 'pretty cool': 7053, 'make time': 5409, 'it also': 4582, 'even funny': 2655, 'bad film ive': 682, 'film ive ever': 3120, 'bacon': 666, 'one feel': 6441, 'creativity': 1876, 'astronaut': 581, 'put it': 7191, 'get great': 3597, 'communist': 1628, 'reason film': 7368, 'unlikeable': 9550, 'effectively': 2435, 'plot good': 6913, 'good fun': 3795, 'base book': 745, 'stephen king': 8558, 'film character': 3054, 'good character': 3783, 'waste minute': 9784, 'look real': 5211, '1930s': 3, 'homage': 4177, 'bogart': 989, 'communication': 1627, 'lawrence': 4938, '1940s': 4, 'oh well': 6380, 'funky': 3498, 'bette': 886, 'surroundings': 8813, 'recommended': 7401, 'friend mine': 3459, 'bother watch': 1023, 'highly recommended': 4131, 'definition': 2049, 'annoying': 426, 'love show': 5269, 'show watch': 8177, 'wolf': 10053, 'fed': 2967, 'fetish': 3000, 'make up': 5413, 'fetch': 2999, 'sings': 8241, 'catchy': 1290, 'baffle': 714, 'well look': 9912, 'guest star': 3943, 'remember one': 7477, 'gorilla': 3846, 'deck': 2027, 'terrify': 8963, 'courtroom': 1848, 'conceive': 1666, 'terrorize': 8967, 'convenient': 1741, 'acquire': 87, 'mentality': 5589, 'claustrophobic': 1495, 'abrupt': 44, 'demented': 2072, 'open sequence': 6536, 'whose life': 10000, 'old lady': 6395, 'mel brook': 5575, 'factual': 2872, 'actually quite': 168, 'lieutenant': 5027, 'inevitable': 4438, 'show go': 8160, 'ahead time': 238, 'stress': 8672, 'vital': 9695, 'revolves': 7577, 'stanley': 8518, 'charming': 1401, 'fictional': 3007, 'revolves around': 7578, 'character find': 1357, 'act superb': 109, 'one end': 6432, 'plot device': 6909, 'cd': 1300, 'void': 9702, 'enjoyable movie': 2557, 'genre film': 3560, 'let forget': 5005, 'local video store': 5166, 'belle': 841, 'sensation': 8029, 'ideas': 4306, 'morality': 5749, 'investigation': 4555, 'could really': 1814, 'add much': 179, 'walt': 9731, 'animator': 416, 'smell': 8312, 'buster': 1144, 'streak': 8667, 'scene like': 7836, 'be really': 783, 'dire': 2180, 'firm': 3291, 'throat': 9150, 'jewel': 4690, 'satisfaction': 7763, 'write direct': 10193, 'it cant': 4584, 'like lot': 5079, 'cant take': 1220, 'passable': 6690, 'mall': 5433, 'harass': 4010, 'politically': 6951, 'one reason': 6491, 'every turn': 2729, 'politically correct': 6952, 'godawful': 3764, 'truly awful': 9375, 'caution': 1297, 'tokyo': 9258, 'bros': 1092, 'horror flick': 4224, 'warner bros': 9770, 'array': 527, 'david lynch': 1980, 'scene two': 7847, 'interest character': 4515, 'mobster': 5712, 'stan': 8511, 'shaw': 8106, 'sweep': 8835, 'complement': 1645, 'kung': 4860, 'fu': 3481, 'least two': 4966, 'film though': 3215, 'kung fu': 4861, 'film like this': 3131, 'sassy': 7757, 'version film': 9640, 'make good movie': 5366, 'film anything': 3036, 'like great': 5070, 'old woman': 6400, 'friday 13th': 3455, 'ebay': 2409, 'gee': 3546, 'instantly': 4489, 'highlight film': 4127, 'mystery science': 6097, 'science theater': 7862, 'mystery science theater': 6098, 'mtv': 6027, 'ashley': 551, 'joey': 4704, 'boring movie': 1013, 'understandably': 9504, 'virus': 9686, 'berlin': 855, 'unrealistic': 9560, 'also really': 329, 'story set': 8642, 'take much': 8875, 'sibling': 8191, 'secretly': 7914, 'well never': 9918, 'movie you': 6015, 'really go': 7332, 'corpse': 1776, 'flawless': 3348, 'star film': 8522, 'film he': 3107, 'organization': 6561, 'actually happen': 162, 'show people': 8170, 'movie need': 5920, 'villainous': 9675, 'fritz': 3466, 'hypnotic': 4286, 'sour': 8410, 'movie genre': 5866, 'particularly like': 6684, 'time many': 9201, 'twin': 9429, 'daytime': 1988, 'glare': 3693, 'might think': 5639, 'probably make': 7092, 'hence': 4097, 'pull off': 7169, 'know real': 4843, 'real person': 7299, 'script bad': 7887, 'might want': 5640, 'abstract': 53, 'mixture': 5708, 'hindi': 4141, 'audience would': 604, 'leave wonder': 4975, 'actor would': 149, 'foreign film': 3394, 'eight year': 2445, 'great comedy': 3883, 'also help': 317, 'good role': 3820, 'outset': 6598, 'something really': 8377, 'rage': 7239, 'wholly': 9994, 'one particular': 6484, 'bad script': 701, 'one like': 6462, 'offscreen': 6376, 'dame': 1949, 'entertainer': 2580, 'really give': 7331, 'give much': 3682, 'write book': 10192, 'carmen': 1253, 'del': 2055, 'seductive': 7920, 'carlos': 1252, 'original version': 6571, 'base novel': 746, 'climb': 1512, 'razor': 7280, 'subdue': 8713, 'boxer': 1037, 'give anything': 3666, 'oh yeah': 6381, 'security guard': 7918, 'lot time': 5244, 'chicago': 1421, 'canada': 1191, 'josh': 4721, 'chunk': 1460, 'prepared': 7035, 'avoid movie': 627, 'like plague': 5089, 'first release': 3311, 'think pretty': 9102, 'get copy': 3585, 'love scene': 5267, 'like someone': 5095, 'say see': 7805, 'watch end': 9795, 'surgeon': 8799, 'minute life': 5676, 'woman get': 10055, 'precede': 7018, 'severe': 8079, 'it well': 4618, 'film know': 3124, 'point make': 6935, 'movie tell': 5975, 'shove': 8152, 'inch': 4402, 'vengeance': 9633, 'year since': 10225, 'use word': 9592, 'throughout entire': 9153, 'movie again': 5787, 'film and': 3033, 'character make': 1368, 'late 70': 4907, 'say good': 7790, 'sure movie': 8793, 'enthusiastic': 2588, 'venture': 9635, 'dummy': 2356, 'hammy': 3986, 'obligatory': 6336, 'derivative': 2099, 'stray': 8666, 'lifetime': 5044, 'enjoy much': 2552, 'see least': 7948, 'ive never see': 4639, 'frog': 3467, 'graveyard': 3874, 'orchestra': 6555, 'starter': 8538, 'high quality': 4122, 'hoffman': 4160, 'way well': 9861, 'tom hank': 9265, 'movie actor': 5784, 'good also': 3779, 'movie title': 5988, 'around him': 520, 'love her': 5259, 'colleague': 1556, 'keen': 4759, 'backstory': 664, 'enjoyable film': 2556, 'enterprise': 2577, 'expense': 2817, 'fact film': 2865, 'film real': 3178, 'make lot': 5378, 'grownup': 3932, 'thousand time': 9139, 'fence': 2996, 'leading': 4953, 'israel': 4579, 'well way': 9930, 'lincoln': 5120, 'destine': 2121, 'supreme': 8791, 'movie whole': 6005, 'film critic': 3059, 'life one': 5038, 'cast excellent': 1277, 'thank you': 8978, 'obscurity': 6340, 'nolan': 6259, 'recur': 7406, 'insomnia': 4480, 'characterisation': 1390, 'heighten': 4085, 'suggestion': 8751, 'wacky': 9715, 'like show': 5094, 'stiff': 8567, 'keep wait': 4770, 'scrap': 7875, 'essential': 2625, 'style film': 8708, 'make little': 5374, 'designer': 2110, 'hurry': 4279, 'ah': 236, 'induce': 4433, 'plug': 6923, 'fluid': 3367, 'second movie': 7905, 'reluctant': 7466, 'medieval': 5566, 'independence': 4421, 'get even': 3589, 'well maybe': 9915, 'hound': 4235, 'tracy': 9309, 'away it': 637, 'so bad': 8332, 'that even': 8982, 'so bad good': 8333, 'monroe': 5736, 'beer': 810, 'donna': 2281, 'trivia': 9362, 'valentine': 9609, 'dancing': 1958, 'great time': 3901, 'email': 2480, 'shotgun': 8147, 'palm': 6652, 'miami': 5613, 'film school': 3186, 'caine': 1164, 'jude': 4728, 'michael caine': 5615, 'stack': 8499, 'propose': 7141, 'artificial': 541, 'one year': 6522, 'character situation': 1383, 'sarcasm': 7755, 'it never': 4604, 'write script': 10198, 'book film': 1001, 'think provoke': 9103, 'film full': 3099, 'syndrome': 8849, 'sincerely': 8234, 'derive': 2100, 'try convince': 9384, 'minute later': 5675, 'film it': 3117, 'also write': 337, 'see play': 7965, 'first part': 3308, 'filming': 3245, 'furniture': 3512, 'egg': 2439, 'marvel': 5500, 'uncanny': 9480, 'suspend disbelief': 8820, 'life get': 5032, 'it find': 4589, 'fifteen minute': 3011, 'exaggerated': 2761, 'act terrible': 111, 'time story': 9216, 'belushi': 848, 'film either': 3070, 'director film': 2188, 'good script': 3822, 'speak english': 8432, 'get much': 3621, 'coworkers': 1854, 'grudge': 3935, 'sigh': 8199, 'always make': 353, 'bad movie be': 691, 'boundary': 1030, 'craze': 1869, 'region': 7435, 'apocalypse': 480, 'distinct': 2236, 'ruthless': 7709, 'monitor': 5731, 'prey': 7067, 'realm': 7365, 'errol': 2615, 'hopeful': 4204, 'one seem': 6495, 'harbor': 4011, 'monologue': 5734, 'like way': 5106, 'embark': 2481, 'wheelchair': 9962, 'coast': 1540, 'laugh cry': 4919, 'ensue': 2573, 'think even': 9080, 'june': 4740, 'trend': 9348, 'outrageous': 6596, 'gloss': 3704, 'film anyone': 3035, 'effect film': 2433, 'end good': 2516, 'nothing film': 6292, 'mafia': 5320, 'abruptly': 45, 'give character': 3672, 'story simple': 8643, 'real problem': 7301, 'least make': 4964, 'cure': 1924, 'back time': 660, 'film every': 3079, 'want to': 9755, 'bad idea': 688, 'far best': 2919, 'sound track': 8407, 'end leave': 2517, 'get chance see': 3583, 'watch paint': 9814, 'paint dry': 6645, 'watch paint dry': 9815, 'accidental': 69, 'literal': 5136, 'balloon': 723, 'rub': 7685, 'whistle': 9978, 'irony': 4571, 'seriousness': 8060, 'two friend': 9439, 'movie yet': 6014, 'bit slow': 930, 'nice guy': 6231, 'good deal': 3785, 'warehouse': 9765, 'miss point': 5695, 'ego': 2440, 'bad get': 684, 'mean movie': 5551, 'bad people': 696, 'deaf': 1999, 'obsessive': 6346, 'two movie': 9449, 'make whole': 5419, 'reed': 7417, 'meal': 5548, 'nonexistent': 6267, 'mill': 5650, 'unseen': 9563, 'cycle': 1939, 'farmer': 2929, 'resist': 7524, 'inevitably': 4439, 'alas': 254, 'sinatra': 8227, 'frank sinatra': 3435, 'hour movie': 4242, 'everything seem': 2746, 'right wrong': 7606, 'secondly': 7911, 'bad director': 675, 'really quite': 7350, 'boston': 1019, 'championship': 1332, 'hart': 4036, 'antic': 442, 'elizabeth': 2468, 'macho': 5311, 'stunning': 8700, 'orient': 6563, 'bravo': 1053, 'jake': 4657, 'hulk': 4261, 'dwarf': 2373, 'bitch': 931, 'there much': 9020, 'good get': 3796, 'pretty damn': 7054, 'might add': 5628, 'really matter': 7343, 'do good': 2259, 'pretty decent': 7055, 'people really': 6753, 'it give': 4592, 'cream': 1871, 'moviegoer': 6017, 'aspect movie': 562, 'none character': 6265, 'movie lack': 5891, 'standup': 8517, 'go around': 3712, 'character little': 1366, 'story end': 8618, 'diverse': 2251, 'lead believe': 4947, 'movie itself': 5883, 'playful': 6893, 'continuously': 1731, 'chose': 1445, 'also feature': 308, 'say watch': 7813, 'fell asleep': 2984, 'uncut': 9487, 'verbal': 9636, 'underwear': 9511, 'adore': 200, 'realization': 7311, 'dated': 1976, 'get girl': 3594, 'gene kelly': 3551, 'mutant': 6088, 'ninja': 6251, 'dustin': 2362, 'know be': 4819, 'right now': 7602, 'dustin hoffman': 2363, 'ginger': 3657, 'one watch': 6512, 'bargain': 737, 'important thing': 4380, 'splice': 8475, 'patch': 6698, 'watch good': 9803, 'try figure': 9387, 'im afraid': 4331, 'sits': 8253, 'variation': 9621, 'overwrought': 6624, 'see like': 7950, 'caper': 1228, 'undercover': 9491, 'waste hour': 9783, 'make sick': 5402, 'think funny': 9083, 'nothing much': 6300, 'big deal': 902, 'hatch': 4040, 'amusement': 386, 'quarter': 7201, 'actor really': 145, 'good thing movie': 3829, 'would help': 10142, 'ive see movie': 4644, 'somehow manage': 8358, 'publish': 7167, 'spend much time': 8454, 'paraphrase': 6664, 'week ago': 9880, 'appreciate film': 496, 'keep eye': 4761, 'spill': 8464, 'hilton': 4138, 'spear': 8436, 'thinking': 9113, 'got': 3849, 'man woman': 5443, 'two guy': 9442, 'guy try': 3957, 'good be': 3781, 'really try': 7359, 'short time': 8142, 'closer': 1522, 'softcore': 8346, 'plot really': 6920, 'oddball': 6359, 'go work': 3758, 'movieit': 6019, 'get past': 3624, 'stale': 8507, 'isolation': 4578, 'victorian': 9654, 'methe': 5608, 'consistently': 1710, 'puppy': 7180, 'revisit': 7570, 'itd': 4623, 'asset': 569, 'frustrating': 3478, 'informative': 4452, 'story young': 8653, 'life never': 5037, 'below': 846, 'movie wonderful': 6007, 'look well': 5214, 'decline': 2029, 'pronounce': 7133, 'known': 4854, 'contain spoiler': 1719, 'hear movie': 4067, 'understand it': 9500, 'movie call': 5810, 'timeless': 9231, 'adjust': 189, 'assassination': 566, 'excellent film': 2771, 'test time': 8970, 'scene well': 7848, 'daylight': 1987, 'retreat': 7554, 'excruciatingly': 2792, 'dream sequence': 2319, 'struck': 8686, 'suave': 8711, 'uniformly': 9529, 'gilbert': 3655, 'around time': 522, 'eaten': 2407, 'advertisement': 207, 'un': 9472, 'everyday': 2733, 'film festival': 3092, 'young people': 10252, 'take life': 8870, 'minority': 5671, 'quite funny': 7219, 'even consider': 2652, 'say great': 7791, 'movie set': 5958, 'comfort': 1604, 'glad do': 3690, 'tear eye': 8915, 'chew': 1420, 'amy': 388, 'profit': 7118, 'however movie': 4250, 'jack nicholson': 4649, 'romanian': 7658, 'go something': 3751, 'duvall': 2366, 'paced': 6632, 'distributor': 2246, 'film mean': 3144, 'wig': 10010, 'diary': 2147, 'time first': 9190, 'way describe': 9839, 'ive see long': 4642, 'entice': 2589, 'hears': 4070, 'distinctly': 2239, 'the movie': 9001, 'film actor': 3025, 'moreover': 5753, 'sort thing': 8399, 'movie focus': 5860, 'young men': 10251, 'live life': 5156, 'really funny': 7329, 'truly one': 9377, 'movie truly': 5991, 'like could': 5059, 'reign': 7442, 'well many': 9914, 'watch get': 9802, 'people kill': 6742, 'choke': 1437, 'analyze': 391, 'laser': 4890, 'log': 5171, 'blown': 976, 'movie almost': 5789, 'viewpoint': 9669, 'hard watch': 4021, 'delve': 2070, 'hal': 3968, 'see screen': 7969, 'must go': 6081, 'go rent': 3742, 'fulci': 3483, 'movie extremely': 5846, 'film focus': 3097, 'great horror': 3889, 'quickly become': 7210, 'like well': 5107, 'headline': 4060, 'film miss': 3147, 'breakdown': 1057, 'jeremy': 4681, 'royal': 7684, 'turmoil': 9409, 'pad': 6638, 'immortal': 4367, 'inherit': 4459, 'wish would': 10037, 'back forth': 655, 'little movie': 5148, 'samurai': 7739, 'reluctantly': 7467, 'good review': 3819, 'stop laugh': 8605, 'doris': 2285, 'delicious': 2061, 'richards': 7588, 'even less': 2662, 'waste talent': 9786, 'alot': 299, 'mystical': 6099, 'sheet': 8112, 'gasp': 3540, 'call that': 1172, 'girl go': 3660, 'east': 2401, 'international film': 4531, 'one would expect': 6521, 'want see movie': 9752, 'he really': 4057, 'telephone': 8931, 'heartfelt': 4074, 'barrier': 741, 'man would': 5444, 'man name': 5441, 'another scene': 436, 'scene see': 7843, 'see old': 7961, 'also see': 330, 'pivotal': 6865, 'radical': 7236, 'vividly': 9697, 'aftermath': 223, 'economic': 2413, 'assemble': 568, 'lance': 4879, 'stylize': 8710, 'boast': 984, 'mrs': 6024, 'ward': 9762, '30': 19, 'female lead': 2991, 'good use': 3832, 'moron': 5757, 'live dead': 5155, 'bad ever': 679, 'cant see': 1217, 'movie fan': 5850, 'vapid': 9620, 'ponder': 6956, 'sublime': 8717, 'von': 9707, 'film big': 3046, 'film highly': 3109, 'screwball': 7885, 'muslim': 6078, 'camcorder': 1175, 'movie not': 5922, 'cerebral': 1318, 'pub': 7164, 'little thing': 5151, 'skull': 8270, 'vow': 9710, 'conan': 1665, 'would come': 10126, 'say thing': 7809, 'hearing': 4069, 'rifle': 7599, 'lol': 5175, 'go away': 3713, 'clan': 1483, 'fisher': 3332, 'lad': 4872, 'film suppose': 3203, 'likable character': 5052, 'forbid': 3387, 'forced': 3391, 'day one': 1986, 'would allow': 10119, 'film something': 3197, 'could better': 1793, 'downey': 2295, 'timei': 9230, 'movie life': 5897, 'good would': 3837, 'paxton': 6710, 'burden': 1131, 'drawback': 2313, 'spine': 8466, 'go kill': 3733, 'fbi agent': 2960, 'keep viewer': 4769, 'unfamiliar': 9519, 'dish': 2222, 'mortal': 5760, 'hawk': 4049, 'lurk': 5303, 'make viewer': 5414, 'costello': 1785, 'fairy tale': 2886, 'republic': 7511, 'newcomer': 6219, 'opt': 6549, 'boost': 1004, 'elect': 2453, 'arguably': 509, 'dwell': 2374, 'satisfying': 7765, 'ensemble cast': 2572, 'cup tea': 1923, 'ruby': 7688, 'gabriel': 3521, 'diaz': 2148, 'weather': 9872, 'historic': 4150, 'film keep': 3122, 'one beautiful': 6418, 'play good': 6882, 'film genre': 3101, 'actor actresses': 129, 'best one': 871, 'actor actress': 128, 'nazi': 6128, 'tendency': 8951, 'greedy': 3907, 'sweetheart': 8837, 'proportion': 7140, 'voight': 9703, 'want good': 9743, 'slow motion': 8298, 'movie first time': 5859, 'respond': 7534, 'disappointed movie': 2204, 'gloria': 3700, 'inhabitant': 4457, 'desperation': 2115, 'entire cast': 2591, 'aggressive': 232, 'go school': 3745, 'wheel': 9961, 'play game': 6881, 'movie like one': 5899, 'willis': 10020, 'bend': 850, 'youthful': 10259, 'bruce willis': 1098, 'really nice': 7347, 'movie minute': 5915, 'francis': 3431, 'imaginable': 4353, 'weve get': 9950, 'hard make': 4018, 'bruno': 1099, 'film this': 3214, 'troma': 9364, 'insulting': 4497, 'unnatural': 9552, 'session': 8064, 'may may': 5534, 'many many': 5466, 'much plot': 6047, 'character real': 1377, 'high expectation': 4118, 'think might': 9096, 'en': 2502, 'vet': 9643, 'august': 607, 'spiral': 8467, 'be good': 778, 'iraq': 4564, 'rhythm': 7584, 'one rare': 6489, 'also know': 319, 'many different': 5461, 'anyone interested': 458, 'see really': 7968, 'movie least': 5894, 'uh': 9466, 'operate': 6540, 'arrow': 533, 'it could': 4585, 'time watch movie': 9225, 'poor act': 6959, 'additional': 185, 'lily': 5115, 'enough see': 2569, 'film follow': 3098, 'think of': 9099, 'manipulation': 5453, 'sf': 8089, 'ignorance': 4315, 'start go': 8533, 'one single': 6499, 'craig': 1858, 'understated': 9506, 'runaway': 7697, 'really cool': 7323, 'end would': 2529, 'um': 9471, 'investigator': 4556, 'might get': 5633, 'move on': 5777, 'love film': 5256, 'movie plot': 5933, 'prostitution': 7144, 'amidst': 377, 'cameraman': 1182, 'half time': 3974, 'well least': 9909, 'scene even': 7831, 'hugh': 4258, 'sly': 8303, 'grandma': 3864, 'minimal': 5665, 'movie comedy': 5816, 'decent movie': 2018, 'film that': 3209, 'film deserve': 3064, 'side story': 8196, 'story also': 8611, 'instructor': 4494, 'indication': 4428, 'confidence': 1680, 'wicked': 10003, 'weakness': 9866, 'greatness': 3905, 'film another': 3034, 'farfetched': 2927, 'sundance': 8764, 'ned': 6142, 'robin hood': 7632, 'proceeding': 7101, 'deadpan': 1998, 'perfect example': 6770, 'story start': 8644, 'actually funny': 158, 'woman play': 10057, 'keep guess': 4765, 'film thats': 3210, 'sugar': 8749, 'movie it': 5882, 'dead end': 1995, 'ever hear': 2698, 'save movie': 7775, 'pretension': 7049, 'interpret': 4534, 'sensibility': 8037, 'movie look like': 5904, 'wes': 9943, 'mei': 5573, 'skit': 8269, 'dynamite': 2378, 'movie laugh': 5893, 'film music': 3151, 'dawson': 1984, 'damon': 1952, 'stalker': 8509, 'year movie': 10222, 'leave theater': 4973, 'leave feel': 4971, 'taught': 8904, 'thing people': 9062, 'hate movie': 4043, 'movie perfect': 5930, 'shelf': 8113, 'creek': 1883, 'portrayed': 6982, 'really understand': 7360, 'course one': 1845, 'movie often': 5925, 'due fact': 2350, 'one well': 6514, 'cassavetes': 1272, 'evoke': 2753, 'rider': 7594, 'innuendo': 4471, 'need make': 6148, 'transplant': 9331, 'participant': 6679, 'deliciously': 2062, 'classify': 1492, 'peculiar': 6722, 'pay see': 6713, 'cant seem': 1218, 'movie guy': 5872, 'get together': 3638, 'year back': 10217, 'woody allen': 10072, 'route': 7680, 'temptation': 8945, 'unfinished': 9520, 'throw away': 9158, 'overtone': 6620, 'start say': 8535, 'poorly write': 6966, 'little sense': 5150, 'end end': 2511, 'try explain': 9386, 'good original': 3812, 'baddie': 710, 'costars': 1784, 'request': 7514, 'movie act': 5783, 'best part movie': 873, 'hollywood movie': 4173, 'filmography': 3249, 'karl': 4754, 'sentimentality': 8046, 'make end': 5355, 'me im': 5546, 'say the': 7808, 'it bad': 4583, 'cant understand': 1223, 'get high': 3600, 'write film': 10194, 'suburban': 8733, 'guy go': 3953, 'happen film': 3999, 'find funny': 3268, 'give great': 3678, 'decidedly': 2024, 'sad thing': 7715, 'closing': 1525, 'invasion': 4549, 'make absolutely': 5343, 'look pretty': 5210, 'spade': 8421, 'whisper': 9977, 'plate': 6876, 'interested see': 4521, 'wrench': 10184, 'videotape': 9661, 'make realize': 5395, 'duel': 2351, 'suppose funny': 8789, 'emphasize': 2497, 'movie bit': 5806, 'story like': 8627, 'time watch it': 9224, 'inclusion': 4408, 'terrible act': 8958, 'really bad movie': 7318, 'frontal': 3471, 'corridor': 1779, 'clash': 1485, 'industrial': 4435, 'laughing': 4927, 'boom': 1003, 'see several': 7971, 'mummy': 6060, 'energetic': 2537, 'prom': 7126, 'relate to': 7445, 'unsuspecting': 9568, 'one interesting': 6456, 'specially': 8440, 'improvise': 4391, 'beside': 857, 'glory': 3703, 'two three': 9454, 'watch last': 9805, 'maggie': 5322, 'like really': 5091, 'film write': 3238, 'start well': 8537, 'eventually get': 2691, 'show character': 8154, 'id see': 4300, 'end scene': 2524, 'chase scene': 1403, 'really anything': 7316, 'sing dance': 8237, 'serf': 8051, 'idol': 4312, 'new life': 6212, 'way life': 9845, 'right thing': 7605, 'first season': 3316, 'show much': 8168, 'high school student': 4125, 'thing one': 9061, 'someone actually': 8360, 'first five': 3298, 'early on': 2393, 'particularly good': 6683, 'foil': 3373, 'adrian': 201, 'acted': 115, 'new one': 6214, 'never read': 6197, 'read novel': 7288, 'simmons': 8217, 'good it': 3801, 'fury': 3515, 'character also': 1348, 'enjoy see': 2553, 'act one': 102, 'bandit': 728, 'welldone': 9937, 'hokey': 4161, 'movie script': 5952, 'drivein': 2330, 'see theater': 7978, 'try best': 9383, 'different film': 2161, 'look feel': 5197, 'film fact': 3084, 'spaceship': 8419, 'film need': 3153, 'ever happen': 2697, 'wellknown': 9939, 'poem': 6928, 'satellite': 7760, 'goodlooking': 3839, 'like him': 5073, 'man whose': 5442, 'also include': 318, 'afterward': 225, 'bad funny': 683, 'jordan': 4719, 'loony': 5217, 'despicable': 2116, 'script write': 7889, 'actually find': 157, 'look act': 5193, 'painful watch': 6642, 'fought': 3418, 'unclear': 9482, 'outdated': 6589, 'bette davis': 887, 'nothing special': 6304, 'use film': 9590, 'scene also': 7827, 'could well': 1825, 'dud': 2347, 'probably like': 7091, 'bittersweet': 935, 'weary': 9871, 'definitive': 2050, 'ambiguous': 366, 'film almost': 3029, 'compare film': 1634, 'swim': 8838, 'pretty well': 7061, 'ladder': 4873, 'make sound': 5404, 'upside': 9583, 'suitably': 8756, 'tremendously': 9347, 'grisly': 3920, 'heavyhanded': 4080, 'el': 2449, 'even close': 2649, 'anxious': 448, 'spread': 8488, 'good comedy': 3784, 'one best movie': 6421, 'scope': 7869, 'iconic': 4292, 'drain': 2307, 'madman': 5317, 'replacement': 7501, 'budget movie': 1113, 'disastrous': 2208, 'message movie': 5604, 'way go': 9844, 'leo': 4993, 'lionel': 5130, 'piece together': 6846, 'murder mystery': 6063, 'roughly': 7677, 'wisecrack': 10033, 'asylum': 582, 'amount time': 383, 'character plot': 1375, 'life movie': 5036, 'respectively': 7533, 'also good': 314, 'like big': 5057, 'smile face': 8314, 'it good': 4594, 'pimp': 6853, 'georgia': 3566, 'always good': 349, 'verge': 9638, 'dracula': 2303, 'production company': 7109, 'compromise': 1662, 'lot thing': 5243, 'movie two': 5995, 'sandler': 7744, 'adam sandler': 174, 'selection': 8018, 'dodge': 2270, 'present day': 7040, 'seem quite': 8008, 'time period': 9206, 'way story': 9857, 'also movie': 324, 'pompous': 6955, 'sprinkle': 8491, 'much make': 6041, 'movie shot': 5959, 'almost entirely': 286, 'immature': 4361, 'flashy': 3344, 'vibe': 9647, 'the first': 8997, 'people even': 6735, 'know go': 4826, 'harden': 4024, 'nude scene': 6323, 'almost make': 291, 'necessity': 6140, 'pistol': 6859, 'actor get': 134, 'velvet': 9632, 'international film festival': 4532, 'ethan': 2636, 'life make': 5035, 'movie usually': 5998, 'try kill': 9394, 'away one': 639, 'imply': 4376, 'drivel': 2331, 'privilege': 7085, 'riddle': 7592, 'way end': 9840, 'work hard': 10081, 'chronicle': 1457, 'cave': 1298, 'film saw': 3183, 'actor good': 136, 'organ': 6560, 'piece garbage': 6845, 'road trip': 7623, 'twenty year': 9425, 'shocked': 8128, 'thing ive': 9054, 'one little': 6465, 'well job': 9907, 'middleclass': 5624, 'move story': 5778, 'there really': 9023, 'every day': 2716, 'pause': 6709, 'act make': 100, 'pun intend': 7174, 'bad review': 700, 'view movie': 9666, 'roth': 7674, 'hostile': 4231, 'sends': 8026, 'entire family': 2592, 'novelist': 6313, 'mini': 5663, 'juliette': 4737, 'outer': 6590, 'shore': 8137, 'outer space': 6591, 'make watch': 5416, 'cuba': 1914, 'time know': 9196, 'rope': 7671, 'champion': 1331, 'mentor': 5592, 'guy like': 3954, 'hick': 4113, 'wildly': 10013, 'bury': 1137, 'artwork': 546, 'and one': 397, 'everyday life': 2734, 'good sense': 3824, 'top notch': 9278, 'find anything': 3265, 'art direction': 535, 'understand movie': 9501, 'li': 5019, 'deem': 2034, 'permanent': 6793, 'literary': 5138, 'perfect role': 6772, 'rocky': 7640, 'well be': 9891, 'shelley': 8115, 'see also': 7925, 'grasp': 3868, 'brainless': 1046, 'pacino': 6635, 'indulge': 4434, 'al pacino': 250, 'bent': 853, 'akin': 248, 'brooklyn': 1091, 'even film': 2653, 'maker film': 5425, 'scene take': 7846, 'get pay': 3625, 'believer': 839, 'disney movie': 2228, 'apparent reason': 485, 'belt': 847, 'new movie': 6213, 'hideous': 4116, 'unsatisfying': 9562, 'limp': 5119, 'armor': 515, 'approve': 501, 'casual': 1287, 'time would': 9227, 'anxiety': 447, 'seem almost': 7997, 'surprise end': 8803, 'sergio': 8053, 'insurance': 4498, 'salesman': 7729, 'see him': 7945, 'always love': 352, 'two woman': 9455, 'life death': 5030, 'laurel': 4932, 'elevate': 2462, 'laurel hardy': 4933, 'natalie': 6116, 'something like that': 8373, 'it fact': 4587, 'know make': 4835, 'see actor': 7923, 'underneath': 9495, 'beautiful film': 799, 'access': 66, 'determination': 2129, 'movie remember': 5945, 'quite sure': 7225, 'be however': 779, 'bought': 1027, 'vulgar': 9713, 'favorite character': 2951, 'end see': 2525, 'end think': 2527, 'overdone': 6612, 'people love': 6747, 'could much': 1809, 'stunningly': 8701, 'elicit': 2465, 'unstable': 9566, 'wagner': 9716, 'even come close': 2651, 'weekly': 9882, 'sullivan': 8757, 'psychedelic': 7155, 'add nothing': 180, 'token': 9257, 'song dance': 8386, 'could do well': 1796, 'regime': 7434, 'film day': 3060, 'broad': 1084, 'peril': 6790, 'number one': 6326, 'he get': 4054, 'might enjoy': 5629, 'inconsistent': 4413, 'contribution': 1736, 'character be': 1349, 'amazon': 364, 'diminish': 2176, 'first second': 3317, 'saga': 7723, 'tourist': 9299, 'sleeper': 8285, 'save life': 7773, 'first watch': 3328, 'end feel': 2513, 'likewise': 5114, 'lose interest': 5228, 'one line': 6463, 'could even': 1798, 'think best': 9077, 'year come': 10218, 'get along': 3572, 'lead actress': 4946, 'else could': 2472, 'unconventional': 9484, 'kubrick': 4857, 'story be': 8614, 'seller': 8023, 'showtime': 8185, 'stripper': 8679, 'love watch': 5272, 'mean really': 5552, 'ghost story': 3648, 'intro': 4544, 'movie scene': 5951, 'alongside': 298, 'tightly': 9172, 'shots': 8148, 'time character': 9183, 'show film': 8157, 'conscious': 1697, 'cent': 1311, 'film title': 3217, 'come age': 1576, 'second world': 7909, 'soccer': 8339, 'also play': 326, 'film industry': 3114, 'story act': 8610, 'include one': 4407, 'end result': 2523, 'laughs': 4928, 'south park': 8414, 'geek': 3547, 'nelson': 6163, 'yep': 10230, 'neurotic': 6174, 'one be': 6417, 'amazed': 361, 'film dvd': 3069, 'imo': 4368, 'two different': 9437, 'cant go': 1209, 'sweden': 8833, 'branagh': 1047, 'earlier film': 2385, 'film deal': 3061, 'skip one': 8268, 'bless': 960, 'dramatically': 2311, 'capacity': 1227, 'arty': 547, 'background music': 663, 'funny all': 3502, 'movie unless': 5996, 'two thing': 9453, 'stance': 8512, 'beatty': 797, 'would end': 10130, 'idea movie': 4304, 'pretty lame': 7058, 'incidentally': 4405, 'next year': 6229, 'considers': 1707, 'paramount': 6661, 'though like': 9128, 'time find': 9189, 'well acted': 9888, 'expect movie': 2811, 'miranda': 5682, 'film part': 3163, 'grainy': 3861, 'scarecrow': 7819, 'melt': 5580, 'first half hour': 3300, 'except maybe': 2778, 'relevance': 7457, 'every year': 2731, 'start movie': 8534, 'producer director': 7106, 'cloud': 1529, 'brick': 1066, 'chemical': 1415, 'save time': 7776, 'actually one': 166, 'thompson': 9122, 'get impression': 3605, 'ny': 6332, 'scene go': 7834, 'indifferent': 4431, 'story quite': 8638, 'minister': 5668, 'davy': 1982, 'companion': 1630, 'bash': 753, 'character good': 1361, 'sex violence': 8083, 'contemplate': 1721, 'best movie ever': 870, 'sht': 8188, 'total waste': 9291, 'really say': 7352, 'diana': 2145, 'helm': 4091, 'way show': 9855, 'end like': 2518, 'give show': 3684, 'bad act bad': 669, 'palace': 6650, 'treat like': 9342, 'isolated': 4577, 'hisher': 4148, 'see act': 7922, 'movie put': 5936, 'different way': 2164, 'underrate': 9496, 'movie deserve': 5824, 'long ago': 5181, 'obstacle': 6347, 'plane crash': 6872, 'role well': 7651, 'intertwine': 4537, 'egypt': 2441, 'firstrate': 3330, 'another thing': 437, 'clerk': 1499, 'additionally': 186, 'russia': 7705, 'bad think': 705, 'nothing less': 6295, 'even great': 2660, 'wholesome': 9993, 'film use': 3226, 'depressed': 2092, 'learn something': 4959, 'stupid thing': 8705, 'eyes': 2857, 'awareness': 634, 'big city': 901, 'vcr': 9628, 'progression': 7124, 'remembers': 7480, 'hamlet': 3984, 'low budget movie': 5281, 'phase': 6814, 'well bad': 9890, 'people one': 6752, 'dedication': 2031, 'good really': 3817, 'filter': 3252, 'forbidden': 3388, 'loan': 5162, 'itit': 4626, 'movie seriously': 5957, 'moviemaking': 6020, 'ritter': 7617, 'movie kind': 5889, 'good watch': 3833, 'samantha': 7735, 'enable': 2503, 'unleash': 9546, 'discus': 2215, 'spotlight': 8485, 'storythe': 8656, 'tripe': 9359, 'niro': 6252, 'de niro': 1992, 'ceiling': 1302, 'could save': 1815, 'bloom': 972, 'never do': 6179, 'hateful': 4044, 'make first': 5360, 'fan like': 2910, 'end day': 2510, 'today standard': 9250, 'stair': 8505, 'cagney': 1163, 'robinson': 7634, 'socially': 8342, 'agony': 234, 'it take': 4613, 'think see': 9105, 'recommend film anyone': 7393, 'stimulate': 8592, 'fair amount': 2880, 'peaceful': 6718, 'boob': 999, 'times': 9232, 'mustve': 6087, 'overblown': 6609, 'feast': 2962, 'try escape': 9385, 'part make': 6673, 'authenticity': 616, 'excellent act': 2769, 'movie take place': 5974, 'nuanced': 6320, 'excellent actor': 2770, 'drinking': 2327, 'elevator': 2463, 'probably bad': 7089, 'backdrop': 661, 'one minute': 6475, 'partially': 6678, 'lackluster': 4871, 'growth': 3934, 'perhaps even': 6788, 'good director': 3786, 'need money': 6149, 'want something': 9753, 'among others': 380, 'consciousness': 1698, 'comprise': 1661, 'cohesive': 1546, 'good luck': 3805, 'story never': 8635, 'distress': 2243, 'theyre go': 9035, 'talk like': 8889, 'belly': 842, 'vignette': 9670, 'rita': 7616, 'flirt': 3357, 'crow': 1903, 'axe': 649, 'shocker': 8129, 'go without': 3757, 'film let': 3129, 'figure out': 3018, 'right place': 7603, 'rack': 7235, 'stock footage': 8598, 'interesting film': 4524, 'gossip': 3848, 'want movie': 9749, 'dungeon': 2358, 'try something': 9399, 'tell movie': 8936, 'may well': 5537, 'film young': 3242, 'way could': 9838, 'story love': 8629, 'dock': 2266, 'censor': 1310, 'mitchum': 5705, 'director producer': 2191, 'best director': 864, 'circa': 1470, 'warner brother': 9771, 'contempt': 1723, 'drill': 2325, 'go see film': 3747, 'name like': 6106, 'kirk': 4806, 'scarlett': 7821, 'even so': 2675, 'absent': 47, 'infect': 4443, 'supportive': 8786, 'sober': 8337, 'labor': 4868, 'film include': 3113, 'nest': 6170, 'comment make': 1615, 'far good': 2920, 'say nothing': 7802, 'outrage': 6595, 'brush': 1100, 'vastly': 9626, 'excellence': 2767, 'go give': 3726, 'interrupt': 4536, 'good moment': 3807, 'go look': 3736, 'student film': 8692, 'mechanic': 5562, 'see would': 7988, 'real plot': 7300, 'bunch people': 1129, 'see end': 7935, 'good too': 3831, 'degenerate': 2052, 'abundance': 56, 'television show': 8934, 'film totally': 3219, 'fragile': 3426, 'people around': 6731, 'book movie': 1002, 'character name': 1371, 'movie series': 5956, 'malcolm': 5430, 'travolta': 9339, 'theme film': 9008, 'underlie': 9494, 'idea film': 4302, 'horrible act': 4215, 'movie stupid': 5969, 'movie add': 5786, 'repulsive': 7512, 'easily one': 2400, 'ever see life': 2705, 'mind you': 5658, 'stand out': 8514, 'misfit': 5688, 'crank': 1860, 'yet one': 10235, 'expect lot': 2810, 'big mistake': 905, 'pathos': 6701, 'keep interested': 4766, 'shepherd': 8117, 'film basically': 3041, 'never see movie': 6201, 'downfall': 2296, 'performance good': 6780, 'would show': 10167, 'laugh movie': 4923, 'hour film': 4237, 'god know': 3763, 'like actor': 5054, 'movie me': 5912, 'bastard': 760, 'soviet union': 8417, 'well script': 9923, 'negative review': 6156, 'life watch': 5040, 'earl': 2383, 'effect bad': 2432, 'within minute': 10043, 'two scene': 9451, 'riff': 7598, 'allows': 279, 'see make': 7956, 'jade': 4655, 'silver screen': 8213, 'inexplicable': 4440, 'would enjoy': 10131, 'pic': 6836, 'regularly': 7440, 'hold attention': 4163, 'makeup effect': 5427, 'thing even': 9046, 'prompt': 7131, 'movie rather': 5938, 'like even': 5063, 'offense': 6368, 'man go': 5437, 'show little': 8164, 'love character': 5255, 'hayes': 4050, 'two girl': 9440, 'care about': 1241, 'bait': 716, 'though see': 9131, 'swamp': 8830, 'sheep': 8110, 'perfectly cast': 6775, 'far one': 2922, 'early movie': 2392, 'scene ever': 7832, 'estrange': 2630, 'wore': 10075, 'lot action': 5234, 'story without': 8651, 'think anything': 9074, 'great music': 3893, 'see young': 7991, 'still find': 8573, 'movie believe': 5803, 'long film': 5183, 'comeback': 1597, '18th': 1, 'indiana': 4426, 'blaze': 956, 'money see': 5729, 'sleepy': 8286, 'time travel': 9220, 'show time': 8174, 'college student': 1562}\n"
     ]
    }
   ],
   "source": [
    "print(len(tf.vocabulary_), tf.vocabulary_)"
   ]
  },
  {
   "cell_type": "code",
   "execution_count": 22,
   "metadata": {},
   "outputs": [
    {
     "name": "stdout",
     "output_type": "stream",
     "text": [
      "  (0, 10136)\t0.14492936911205515\n",
      "  (0, 10116)\t0.050681302832840294\n",
      "  (0, 10008)\t0.09090907384025766\n",
      "  (0, 9791)\t0.09727953853658737\n",
      "  (0, 9782)\t0.1723366696007372\n",
      "  (0, 9781)\t0.0860486949807661\n",
      "  (0, 9738)\t0.12405859640011765\n",
      "  (0, 9639)\t0.09092944602752799\n",
      "  (0, 9601)\t0.13216692585732512\n",
      "  (0, 9404)\t0.12875022046074963\n",
      "  (0, 9007)\t0.10005711102126379\n",
      "  (0, 8979)\t0.1405541320523677\n",
      "  (0, 8932)\t0.10829820140620439\n",
      "  (0, 8862)\t0.0564046874204292\n",
      "  (0, 8568)\t0.06545813888284828\n",
      "  (0, 8324)\t0.17468501364470862\n",
      "  (0, 8056)\t0.0854916646741642\n",
      "  (0, 7958)\t0.09571357427633882\n",
      "  (0, 7921)\t0.040716571124056904\n",
      "  (0, 7872)\t0.12616965164675467\n",
      "  (0, 7870)\t0.09897276181919287\n",
      "  (0, 7855)\t0.28324460150297526\n",
      "  (0, 7766)\t0.13886830219332008\n",
      "  (0, 7687)\t0.133734911896795\n",
      "  (0, 7500)\t0.1341754630052528\n",
      "  :\t:\n",
      "  (39999, 3877)\t0.11611977202466821\n",
      "  (39999, 3773)\t0.04726456861693279\n",
      "  (39999, 3381)\t0.13497436327782442\n",
      "  (39999, 3105)\t0.13808091528038888\n",
      "  (39999, 3022)\t0.038378941897958305\n",
      "  (39999, 2815)\t0.1273504239463761\n",
      "  (39999, 2757)\t0.14731612680913303\n",
      "  (39999, 2677)\t0.15846437505450023\n",
      "  (39999, 2644)\t0.052365806687107545\n",
      "  (39999, 2273)\t0.11696855401081835\n",
      "  (39999, 2256)\t0.06973925636183459\n",
      "  (39999, 2154)\t0.09644992251364584\n",
      "  (39999, 2006)\t0.16590799067175263\n",
      "  (39999, 2005)\t0.09426110244069351\n",
      "  (39999, 1613)\t0.0991646267578856\n",
      "  (39999, 1574)\t0.05993124640537644\n",
      "  (39999, 1421)\t0.16109379966427367\n",
      "  (39999, 1325)\t0.15305362336231834\n",
      "  (39999, 1234)\t0.10516432290321415\n",
      "  (39999, 859)\t0.0663899019732268\n",
      "  (39999, 850)\t0.17974161971984653\n",
      "  (39999, 631)\t0.12268105091471822\n",
      "  (39999, 519)\t0.07846587234224982\n",
      "  (39999, 403)\t0.14156307427987713\n",
      "  (39999, 28)\t0.14379530559958556\n"
     ]
    },
    {
     "data": {
      "text/plain": [
       "0        0\n",
       "1        0\n",
       "2        0\n",
       "3        0\n",
       "4        1\n",
       "5        0\n",
       "6        1\n",
       "7        0\n",
       "8        1\n",
       "9        1\n",
       "10       1\n",
       "11       0\n",
       "12       1\n",
       "13       0\n",
       "14       0\n",
       "15       1\n",
       "16       1\n",
       "17       0\n",
       "18       0\n",
       "19       0\n",
       "20       1\n",
       "21       0\n",
       "22       1\n",
       "23       0\n",
       "24       1\n",
       "25       0\n",
       "26       1\n",
       "27       1\n",
       "28       0\n",
       "29       1\n",
       "        ..\n",
       "39970    1\n",
       "39971    1\n",
       "39972    0\n",
       "39973    0\n",
       "39974    0\n",
       "39975    0\n",
       "39976    1\n",
       "39977    0\n",
       "39978    0\n",
       "39979    0\n",
       "39980    0\n",
       "39981    1\n",
       "39982    1\n",
       "39983    1\n",
       "39984    0\n",
       "39985    0\n",
       "39986    1\n",
       "39987    1\n",
       "39988    1\n",
       "39989    1\n",
       "39990    1\n",
       "39991    1\n",
       "39992    1\n",
       "39993    0\n",
       "39994    0\n",
       "39995    1\n",
       "39996    1\n",
       "39997    0\n",
       "39998    1\n",
       "39999    1\n",
       "Name: label, Length: 40000, dtype: int64"
      ]
     },
     "execution_count": 22,
     "metadata": {},
     "output_type": "execute_result"
    }
   ],
   "source": [
    "train_transform = tf.transform(df1['text'])\n",
    "y1 = train_df['label']\n",
    "print(train_transform)\n",
    "y1"
   ]
  },
  {
   "cell_type": "code",
   "execution_count": 23,
   "metadata": {},
   "outputs": [
    {
     "name": "stdout",
     "output_type": "stream",
     "text": [
      "<class 'scipy.sparse.csr.csr_matrix'> (40000, 10267) 2 3868291\n"
     ]
    }
   ],
   "source": [
    "print(type(train_transform),\n",
    "  train_transform.get_shape(),\n",
    "  train_transform.ndim,\n",
    "  train_transform.size)"
   ]
  },
  {
   "cell_type": "code",
   "execution_count": 24,
   "metadata": {},
   "outputs": [
    {
     "data": {
      "text/plain": [
       "array([[0., 0., 0., ..., 0., 0., 0.],\n",
       "       [0., 0., 0., ..., 0., 0., 0.],\n",
       "       [0., 0., 0., ..., 0., 0., 0.],\n",
       "       ...,\n",
       "       [0., 0., 0., ..., 0., 0., 0.],\n",
       "       [0., 0., 0., ..., 0., 0., 0.],\n",
       "       [0., 0., 0., ..., 0., 0., 0.]])"
      ]
     },
     "execution_count": 24,
     "metadata": {},
     "output_type": "execute_result"
    }
   ],
   "source": [
    "train_array = train_transform.toarray()\n",
    "train_array"
   ]
  },
  {
   "cell_type": "code",
   "execution_count": 25,
   "metadata": {},
   "outputs": [
    {
     "name": "stdout",
     "output_type": "stream",
     "text": [
      "<class 'numpy.ndarray'> (40000, 10267) 2 410680000\n"
     ]
    }
   ],
   "source": [
    "print(type(train_array),\n",
    "  train_array.shape,\n",
    "  train_array.ndim,\n",
    "  train_array.size)"
   ]
  },
  {
   "cell_type": "code",
   "execution_count": 26,
   "metadata": {},
   "outputs": [
    {
     "name": "stdout",
     "output_type": "stream",
     "text": [
      "<class 'pandas.core.series.Series'> (40000,) 1 40000\n"
     ]
    }
   ],
   "source": [
    "print(type(y1),\n",
    "    y1.shape,\n",
    "    y1.ndim,\n",
    "  y1.size)"
   ]
  },
  {
   "cell_type": "markdown",
   "metadata": {},
   "source": [
    "# Logistic Regression with Scikit Library "
   ]
  },
  {
   "cell_type": "code",
   "execution_count": 27,
   "metadata": {},
   "outputs": [],
   "source": [
    "X_train1 = train_transform\n",
    "y_train1 = y1"
   ]
  },
  {
   "cell_type": "code",
   "execution_count": 29,
   "metadata": {
    "scrolled": true
   },
   "outputs": [],
   "source": [
    "scikit_log_reg_1 = LogisticRegression(solver='lbfgs', max_iter=1000)\n",
    "model_1 = scikit_log_reg_1 .fit(X_train1, y_train1)"
   ]
  },
  {
   "cell_type": "code",
   "execution_count": 30,
   "metadata": {
    "scrolled": false
   },
   "outputs": [
    {
     "data": {
      "text/plain": [
       "LogisticRegression(C=1.0, class_weight=None, dual=False, fit_intercept=True,\n",
       "          intercept_scaling=1, max_iter=1000, multi_class='warn',\n",
       "          n_jobs=None, penalty='l2', random_state=None, solver='lbfgs',\n",
       "          tol=0.0001, verbose=0, warm_start=False)"
      ]
     },
     "execution_count": 30,
     "metadata": {},
     "output_type": "execute_result"
    }
   ],
   "source": [
    "model_1"
   ]
  },
  {
   "cell_type": "code",
   "execution_count": 31,
   "metadata": {},
   "outputs": [],
   "source": [
    "X_train2 = train_array\n",
    "y_train2 = y1"
   ]
  },
  {
   "cell_type": "code",
   "execution_count": 32,
   "metadata": {},
   "outputs": [],
   "source": [
    "scikit_log_reg_2 = LogisticRegression(solver='lbfgs', max_iter=1000)\n",
    "model_2 = scikit_log_reg_2 .fit(X_train2, y_train2)"
   ]
  },
  {
   "cell_type": "code",
   "execution_count": 32,
   "metadata": {
    "scrolled": false
   },
   "outputs": [
    {
     "data": {
      "text/plain": [
       "LogisticRegression(C=1.0, class_weight=None, dual=False, fit_intercept=True,\n",
       "          intercept_scaling=1, max_iter=1000, multi_class='warn',\n",
       "          n_jobs=None, penalty='l2', random_state=None, solver='lbfgs',\n",
       "          tol=0.0001, verbose=0, warm_start=False)"
      ]
     },
     "execution_count": 32,
     "metadata": {},
     "output_type": "execute_result"
    }
   ],
   "source": [
    "model_2"
   ]
  },
  {
   "cell_type": "markdown",
   "metadata": {},
   "source": [
    "# Logistic Regression without Library "
   ]
  },
  {
   "cell_type": "code",
   "execution_count": 2,
   "metadata": {},
   "outputs": [],
   "source": [
    "class Logistic_Regression:\n",
    "    \n",
    "    # Defining hyper parameters\n",
    "    def __init__(self, learning_rate, no_of_iterations):\n",
    "        \n",
    "        self.learning_rate = learning_rate\n",
    "        self.no_of_iterations = no_of_iterations\n",
    "    \n",
    "    # Sigmoid activation function\n",
    "    def sigmoid(self, z):\n",
    "        \n",
    "          return 1/ (1 + np.exp(-z))\n",
    "      \n",
    "    # Fit function for model\n",
    "    def fit(self, X, Y):\n",
    "        \n",
    "        # m -> number of rows in dataset\n",
    "        # n -> number of columns in dataset\n",
    "        self.m, self.n = X.shape\n",
    "        \n",
    "        # initializing weights and bias model parameters\n",
    "        self.weights = np.zeros(self.n)\n",
    "        self.bias = 0\n",
    "        \n",
    "        self.X = X\n",
    "        self.Y = Y\n",
    "\n",
    "        for i in range(self.no_of_iterations):\n",
    "              self.update_model_parameters()\n",
    "    \n",
    "    # Gradient descent for optimizing model parameters\n",
    "    def update_model_parameters(self):\n",
    "\n",
    "        Y_hat = self.sigmoid( self.X.dot(self.weights) + self.bias )  \n",
    "        \n",
    "        # using gradient descent optimization algorithm\n",
    "        dw = (1/self.m)*np.dot(self.X.T, (Y_hat - self.Y))\n",
    "        db = (1/self.m)*np.sum(Y_hat - self.Y)\n",
    "        \n",
    "        # updating weights and bias using learning rate and gradient descent\n",
    "        self.weights = self.weights - dw * self.learning_rate\n",
    "        self.bias = self.bias - self.learning_rate * db           \n",
    "\n",
    "    # Predict function for model\n",
    "    def predict(self, X):\n",
    "\n",
    "        Y_pred = 1 / (1 + np.exp( - (X.dot(self.weights) + self.bias ) ))  \n",
    "        \n",
    "        # if >0.5 --> positive else negative\n",
    "        Y_pred = np.where( Y_pred > 0.5, 1, 0)\n",
    "        return Y_pred"
   ]
  },
  {
   "cell_type": "code",
   "execution_count": 34,
   "metadata": {},
   "outputs": [],
   "source": [
    "X_train3 = train_array\n",
    "y_train3 = y1"
   ]
  },
  {
   "cell_type": "code",
   "execution_count": 41,
   "metadata": {},
   "outputs": [],
   "source": [
    "log_reg_1 = Logistic_Regression(learning_rate=0.9, no_of_iterations=10000)\n",
    "model_3 = log_reg_1 .fit(X_train3, y_train3)"
   ]
  },
  {
   "cell_type": "markdown",
   "metadata": {},
   "source": [
    "### Save model using Joblib "
   ]
  },
  {
   "cell_type": "code",
   "execution_count": 48,
   "metadata": {},
   "outputs": [
    {
     "data": {
      "text/plain": [
       "['final-log-model-09.joblib']"
      ]
     },
     "execution_count": 48,
     "metadata": {},
     "output_type": "execute_result"
    }
   ],
   "source": [
    "joblib.dump(log_reg_1, 'final-log-model-09.joblib')"
   ]
  },
  {
   "cell_type": "code",
   "execution_count": 49,
   "metadata": {},
   "outputs": [],
   "source": [
    "saved_model = joblib.load('final-log-model-09.joblib')"
   ]
  },
  {
   "cell_type": "markdown",
   "metadata": {},
   "source": [
    "# Train Accuracy"
   ]
  },
  {
   "cell_type": "code",
   "execution_count": 50,
   "metadata": {
    "scrolled": false
   },
   "outputs": [
    {
     "name": "stdout",
     "output_type": "stream",
     "text": [
      "0.920625\n"
     ]
    }
   ],
   "source": [
    "train_predictions_1 = model_1 .predict(X_train1)\n",
    "print(accuracy_score(y_train1, train_predictions_1))"
   ]
  },
  {
   "cell_type": "code",
   "execution_count": 51,
   "metadata": {},
   "outputs": [
    {
     "name": "stdout",
     "output_type": "stream",
     "text": [
      "0.920625\n"
     ]
    }
   ],
   "source": [
    "train_predictions_2 = model_1 .predict(X_train2)\n",
    "print(accuracy_score(y_train1, train_predictions_2))"
   ]
  },
  {
   "cell_type": "code",
   "execution_count": 52,
   "metadata": {
    "scrolled": true
   },
   "outputs": [
    {
     "name": "stdout",
     "output_type": "stream",
     "text": [
      "0.8931\n"
     ]
    }
   ],
   "source": [
    "train_predictions_3 = saved_model .predict(X_train3)\n",
    "print(accuracy_score(y_train3, train_predictions_3))"
   ]
  },
  {
   "cell_type": "markdown",
   "metadata": {},
   "source": [
    "### Confusion Matrix [ [TP, FN] [FP, TN]]"
   ]
  },
  {
   "cell_type": "code",
   "execution_count": 53,
   "metadata": {},
   "outputs": [
    {
     "data": {
      "text/plain": [
       "0    20019\n",
       "1    19981\n",
       "Name: label, dtype: int64"
      ]
     },
     "execution_count": 53,
     "metadata": {},
     "output_type": "execute_result"
    }
   ],
   "source": [
    "train_df['label'].value_counts()"
   ]
  },
  {
   "cell_type": "code",
   "execution_count": 54,
   "metadata": {},
   "outputs": [
    {
     "data": {
      "text/plain": [
       "array([[18248,  1771],\n",
       "       [ 1404, 18577]], dtype=int64)"
      ]
     },
     "execution_count": 54,
     "metadata": {},
     "output_type": "execute_result"
    }
   ],
   "source": [
    "confusion_matrix(y_train1, train_predictions_1)"
   ]
  },
  {
   "cell_type": "code",
   "execution_count": 55,
   "metadata": {},
   "outputs": [
    {
     "data": {
      "text/plain": [
       "array([[18248,  1771],\n",
       "       [ 1404, 18577]], dtype=int64)"
      ]
     },
     "execution_count": 55,
     "metadata": {},
     "output_type": "execute_result"
    }
   ],
   "source": [
    "confusion_matrix(y_train2, train_predictions_2)"
   ]
  },
  {
   "cell_type": "code",
   "execution_count": 56,
   "metadata": {},
   "outputs": [
    {
     "data": {
      "text/plain": [
       "array([[17650,  2369],\n",
       "       [ 1907, 18074]], dtype=int64)"
      ]
     },
     "execution_count": 56,
     "metadata": {},
     "output_type": "execute_result"
    }
   ],
   "source": [
    "confusion_matrix(y_train3, train_predictions_3)"
   ]
  },
  {
   "cell_type": "markdown",
   "metadata": {},
   "source": [
    "### F1 = 2 * (precision * recall) / (precision + recall)"
   ]
  },
  {
   "cell_type": "code",
   "execution_count": 57,
   "metadata": {},
   "outputs": [
    {
     "data": {
      "text/plain": [
       "0.9212725334126807"
      ]
     },
     "execution_count": 57,
     "metadata": {},
     "output_type": "execute_result"
    }
   ],
   "source": [
    "f1_score(y_train1, train_predictions_1)"
   ]
  },
  {
   "cell_type": "code",
   "execution_count": 58,
   "metadata": {},
   "outputs": [
    {
     "data": {
      "text/plain": [
       "0.9212725334126807"
      ]
     },
     "execution_count": 58,
     "metadata": {},
     "output_type": "execute_result"
    }
   ],
   "source": [
    "f1_score(y_train2, train_predictions_2)"
   ]
  },
  {
   "cell_type": "code",
   "execution_count": 59,
   "metadata": {
    "scrolled": true
   },
   "outputs": [
    {
     "data": {
      "text/plain": [
       "0.8942212547001781"
      ]
     },
     "execution_count": 59,
     "metadata": {},
     "output_type": "execute_result"
    }
   ],
   "source": [
    "f1_score(y_train3, train_predictions_3)"
   ]
  },
  {
   "cell_type": "markdown",
   "metadata": {},
   "source": [
    "### Classification report"
   ]
  },
  {
   "cell_type": "code",
   "execution_count": 60,
   "metadata": {},
   "outputs": [
    {
     "name": "stdout",
     "output_type": "stream",
     "text": [
      "Classification report for train data 1 : \n",
      "               precision    recall  f1-score   support\n",
      "\n",
      "           1       0.91      0.93      0.92     19981\n",
      "           0       0.93      0.91      0.92     20019\n",
      "\n",
      "   micro avg       0.92      0.92      0.92     40000\n",
      "   macro avg       0.92      0.92      0.92     40000\n",
      "weighted avg       0.92      0.92      0.92     40000\n",
      "\n"
     ]
    }
   ],
   "source": [
    "matrix_1 = classification_report(y_train1, train_predictions_1, labels=[1,0])\n",
    "print('Classification report for train data 1 : \\n', matrix_1)"
   ]
  },
  {
   "cell_type": "code",
   "execution_count": 61,
   "metadata": {},
   "outputs": [
    {
     "name": "stdout",
     "output_type": "stream",
     "text": [
      "Classification report for train data 2  : \n",
      "               precision    recall  f1-score   support\n",
      "\n",
      "           1       0.91      0.93      0.92     19981\n",
      "           0       0.93      0.91      0.92     20019\n",
      "\n",
      "   micro avg       0.92      0.92      0.92     40000\n",
      "   macro avg       0.92      0.92      0.92     40000\n",
      "weighted avg       0.92      0.92      0.92     40000\n",
      "\n"
     ]
    }
   ],
   "source": [
    "matrix_2 = classification_report(y_train2, train_predictions_2,labels=[1,0])\n",
    "print('Classification report for train data 2  : \\n',matrix_2)"
   ]
  },
  {
   "cell_type": "code",
   "execution_count": 62,
   "metadata": {},
   "outputs": [
    {
     "name": "stdout",
     "output_type": "stream",
     "text": [
      "Classification report for train data 3 w/o library : \n",
      "               precision    recall  f1-score   support\n",
      "\n",
      "           1       0.88      0.90      0.89     19981\n",
      "           0       0.90      0.88      0.89     20019\n",
      "\n",
      "   micro avg       0.89      0.89      0.89     40000\n",
      "   macro avg       0.89      0.89      0.89     40000\n",
      "weighted avg       0.89      0.89      0.89     40000\n",
      "\n"
     ]
    }
   ],
   "source": [
    "matrix_3 = classification_report(y_train3, train_predictions_3, labels=[1,0])\n",
    "print('Classification report for train data 3 w/o library : \\n', matrix_3)"
   ]
  },
  {
   "cell_type": "markdown",
   "metadata": {},
   "source": [
    "# Load test dataset"
   ]
  },
  {
   "cell_type": "code",
   "execution_count": 63,
   "metadata": {
    "scrolled": true
   },
   "outputs": [
    {
     "data": {
      "text/plain": [
       "(5000, 2)"
      ]
     },
     "execution_count": 63,
     "metadata": {},
     "output_type": "execute_result"
    }
   ],
   "source": [
    "test_df = pd. read_csv('test.csv', header=None, delimiter=',', skiprows=1, names=['text','label'])\n",
    "test_df.shape"
   ]
  },
  {
   "cell_type": "code",
   "execution_count": 64,
   "metadata": {},
   "outputs": [
    {
     "name": "stdout",
     "output_type": "stream",
     "text": [
      "<class 'pandas.core.frame.DataFrame'>\n",
      "RangeIndex: 5000 entries, 0 to 4999\n",
      "Data columns (total 2 columns):\n",
      "text     5000 non-null object\n",
      "label    5000 non-null int64\n",
      "dtypes: int64(1), object(1)\n",
      "memory usage: 78.2+ KB\n"
     ]
    }
   ],
   "source": [
    "test_df.info()"
   ]
  },
  {
   "cell_type": "code",
   "execution_count": 65,
   "metadata": {
    "scrolled": true
   },
   "outputs": [
    {
     "data": {
      "text/html": [
       "<div>\n",
       "<style scoped>\n",
       "    .dataframe tbody tr th:only-of-type {\n",
       "        vertical-align: middle;\n",
       "    }\n",
       "\n",
       "    .dataframe tbody tr th {\n",
       "        vertical-align: top;\n",
       "    }\n",
       "\n",
       "    .dataframe thead th {\n",
       "        text-align: right;\n",
       "    }\n",
       "</style>\n",
       "<table border=\"1\" class=\"dataframe\">\n",
       "  <thead>\n",
       "    <tr style=\"text-align: right;\">\n",
       "      <th></th>\n",
       "      <th>text</th>\n",
       "      <th>label</th>\n",
       "    </tr>\n",
       "  </thead>\n",
       "  <tbody>\n",
       "    <tr>\n",
       "      <th>0</th>\n",
       "      <td>I always wrote this series off as being a comp...</td>\n",
       "      <td>0</td>\n",
       "    </tr>\n",
       "    <tr>\n",
       "      <th>1</th>\n",
       "      <td>1st watched 12/7/2002 - 3 out of 10(Dir-Steve ...</td>\n",
       "      <td>0</td>\n",
       "    </tr>\n",
       "    <tr>\n",
       "      <th>2</th>\n",
       "      <td>This movie was so poorly written and directed ...</td>\n",
       "      <td>0</td>\n",
       "    </tr>\n",
       "    <tr>\n",
       "      <th>3</th>\n",
       "      <td>The most interesting thing about Miryang (Secr...</td>\n",
       "      <td>1</td>\n",
       "    </tr>\n",
       "    <tr>\n",
       "      <th>4</th>\n",
       "      <td>when i first read about \"berlin am meer\" i did...</td>\n",
       "      <td>0</td>\n",
       "    </tr>\n",
       "  </tbody>\n",
       "</table>\n",
       "</div>"
      ],
      "text/plain": [
       "                                                text  label\n",
       "0  I always wrote this series off as being a comp...      0\n",
       "1  1st watched 12/7/2002 - 3 out of 10(Dir-Steve ...      0\n",
       "2  This movie was so poorly written and directed ...      0\n",
       "3  The most interesting thing about Miryang (Secr...      1\n",
       "4  when i first read about \"berlin am meer\" i did...      0"
      ]
     },
     "execution_count": 65,
     "metadata": {},
     "output_type": "execute_result"
    }
   ],
   "source": [
    "df2 = test_df[[\"text\"]]\n",
    "df2[\"text\"] = df2[\"text\"].astype(str)\n",
    "test_df.head()"
   ]
  },
  {
   "cell_type": "markdown",
   "metadata": {},
   "source": [
    "# Raw review text test data"
   ]
  },
  {
   "cell_type": "code",
   "execution_count": 66,
   "metadata": {},
   "outputs": [
    {
     "name": "stdout",
     "output_type": "stream",
     "text": [
      "<class 'pandas.core.frame.DataFrame'>\n",
      "RangeIndex: 5000 entries, 0 to 4999\n",
      "Data columns (total 1 columns):\n",
      "text    5000 non-null object\n",
      "dtypes: object(1)\n",
      "memory usage: 39.1+ KB\n"
     ]
    }
   ],
   "source": [
    "df2.info()"
   ]
  },
  {
   "cell_type": "code",
   "execution_count": 67,
   "metadata": {},
   "outputs": [
    {
     "data": {
      "text/plain": [
       "0       I always wrote this series off as being a comp...\n",
       "1       1st watched 12/7/2002 - 3 out of 10(Dir-Steve ...\n",
       "2       This movie was so poorly written and directed ...\n",
       "3       The most interesting thing about Miryang (Secr...\n",
       "4       when i first read about \"berlin am meer\" i did...\n",
       "5       I saw this film on September 1st, 2005 in Indi...\n",
       "6       I saw a screening of this movie last night. I ...\n",
       "7       William Hurt may not be an American matinee id...\n",
       "8       IT IS A PIECE OF CRAP! not funny at all. durin...\n",
       "9       I'M BOUT IT(1997)<br /><br />Developed & publi...\n",
       "10      I had a recent spectator experience with The P...\n",
       "11      I really enjoyed the detail that went into the...\n",
       "12      Didn't the writer for this movie see the other...\n",
       "13      This movie was really bad. First they didn't e...\n",
       "14      I think I watched a highly edited version beca...\n",
       "15      Uwe Boll has done the impossible: create a gam...\n",
       "16      I felt asleep, watching it!!! (and I had ticke...\n",
       "17      Brass pictures (movies is not a fitting word f...\n",
       "18      My interest was raised as I was flipping throu...\n",
       "19      Pity the Monkees. People always accused them o...\n",
       "20      Love Jones cleverly portrays young African-Ame...\n",
       "21      This film is terrible - honestly. The acting i...\n",
       "22      This is a funny film and I like it a lot. Cary...\n",
       "23      This movie makes me want to fall in love all o...\n",
       "24      All day now I've been watching dinosaurs, and ...\n",
       "25      i have lost count as to how many times i have ...\n",
       "26      Like several other reviewers here, I'm surpris...\n",
       "27      Film version of Sandra Bernhard's one-woman of...\n",
       "28      Spoken like a true hard-boiled u'an gangsta. T...\n",
       "29      I think it was an overrated PG-13 crap! At lea...\n",
       "                              ...                        \n",
       "4970    Just think, it cost a total of $250,000 to mak...\n",
       "4971    I've seen all 3 now. I just can't believe how ...\n",
       "4972    Oh my God... where to begin? \"Chupacabra Terro...\n",
       "4973    'War movie' is a Hollywood genre that has been...\n",
       "4974    If you're a a fan of either or both Chuck Norr...\n",
       "4975    Without Kirsten Miller this project needn't ha...\n",
       "4976    Not having seen the film in its commercial deb...\n",
       "4977    One of the most charming and, for me at least,...\n",
       "4978    The John Goodman program was pretty awful, but...\n",
       "4979    I saw this movie in the middle of the night, w...\n",
       "4980    Directed by Govind Nihalani, this is definite ...\n",
       "4981    The Fiendish Plot of Dr. Fu Manchu starring Pe...\n",
       "4982    I'm going to keep this review short and sweet....\n",
       "4983    I enjoyed this show for two reasons 1. Richard...\n",
       "4984    So often these \"Lifetime\" flicks are one-dimen...\n",
       "4985    If you want to see a mystery, don't watch this...\n",
       "4986    This review may contain some spoilers.<br /><b...\n",
       "4987    I have watched this movie countless times, and...\n",
       "4988    I had high expectations following \"My Beautifu...\n",
       "4989    \"Jake Speed\" is a fine movie with a wonderful ...\n",
       "4990    Rohmer returns to his historical dramas in the...\n",
       "4991    Legend of Zu<br /><br />I remember well Tsui H...\n",
       "4992    This one is just like the 6th movie. The movie...\n",
       "4993    This film, without doubt, is the clearest exam...\n",
       "4994    First, nobody can understand why this movie is...\n",
       "4995    This is the kind of picture John Lassiter woul...\n",
       "4996    A MUST SEE! I saw WHIPPED at a press screening...\n",
       "4997    NBC should be ashamed. I wouldn't allow my chi...\n",
       "4998    This movie is a clumsy mishmash of various gho...\n",
       "4999    Formula movie about the illegitimate son of a ...\n",
       "Name: text, Length: 5000, dtype: object"
      ]
     },
     "execution_count": 67,
     "metadata": {},
     "output_type": "execute_result"
    }
   ],
   "source": [
    "df2[\"text\"]"
   ]
  },
  {
   "cell_type": "markdown",
   "metadata": {},
   "source": [
    "# Preprocessing text review from test dataset"
   ]
  },
  {
   "cell_type": "markdown",
   "metadata": {},
   "source": [
    "### 1. Lowercasing"
   ]
  },
  {
   "cell_type": "code",
   "execution_count": 68,
   "metadata": {},
   "outputs": [
    {
     "data": {
      "text/plain": [
       "0       i always wrote this series off as being a comp...\n",
       "1       1st watched 12/7/2002 - 3 out of 10(dir-steve ...\n",
       "2       this movie was so poorly written and directed ...\n",
       "3       the most interesting thing about miryang (secr...\n",
       "4       when i first read about \"berlin am meer\" i did...\n",
       "5       i saw this film on september 1st, 2005 in indi...\n",
       "6       i saw a screening of this movie last night. i ...\n",
       "7       william hurt may not be an american matinee id...\n",
       "8       it is a piece of crap! not funny at all. durin...\n",
       "9       i'm bout it(1997)<br /><br />developed & publi...\n",
       "10      i had a recent spectator experience with the p...\n",
       "11      i really enjoyed the detail that went into the...\n",
       "12      didn't the writer for this movie see the other...\n",
       "13      this movie was really bad. first they didn't e...\n",
       "14      i think i watched a highly edited version beca...\n",
       "15      uwe boll has done the impossible: create a gam...\n",
       "16      i felt asleep, watching it!!! (and i had ticke...\n",
       "17      brass pictures (movies is not a fitting word f...\n",
       "18      my interest was raised as i was flipping throu...\n",
       "19      pity the monkees. people always accused them o...\n",
       "20      love jones cleverly portrays young african-ame...\n",
       "21      this film is terrible - honestly. the acting i...\n",
       "22      this is a funny film and i like it a lot. cary...\n",
       "23      this movie makes me want to fall in love all o...\n",
       "24      all day now i've been watching dinosaurs, and ...\n",
       "25      i have lost count as to how many times i have ...\n",
       "26      like several other reviewers here, i'm surpris...\n",
       "27      film version of sandra bernhard's one-woman of...\n",
       "28      spoken like a true hard-boiled u'an gangsta. t...\n",
       "29      i think it was an overrated pg-13 crap! at lea...\n",
       "                              ...                        \n",
       "4970    just think, it cost a total of $250,000 to mak...\n",
       "4971    i've seen all 3 now. i just can't believe how ...\n",
       "4972    oh my god... where to begin? \"chupacabra terro...\n",
       "4973    'war movie' is a hollywood genre that has been...\n",
       "4974    if you're a a fan of either or both chuck norr...\n",
       "4975    without kirsten miller this project needn't ha...\n",
       "4976    not having seen the film in its commercial deb...\n",
       "4977    one of the most charming and, for me at least,...\n",
       "4978    the john goodman program was pretty awful, but...\n",
       "4979    i saw this movie in the middle of the night, w...\n",
       "4980    directed by govind nihalani, this is definite ...\n",
       "4981    the fiendish plot of dr. fu manchu starring pe...\n",
       "4982    i'm going to keep this review short and sweet....\n",
       "4983    i enjoyed this show for two reasons 1. richard...\n",
       "4984    so often these \"lifetime\" flicks are one-dimen...\n",
       "4985    if you want to see a mystery, don't watch this...\n",
       "4986    this review may contain some spoilers.<br /><b...\n",
       "4987    i have watched this movie countless times, and...\n",
       "4988    i had high expectations following \"my beautifu...\n",
       "4989    \"jake speed\" is a fine movie with a wonderful ...\n",
       "4990    rohmer returns to his historical dramas in the...\n",
       "4991    legend of zu<br /><br />i remember well tsui h...\n",
       "4992    this one is just like the 6th movie. the movie...\n",
       "4993    this film, without doubt, is the clearest exam...\n",
       "4994    first, nobody can understand why this movie is...\n",
       "4995    this is the kind of picture john lassiter woul...\n",
       "4996    a must see! i saw whipped at a press screening...\n",
       "4997    nbc should be ashamed. i wouldn't allow my chi...\n",
       "4998    this movie is a clumsy mishmash of various gho...\n",
       "4999    formula movie about the illegitimate son of a ...\n",
       "Name: text, Length: 5000, dtype: object"
      ]
     },
     "execution_count": 68,
     "metadata": {},
     "output_type": "execute_result"
    }
   ],
   "source": [
    "df2[\"text\"] = df2[\"text\"].str.lower()\n",
    "df2[\"text\"]"
   ]
  },
  {
   "cell_type": "markdown",
   "metadata": {},
   "source": [
    "### 2. Remove html tags"
   ]
  },
  {
   "cell_type": "code",
   "execution_count": 69,
   "metadata": {
    "scrolled": true
   },
   "outputs": [
    {
     "name": "stdout",
     "output_type": "stream",
     "text": [
      "0       i always wrote this series off as being a comp...\n",
      "1       1st watched 12/7/2002 - 3 out of 10(dir-steve ...\n",
      "2       this movie was so poorly written and directed ...\n",
      "3       the most interesting thing about miryang (secr...\n",
      "4       when i first read about \"berlin am meer\" i did...\n",
      "5       i saw this film on september 1st, 2005 in indi...\n",
      "6       i saw a screening of this movie last night. i ...\n",
      "7       william hurt may not be an american matinee id...\n",
      "8       it is a piece of crap! not funny at all. durin...\n",
      "9       i'm bout it(1997)developed & published by no l...\n",
      "10      i had a recent spectator experience with the p...\n",
      "11      i really enjoyed the detail that went into the...\n",
      "12      didn't the writer for this movie see the other...\n",
      "13      this movie was really bad. first they didn't e...\n",
      "14      i think i watched a highly edited version beca...\n",
      "15      uwe boll has done the impossible: create a gam...\n",
      "16      i felt asleep, watching it!!! (and i had ticke...\n",
      "17      brass pictures (movies is not a fitting word f...\n",
      "18      my interest was raised as i was flipping throu...\n",
      "19      pity the monkees. people always accused them o...\n",
      "20      love jones cleverly portrays young african-ame...\n",
      "21      this film is terrible - honestly. the acting i...\n",
      "22      this is a funny film and i like it a lot. cary...\n",
      "23      this movie makes me want to fall in love all o...\n",
      "24      all day now i've been watching dinosaurs, and ...\n",
      "25      i have lost count as to how many times i have ...\n",
      "26      like several other reviewers here, i'm surpris...\n",
      "27      film version of sandra bernhard's one-woman of...\n",
      "28      spoken like a true hard-boiled u'an gangsta. t...\n",
      "29      i think it was an overrated pg-13 crap! at lea...\n",
      "                              ...                        \n",
      "4970    just think, it cost a total of $250,000 to mak...\n",
      "4971    i've seen all 3 now. i just can't believe how ...\n",
      "4972    oh my god... where to begin? \"chupacabra terro...\n",
      "4973    'war movie' is a hollywood genre that has been...\n",
      "4974    if you're a a fan of either or both chuck norr...\n",
      "4975    without kirsten miller this project needn't ha...\n",
      "4976    not having seen the film in its commercial deb...\n",
      "4977    one of the most charming and, for me at least,...\n",
      "4978    the john goodman program was pretty awful, but...\n",
      "4979    i saw this movie in the middle of the night, w...\n",
      "4980    directed by govind nihalani, this is definite ...\n",
      "4981    the fiendish plot of dr. fu manchu starring pe...\n",
      "4982    i'm going to keep this review short and sweet....\n",
      "4983    i enjoyed this show for two reasons 1. richard...\n",
      "4984    so often these \"lifetime\" flicks are one-dimen...\n",
      "4985    if you want to see a mystery, don't watch this...\n",
      "4986    this review may contain some spoilers.the rema...\n",
      "4987    i have watched this movie countless times, and...\n",
      "4988    i had high expectations following \"my beautifu...\n",
      "4989    \"jake speed\" is a fine movie with a wonderful ...\n",
      "4990    rohmer returns to his historical dramas in the...\n",
      "4991    legend of zui remember well tsui hark's origin...\n",
      "4992    this one is just like the 6th movie. the movie...\n",
      "4993    this film, without doubt, is the clearest exam...\n",
      "4994    first, nobody can understand why this movie is...\n",
      "4995    this is the kind of picture john lassiter woul...\n",
      "4996    a must see! i saw whipped at a press screening...\n",
      "4997    nbc should be ashamed. i wouldn't allow my chi...\n",
      "4998    this movie is a clumsy mishmash of various gho...\n",
      "4999    formula movie about the illegitimate son of a ...\n",
      "Name: text, Length: 5000, dtype: object\n"
     ]
    }
   ],
   "source": [
    "def remove_html_tags(text):\n",
    "    return BeautifulSoup(text, \"lxml\").text\n",
    "\n",
    "df2[\"text\"] = df2[\"text\"].apply(lambda text: remove_html_tags(text))\n",
    "print(df2[\"text\"])"
   ]
  },
  {
   "cell_type": "markdown",
   "metadata": {},
   "source": [
    "### 3. Remove stopwords"
   ]
  },
  {
   "cell_type": "code",
   "execution_count": 70,
   "metadata": {},
   "outputs": [
    {
     "data": {
      "text/plain": [
       "0       always wrote series complete stink-fest jim be...\n",
       "1       1st watched 12/7/2002 - 3 10(dir-steve purcell...\n",
       "2       movie poorly written directed fell asleep 30 m...\n",
       "3       interesting thing miryang (secret sunshine) ac...\n",
       "4       first read \"berlin meer\" expect much. thought ...\n",
       "5       saw film september 1st, 2005 indianapolis. one...\n",
       "6       saw screening movie last night. high expectati...\n",
       "7       william hurt may american matinee idol anymore...\n",
       "8       piece crap! funny all. whole movie nothing eve...\n",
       "9       i'm bout it(1997)developed & published limit f...\n",
       "10      recent spectator experience perfect witness (2...\n",
       "11      really enjoyed detail went script.jonathan rhy...\n",
       "12      writer movie see three? loved original, though...\n",
       "13      movie really bad. first even follow facts it. ...\n",
       "14      think watched highly edited version nearly gra...\n",
       "15      uwe boll done impossible: create game adaptati...\n",
       "16      felt asleep, watching it!!! (and tickets midni...\n",
       "17      brass pictures (movies fitting word them) real...\n",
       "18      interest raised flipping saw name iphigenia. n...\n",
       "19      pity monkees. people always accused manufactur...\n",
       "20      love jones cleverly portrays young african-ame...\n",
       "21      film terrible - honestly. acting terrible, scr...\n",
       "22      funny film like lot. cary elwes plays robin ho...\n",
       "23      movie makes want fall love again!i naming next...\n",
       "24      day i've watching dinosaurs, day they've funda...\n",
       "25      lost count many times watched movie. i've neve...\n",
       "26      like several reviewers here, i'm surprised see...\n",
       "27      film version sandra bernhard's one-woman off-b...\n",
       "28      spoken like true hard-boiled u'an gangsta. sto...\n",
       "29      think overrated pg-13 crap! least brittany sno...\n",
       "                              ...                        \n",
       "4970    think, cost total $250,000 make \"clerks\". hell...\n",
       "4971    i've seen 3 now. can't believe bad naqoyqatsi ...\n",
       "4972    oh god... begin? \"chupacabra terror\" one worst...\n",
       "4973    'war movie' hollywood genre done redone many t...\n",
       "4974    fan either chuck norris & judson mills movie s...\n",
       "4975    without kirsten miller project completed. howe...\n",
       "4976    seen film commercial debut, caught via dvd. ex...\n",
       "4977    one charming and, least, powerful elements ant...\n",
       "4978    john goodman program pretty awful, thing plain...\n",
       "4979    saw movie middle night, flipping channels noth...\n",
       "4980    directed govind nihalani, definite cop film in...\n",
       "4981    fiendish plot dr. fu manchu starring peter sel...\n",
       "4982    i'm going keep review short sweet....i saw tra...\n",
       "4983    enjoyed show two reasons 1. richard dean ander...\n",
       "4984    often \"lifetime\" flicks one-dimension, over-th...\n",
       "4985    want see mystery, watch this. though elements ...\n",
       "4986    review may contain spoilers.the remake classic...\n",
       "4987    watched movie countless times, never failed ch...\n",
       "4988    high expectations following \"my beautiful laun...\n",
       "4989    \"jake speed\" fine movie wonderful message. fla...\n",
       "4990    rohmer returns historical dramas real story gr...\n",
       "4991    legend zui remember well tsui hark's original ...\n",
       "4992    one like 6th movie. movie really bad. offers n...\n",
       "4993    film, without doubt, clearest example british ...\n",
       "4994    first, nobody understand movie rated poorly. f...\n",
       "4995    kind picture john lassiter would making today,...\n",
       "4996    must see! saw whipped press screening hilariou...\n",
       "4997    nbc ashamed. allow children see this. definite...\n",
       "4998    movie clumsy mishmash various ghost-story susp...\n",
       "4999    formula movie illegitimate son rich chilenian ...\n",
       "Name: text, Length: 5000, dtype: object"
      ]
     },
     "execution_count": 70,
     "metadata": {},
     "output_type": "execute_result"
    }
   ],
   "source": [
    "STOPWORDS = set(stopwords.words('english'))\n",
    "def remove_stopwords(text):\n",
    "    \n",
    "    return \" \".join([word for word in str(text).split() if word not in STOPWORDS])\n",
    "\n",
    "df2[\"text\"] = df2[\"text\"].apply(lambda text: remove_stopwords(text))\n",
    "df2[\"text\"]"
   ]
  },
  {
   "cell_type": "markdown",
   "metadata": {},
   "source": [
    "### 4. Remove punctuations"
   ]
  },
  {
   "cell_type": "code",
   "execution_count": 71,
   "metadata": {},
   "outputs": [
    {
     "data": {
      "text/plain": [
       "0       always wrote series complete stinkfest jim bel...\n",
       "1       1st watched 1272002  3 10dirsteve purcell typi...\n",
       "2       movie poorly written directed fell asleep 30 m...\n",
       "3       interesting thing miryang secret sunshine acto...\n",
       "4       first read berlin meer expect much thought rig...\n",
       "5       saw film september 1st 2005 indianapolis one j...\n",
       "6       saw screening movie last night high expectatio...\n",
       "7       william hurt may american matinee idol anymore...\n",
       "8       piece crap funny all whole movie nothing ever ...\n",
       "9       im bout it1997developed  published limit films...\n",
       "10      recent spectator experience perfect witness 20...\n",
       "11      really enjoyed detail went scriptjonathan rhys...\n",
       "12      writer movie see three loved original thought ...\n",
       "13      movie really bad first even follow facts it ha...\n",
       "14      think watched highly edited version nearly gra...\n",
       "15      uwe boll done impossible create game adaptatio...\n",
       "16      felt asleep watching it and tickets midnight p...\n",
       "17      brass pictures movies fitting word them really...\n",
       "18      interest raised flipping saw name iphigenia na...\n",
       "19      pity monkees people always accused manufacture...\n",
       "20      love jones cleverly portrays young africanamer...\n",
       "21      film terrible  honestly acting terrible script...\n",
       "22      funny film like lot cary elwes plays robin hoo...\n",
       "23      movie makes want fall love againi naming next ...\n",
       "24      day ive watching dinosaurs day theyve fundamen...\n",
       "25      lost count many times watched movie ive never ...\n",
       "26      like several reviewers here im surprised see m...\n",
       "27      film version sandra bernhards onewoman offbroa...\n",
       "28      spoken like true hardboiled uan gangsta story ...\n",
       "29      think overrated pg13 crap least brittany snows...\n",
       "                              ...                        \n",
       "4970    think cost total 250000 make clerks hell spend...\n",
       "4971    ive seen 3 now cant believe bad naqoyqatsi is ...\n",
       "4972    oh god begin chupacabra terror one worst bhorr...\n",
       "4973    war movie hollywood genre done redone many tim...\n",
       "4974    fan either chuck norris  judson mills movie se...\n",
       "4975    without kirsten miller project completed howev...\n",
       "4976    seen film commercial debut caught via dvd expe...\n",
       "4977    one charming and least powerful elements antho...\n",
       "4978    john goodman program pretty awful thing plain ...\n",
       "4979    saw movie middle night flipping channels nothi...\n",
       "4980    directed govind nihalani definite cop film ind...\n",
       "4981    fiendish plot dr fu manchu starring peter sell...\n",
       "4982    im going keep review short sweeti saw trailer ...\n",
       "4983    enjoyed show two reasons 1 richard dean anders...\n",
       "4984    often lifetime flicks onedimension overthetop ...\n",
       "4985    want see mystery watch this though elements st...\n",
       "4986    review may contain spoilersthe remake classic ...\n",
       "4987    watched movie countless times never failed cha...\n",
       "4988    high expectations following my beautiful laund...\n",
       "4989    jake speed fine movie wonderful message flaws ...\n",
       "4990    rohmer returns historical dramas real story gr...\n",
       "4991    legend zui remember well tsui harks original z...\n",
       "4992    one like 6th movie movie really bad offers not...\n",
       "4993    film without doubt clearest example british hu...\n",
       "4994    first nobody understand movie rated poorly fir...\n",
       "4995    kind picture john lassiter would making today ...\n",
       "4996    must see saw whipped press screening hilarious...\n",
       "4997    nbc ashamed allow children see this definitely...\n",
       "4998    movie clumsy mishmash various ghoststory suspe...\n",
       "4999    formula movie illegitimate son rich chilenian ...\n",
       "Name: text, Length: 5000, dtype: object"
      ]
     },
     "execution_count": 71,
     "metadata": {},
     "output_type": "execute_result"
    }
   ],
   "source": [
    "PUNCT_TO_REMOVE = string.punctuation\n",
    "\n",
    "def remove_punctuation(text):\n",
    "    return text.translate(str.maketrans(' ', ' ', PUNCT_TO_REMOVE))\n",
    "\n",
    "df2[\"text\"] = df2[\"text\"].apply(lambda text: remove_punctuation(text))\n",
    "df2[\"text\"]"
   ]
  },
  {
   "cell_type": "markdown",
   "metadata": {},
   "source": [
    "### 5. Remove numbers"
   ]
  },
  {
   "cell_type": "code",
   "execution_count": 72,
   "metadata": {},
   "outputs": [
    {
     "data": {
      "text/plain": [
       "0       always wrote series complete stinkfest jim bel...\n",
       "1       1st watched 10dirsteve purcell typical mary ka...\n",
       "2       movie poorly written directed fell asleep minu...\n",
       "3       interesting thing miryang secret sunshine acto...\n",
       "4       first read berlin meer expect much thought rig...\n",
       "5       saw film september 1st indianapolis one judges...\n",
       "6       saw screening movie last night high expectatio...\n",
       "7       william hurt may american matinee idol anymore...\n",
       "8       piece crap funny all whole movie nothing ever ...\n",
       "9       im bout it1997developed published limit filmsp...\n",
       "10      recent spectator experience perfect witness ne...\n",
       "11      really enjoyed detail went scriptjonathan rhys...\n",
       "12      writer movie see three loved original thought ...\n",
       "13      movie really bad first even follow facts it ha...\n",
       "14      think watched highly edited version nearly gra...\n",
       "15      uwe boll done impossible create game adaptatio...\n",
       "16      felt asleep watching it and tickets midnight p...\n",
       "17      brass pictures movies fitting word them really...\n",
       "18      interest raised flipping saw name iphigenia na...\n",
       "19      pity monkees people always accused manufacture...\n",
       "20      love jones cleverly portrays young africanamer...\n",
       "21      film terrible honestly acting terrible script ...\n",
       "22      funny film like lot cary elwes plays robin hoo...\n",
       "23      movie makes want fall love againi naming next ...\n",
       "24      day ive watching dinosaurs day theyve fundamen...\n",
       "25      lost count many times watched movie ive never ...\n",
       "26      like several reviewers here im surprised see m...\n",
       "27      film version sandra bernhards onewoman offbroa...\n",
       "28      spoken like true hardboiled uan gangsta story ...\n",
       "29      think overrated pg13 crap least brittany snows...\n",
       "                              ...                        \n",
       "4970    think cost total make clerks hell spend millio...\n",
       "4971    ive seen now cant believe bad naqoyqatsi is co...\n",
       "4972    oh god begin chupacabra terror one worst bhorr...\n",
       "4973    war movie hollywood genre done redone many tim...\n",
       "4974    fan either chuck norris judson mills movie see...\n",
       "4975    without kirsten miller project completed howev...\n",
       "4976    seen film commercial debut caught via dvd expe...\n",
       "4977    one charming and least powerful elements antho...\n",
       "4978    john goodman program pretty awful thing plain ...\n",
       "4979    saw movie middle night flipping channels nothi...\n",
       "4980    directed govind nihalani definite cop film ind...\n",
       "4981    fiendish plot dr fu manchu starring peter sell...\n",
       "4982    im going keep review short sweeti saw trailer ...\n",
       "4983    enjoyed show two reasons richard dean anderson...\n",
       "4984    often lifetime flicks onedimension overthetop ...\n",
       "4985    want see mystery watch this though elements st...\n",
       "4986    review may contain spoilersthe remake classic ...\n",
       "4987    watched movie countless times never failed cha...\n",
       "4988    high expectations following my beautiful laund...\n",
       "4989    jake speed fine movie wonderful message flaws ...\n",
       "4990    rohmer returns historical dramas real story gr...\n",
       "4991    legend zui remember well tsui harks original z...\n",
       "4992    one like 6th movie movie really bad offers not...\n",
       "4993    film without doubt clearest example british hu...\n",
       "4994    first nobody understand movie rated poorly fir...\n",
       "4995    kind picture john lassiter would making today ...\n",
       "4996    must see saw whipped press screening hilarious...\n",
       "4997    nbc ashamed allow children see this definitely...\n",
       "4998    movie clumsy mishmash various ghoststory suspe...\n",
       "4999    formula movie illegitimate son rich chilenian ...\n",
       "Name: text, Length: 5000, dtype: object"
      ]
     },
     "execution_count": 72,
     "metadata": {},
     "output_type": "execute_result"
    }
   ],
   "source": [
    "def remove_numbers(text):\n",
    "    \n",
    "    return \" \".join([line for line in str(text).split() if not line.isdigit()])\n",
    "\n",
    "df2[\"text\"] = df2[\"text\"].apply(lambda text: remove_numbers(text))\n",
    "df2[\"text\"]"
   ]
  },
  {
   "cell_type": "markdown",
   "metadata": {},
   "source": [
    "### 6. Lemmatization"
   ]
  },
  {
   "cell_type": "code",
   "execution_count": 73,
   "metadata": {},
   "outputs": [
    {
     "data": {
      "text/plain": [
       "0       always write series complete stinkfest jim bel...\n",
       "1       1st watch 10dirsteve purcell typical mary kate...\n",
       "2       movie poorly write direct fell asleep minute m...\n",
       "3       interesting thing miryang secret sunshine acto...\n",
       "4       first read berlin meer expect much think right...\n",
       "5       saw film september 1st indianapolis one judge ...\n",
       "6       saw screen movie last night high expectation g...\n",
       "7       william hurt may american matinee idol anymore...\n",
       "8       piece crap funny all whole movie nothing ever ...\n",
       "9       im bout it1997developed publish limit filmspro...\n",
       "10      recent spectator experience perfect witness ne...\n",
       "11      really enjoy detail go scriptjonathan rhys mye...\n",
       "12      writer movie see three love original thought b...\n",
       "13      movie really bad first even follow fact it hal...\n",
       "14      think watch highly edit version nearly graphic...\n",
       "15      uwe boll do impossible create game adaptation ...\n",
       "16      felt asleep watch it and ticket midnight premi...\n",
       "17      brass picture movie fit word them really somew...\n",
       "18      interest raise flip saw name iphigenia name eu...\n",
       "19      pity monkees people always accuse manufacture ...\n",
       "20      love jones cleverly portrays young africanamer...\n",
       "21      film terrible honestly act terrible script mak...\n",
       "22      funny film like lot cary elwes play robin hood...\n",
       "23      movie make want fall love againi name next dau...\n",
       "24      day ive watching dinosaur day theyve fundament...\n",
       "25      lose count many time watched movie ive never g...\n",
       "26      like several reviewer here im surprised see ma...\n",
       "27      film version sandra bernhards onewoman offbroa...\n",
       "28      speak like true hardboiled uan gangsta story b...\n",
       "29      think overrate pg13 crap least brittany snow p...\n",
       "                              ...                        \n",
       "4970    think cost total make clerk hell spend million...\n",
       "4971    ive see now cant believe bad naqoyqatsi be com...\n",
       "4972    oh god begin chupacabra terror one worst bhorr...\n",
       "4973    war movie hollywood genre do redone many time ...\n",
       "4974    fan either chuck norris judson mill movie seei...\n",
       "4975    without kirsten miller project complete howeve...\n",
       "4976    see film commercial debut catch via dvd expect...\n",
       "4977    one charming and least powerful element anthon...\n",
       "4978    john goodman program pretty awful thing plain ...\n",
       "4979    saw movie middle night flip channel nothing el...\n",
       "4980    direct govind nihalani definite cop film india...\n",
       "4981    fiendish plot dr fu manchu star peter seller s...\n",
       "4982    im go keep review short sweeti saw trailer tho...\n",
       "4983    enjoy show two reason richard dean anderson am...\n",
       "4984    often lifetime flick onedimension overthetop c...\n",
       "4985    want see mystery watch this though element str...\n",
       "4986    review may contain spoilersthe remake classic ...\n",
       "4987    watched movie countless time never fail charm ...\n",
       "4988    high expectation follow my beautiful laundrett...\n",
       "4989    jake speed fine movie wonderful message flaw c...\n",
       "4990    rohmer return historical dramas real story gra...\n",
       "4991    legend zui remember well tsui harks original z...\n",
       "4992    one like 6th movie movie really bad offer noth...\n",
       "4993    film without doubt clearest example british hu...\n",
       "4994    first nobody understand movie rat poorly first...\n",
       "4995    kind picture john lassiter would make today ad...\n",
       "4996    must see saw whip press screen hilarious be ta...\n",
       "4997    nbc ashamed allow child see this definitely wo...\n",
       "4998    movie clumsy mishmash various ghoststory suspe...\n",
       "4999    formula movie illegitimate son rich chilenian ...\n",
       "Name: text, Length: 5000, dtype: object"
      ]
     },
     "execution_count": 73,
     "metadata": {},
     "output_type": "execute_result"
    }
   ],
   "source": [
    "lemmatizer = WordNetLemmatizer()\n",
    "wordnet_map = {\"N\":wordnet.NOUN, \"V\":wordnet.VERB, \"J\":wordnet.ADJ, \"R\":wordnet.ADV}\n",
    "\n",
    "def lemmatize_words(text):\n",
    "    pos_tagged_text = nltk.pos_tag(text.split())\n",
    "    return \" \".join([lemmatizer.lemmatize(word, wordnet_map.get(pos[0], wordnet.NOUN)) for word, pos in pos_tagged_text])\n",
    "\n",
    "df2[\"text\"] = df2[\"text\"].apply(lambda text: lemmatize_words(text))\n",
    "df2[\"text\"]"
   ]
  },
  {
   "cell_type": "markdown",
   "metadata": {},
   "source": [
    "# Preprocessed text review test data"
   ]
  },
  {
   "cell_type": "code",
   "execution_count": 74,
   "metadata": {},
   "outputs": [
    {
     "data": {
      "text/html": [
       "<div>\n",
       "<style scoped>\n",
       "    .dataframe tbody tr th:only-of-type {\n",
       "        vertical-align: middle;\n",
       "    }\n",
       "\n",
       "    .dataframe tbody tr th {\n",
       "        vertical-align: top;\n",
       "    }\n",
       "\n",
       "    .dataframe thead th {\n",
       "        text-align: right;\n",
       "    }\n",
       "</style>\n",
       "<table border=\"1\" class=\"dataframe\">\n",
       "  <thead>\n",
       "    <tr style=\"text-align: right;\">\n",
       "      <th></th>\n",
       "      <th>text</th>\n",
       "    </tr>\n",
       "  </thead>\n",
       "  <tbody>\n",
       "    <tr>\n",
       "      <th>0</th>\n",
       "      <td>always write series complete stinkfest jim bel...</td>\n",
       "    </tr>\n",
       "    <tr>\n",
       "      <th>1</th>\n",
       "      <td>1st watch 10dirsteve purcell typical mary kate...</td>\n",
       "    </tr>\n",
       "    <tr>\n",
       "      <th>2</th>\n",
       "      <td>movie poorly write direct fell asleep minute m...</td>\n",
       "    </tr>\n",
       "    <tr>\n",
       "      <th>3</th>\n",
       "      <td>interesting thing miryang secret sunshine acto...</td>\n",
       "    </tr>\n",
       "    <tr>\n",
       "      <th>4</th>\n",
       "      <td>first read berlin meer expect much think right...</td>\n",
       "    </tr>\n",
       "  </tbody>\n",
       "</table>\n",
       "</div>"
      ],
      "text/plain": [
       "                                                text\n",
       "0  always write series complete stinkfest jim bel...\n",
       "1  1st watch 10dirsteve purcell typical mary kate...\n",
       "2  movie poorly write direct fell asleep minute m...\n",
       "3  interesting thing miryang secret sunshine acto...\n",
       "4  first read berlin meer expect much think right..."
      ]
     },
     "execution_count": 74,
     "metadata": {},
     "output_type": "execute_result"
    }
   ],
   "source": [
    "df2.head()"
   ]
  },
  {
   "cell_type": "code",
   "execution_count": 75,
   "metadata": {},
   "outputs": [
    {
     "data": {
      "text/plain": [
       "0       always write series complete stinkfest jim bel...\n",
       "1       1st watch 10dirsteve purcell typical mary kate...\n",
       "2       movie poorly write direct fell asleep minute m...\n",
       "3       interesting thing miryang secret sunshine acto...\n",
       "4       first read berlin meer expect much think right...\n",
       "5       saw film september 1st indianapolis one judge ...\n",
       "6       saw screen movie last night high expectation g...\n",
       "7       william hurt may american matinee idol anymore...\n",
       "8       piece crap funny all whole movie nothing ever ...\n",
       "9       im bout it1997developed publish limit filmspro...\n",
       "10      recent spectator experience perfect witness ne...\n",
       "11      really enjoy detail go scriptjonathan rhys mye...\n",
       "12      writer movie see three love original thought b...\n",
       "13      movie really bad first even follow fact it hal...\n",
       "14      think watch highly edit version nearly graphic...\n",
       "15      uwe boll do impossible create game adaptation ...\n",
       "16      felt asleep watch it and ticket midnight premi...\n",
       "17      brass picture movie fit word them really somew...\n",
       "18      interest raise flip saw name iphigenia name eu...\n",
       "19      pity monkees people always accuse manufacture ...\n",
       "20      love jones cleverly portrays young africanamer...\n",
       "21      film terrible honestly act terrible script mak...\n",
       "22      funny film like lot cary elwes play robin hood...\n",
       "23      movie make want fall love againi name next dau...\n",
       "24      day ive watching dinosaur day theyve fundament...\n",
       "25      lose count many time watched movie ive never g...\n",
       "26      like several reviewer here im surprised see ma...\n",
       "27      film version sandra bernhards onewoman offbroa...\n",
       "28      speak like true hardboiled uan gangsta story b...\n",
       "29      think overrate pg13 crap least brittany snow p...\n",
       "                              ...                        \n",
       "4970    think cost total make clerk hell spend million...\n",
       "4971    ive see now cant believe bad naqoyqatsi be com...\n",
       "4972    oh god begin chupacabra terror one worst bhorr...\n",
       "4973    war movie hollywood genre do redone many time ...\n",
       "4974    fan either chuck norris judson mill movie seei...\n",
       "4975    without kirsten miller project complete howeve...\n",
       "4976    see film commercial debut catch via dvd expect...\n",
       "4977    one charming and least powerful element anthon...\n",
       "4978    john goodman program pretty awful thing plain ...\n",
       "4979    saw movie middle night flip channel nothing el...\n",
       "4980    direct govind nihalani definite cop film india...\n",
       "4981    fiendish plot dr fu manchu star peter seller s...\n",
       "4982    im go keep review short sweeti saw trailer tho...\n",
       "4983    enjoy show two reason richard dean anderson am...\n",
       "4984    often lifetime flick onedimension overthetop c...\n",
       "4985    want see mystery watch this though element str...\n",
       "4986    review may contain spoilersthe remake classic ...\n",
       "4987    watched movie countless time never fail charm ...\n",
       "4988    high expectation follow my beautiful laundrett...\n",
       "4989    jake speed fine movie wonderful message flaw c...\n",
       "4990    rohmer return historical dramas real story gra...\n",
       "4991    legend zui remember well tsui harks original z...\n",
       "4992    one like 6th movie movie really bad offer noth...\n",
       "4993    film without doubt clearest example british hu...\n",
       "4994    first nobody understand movie rat poorly first...\n",
       "4995    kind picture john lassiter would make today ad...\n",
       "4996    must see saw whip press screen hilarious be ta...\n",
       "4997    nbc ashamed allow child see this definitely wo...\n",
       "4998    movie clumsy mishmash various ghoststory suspe...\n",
       "4999    formula movie illegitimate son rich chilenian ...\n",
       "Name: text, Length: 5000, dtype: object"
      ]
     },
     "execution_count": 75,
     "metadata": {},
     "output_type": "execute_result"
    }
   ],
   "source": [
    "df2[\"text\"]"
   ]
  },
  {
   "cell_type": "markdown",
   "metadata": {},
   "source": [
    "# Feature extraction"
   ]
  },
  {
   "cell_type": "code",
   "execution_count": 76,
   "metadata": {},
   "outputs": [],
   "source": [
    "# max_df=0.8, min_df=0.2, ngram_range=(1,3)\n",
    "vectorizer2 = TfidfVectorizer(min_df=0.0015, ngram_range=(1,3), vocabulary = tf.vocabulary_)\n",
    "fitted_vectorizer2 = vectorizer2.fit(df2[\"text\"])"
   ]
  },
  {
   "cell_type": "code",
   "execution_count": 77,
   "metadata": {
    "scrolled": true
   },
   "outputs": [
    {
     "name": "stdout",
     "output_type": "stream",
     "text": [
      "  (0, 10262)\t0.06619329709732875\n",
      "  (0, 10215)\t0.0336659545298106\n",
      "  (0, 10190)\t0.039410456532187874\n",
      "  (0, 10116)\t0.02735064402969764\n",
      "  (0, 10060)\t0.04833680863614588\n",
      "  (0, 10054)\t0.04061020079874862\n",
      "  (0, 10044)\t0.04005077389317389\n",
      "  (0, 10040)\t0.05350601232571301\n",
      "  (0, 10022)\t0.05578309276149685\n",
      "  (0, 9979)\t0.05207385506586152\n",
      "  (0, 9960)\t0.06843977511580504\n",
      "  (0, 9955)\t0.06070652719974463\n",
      "  (0, 9886)\t0.026211693977864083\n",
      "  (0, 9835)\t0.030260602481541048\n",
      "  (0, 9822)\t0.0892910368723011\n",
      "  (0, 9791)\t0.02608717730326806\n",
      "  (0, 9723)\t0.05455921158946931\n",
      "  (0, 9667)\t0.047681337331546\n",
      "  (0, 9418)\t0.13146224561027678\n",
      "  (0, 9410)\t0.038662767732076005\n",
      "  (0, 9395)\t0.0665411801408254\n",
      "  (0, 9381)\t0.03420690691918195\n",
      "  (0, 9316)\t0.06602286585658222\n",
      "  (0, 9289)\t0.06093125761146253\n",
      "  (0, 9171)\t0.07724062105656004\n",
      "  :\t:\n",
      "  (4999, 4939)\t0.15775846388334405\n",
      "  (4999, 4882)\t0.15935485765635637\n",
      "  (4999, 4581)\t0.056276026275451335\n",
      "  (4999, 4459)\t0.17930656539241163\n",
      "  (4999, 4101)\t0.09311092794279184\n",
      "  (4999, 3951)\t0.16531327380930702\n",
      "  (4999, 3877)\t0.06085467009180236\n",
      "  (4999, 3571)\t0.04920618940460111\n",
      "  (4999, 3413)\t0.1648225072520585\n",
      "  (4999, 3408)\t0.1555318621551071\n",
      "  (4999, 2989)\t0.11476563863668808\n",
      "  (4999, 2926)\t0.15096919621850882\n",
      "  (4999, 2895)\t0.13989632965986357\n",
      "  (4999, 2891)\t0.09643782776447689\n",
      "  (4999, 2789)\t0.16805092464553395\n",
      "  (4999, 2231)\t0.13457647708088777\n",
      "  (4999, 1403)\t0.17450559527117815\n",
      "  (4999, 1402)\t0.12368637517228022\n",
      "  (4999, 1022)\t0.11993234286894154\n",
      "  (4999, 798)\t0.09569392426269534\n",
      "  (4999, 686)\t0.24909962194901505\n",
      "  (4999, 667)\t0.11757811743948841\n",
      "  (4999, 212)\t0.13836938410121952\n",
      "  (4999, 179)\t0.20343472940903665\n",
      "  (4999, 178)\t0.10149658938063938\n"
     ]
    },
    {
     "data": {
      "text/plain": [
       "0       0\n",
       "1       0\n",
       "2       0\n",
       "3       1\n",
       "4       0\n",
       "5       1\n",
       "6       0\n",
       "7       1\n",
       "8       0\n",
       "9       0\n",
       "10      0\n",
       "11      1\n",
       "12      0\n",
       "13      0\n",
       "14      0\n",
       "15      0\n",
       "16      0\n",
       "17      0\n",
       "18      1\n",
       "19      1\n",
       "20      1\n",
       "21      0\n",
       "22      1\n",
       "23      1\n",
       "24      0\n",
       "25      1\n",
       "26      1\n",
       "27      0\n",
       "28      0\n",
       "29      0\n",
       "       ..\n",
       "4970    0\n",
       "4971    0\n",
       "4972    0\n",
       "4973    1\n",
       "4974    1\n",
       "4975    1\n",
       "4976    1\n",
       "4977    1\n",
       "4978    0\n",
       "4979    0\n",
       "4980    1\n",
       "4981    0\n",
       "4982    1\n",
       "4983    1\n",
       "4984    1\n",
       "4985    0\n",
       "4986    0\n",
       "4987    1\n",
       "4988    0\n",
       "4989    1\n",
       "4990    1\n",
       "4991    1\n",
       "4992    0\n",
       "4993    1\n",
       "4994    1\n",
       "4995    1\n",
       "4996    1\n",
       "4997    0\n",
       "4998    0\n",
       "4999    0\n",
       "Name: label, Length: 5000, dtype: int64"
      ]
     },
     "execution_count": 77,
     "metadata": {},
     "output_type": "execute_result"
    }
   ],
   "source": [
    "test_transform = fitted_vectorizer2.transform(df2['text'])\n",
    "y2 = test_df['label']\n",
    "print(test_transform)\n",
    "y2"
   ]
  },
  {
   "cell_type": "code",
   "execution_count": 78,
   "metadata": {},
   "outputs": [
    {
     "name": "stdout",
     "output_type": "stream",
     "text": [
      "<class 'scipy.sparse.csr.csr_matrix'> (5000, 10267) 2 483209\n"
     ]
    }
   ],
   "source": [
    "print(type(test_transform),\n",
    "  test_transform.get_shape(),\n",
    "  test_transform.ndim,\n",
    "  test_transform.size)"
   ]
  },
  {
   "cell_type": "code",
   "execution_count": 79,
   "metadata": {},
   "outputs": [
    {
     "data": {
      "text/plain": [
       "array([[0., 0., 0., ..., 0., 0., 0.],\n",
       "       [0., 0., 0., ..., 0., 0., 0.],\n",
       "       [0., 0., 0., ..., 0., 0., 0.],\n",
       "       ...,\n",
       "       [0., 0., 0., ..., 0., 0., 0.],\n",
       "       [0., 0., 0., ..., 0., 0., 0.],\n",
       "       [0., 0., 0., ..., 0., 0., 0.]])"
      ]
     },
     "execution_count": 79,
     "metadata": {},
     "output_type": "execute_result"
    }
   ],
   "source": [
    "test_array = test_transform.toarray()\n",
    "test_array"
   ]
  },
  {
   "cell_type": "code",
   "execution_count": 80,
   "metadata": {},
   "outputs": [
    {
     "name": "stdout",
     "output_type": "stream",
     "text": [
      "<class 'numpy.ndarray'> (5000, 10267) 2 51335000\n"
     ]
    }
   ],
   "source": [
    "print(type(test_array),\n",
    "  test_array.shape,\n",
    "  test_array.ndim,\n",
    "  test_array.size)"
   ]
  },
  {
   "cell_type": "code",
   "execution_count": 81,
   "metadata": {},
   "outputs": [
    {
     "name": "stdout",
     "output_type": "stream",
     "text": [
      "<class 'pandas.core.series.Series'> (5000,) 1 5000\n"
     ]
    }
   ],
   "source": [
    "print(type(y2),\n",
    "    y2.shape,\n",
    "    y2.ndim,\n",
    "  y2.size)"
   ]
  },
  {
   "cell_type": "markdown",
   "metadata": {},
   "source": [
    "# Logistic Rregression with Scikit Library"
   ]
  },
  {
   "cell_type": "code",
   "execution_count": 82,
   "metadata": {},
   "outputs": [],
   "source": [
    "X_test1 = test_transform\n",
    "y_test1 = y2"
   ]
  },
  {
   "cell_type": "code",
   "execution_count": 83,
   "metadata": {
    "scrolled": true
   },
   "outputs": [],
   "source": [
    "# scikit_log_reg_3 = LogisticRegression(solver='lbfgs')\n",
    "# model_4 = scikit_log_reg_3 .fit(X_test1, y_test1)"
   ]
  },
  {
   "cell_type": "code",
   "execution_count": 84,
   "metadata": {
    "scrolled": false
   },
   "outputs": [
    {
     "data": {
      "text/plain": [
       "LogisticRegression(C=1.0, class_weight=None, dual=False, fit_intercept=True,\n",
       "          intercept_scaling=1, max_iter=100, multi_class='warn',\n",
       "          n_jobs=None, penalty='l2', random_state=None, solver='lbfgs',\n",
       "          tol=0.0001, verbose=0, warm_start=False)"
      ]
     },
     "execution_count": 84,
     "metadata": {},
     "output_type": "execute_result"
    }
   ],
   "source": [
    "# model_4"
   ]
  },
  {
   "cell_type": "code",
   "execution_count": 85,
   "metadata": {},
   "outputs": [],
   "source": [
    "X_test2 = test_array\n",
    "y_test2 = y2"
   ]
  },
  {
   "cell_type": "code",
   "execution_count": 86,
   "metadata": {},
   "outputs": [],
   "source": [
    "# scikit_log_reg_4 = LogisticRegression(solver='lbfgs')\n",
    "# model_5 = scikit_log_reg_4 .fit(X_test2, y_test2)"
   ]
  },
  {
   "cell_type": "code",
   "execution_count": 88,
   "metadata": {},
   "outputs": [
    {
     "data": {
      "text/plain": [
       "LogisticRegression(C=1.0, class_weight=None, dual=False, fit_intercept=True,\n",
       "          intercept_scaling=1, max_iter=100, multi_class='warn',\n",
       "          n_jobs=None, penalty='l2', random_state=None, solver='lbfgs',\n",
       "          tol=0.0001, verbose=0, warm_start=False)"
      ]
     },
     "execution_count": 88,
     "metadata": {},
     "output_type": "execute_result"
    }
   ],
   "source": [
    "# model_5"
   ]
  },
  {
   "cell_type": "markdown",
   "metadata": {},
   "source": [
    "# Logistic Rregression without Library"
   ]
  },
  {
   "cell_type": "code",
   "execution_count": 89,
   "metadata": {},
   "outputs": [],
   "source": [
    "X_test3 = test_array\n",
    "y_test3 = y2"
   ]
  },
  {
   "cell_type": "code",
   "execution_count": 90,
   "metadata": {},
   "outputs": [],
   "source": [
    "# log_reg_2 = Logistic_Regression(learning_rate=0.9, no_of_iterations=10000)\n",
    "# model_6 = log_reg_2 .fit(X_test3, y_test3)"
   ]
  },
  {
   "cell_type": "markdown",
   "metadata": {},
   "source": [
    "# Test accuracy"
   ]
  },
  {
   "cell_type": "code",
   "execution_count": 91,
   "metadata": {
    "scrolled": true
   },
   "outputs": [
    {
     "name": "stdout",
     "output_type": "stream",
     "text": [
      "0.8902\n"
     ]
    }
   ],
   "source": [
    "test_predictions_1 = model_1.predict(X_test1)\n",
    "print(accuracy_score(y_test1, test_predictions_1))"
   ]
  },
  {
   "cell_type": "code",
   "execution_count": 92,
   "metadata": {},
   "outputs": [
    {
     "name": "stdout",
     "output_type": "stream",
     "text": [
      "0.8902\n"
     ]
    }
   ],
   "source": [
    "test_predictions_2 = model_2.predict(X_test2)\n",
    "print(accuracy_score(y_test2, test_predictions_2))"
   ]
  },
  {
   "cell_type": "code",
   "execution_count": 93,
   "metadata": {},
   "outputs": [
    {
     "name": "stdout",
     "output_type": "stream",
     "text": [
      "0.8852\n"
     ]
    }
   ],
   "source": [
    "test_predictions_3 = saved_model .predict(X_test3)\n",
    "print(accuracy_score(y_test3, test_predictions_3))"
   ]
  },
  {
   "cell_type": "markdown",
   "metadata": {},
   "source": [
    "### Confusion Matrix [ [TP, FN] [FP, TN]]"
   ]
  },
  {
   "cell_type": "code",
   "execution_count": 94,
   "metadata": {},
   "outputs": [
    {
     "data": {
      "text/plain": [
       "1    2505\n",
       "0    2495\n",
       "Name: label, dtype: int64"
      ]
     },
     "execution_count": 94,
     "metadata": {},
     "output_type": "execute_result"
    }
   ],
   "source": [
    "test_df['label'].value_counts()"
   ]
  },
  {
   "cell_type": "code",
   "execution_count": 95,
   "metadata": {
    "scrolled": true
   },
   "outputs": [
    {
     "data": {
      "text/plain": [
       "array([[2193,  302],\n",
       "       [ 247, 2258]], dtype=int64)"
      ]
     },
     "execution_count": 95,
     "metadata": {},
     "output_type": "execute_result"
    }
   ],
   "source": [
    "confusion_matrix(y_test1, test_predictions_1)"
   ]
  },
  {
   "cell_type": "code",
   "execution_count": 96,
   "metadata": {},
   "outputs": [
    {
     "data": {
      "text/plain": [
       "array([[2193,  302],\n",
       "       [ 247, 2258]], dtype=int64)"
      ]
     },
     "execution_count": 96,
     "metadata": {},
     "output_type": "execute_result"
    }
   ],
   "source": [
    "confusion_matrix(y_test2, test_predictions_2)"
   ]
  },
  {
   "cell_type": "code",
   "execution_count": 97,
   "metadata": {},
   "outputs": [
    {
     "data": {
      "text/plain": [
       "array([[2183,  312],\n",
       "       [ 262, 2243]], dtype=int64)"
      ]
     },
     "execution_count": 97,
     "metadata": {},
     "output_type": "execute_result"
    }
   ],
   "source": [
    "confusion_matrix(y_test3, test_predictions_3)"
   ]
  },
  {
   "cell_type": "markdown",
   "metadata": {},
   "source": [
    "### F1 = 2 * (precision * recall) / (precision + recall)"
   ]
  },
  {
   "cell_type": "code",
   "execution_count": 98,
   "metadata": {},
   "outputs": [
    {
     "data": {
      "text/plain": [
       "0.9212725334126807"
      ]
     },
     "execution_count": 98,
     "metadata": {},
     "output_type": "execute_result"
    }
   ],
   "source": [
    "f1_score(y_train1, train_predictions_1)"
   ]
  },
  {
   "cell_type": "code",
   "execution_count": 99,
   "metadata": {},
   "outputs": [
    {
     "data": {
      "text/plain": [
       "0.9212725334126807"
      ]
     },
     "execution_count": 99,
     "metadata": {},
     "output_type": "execute_result"
    }
   ],
   "source": [
    "f1_score(y_train2, train_predictions_2)"
   ]
  },
  {
   "cell_type": "code",
   "execution_count": 100,
   "metadata": {},
   "outputs": [
    {
     "data": {
      "text/plain": [
       "0.8942212547001781"
      ]
     },
     "execution_count": 100,
     "metadata": {},
     "output_type": "execute_result"
    }
   ],
   "source": [
    "f1_score(y_train3, train_predictions_3)"
   ]
  },
  {
   "cell_type": "markdown",
   "metadata": {},
   "source": [
    "### Classification report"
   ]
  },
  {
   "cell_type": "code",
   "execution_count": 101,
   "metadata": {},
   "outputs": [
    {
     "name": "stdout",
     "output_type": "stream",
     "text": [
      "Classification report for train data 1 : \n",
      "               precision    recall  f1-score   support\n",
      "\n",
      "           1       0.88      0.90      0.89      2505\n",
      "           0       0.90      0.88      0.89      2495\n",
      "\n",
      "   micro avg       0.89      0.89      0.89      5000\n",
      "   macro avg       0.89      0.89      0.89      5000\n",
      "weighted avg       0.89      0.89      0.89      5000\n",
      "\n"
     ]
    }
   ],
   "source": [
    "matrix_4 = classification_report(y_test1, test_predictions_1, labels=[1,0])\n",
    "print('Classification report for train data 1 : \\n', matrix_4)"
   ]
  },
  {
   "cell_type": "code",
   "execution_count": 102,
   "metadata": {},
   "outputs": [
    {
     "name": "stdout",
     "output_type": "stream",
     "text": [
      "Classification report for train data 1 : \n",
      "               precision    recall  f1-score   support\n",
      "\n",
      "           1       0.88      0.90      0.89      2505\n",
      "           0       0.90      0.88      0.89      2495\n",
      "\n",
      "   micro avg       0.89      0.89      0.89      5000\n",
      "   macro avg       0.89      0.89      0.89      5000\n",
      "weighted avg       0.89      0.89      0.89      5000\n",
      "\n"
     ]
    }
   ],
   "source": [
    "matrix_5 = classification_report(y_test2, test_predictions_2, labels=[1,0])\n",
    "print('Classification report for train data 1 : \\n', matrix_5)"
   ]
  },
  {
   "cell_type": "code",
   "execution_count": 103,
   "metadata": {},
   "outputs": [
    {
     "name": "stdout",
     "output_type": "stream",
     "text": [
      "Classification report for test data 3 w/o library : \n",
      "               precision    recall  f1-score   support\n",
      "\n",
      "           1       0.88      0.90      0.89      2505\n",
      "           0       0.89      0.87      0.88      2495\n",
      "\n",
      "   micro avg       0.89      0.89      0.89      5000\n",
      "   macro avg       0.89      0.89      0.89      5000\n",
      "weighted avg       0.89      0.89      0.89      5000\n",
      "\n"
     ]
    }
   ],
   "source": [
    "matrix_6 = classification_report(y_test3, test_predictions_3, labels=[1,0])\n",
    "print('Classification report for test data 3 w/o library : \\n',matrix_6)"
   ]
  },
  {
   "cell_type": "markdown",
   "metadata": {},
   "source": [
    "# Testing manually from user input"
   ]
  },
  {
   "cell_type": "code",
   "execution_count": 115,
   "metadata": {},
   "outputs": [
    {
     "name": "stdout",
     "output_type": "stream",
     "text": [
      "Review: This film starts out with all the moody promise of a great contemporary noir Western - after the ill-conceived opening flashback sequence anyway. The scenery is beautifully desolate, the characters achingly isolated. While some of the acting is less than believable, the plot ultimately delivers enough tension and twists to make this movie worth a look.\n"
     ]
    }
   ],
   "source": [
    "text = input(\"Review: \")\n",
    "text = [text]"
   ]
  },
  {
   "cell_type": "code",
   "execution_count": 116,
   "metadata": {},
   "outputs": [],
   "source": [
    "vec = TfidfVectorizer(min_df=0.0015, ngram_range=(1,3), vocabulary = tf.vocabulary_)\n",
    "text_transform = vec .fit_transform(text)"
   ]
  },
  {
   "cell_type": "code",
   "execution_count": 117,
   "metadata": {},
   "outputs": [
    {
     "data": {
      "text/plain": [
       "array([[0., 0., 0., ..., 0., 0., 0.]])"
      ]
     },
     "execution_count": 117,
     "metadata": {},
     "output_type": "execute_result"
    }
   ],
   "source": [
    "text_array = text_transform .toarray()\n",
    "text_array"
   ]
  },
  {
   "cell_type": "code",
   "execution_count": 118,
   "metadata": {},
   "outputs": [],
   "source": [
    "sentiment_predict = saved_model .predict(text_array)"
   ]
  },
  {
   "cell_type": "code",
   "execution_count": 119,
   "metadata": {},
   "outputs": [
    {
     "name": "stdout",
     "output_type": "stream",
     "text": [
      "Positive sentiment\n"
     ]
    }
   ],
   "source": [
    "if sentiment_predict == 0:\n",
    "    print(\"Negative sentiment\")\n",
    "else:\n",
    "    print(\"Positive sentiment\")"
   ]
  },
  {
   "cell_type": "code",
   "execution_count": null,
   "metadata": {},
   "outputs": [],
   "source": []
  }
 ],
 "metadata": {
  "kernelspec": {
   "display_name": "Python 3",
   "language": "python",
   "name": "python3"
  },
  "language_info": {
   "codemirror_mode": {
    "name": "ipython",
    "version": 3
   },
   "file_extension": ".py",
   "mimetype": "text/x-python",
   "name": "python",
   "nbconvert_exporter": "python",
   "pygments_lexer": "ipython3",
   "version": "3.7.3"
  }
 },
 "nbformat": 4,
 "nbformat_minor": 2
}
