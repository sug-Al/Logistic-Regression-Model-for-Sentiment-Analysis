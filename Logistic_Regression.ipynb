{
 "cells": [
  {
   "cell_type": "code",
   "execution_count": null,
   "metadata": {},
   "outputs": [],
   "source": [
    "class Logistic_Regression:\n",
    "    \n",
    "    # Defining hyper parameters\n",
    "    def __init__(self, learning_rate, no_of_iterations):\n",
    "        \n",
    "        self.learning_rate = learning_rate\n",
    "        self.no_of_iterations = no_of_iterations\n",
    "    \n",
    "    # Sigmoid activation function\n",
    "    def sigmoid(self, z):\n",
    "        \n",
    "          return 1/ (1 + np.exp(-z))\n",
    "      \n",
    "    # Fit function for model\n",
    "    def fit(self, X, Y):\n",
    "        \n",
    "        # m -> number of rows in dataset\n",
    "        # n -> number of columns in dataset\n",
    "        self.m, self.n = X.shape\n",
    "        \n",
    "        # initializing weights and bias model parameters\n",
    "        self.weights = np.zeros(self.n)\n",
    "        self.bias = 0\n",
    "        \n",
    "        self.X = X\n",
    "        self.Y = Y\n",
    "\n",
    "        for i in range(self.no_of_iterations):\n",
    "              self.update_model_parameters()\n",
    "    \n",
    "    # Gradient descent for optimizing model parameters\n",
    "    def update_model_parameters(self):\n",
    "\n",
    "        Y_hat = self.sigmoid( self.X.dot(self.weights) + self.bias )  \n",
    "        \n",
    "        # using gradient descent optimization algorithm\n",
    "        dw = (1/self.m)*np.dot(self.X.T, (Y_hat - self.Y))\n",
    "        db = (1/self.m)*np.sum(Y_hat - self.Y)\n",
    "        \n",
    "        # updating weights and bias using learning rate and gradient descent\n",
    "        self.weights = self.weights - dw * self.learning_rate\n",
    "        self.bias = self.bias - self.learning_rate * db           \n",
    "\n",
    "    # Predict function for model\n",
    "    def predict(self, X):\n",
    "\n",
    "        Y_pred = 1 / (1 + np.exp( - (X.dot(self.weights) + self.bias ) ))  \n",
    "        \n",
    "        # if >0.5 --> positive else negative\n",
    "        Y_pred = np.where( Y_pred > 0.5, 1, 0)\n",
    "        return Y_pred"
   ]
  }
 ],
 "metadata": {
  "kernelspec": {
   "display_name": "Python 3",
   "language": "python",
   "name": "python3"
  },
  "language_info": {
   "codemirror_mode": {
    "name": "ipython",
    "version": 3
   },
   "file_extension": ".py",
   "mimetype": "text/x-python",
   "name": "python",
   "nbconvert_exporter": "python",
   "pygments_lexer": "ipython3",
   "version": "3.7.3"
  }
 },
 "nbformat": 4,
 "nbformat_minor": 2
}
