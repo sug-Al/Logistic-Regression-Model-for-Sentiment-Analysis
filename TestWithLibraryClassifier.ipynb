{
 "cells": [
  {
   "cell_type": "code",
   "execution_count": 1,
   "metadata": {},
   "outputs": [],
   "source": [
    "import pandas as pd\n",
    "import nltk\n",
    "import string\n",
    "pd.options.mode.chained_assignment = None\n",
    "\n",
    "from bs4 import BeautifulSoup\n",
    "from nltk.corpus import wordnet\n",
    "from nltk.stem import WordNetLemmatizer\n",
    "\n",
    "from sklearn.feature_extraction.text import TfidfVectorizer\n",
    "from sklearn.model_selection import train_test_split\n",
    "from sklearn.linear_model import LogisticRegression\n",
    "from sklearn.metrics import accuracy_score"
   ]
  },
  {
   "cell_type": "code",
   "execution_count": 2,
   "metadata": {},
   "outputs": [
    {
     "data": {
      "text/plain": [
       "(5000, 2)"
      ]
     },
     "execution_count": 2,
     "metadata": {},
     "output_type": "execute_result"
    }
   ],
   "source": [
    "test = pd. read_csv('test.csv',header=None, delimiter=',', skiprows=1, names=['text','label'])\n",
    "test.shape"
   ]
  },
  {
   "cell_type": "code",
   "execution_count": 3,
   "metadata": {},
   "outputs": [
    {
     "data": {
      "text/html": [
       "<div>\n",
       "<style scoped>\n",
       "    .dataframe tbody tr th:only-of-type {\n",
       "        vertical-align: middle;\n",
       "    }\n",
       "\n",
       "    .dataframe tbody tr th {\n",
       "        vertical-align: top;\n",
       "    }\n",
       "\n",
       "    .dataframe thead th {\n",
       "        text-align: right;\n",
       "    }\n",
       "</style>\n",
       "<table border=\"1\" class=\"dataframe\">\n",
       "  <thead>\n",
       "    <tr style=\"text-align: right;\">\n",
       "      <th></th>\n",
       "      <th>text</th>\n",
       "    </tr>\n",
       "  </thead>\n",
       "  <tbody>\n",
       "    <tr>\n",
       "      <th>0</th>\n",
       "      <td>I always wrote this series off as being a comp...</td>\n",
       "    </tr>\n",
       "    <tr>\n",
       "      <th>1</th>\n",
       "      <td>1st watched 12/7/2002 - 3 out of 10(Dir-Steve ...</td>\n",
       "    </tr>\n",
       "    <tr>\n",
       "      <th>2</th>\n",
       "      <td>This movie was so poorly written and directed ...</td>\n",
       "    </tr>\n",
       "    <tr>\n",
       "      <th>3</th>\n",
       "      <td>The most interesting thing about Miryang (Secr...</td>\n",
       "    </tr>\n",
       "    <tr>\n",
       "      <th>4</th>\n",
       "      <td>when i first read about \"berlin am meer\" i did...</td>\n",
       "    </tr>\n",
       "  </tbody>\n",
       "</table>\n",
       "</div>"
      ],
      "text/plain": [
       "                                                text\n",
       "0  I always wrote this series off as being a comp...\n",
       "1  1st watched 12/7/2002 - 3 out of 10(Dir-Steve ...\n",
       "2  This movie was so poorly written and directed ...\n",
       "3  The most interesting thing about Miryang (Secr...\n",
       "4  when i first read about \"berlin am meer\" i did..."
      ]
     },
     "execution_count": 3,
     "metadata": {},
     "output_type": "execute_result"
    }
   ],
   "source": [
    "td = test[[\"text\"]]\n",
    "td[\"text\"] = td[\"text\"].astype(str)\n",
    "td.head()"
   ]
  },
  {
   "cell_type": "code",
   "execution_count": 4,
   "metadata": {},
   "outputs": [
    {
     "name": "stdout",
     "output_type": "stream",
     "text": [
      "0       i always wrote this series off as being a comp...\n",
      "1       1st watched 12/7/2002 - 3 out of 10(dir-steve ...\n",
      "2       this movie was so poorly written and directed ...\n",
      "3       the most interesting thing about miryang (secr...\n",
      "4       when i first read about \"berlin am meer\" i did...\n",
      "5       i saw this film on september 1st, 2005 in indi...\n",
      "6       i saw a screening of this movie last night. i ...\n",
      "7       william hurt may not be an american matinee id...\n",
      "8       it is a piece of crap! not funny at all. durin...\n",
      "9       i'm bout it(1997)<br /><br />developed & publi...\n",
      "10      i had a recent spectator experience with the p...\n",
      "11      i really enjoyed the detail that went into the...\n",
      "12      didn't the writer for this movie see the other...\n",
      "13      this movie was really bad. first they didn't e...\n",
      "14      i think i watched a highly edited version beca...\n",
      "15      uwe boll has done the impossible: create a gam...\n",
      "16      i felt asleep, watching it!!! (and i had ticke...\n",
      "17      brass pictures (movies is not a fitting word f...\n",
      "18      my interest was raised as i was flipping throu...\n",
      "19      pity the monkees. people always accused them o...\n",
      "20      love jones cleverly portrays young african-ame...\n",
      "21      this film is terrible - honestly. the acting i...\n",
      "22      this is a funny film and i like it a lot. cary...\n",
      "23      this movie makes me want to fall in love all o...\n",
      "24      all day now i've been watching dinosaurs, and ...\n",
      "25      i have lost count as to how many times i have ...\n",
      "26      like several other reviewers here, i'm surpris...\n",
      "27      film version of sandra bernhard's one-woman of...\n",
      "28      spoken like a true hard-boiled u'an gangsta. t...\n",
      "29      i think it was an overrated pg-13 crap! at lea...\n",
      "                              ...                        \n",
      "4970    just think, it cost a total of $250,000 to mak...\n",
      "4971    i've seen all 3 now. i just can't believe how ...\n",
      "4972    oh my god... where to begin? \"chupacabra terro...\n",
      "4973    'war movie' is a hollywood genre that has been...\n",
      "4974    if you're a a fan of either or both chuck norr...\n",
      "4975    without kirsten miller this project needn't ha...\n",
      "4976    not having seen the film in its commercial deb...\n",
      "4977    one of the most charming and, for me at least,...\n",
      "4978    the john goodman program was pretty awful, but...\n",
      "4979    i saw this movie in the middle of the night, w...\n",
      "4980    directed by govind nihalani, this is definite ...\n",
      "4981    the fiendish plot of dr. fu manchu starring pe...\n",
      "4982    i'm going to keep this review short and sweet....\n",
      "4983    i enjoyed this show for two reasons 1. richard...\n",
      "4984    so often these \"lifetime\" flicks are one-dimen...\n",
      "4985    if you want to see a mystery, don't watch this...\n",
      "4986    this review may contain some spoilers.<br /><b...\n",
      "4987    i have watched this movie countless times, and...\n",
      "4988    i had high expectations following \"my beautifu...\n",
      "4989    \"jake speed\" is a fine movie with a wonderful ...\n",
      "4990    rohmer returns to his historical dramas in the...\n",
      "4991    legend of zu<br /><br />i remember well tsui h...\n",
      "4992    this one is just like the 6th movie. the movie...\n",
      "4993    this film, without doubt, is the clearest exam...\n",
      "4994    first, nobody can understand why this movie is...\n",
      "4995    this is the kind of picture john lassiter woul...\n",
      "4996    a must see! i saw whipped at a press screening...\n",
      "4997    nbc should be ashamed. i wouldn't allow my chi...\n",
      "4998    this movie is a clumsy mishmash of various gho...\n",
      "4999    formula movie about the illegitimate son of a ...\n",
      "Name: low, Length: 5000, dtype: object\n"
     ]
    }
   ],
   "source": [
    "td[\"low\"] = td[\"text\"].str.lower()\n",
    "print(td[\"low\"])"
   ]
  },
  {
   "cell_type": "code",
   "execution_count": 5,
   "metadata": {},
   "outputs": [
    {
     "name": "stdout",
     "output_type": "stream",
     "text": [
      "0       i always wrote this series off as being a comp...\n",
      "1       1st watched 12/7/2002 - 3 out of 10(dir-steve ...\n",
      "2       this movie was so poorly written and directed ...\n",
      "3       the most interesting thing about miryang (secr...\n",
      "4       when i first read about \"berlin am meer\" i did...\n",
      "5       i saw this film on september 1st, 2005 in indi...\n",
      "6       i saw a screening of this movie last night. i ...\n",
      "7       william hurt may not be an american matinee id...\n",
      "8       it is a piece of crap! not funny at all. durin...\n",
      "9       i'm bout it(1997)developed & published by no l...\n",
      "10      i had a recent spectator experience with the p...\n",
      "11      i really enjoyed the detail that went into the...\n",
      "12      didn't the writer for this movie see the other...\n",
      "13      this movie was really bad. first they didn't e...\n",
      "14      i think i watched a highly edited version beca...\n",
      "15      uwe boll has done the impossible: create a gam...\n",
      "16      i felt asleep, watching it!!! (and i had ticke...\n",
      "17      brass pictures (movies is not a fitting word f...\n",
      "18      my interest was raised as i was flipping throu...\n",
      "19      pity the monkees. people always accused them o...\n",
      "20      love jones cleverly portrays young african-ame...\n",
      "21      this film is terrible - honestly. the acting i...\n",
      "22      this is a funny film and i like it a lot. cary...\n",
      "23      this movie makes me want to fall in love all o...\n",
      "24      all day now i've been watching dinosaurs, and ...\n",
      "25      i have lost count as to how many times i have ...\n",
      "26      like several other reviewers here, i'm surpris...\n",
      "27      film version of sandra bernhard's one-woman of...\n",
      "28      spoken like a true hard-boiled u'an gangsta. t...\n",
      "29      i think it was an overrated pg-13 crap! at lea...\n",
      "                              ...                        \n",
      "4970    just think, it cost a total of $250,000 to mak...\n",
      "4971    i've seen all 3 now. i just can't believe how ...\n",
      "4972    oh my god... where to begin? \"chupacabra terro...\n",
      "4973    'war movie' is a hollywood genre that has been...\n",
      "4974    if you're a a fan of either or both chuck norr...\n",
      "4975    without kirsten miller this project needn't ha...\n",
      "4976    not having seen the film in its commercial deb...\n",
      "4977    one of the most charming and, for me at least,...\n",
      "4978    the john goodman program was pretty awful, but...\n",
      "4979    i saw this movie in the middle of the night, w...\n",
      "4980    directed by govind nihalani, this is definite ...\n",
      "4981    the fiendish plot of dr. fu manchu starring pe...\n",
      "4982    i'm going to keep this review short and sweet....\n",
      "4983    i enjoyed this show for two reasons 1. richard...\n",
      "4984    so often these \"lifetime\" flicks are one-dimen...\n",
      "4985    if you want to see a mystery, don't watch this...\n",
      "4986    this review may contain some spoilers.the rema...\n",
      "4987    i have watched this movie countless times, and...\n",
      "4988    i had high expectations following \"my beautifu...\n",
      "4989    \"jake speed\" is a fine movie with a wonderful ...\n",
      "4990    rohmer returns to his historical dramas in the...\n",
      "4991    legend of zui remember well tsui hark's origin...\n",
      "4992    this one is just like the 6th movie. the movie...\n",
      "4993    this film, without doubt, is the clearest exam...\n",
      "4994    first, nobody can understand why this movie is...\n",
      "4995    this is the kind of picture john lassiter woul...\n",
      "4996    a must see! i saw whipped at a press screening...\n",
      "4997    nbc should be ashamed. i wouldn't allow my chi...\n",
      "4998    this movie is a clumsy mishmash of various gho...\n",
      "4999    formula movie about the illegitimate son of a ...\n",
      "Name: text_no_html, Length: 5000, dtype: object\n"
     ]
    }
   ],
   "source": [
    "def remove_html(text):\n",
    "    return BeautifulSoup(text, \"lxml\").text\n",
    "\n",
    "td[\"text_no_html\"] = td[\"low\"].apply(lambda text: remove_html(text))\n",
    "print(td[\"text_no_html\"])"
   ]
  },
  {
   "cell_type": "code",
   "execution_count": 6,
   "metadata": {},
   "outputs": [
    {
     "name": "stdout",
     "output_type": "stream",
     "text": [
      "0       i always wrote this series off as being a comp...\n",
      "1       1st watched 1272002  3 out of 10dirsteve purce...\n",
      "2       this movie was so poorly written and directed ...\n",
      "3       the most interesting thing about miryang secre...\n",
      "4       when i first read about berlin am meer i didnt...\n",
      "5       i saw this film on september 1st 2005 in india...\n",
      "6       i saw a screening of this movie last night i h...\n",
      "7       william hurt may not be an american matinee id...\n",
      "8       it is a piece of crap not funny at all during ...\n",
      "9       im bout it1997developed  published by no limit...\n",
      "10      i had a recent spectator experience with the p...\n",
      "11      i really enjoyed the detail that went into the...\n",
      "12      didnt the writer for this movie see the other ...\n",
      "13      this movie was really bad first they didnt eve...\n",
      "14      i think i watched a highly edited version beca...\n",
      "15      uwe boll has done the impossible create a game...\n",
      "16      i felt asleep watching it and i had tickets fo...\n",
      "17      brass pictures movies is not a fitting word fo...\n",
      "18      my interest was raised as i was flipping throu...\n",
      "19      pity the monkees people always accused them of...\n",
      "20      love jones cleverly portrays young africanamer...\n",
      "21      this film is terrible  honestly the acting is ...\n",
      "22      this is a funny film and i like it a lot cary ...\n",
      "23      this movie makes me want to fall in love all o...\n",
      "24      all day now ive been watching dinosaurs and al...\n",
      "25      i have lost count as to how many times i have ...\n",
      "26      like several other reviewers here im surprised...\n",
      "27      film version of sandra bernhards onewoman offb...\n",
      "28      spoken like a true hardboiled uan gangsta the ...\n",
      "29      i think it was an overrated pg13 crap at least...\n",
      "                              ...                        \n",
      "4970    just think it cost a total of 250000 to make c...\n",
      "4971    ive seen all 3 now i just cant believe how bad...\n",
      "4972    oh my god where to begin chupacabra terror is ...\n",
      "4973    war movie is a hollywood genre that has been d...\n",
      "4974    if youre a a fan of either or both chuck norri...\n",
      "4975    without kirsten miller this project neednt hav...\n",
      "4976    not having seen the film in its commercial deb...\n",
      "4977    one of the most charming and for me at least t...\n",
      "4978    the john goodman program was pretty awful but ...\n",
      "4979    i saw this movie in the middle of the night wh...\n",
      "4980    directed by govind nihalani this is definite c...\n",
      "4981    the fiendish plot of dr fu manchu starring pet...\n",
      "4982    im going to keep this review short and sweeti ...\n",
      "4983    i enjoyed this show for two reasons 1 richard ...\n",
      "4984    so often these lifetime flicks are onedimensio...\n",
      "4985    if you want to see a mystery dont watch this t...\n",
      "4986    this review may contain some spoilersthe remak...\n",
      "4987    i have watched this movie countless times and ...\n",
      "4988    i had high expectations following my beautiful...\n",
      "4989    jake speed is a fine movie with a wonderful me...\n",
      "4990    rohmer returns to his historical dramas in the...\n",
      "4991    legend of zui remember well tsui harks origina...\n",
      "4992    this one is just like the 6th movie the movie ...\n",
      "4993    this film without doubt is the clearest exampl...\n",
      "4994    first nobody can understand why this movie is ...\n",
      "4995    this is the kind of picture john lassiter woul...\n",
      "4996    a must see i saw whipped at a press screening ...\n",
      "4997    nbc should be ashamed i wouldnt allow my child...\n",
      "4998    this movie is a clumsy mishmash of various gho...\n",
      "4999    formula movie about the illegitimate son of a ...\n",
      "Name: wo_punct, Length: 5000, dtype: object\n"
     ]
    }
   ],
   "source": [
    "PUNCT_TO_REMOVE = string.punctuation\n",
    "\n",
    "def remove_punct(text):\n",
    "    return text.translate(str.maketrans(' ', ' ', PUNCT_TO_REMOVE))\n",
    "\n",
    "td[\"wo_punct\"] = td[\"text_no_html\"].apply(lambda text: remove_punct(text))\n",
    "print(td[\"wo_punct\"])"
   ]
  },
  {
   "cell_type": "code",
   "execution_count": 7,
   "metadata": {},
   "outputs": [
    {
     "name": "stdout",
     "output_type": "stream",
     "text": [
      "0       i always wrote this series off as being a comp...\n",
      "1       1st watched out of 10dirsteve purcell typical ...\n",
      "2       this movie was so poorly written and directed ...\n",
      "3       the most interesting thing about miryang secre...\n",
      "4       when i first read about berlin am meer i didnt...\n",
      "5       i saw this film on september 1st in indianapol...\n",
      "6       i saw a screening of this movie last night i h...\n",
      "7       william hurt may not be an american matinee id...\n",
      "8       it is a piece of crap not funny at all during ...\n",
      "9       im bout it1997developed published by no limit ...\n",
      "10      i had a recent spectator experience with the p...\n",
      "11      i really enjoyed the detail that went into the...\n",
      "12      didnt the writer for this movie see the other ...\n",
      "13      this movie was really bad first they didnt eve...\n",
      "14      i think i watched a highly edited version beca...\n",
      "15      uwe boll has done the impossible create a game...\n",
      "16      i felt asleep watching it and i had tickets fo...\n",
      "17      brass pictures movies is not a fitting word fo...\n",
      "18      my interest was raised as i was flipping throu...\n",
      "19      pity the monkees people always accused them of...\n",
      "20      love jones cleverly portrays young africanamer...\n",
      "21      this film is terrible honestly the acting is t...\n",
      "22      this is a funny film and i like it a lot cary ...\n",
      "23      this movie makes me want to fall in love all o...\n",
      "24      all day now ive been watching dinosaurs and al...\n",
      "25      i have lost count as to how many times i have ...\n",
      "26      like several other reviewers here im surprised...\n",
      "27      film version of sandra bernhards onewoman offb...\n",
      "28      spoken like a true hardboiled uan gangsta the ...\n",
      "29      i think it was an overrated pg13 crap at least...\n",
      "                              ...                        \n",
      "4970    just think it cost a total of to make clerks h...\n",
      "4971    ive seen all now i just cant believe how bad n...\n",
      "4972    oh my god where to begin chupacabra terror is ...\n",
      "4973    war movie is a hollywood genre that has been d...\n",
      "4974    if youre a a fan of either or both chuck norri...\n",
      "4975    without kirsten miller this project neednt hav...\n",
      "4976    not having seen the film in its commercial deb...\n",
      "4977    one of the most charming and for me at least t...\n",
      "4978    the john goodman program was pretty awful but ...\n",
      "4979    i saw this movie in the middle of the night wh...\n",
      "4980    directed by govind nihalani this is definite c...\n",
      "4981    the fiendish plot of dr fu manchu starring pet...\n",
      "4982    im going to keep this review short and sweeti ...\n",
      "4983    i enjoyed this show for two reasons richard de...\n",
      "4984    so often these lifetime flicks are onedimensio...\n",
      "4985    if you want to see a mystery dont watch this t...\n",
      "4986    this review may contain some spoilersthe remak...\n",
      "4987    i have watched this movie countless times and ...\n",
      "4988    i had high expectations following my beautiful...\n",
      "4989    jake speed is a fine movie with a wonderful me...\n",
      "4990    rohmer returns to his historical dramas in the...\n",
      "4991    legend of zui remember well tsui harks origina...\n",
      "4992    this one is just like the 6th movie the movie ...\n",
      "4993    this film without doubt is the clearest exampl...\n",
      "4994    first nobody can understand why this movie is ...\n",
      "4995    this is the kind of picture john lassiter woul...\n",
      "4996    a must see i saw whipped at a press screening ...\n",
      "4997    nbc should be ashamed i wouldnt allow my child...\n",
      "4998    this movie is a clumsy mishmash of various gho...\n",
      "4999    formula movie about the illegitimate son of a ...\n",
      "Name: text_wo_numbers, Length: 5000, dtype: object\n"
     ]
    }
   ],
   "source": [
    "def remove_numbers(text):\n",
    "    \n",
    "    return \" \".join([line for line in str(text).split() if not line.isdigit()])\n",
    "\n",
    "td[\"text_wo_numbers\"] = td[\"wo_punct\"].apply(lambda text: remove_numbers(text))\n",
    "print(td[\"text_wo_numbers\"])"
   ]
  },
  {
   "cell_type": "code",
   "execution_count": 9,
   "metadata": {},
   "outputs": [
    {
     "data": {
      "text/plain": [
       "\"i, me, my, myself, we, our, ours, ourselves, you, you're, you've, you'll, you'd, your, yours, yourself, yourselves, he, him, his, himself, she, she's, her, hers, herself, it, it's, its, itself, they, them, their, theirs, themselves, what, which, who, whom, this, that, that'll, these, those, am, is, are, was, were, be, been, being, have, has, had, having, do, does, did, doing, a, an, the, and, but, if, or, because, as, until, while, of, at, by, for, with, about, against, between, into, through, during, before, after, above, below, to, from, up, down, in, out, on, off, over, under, again, further, then, once, here, there, when, where, why, how, all, any, both, each, few, more, most, other, some, such, no, nor, not, only, own, same, so, than, too, very, s, t, can, will, just, don, don't, should, should've, now, d, ll, m, o, re, ve, y, ain, aren, aren't, couldn, couldn't, didn, didn't, doesn, doesn't, hadn, hadn't, hasn, hasn't, haven, haven't, isn, isn't, ma, mightn, mightn't, mustn, mustn't, needn, needn't, shan, shan't, shouldn, shouldn't, wasn, wasn't, weren, weren't, won, won't, wouldn, wouldn't\""
      ]
     },
     "execution_count": 9,
     "metadata": {},
     "output_type": "execute_result"
    }
   ],
   "source": [
    "from nltk.corpus import stopwords\n",
    "\", \".join(stopwords.words('english'))"
   ]
  },
  {
   "cell_type": "code",
   "execution_count": 10,
   "metadata": {},
   "outputs": [
    {
     "name": "stdout",
     "output_type": "stream",
     "text": [
      "0       always wrote series complete stinkfest jim bel...\n",
      "1       1st watched 10dirsteve purcell typical mary ka...\n",
      "2       movie poorly written directed fell asleep minu...\n",
      "3       interesting thing miryang secret sunshine acto...\n",
      "4       first read berlin meer didnt expect much thoug...\n",
      "5       saw film september 1st indianapolis one judges...\n",
      "6       saw screening movie last night high expectatio...\n",
      "7       william hurt may american matinee idol anymore...\n",
      "8       piece crap funny whole movie nothing ever happ...\n",
      "9       im bout it1997developed published limit filmsp...\n",
      "10      recent spectator experience perfect witness ne...\n",
      "11      really enjoyed detail went scriptjonathan rhys...\n",
      "12      didnt writer movie see three loved original th...\n",
      "13      movie really bad first didnt even follow facts...\n",
      "14      think watched highly edited version wasnt near...\n",
      "15      uwe boll done impossible create game adaptatio...\n",
      "16      felt asleep watching tickets midnight premiere...\n",
      "17      brass pictures movies fitting word really some...\n",
      "18      interest raised flipping saw name iphigenia na...\n",
      "19      pity monkees people always accused manufacture...\n",
      "20      love jones cleverly portrays young africanamer...\n",
      "21      film terrible honestly acting terrible script ...\n",
      "22      funny film like lot cary elwes plays robin hoo...\n",
      "23      movie makes want fall love againi naming next ...\n",
      "24      day ive watching dinosaurs day theyve fundamen...\n",
      "25      lost count many times watched movie ive never ...\n",
      "26      like several reviewers im surprised see many n...\n",
      "27      film version sandra bernhards onewoman offbroa...\n",
      "28      spoken like true hardboiled uan gangsta story ...\n",
      "29      think overrated pg13 crap least brittany snows...\n",
      "                              ...                        \n",
      "4970    think cost total make clerks hell spend millio...\n",
      "4971    ive seen cant believe bad naqoyqatsi compariso...\n",
      "4972    oh god begin chupacabra terror one worst bhorr...\n",
      "4973    war movie hollywood genre done redone many tim...\n",
      "4974    youre fan either chuck norris judson mills mov...\n",
      "4975    without kirsten miller project neednt complete...\n",
      "4976    seen film commercial debut caught via dvd expe...\n",
      "4977    one charming least powerful elements anthony m...\n",
      "4978    john goodman program pretty awful thing plain ...\n",
      "4979    saw movie middle night flipping channels nothi...\n",
      "4980    directed govind nihalani definite cop film ind...\n",
      "4981    fiendish plot dr fu manchu starring peter sell...\n",
      "4982    im going keep review short sweeti saw trailer ...\n",
      "4983    enjoyed show two reasons richard dean anderson...\n",
      "4984    often lifetime flicks onedimension overthetop ...\n",
      "4985    want see mystery dont watch though elements st...\n",
      "4986    review may contain spoilersthe remake classic ...\n",
      "4987    watched movie countless times never failed cha...\n",
      "4988    high expectations following beautiful laundret...\n",
      "4989    jake speed fine movie wonderful message flaws ...\n",
      "4990    rohmer returns historical dramas real story gr...\n",
      "4991    legend zui remember well tsui harks original z...\n",
      "4992    one like 6th movie movie really bad offers not...\n",
      "4993    film without doubt clearest example british hu...\n",
      "4994    first nobody understand movie rated poorly fir...\n",
      "4995    kind picture john lassiter would making today ...\n",
      "4996    must see saw whipped press screening hilarious...\n",
      "4997    nbc ashamed wouldnt allow children see definit...\n",
      "4998    movie clumsy mishmash various ghoststory suspe...\n",
      "4999    formula movie illegitimate son rich chilenian ...\n",
      "Name: text_wo_stop, Length: 5000, dtype: object\n"
     ]
    }
   ],
   "source": [
    "STOPWORDS = set(stopwords.words('english'))\n",
    "def remove_stopwords(text):\n",
    "    \n",
    "    return \" \".join([word for word in str(text).split() if word not in STOPWORDS])\n",
    "\n",
    "td[\"text_wo_stop\"] = td[\"text_wo_numbers\"].apply(lambda text: remove_stopwords(text))\n",
    "print(td[\"text_wo_stop\"])"
   ]
  },
  {
   "cell_type": "code",
   "execution_count": 11,
   "metadata": {},
   "outputs": [
    {
     "name": "stdout",
     "output_type": "stream",
     "text": [
      "0       always write series complete stinkfest jim bel...\n",
      "1       1st watch 10dirsteve purcell typical mary kate...\n",
      "2       movie poorly write direct fell asleep minute m...\n",
      "3       interesting thing miryang secret sunshine acto...\n",
      "4       first read berlin meer didnt expect much think...\n",
      "5       saw film september 1st indianapolis one judge ...\n",
      "6       saw screen movie last night high expectation g...\n",
      "7       william hurt may american matinee idol anymore...\n",
      "8       piece crap funny whole movie nothing ever happ...\n",
      "9       im bout it1997developed publish limit filmspro...\n",
      "10      recent spectator experience perfect witness ne...\n",
      "11      really enjoy detail go scriptjonathan rhys mye...\n",
      "12      didnt writer movie see three love original tho...\n",
      "13      movie really bad first didnt even follow fact ...\n",
      "14      think watch highly edit version wasnt nearly g...\n",
      "15      uwe boll do impossible create game adaptation ...\n",
      "16      felt asleep watch ticket midnight premiere que...\n",
      "17      brass picture movie fit word really somewhat b...\n",
      "18      interest raise flip saw name iphigenia name eu...\n",
      "19      pity monkees people always accuse manufacture ...\n",
      "20      love jones cleverly portrays young africanamer...\n",
      "21      film terrible honestly act terrible script mak...\n",
      "22      funny film like lot cary elwes play robin hood...\n",
      "23      movie make want fall love againi name next dau...\n",
      "24      day ive watching dinosaur day theyve fundament...\n",
      "25      lose count many time watched movie ive never g...\n",
      "26      like several reviewer im surprised see many ne...\n",
      "27      film version sandra bernhards onewoman offbroa...\n",
      "28      speak like true hardboiled uan gangsta story b...\n",
      "29      think overrate pg13 crap least brittany snow p...\n",
      "                              ...                        \n",
      "4970    think cost total make clerk hell spend million...\n",
      "4971    ive see cant believe bad naqoyqatsi comparison...\n",
      "4972    oh god begin chupacabra terror one worst bhorr...\n",
      "4973    war movie hollywood genre do redone many time ...\n",
      "4974    youre fan either chuck norris judson mill movi...\n",
      "4975    without kirsten miller project neednt complete...\n",
      "4976    see film commercial debut catch via dvd expect...\n",
      "4977    one charm least powerful element anthony mingh...\n",
      "4978    john goodman program pretty awful thing plain ...\n",
      "4979    saw movie middle night flip channel nothing el...\n",
      "4980    direct govind nihalani definite cop film india...\n",
      "4981    fiendish plot dr fu manchu star peter seller s...\n",
      "4982    im go keep review short sweeti saw trailer tho...\n",
      "4983    enjoy show two reason richard dean anderson am...\n",
      "4984    often lifetime flick onedimension overthetop c...\n",
      "4985    want see mystery dont watch though element str...\n",
      "4986    review may contain spoilersthe remake classic ...\n",
      "4987    watched movie countless time never fail charm ...\n",
      "4988    high expectation follow beautiful laundrette b...\n",
      "4989    jake speed fine movie wonderful message flaw c...\n",
      "4990    rohmer return historical dramas real story gra...\n",
      "4991    legend zui remember well tsui harks original z...\n",
      "4992    one like 6th movie movie really bad offer noth...\n",
      "4993    film without doubt clearest example british hu...\n",
      "4994    first nobody understand movie rat poorly first...\n",
      "4995    kind picture john lassiter would make today we...\n",
      "4996    must see saw whip press screen hilarious talk ...\n",
      "4997    nbc ashamed wouldnt allow child see definitely...\n",
      "4998    movie clumsy mishmash various ghoststory suspe...\n",
      "4999    formula movie illegitimate son rich chilenian ...\n",
      "Name: text_lemmatized, Length: 5000, dtype: object\n"
     ]
    }
   ],
   "source": [
    "lemmatizerr = WordNetLemmatizer()\n",
    "wordnet_mapp = {\"N\":wordnet.NOUN, \"V\":wordnet.VERB, \"J\":wordnet.ADJ, \"R\":wordnet.ADV}\n",
    "\n",
    "def lemmatize_words(text):\n",
    "    pos_tagged_text = nltk.pos_tag(text.split())\n",
    "    return \" \".join([lemmatizerr.lemmatize(word, wordnet_mapp.get(pos[0], wordnet.NOUN)) for word, pos in pos_tagged_text])\n",
    "\n",
    "td[\"text_lemmatized\"] = td[\"text_wo_stop\"].apply(lambda text: lemmatize_words(text))\n",
    "print(td[\"text_lemmatized\"])"
   ]
  },
  {
   "cell_type": "code",
   "execution_count": 12,
   "metadata": {},
   "outputs": [
    {
     "data": {
      "text/html": [
       "<div>\n",
       "<style scoped>\n",
       "    .dataframe tbody tr th:only-of-type {\n",
       "        vertical-align: middle;\n",
       "    }\n",
       "\n",
       "    .dataframe tbody tr th {\n",
       "        vertical-align: top;\n",
       "    }\n",
       "\n",
       "    .dataframe thead th {\n",
       "        text-align: right;\n",
       "    }\n",
       "</style>\n",
       "<table border=\"1\" class=\"dataframe\">\n",
       "  <thead>\n",
       "    <tr style=\"text-align: right;\">\n",
       "      <th></th>\n",
       "      <th>text</th>\n",
       "      <th>low</th>\n",
       "      <th>text_no_html</th>\n",
       "      <th>wo_punct</th>\n",
       "      <th>text_wo_numbers</th>\n",
       "      <th>text_wo_stop</th>\n",
       "      <th>text_lemmatized</th>\n",
       "    </tr>\n",
       "  </thead>\n",
       "  <tbody>\n",
       "    <tr>\n",
       "      <th>0</th>\n",
       "      <td>I always wrote this series off as being a comp...</td>\n",
       "      <td>i always wrote this series off as being a comp...</td>\n",
       "      <td>i always wrote this series off as being a comp...</td>\n",
       "      <td>i always wrote this series off as being a comp...</td>\n",
       "      <td>i always wrote this series off as being a comp...</td>\n",
       "      <td>always wrote series complete stinkfest jim bel...</td>\n",
       "      <td>always write series complete stinkfest jim bel...</td>\n",
       "    </tr>\n",
       "    <tr>\n",
       "      <th>1</th>\n",
       "      <td>1st watched 12/7/2002 - 3 out of 10(Dir-Steve ...</td>\n",
       "      <td>1st watched 12/7/2002 - 3 out of 10(dir-steve ...</td>\n",
       "      <td>1st watched 12/7/2002 - 3 out of 10(dir-steve ...</td>\n",
       "      <td>1st watched 1272002  3 out of 10dirsteve purce...</td>\n",
       "      <td>1st watched out of 10dirsteve purcell typical ...</td>\n",
       "      <td>1st watched 10dirsteve purcell typical mary ka...</td>\n",
       "      <td>1st watch 10dirsteve purcell typical mary kate...</td>\n",
       "    </tr>\n",
       "    <tr>\n",
       "      <th>2</th>\n",
       "      <td>This movie was so poorly written and directed ...</td>\n",
       "      <td>this movie was so poorly written and directed ...</td>\n",
       "      <td>this movie was so poorly written and directed ...</td>\n",
       "      <td>this movie was so poorly written and directed ...</td>\n",
       "      <td>this movie was so poorly written and directed ...</td>\n",
       "      <td>movie poorly written directed fell asleep minu...</td>\n",
       "      <td>movie poorly write direct fell asleep minute m...</td>\n",
       "    </tr>\n",
       "    <tr>\n",
       "      <th>3</th>\n",
       "      <td>The most interesting thing about Miryang (Secr...</td>\n",
       "      <td>the most interesting thing about miryang (secr...</td>\n",
       "      <td>the most interesting thing about miryang (secr...</td>\n",
       "      <td>the most interesting thing about miryang secre...</td>\n",
       "      <td>the most interesting thing about miryang secre...</td>\n",
       "      <td>interesting thing miryang secret sunshine acto...</td>\n",
       "      <td>interesting thing miryang secret sunshine acto...</td>\n",
       "    </tr>\n",
       "    <tr>\n",
       "      <th>4</th>\n",
       "      <td>when i first read about \"berlin am meer\" i did...</td>\n",
       "      <td>when i first read about \"berlin am meer\" i did...</td>\n",
       "      <td>when i first read about \"berlin am meer\" i did...</td>\n",
       "      <td>when i first read about berlin am meer i didnt...</td>\n",
       "      <td>when i first read about berlin am meer i didnt...</td>\n",
       "      <td>first read berlin meer didnt expect much thoug...</td>\n",
       "      <td>first read berlin meer didnt expect much think...</td>\n",
       "    </tr>\n",
       "  </tbody>\n",
       "</table>\n",
       "</div>"
      ],
      "text/plain": [
       "                                                text  \\\n",
       "0  I always wrote this series off as being a comp...   \n",
       "1  1st watched 12/7/2002 - 3 out of 10(Dir-Steve ...   \n",
       "2  This movie was so poorly written and directed ...   \n",
       "3  The most interesting thing about Miryang (Secr...   \n",
       "4  when i first read about \"berlin am meer\" i did...   \n",
       "\n",
       "                                                 low  \\\n",
       "0  i always wrote this series off as being a comp...   \n",
       "1  1st watched 12/7/2002 - 3 out of 10(dir-steve ...   \n",
       "2  this movie was so poorly written and directed ...   \n",
       "3  the most interesting thing about miryang (secr...   \n",
       "4  when i first read about \"berlin am meer\" i did...   \n",
       "\n",
       "                                        text_no_html  \\\n",
       "0  i always wrote this series off as being a comp...   \n",
       "1  1st watched 12/7/2002 - 3 out of 10(dir-steve ...   \n",
       "2  this movie was so poorly written and directed ...   \n",
       "3  the most interesting thing about miryang (secr...   \n",
       "4  when i first read about \"berlin am meer\" i did...   \n",
       "\n",
       "                                            wo_punct  \\\n",
       "0  i always wrote this series off as being a comp...   \n",
       "1  1st watched 1272002  3 out of 10dirsteve purce...   \n",
       "2  this movie was so poorly written and directed ...   \n",
       "3  the most interesting thing about miryang secre...   \n",
       "4  when i first read about berlin am meer i didnt...   \n",
       "\n",
       "                                     text_wo_numbers  \\\n",
       "0  i always wrote this series off as being a comp...   \n",
       "1  1st watched out of 10dirsteve purcell typical ...   \n",
       "2  this movie was so poorly written and directed ...   \n",
       "3  the most interesting thing about miryang secre...   \n",
       "4  when i first read about berlin am meer i didnt...   \n",
       "\n",
       "                                        text_wo_stop  \\\n",
       "0  always wrote series complete stinkfest jim bel...   \n",
       "1  1st watched 10dirsteve purcell typical mary ka...   \n",
       "2  movie poorly written directed fell asleep minu...   \n",
       "3  interesting thing miryang secret sunshine acto...   \n",
       "4  first read berlin meer didnt expect much thoug...   \n",
       "\n",
       "                                     text_lemmatized  \n",
       "0  always write series complete stinkfest jim bel...  \n",
       "1  1st watch 10dirsteve purcell typical mary kate...  \n",
       "2  movie poorly write direct fell asleep minute m...  \n",
       "3  interesting thing miryang secret sunshine acto...  \n",
       "4  first read berlin meer didnt expect much think...  "
      ]
     },
     "execution_count": 12,
     "metadata": {},
     "output_type": "execute_result"
    }
   ],
   "source": [
    "td.head()"
   ]
  },
  {
   "cell_type": "code",
   "execution_count": 13,
   "metadata": {},
   "outputs": [
    {
     "data": {
      "text/plain": [
       "text               5000\n",
       "low                5000\n",
       "text_no_html       5000\n",
       "wo_punct           5000\n",
       "text_wo_numbers    5000\n",
       "text_wo_stop       5000\n",
       "text_lemmatized    5000\n",
       "dtype: int64"
      ]
     },
     "execution_count": 13,
     "metadata": {},
     "output_type": "execute_result"
    }
   ],
   "source": [
    "td.count()"
   ]
  },
  {
   "cell_type": "code",
   "execution_count": 36,
   "metadata": {},
   "outputs": [],
   "source": [
    "vectorizer1 = TfidfVectorizer()\n",
    "fitted_vectorizer1 = vectorizer1.fit(td[\"text_lemmatized\"])"
   ]
  },
  {
   "cell_type": "code",
   "execution_count": 37,
   "metadata": {},
   "outputs": [
    {
     "name": "stdout",
     "output_type": "stream",
     "text": [
      "  (0, 48010)\t0.06043756944066193\n",
      "  (0, 47687)\t0.030738587650194354\n",
      "  (0, 47495)\t0.03598358606990154\n",
      "  (0, 47431)\t0.024972414432856284\n",
      "  (0, 47192)\t0.04413376212687471\n",
      "  (0, 47157)\t0.037058139271328276\n",
      "  (0, 47087)\t0.03656822570360571\n",
      "  (0, 46949)\t0.051425956223090714\n",
      "  (0, 46746)\t0.04754585992231799\n",
      "  (0, 46654)\t0.06248870871295027\n",
      "  (0, 46637)\t0.055427892460792064\n",
      "  (0, 46444)\t0.023872172447025542\n",
      "  (0, 46278)\t0.027629342304935713\n",
      "  (0, 46175)\t0.02383212786195967\n",
      "  (0, 46103)\t0.09426298165079507\n",
      "  (0, 45971)\t0.09167610170089428\n",
      "  (0, 45968)\t0.049690450422914534\n",
      "  (0, 45596)\t0.04353528623542807\n",
      "  (0, 45189)\t0.09759804995453245\n",
      "  (0, 44011)\t0.12003116548513927\n",
      "  (0, 43972)\t0.03533680264842042\n",
      "  (0, 43881)\t0.031219894600455215\n",
      "  (0, 43485)\t0.060281957763964035\n",
      "  (0, 43344)\t0.055633081814687804\n",
      "  (0, 42865)\t0.07052429178564197\n",
      "  :\t:\n",
      "  (4999, 25022)\t0.10075017052152242\n",
      "  (4999, 24588)\t0.037809405780131485\n",
      "  (4999, 24104)\t0.12983614116150416\n",
      "  (4999, 23875)\t0.13114998260087973\n",
      "  (4999, 21980)\t0.17137920219018563\n",
      "  (4999, 21414)\t0.14757035510112845\n",
      "  (4999, 20799)\t0.17137920219018563\n",
      "  (4999, 18482)\t0.1359802681705133\n",
      "  (4999, 18100)\t0.05008375044915868\n",
      "  (4999, 17306)\t0.04049698251549732\n",
      "  (4999, 16272)\t0.13564989029048657\n",
      "  (4999, 16238)\t0.12800363487828123\n",
      "  (4999, 15205)\t0.0944527937945801\n",
      "  (4999, 14915)\t0.12424853404860396\n",
      "  (4999, 14791)\t0.07943108376786075\n",
      "  (4999, 14296)\t0.13564989029048657\n",
      "  (4999, 11947)\t0.06469143950026718\n",
      "  (4999, 11725)\t0.11075723004131534\n",
      "  (4999, 7471)\t0.3824736454155142\n",
      "  (4999, 7266)\t0.10179461229096326\n",
      "  (4999, 5300)\t0.09885710474090523\n",
      "  (4999, 3994)\t0.07875666099320688\n",
      "  (4999, 3428)\t0.09664873097632376\n",
      "  (4999, 1085)\t0.11387881476762457\n",
      "  (4999, 905)\t0.08345716964197054\n"
     ]
    },
    {
     "data": {
      "text/plain": [
       "0       0\n",
       "1       0\n",
       "2       0\n",
       "3       1\n",
       "4       0\n",
       "5       1\n",
       "6       0\n",
       "7       1\n",
       "8       0\n",
       "9       0\n",
       "10      0\n",
       "11      1\n",
       "12      0\n",
       "13      0\n",
       "14      0\n",
       "15      0\n",
       "16      0\n",
       "17      0\n",
       "18      1\n",
       "19      1\n",
       "20      1\n",
       "21      0\n",
       "22      1\n",
       "23      1\n",
       "24      0\n",
       "25      1\n",
       "26      1\n",
       "27      0\n",
       "28      0\n",
       "29      0\n",
       "       ..\n",
       "4970    0\n",
       "4971    0\n",
       "4972    0\n",
       "4973    1\n",
       "4974    1\n",
       "4975    1\n",
       "4976    1\n",
       "4977    1\n",
       "4978    0\n",
       "4979    0\n",
       "4980    1\n",
       "4981    0\n",
       "4982    1\n",
       "4983    1\n",
       "4984    1\n",
       "4985    0\n",
       "4986    0\n",
       "4987    1\n",
       "4988    0\n",
       "4989    1\n",
       "4990    1\n",
       "4991    1\n",
       "4992    0\n",
       "4993    1\n",
       "4994    1\n",
       "4995    1\n",
       "4996    1\n",
       "4997    0\n",
       "4998    0\n",
       "4999    0\n",
       "Name: label, Length: 5000, dtype: int64"
      ]
     },
     "execution_count": 37,
     "metadata": {},
     "output_type": "execute_result"
    }
   ],
   "source": [
    "test_transform1 = fitted_vectorizer1.transform(td['text_lemmatized'])\n",
    "y1 = test['label']\n",
    "print(test_transform1)\n",
    "y1"
   ]
  },
  {
   "cell_type": "code",
   "execution_count": 38,
   "metadata": {},
   "outputs": [],
   "source": [
    "X_test1 = test_transform1\n",
    "y_test1 = y1\n",
    "scikit_log_reg1 = LogisticRegression(solver='lbfgs')"
   ]
  },
  {
   "cell_type": "code",
   "execution_count": 39,
   "metadata": {},
   "outputs": [],
   "source": [
    "model1 = scikit_log_reg1.fit(X_test1, y_test1)"
   ]
  },
  {
   "cell_type": "code",
   "execution_count": 40,
   "metadata": {},
   "outputs": [],
   "source": [
    "predictions1 = model1.predict(X_test1)"
   ]
  },
  {
   "cell_type": "code",
   "execution_count": 41,
   "metadata": {},
   "outputs": [
    {
     "name": "stdout",
     "output_type": "stream",
     "text": [
      "0.9468\n"
     ]
    }
   ],
   "source": [
    "print(accuracy_score(y_test1, predictions1))"
   ]
  },
  {
   "cell_type": "code",
   "execution_count": 53,
   "metadata": {},
   "outputs": [],
   "source": [
    "vectorizer2 = TfidfVectorizer(max_df=0.8, min_df=0.2, ngram_range=(1,3))\n",
    "fitted_vectorizer2 = vectorizer2.fit(td[\"text_lemmatized\"])"
   ]
  },
  {
   "cell_type": "code",
   "execution_count": 54,
   "metadata": {},
   "outputs": [
    {
     "name": "stdout",
     "output_type": "stream",
     "text": [
      "  (0, 42)\t0.12812610688017342\n",
      "  (0, 41)\t0.12248108914872294\n",
      "  (0, 40)\t0.14175802162459103\n",
      "  (0, 39)\t0.1222756321713883\n",
      "  (0, 35)\t0.14252181684945595\n",
      "  (0, 33)\t0.439639847511629\n",
      "  (0, 30)\t0.13834771475881846\n",
      "  (0, 29)\t0.13142168907426552\n",
      "  (0, 27)\t0.2950629759888938\n",
      "  (0, 25)\t0.09385176125172605\n",
      "  (0, 21)\t0.2994676559847528\n",
      "  (0, 19)\t0.41477461268718996\n",
      "  (0, 18)\t0.10377075332120153\n",
      "  (0, 16)\t0.13745861396190892\n",
      "  (0, 15)\t0.3360973154079523\n",
      "  (0, 12)\t0.33344102845517426\n",
      "  (0, 8)\t0.12464676796162438\n",
      "  (0, 7)\t0.13961521523488898\n",
      "  (0, 5)\t0.1460857287940705\n",
      "  (0, 3)\t0.125542833956407\n",
      "  (1, 41)\t0.2012984905828157\n",
      "  (1, 40)\t0.46596051650694936\n",
      "  (1, 39)\t0.20096082066409912\n",
      "  (1, 33)\t0.24085034492328924\n",
      "  (1, 32)\t0.34175553057322927\n",
      "  :\t:\n",
      "  (4997, 23)\t0.19691056124547815\n",
      "  (4997, 21)\t0.22791948816458893\n",
      "  (4997, 12)\t0.2537760156056614\n",
      "  (4997, 8)\t0.2845992913167574\n",
      "  (4997, 5)\t0.3335497226778047\n",
      "  (4998, 42)\t0.5263615507401117\n",
      "  (4998, 25)\t0.38555732157185785\n",
      "  (4998, 23)\t0.5314397120977368\n",
      "  (4998, 15)\t0.23012315554493437\n",
      "  (4998, 8)\t0.2560339484145211\n",
      "  (4998, 4)\t0.2977874774544762\n",
      "  (4998, 0)\t0.2909870631194567\n",
      "  (4999, 32)\t0.30545158251543153\n",
      "  (4999, 31)\t0.20602968056404275\n",
      "  (4999, 29)\t0.193048019917598\n",
      "  (4999, 27)\t0.21671203462261562\n",
      "  (4999, 25)\t0.13786078084254846\n",
      "  (4999, 24)\t0.39973185849909365\n",
      "  (4999, 23)\t0.3800456615988733\n",
      "  (4999, 20)\t0.22209528447626786\n",
      "  (4999, 19)\t0.4061806350502913\n",
      "  (4999, 18)\t0.1524309921377977\n",
      "  (4999, 16)\t0.20191578294940818\n",
      "  (4999, 12)\t0.16326612640572516\n",
      "  (4999, 2)\t0.3896454241373401\n"
     ]
    },
    {
     "data": {
      "text/plain": [
       "0       0\n",
       "1       0\n",
       "2       0\n",
       "3       1\n",
       "4       0\n",
       "5       1\n",
       "6       0\n",
       "7       1\n",
       "8       0\n",
       "9       0\n",
       "10      0\n",
       "11      1\n",
       "12      0\n",
       "13      0\n",
       "14      0\n",
       "15      0\n",
       "16      0\n",
       "17      0\n",
       "18      1\n",
       "19      1\n",
       "20      1\n",
       "21      0\n",
       "22      1\n",
       "23      1\n",
       "24      0\n",
       "25      1\n",
       "26      1\n",
       "27      0\n",
       "28      0\n",
       "29      0\n",
       "       ..\n",
       "4970    0\n",
       "4971    0\n",
       "4972    0\n",
       "4973    1\n",
       "4974    1\n",
       "4975    1\n",
       "4976    1\n",
       "4977    1\n",
       "4978    0\n",
       "4979    0\n",
       "4980    1\n",
       "4981    0\n",
       "4982    1\n",
       "4983    1\n",
       "4984    1\n",
       "4985    0\n",
       "4986    0\n",
       "4987    1\n",
       "4988    0\n",
       "4989    1\n",
       "4990    1\n",
       "4991    1\n",
       "4992    0\n",
       "4993    1\n",
       "4994    1\n",
       "4995    1\n",
       "4996    1\n",
       "4997    0\n",
       "4998    0\n",
       "4999    0\n",
       "Name: label, Length: 5000, dtype: int64"
      ]
     },
     "execution_count": 54,
     "metadata": {},
     "output_type": "execute_result"
    }
   ],
   "source": [
    "test_transform2 = fitted_vectorizer2.transform(td['text_lemmatized'])\n",
    "y2 = test['label']\n",
    "print(test_transform2)\n",
    "y2"
   ]
  },
  {
   "cell_type": "code",
   "execution_count": 55,
   "metadata": {},
   "outputs": [],
   "source": [
    "X_test2 = test_transform2\n",
    "y_test2 = y2\n",
    "scikit_log_reg2 = LogisticRegression(solver='lbfgs')"
   ]
  },
  {
   "cell_type": "code",
   "execution_count": 56,
   "metadata": {},
   "outputs": [],
   "source": [
    "model2 = scikit_log_reg2.fit(X_test2, y_test2)"
   ]
  },
  {
   "cell_type": "code",
   "execution_count": 57,
   "metadata": {},
   "outputs": [],
   "source": [
    "predictions2 = model2.predict(X_test2)"
   ]
  },
  {
   "cell_type": "code",
   "execution_count": 58,
   "metadata": {},
   "outputs": [
    {
     "name": "stdout",
     "output_type": "stream",
     "text": [
      "0.7242\n"
     ]
    }
   ],
   "source": [
    "print(accuracy_score(y_test2, predictions2))"
   ]
  },
  {
   "cell_type": "code",
   "execution_count": 59,
   "metadata": {},
   "outputs": [],
   "source": [
    "X_train1, X_test3, y_train1, y_test3 = train_test_split(test_transform1, y1, test_size=0.3)\n",
    "scikit_log_reg3 = LogisticRegression(solver='lbfgs')"
   ]
  },
  {
   "cell_type": "code",
   "execution_count": 60,
   "metadata": {},
   "outputs": [],
   "source": [
    "model3 = scikit_log_reg3.fit(X_train1, y_train1)"
   ]
  },
  {
   "cell_type": "code",
   "execution_count": 61,
   "metadata": {},
   "outputs": [],
   "source": [
    "predictions3 = model3.predict(X_test3)"
   ]
  },
  {
   "cell_type": "code",
   "execution_count": 62,
   "metadata": {},
   "outputs": [
    {
     "name": "stdout",
     "output_type": "stream",
     "text": [
      "0.862\n"
     ]
    }
   ],
   "source": [
    "print(accuracy_score(y_test3, predictions3))"
   ]
  },
  {
   "cell_type": "code",
   "execution_count": 63,
   "metadata": {},
   "outputs": [],
   "source": [
    "X_train2, X_test4, y_train2, y_test4 = train_test_split(test_transform2, y2, test_size=0.3)\n",
    "scikit_log_reg4 = LogisticRegression(solver='lbfgs')"
   ]
  },
  {
   "cell_type": "code",
   "execution_count": 64,
   "metadata": {},
   "outputs": [],
   "source": [
    "model4 = scikit_log_reg4.fit(X_train2, y_train2)"
   ]
  },
  {
   "cell_type": "code",
   "execution_count": 65,
   "metadata": {},
   "outputs": [],
   "source": [
    "predictions4 = model4.predict(X_test4)"
   ]
  },
  {
   "cell_type": "code",
   "execution_count": 66,
   "metadata": {},
   "outputs": [
    {
     "name": "stdout",
     "output_type": "stream",
     "text": [
      "0.7166666666666667\n"
     ]
    }
   ],
   "source": [
    "print(accuracy_score(y_test4, predictions4))"
   ]
  },
  {
   "cell_type": "code",
   "execution_count": null,
   "metadata": {},
   "outputs": [],
   "source": []
  }
 ],
 "metadata": {
  "kernelspec": {
   "display_name": "Python 3",
   "language": "python",
   "name": "python3"
  },
  "language_info": {
   "codemirror_mode": {
    "name": "ipython",
    "version": 3
   },
   "file_extension": ".py",
   "mimetype": "text/x-python",
   "name": "python",
   "nbconvert_exporter": "python",
   "pygments_lexer": "ipython3",
   "version": "3.7.3"
  }
 },
 "nbformat": 4,
 "nbformat_minor": 2
}
